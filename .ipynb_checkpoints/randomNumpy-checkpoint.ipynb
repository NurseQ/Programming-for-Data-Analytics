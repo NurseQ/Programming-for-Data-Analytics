{
 "cells": [
  {
   "cell_type": "markdown",
   "metadata": {},
   "source": [
    "# Programming for Data Analytics Assignmet\n",
    "\n",
    "- Explain the overall function of the package.\n",
    "- Explain the overall use of the \"Simple random data\" and \"Permutations\" package.\n",
    "- Explain the use and purpose of at least five \"Distribution\" functions.\n",
    "- Explain the use of seeds in generating peudorandom numbers.\n"
   ]
  },
  {
   "cell_type": "markdown",
   "metadata": {},
   "source": [
    "# The numpy.random package\n",
    "\n",
    "The overall function of the numpy.random package is to generate arrays of random sample values. The samples or numbers generated though are not true random numbers but can be predicted, hence it can be  called more appropriately as pseudorandom numbers. This is a reason why this type of random number generation should not be used for security purposes [1]. If some key information is obtained, then the numbers can be reproduced. \n",
    "  \n",
    "The numpy.random package is similar with the python random module in that they both use the Mersenne Twister algorithm to generate random numbers.\n",
    "This package can generate data probability distributions useful for simulations in scientific research. These simulations may follow patterns for certain analyses to help discover relationships between systems. \n",
    "     \n",
    "  \n",
    " "
   ]
  },
  {
   "cell_type": "code",
   "execution_count": 1,
   "metadata": {},
   "outputs": [],
   "source": [
    "import numpy as np"
   ]
  },
  {
   "cell_type": "markdown",
   "metadata": {},
   "source": [
    "### Simple Random Data Package\n",
    "\n",
    "   The simple random data package is a collection of methods or functions to quickly generate random numbers in a given distribution. Some assumptions are set in these functions that affect how the numbers are generated. Some methods perform similar function and output such as random_sample, random, ranf and random. "
   ]
  },
  {
   "cell_type": "code",
   "execution_count": 2,
   "metadata": {
    "scrolled": true
   },
   "outputs": [
    {
     "data": {
      "text/plain": [
       "array([0.31282023, 0.42980848, 0.95599468, 0.4421291 , 0.78568229,\n",
       "       0.88202838, 0.06007748, 0.88629415, 0.38521753, 0.35151696,\n",
       "       0.5175301 , 0.97293494, 0.54666758, 0.7715023 , 0.59195131,\n",
       "       0.53719512, 0.42566805, 0.67761222, 0.65475971, 0.69634473,\n",
       "       0.16520081, 0.01073762, 0.305087  , 0.64580758, 0.5611887 ,\n",
       "       0.70056961, 0.52756447, 0.54166132, 0.28257652, 0.16985762,\n",
       "       0.61049453, 0.04749729, 0.83015767, 0.93755021, 0.4428231 ,\n",
       "       0.65455822, 0.19917521, 0.94912613, 0.65245159, 0.86920111,\n",
       "       0.4098722 , 0.06909569, 0.14962171, 0.18106109, 0.63063587,\n",
       "       0.30500854, 0.49455416, 0.61571242, 0.64302388, 0.44572028,\n",
       "       0.24519402, 0.33766639, 0.55110846, 0.14124499, 0.0823462 ,\n",
       "       0.16318781, 0.83962089, 0.1611334 , 0.80352071, 0.05150157,\n",
       "       0.79109136, 0.78141385, 0.96585287, 0.03959046, 0.99324083,\n",
       "       0.5107776 , 0.18113007, 0.87210583, 0.60304628, 0.27526656,\n",
       "       0.52950044, 0.13769245, 0.95713723, 0.49361941, 0.33480563,\n",
       "       0.96218843, 0.43923362, 0.2089827 , 0.86407772, 0.43518529,\n",
       "       0.82295198, 0.99176152, 0.04108512, 0.87648801, 0.56696808,\n",
       "       0.53770428, 0.62464391, 0.9453759 , 0.40719993, 0.76470886,\n",
       "       0.77076508, 0.64668257, 0.48430229, 0.25934872, 0.85100575,\n",
       "       0.36115984, 0.8474401 , 0.47684973, 0.66980942, 0.56577699,\n",
       "       0.29297613, 0.60601583, 0.07634639, 0.15801736, 0.54653853,\n",
       "       0.22094387, 0.83175505, 0.14052119, 0.23304778, 0.81008415,\n",
       "       0.77817064, 0.78489497, 0.49523555, 0.97973429, 0.25079237,\n",
       "       0.80822661, 0.97036153, 0.67513869, 0.85299009, 0.7812826 ,\n",
       "       0.1573565 , 0.25848085, 0.48955474, 0.8046489 , 0.38130161,\n",
       "       0.37956662, 0.99814485, 0.68019575, 0.7688716 , 0.04470179,\n",
       "       0.83278525, 0.61703491, 0.54106665, 0.24695677, 0.40784274,\n",
       "       0.62064637, 0.60797456, 0.58122112, 0.33403076, 0.71345686,\n",
       "       0.9769399 , 0.31310411, 0.95425226, 0.48332954, 0.88273673,\n",
       "       0.49509065, 0.65118848, 0.44205484, 0.68249669, 0.99309478,\n",
       "       0.44747403, 0.07771466, 0.78506173, 0.07566168, 0.98377312,\n",
       "       0.73110219, 0.43771956, 0.48592156, 0.65757762, 0.9436706 ,\n",
       "       0.41940191, 0.09933205, 0.29526484, 0.66013121, 0.6766363 ,\n",
       "       0.12054753, 0.98548141, 0.49632111, 0.59931579, 0.6351605 ,\n",
       "       0.95792192, 0.66531194, 0.46727186, 0.93890912, 0.39572156,\n",
       "       0.4549008 , 0.83079833, 0.93387947, 0.7953059 , 0.20862524,\n",
       "       0.17458132, 0.23504125, 0.96792709, 0.10665089, 0.69960782,\n",
       "       0.09300986, 0.95503476, 0.52934562, 0.04070959, 0.63216351,\n",
       "       0.9673556 , 0.65752574, 0.42103321, 0.05234236, 0.61643624,\n",
       "       0.37771192, 0.97036763, 0.65461104, 0.7502269 , 0.03334752,\n",
       "       0.02943814, 0.07172084, 0.52583973, 0.36602718, 0.85025723,\n",
       "       0.42655533, 0.90747059, 0.54084616, 0.90265469, 0.96756806,\n",
       "       0.92162875, 0.22067256, 0.07526745, 0.7788329 , 0.33603499,\n",
       "       0.30575032, 0.1913729 , 0.49295142, 0.96969143, 0.66421175,\n",
       "       0.07606438, 0.3499384 , 0.19218763, 0.20885753, 0.11974889,\n",
       "       0.64588804, 0.42319838, 0.00243618, 0.25548724, 0.14602519,\n",
       "       0.51874248, 0.13600733, 0.67952185, 0.60022419, 0.98594551,\n",
       "       0.46583357, 0.04159712, 0.62088765, 0.38077628, 0.32868338,\n",
       "       0.62287251, 0.88821793, 0.96956613, 0.3992232 , 0.19704833,\n",
       "       0.24845948, 0.80153221, 0.8110455 , 0.141138  , 0.34748651,\n",
       "       0.25896967, 0.60924133, 0.87392701, 0.43135518, 0.15941796,\n",
       "       0.80326644, 0.62792402, 0.91805074, 0.97629016, 0.99397039,\n",
       "       0.7687658 , 0.24377691, 0.84030826, 0.15074034, 0.16936827,\n",
       "       0.25198226, 0.49161948, 0.50241621, 0.7919881 , 0.79719542,\n",
       "       0.37630867, 0.8878553 , 0.59661499, 0.5384785 , 0.96150281,\n",
       "       0.19328739, 0.90498431, 0.43140661, 0.77432187, 0.18010837,\n",
       "       0.11013536, 0.53727561, 0.22025753, 0.65424091, 0.91275965,\n",
       "       0.85580071, 0.32147836, 0.42617365, 0.51630057, 0.62567026,\n",
       "       0.93246172, 0.93547694, 0.41238985, 0.15992549, 0.25848918,\n",
       "       0.35568956, 0.95375851, 0.27225146, 0.40552636, 0.56467787,\n",
       "       0.83156004, 0.03662329, 0.48337415, 0.37642375, 0.2624769 ,\n",
       "       0.20640933, 0.64744049, 0.6165763 , 0.56177131, 0.6327127 ,\n",
       "       0.96163672, 0.13265274, 0.21542185, 0.0124853 , 0.28938535,\n",
       "       0.8514064 , 0.02970118, 0.70041512, 0.28731323, 0.52070783,\n",
       "       0.25903303, 0.02627655, 0.1732267 , 0.558946  , 0.74405825,\n",
       "       0.75776044, 0.82114168, 0.80878621, 0.97892358, 0.97570856,\n",
       "       0.33624598, 0.11851727, 0.54252323, 0.55032617, 0.32080291,\n",
       "       0.52950462, 0.71436407, 0.49684896, 0.43381793, 0.63087881,\n",
       "       0.59627986, 0.3202785 , 0.69994479, 0.32178762, 0.75983776,\n",
       "       0.16360227, 0.38619715, 0.26059326, 0.46705722, 0.14383462,\n",
       "       0.3843449 , 0.1925665 , 0.44135904, 0.62652798, 0.17952532,\n",
       "       0.19527281, 0.58618867, 0.77366775, 0.68756379, 0.47753336,\n",
       "       0.19171106, 0.76483406, 0.28919574, 0.62788476, 0.31805124,\n",
       "       0.31593848, 0.4238094 , 0.21016125, 0.62957149, 0.18343787,\n",
       "       0.04376386, 0.21913117, 0.99108241, 0.50413547, 0.03141893,\n",
       "       0.13684071, 0.96074821, 0.72419166, 0.70510879, 0.41578506,\n",
       "       0.6635759 , 0.35246158, 0.2595398 , 0.05441886, 0.98514738,\n",
       "       0.58798619, 0.51120436, 0.92523612, 0.03945452, 0.70338356,\n",
       "       0.52269032, 0.34413712, 0.67642592, 0.97034693, 0.48378609,\n",
       "       0.45939548, 0.4080745 , 0.7850727 , 0.79092183, 0.56278858,\n",
       "       0.5286465 , 0.24352594, 0.44684662, 0.9738069 , 0.80178957,\n",
       "       0.06639824, 0.53358792, 0.78220249, 0.04736777, 0.90416346,\n",
       "       0.37637637, 0.73871053, 0.40081339, 0.46286487, 0.30066049,\n",
       "       0.9649204 , 0.21234069, 0.87740992, 0.99743951, 0.12165796,\n",
       "       0.85978049, 0.03066233, 0.58073323, 0.16647838, 0.80093444,\n",
       "       0.45643437, 0.02730936, 0.9518941 , 0.65621036, 0.769774  ,\n",
       "       0.39597975, 0.78098197, 0.1020109 , 0.77096292, 0.37795519,\n",
       "       0.55383782, 0.35911673, 0.66860439, 0.56262894, 0.14259915,\n",
       "       0.68085884, 0.26202114, 0.91331342, 0.75617416, 0.75848181,\n",
       "       0.78562665, 0.8933795 , 0.39192741, 0.56474247, 0.96084947,\n",
       "       0.4247005 , 0.69789157, 0.19172492, 0.04008881, 0.03308155,\n",
       "       0.94544012, 0.95036774, 0.04967145, 0.47426006, 0.9938711 ,\n",
       "       0.17221998, 0.51423237, 0.41817763, 0.6441573 , 0.73123365,\n",
       "       0.1503768 , 0.45660399, 0.70684297, 0.88090804, 0.40154364,\n",
       "       0.13242572, 0.50035453, 0.46837621, 0.02352606, 0.1773704 ,\n",
       "       0.08667246, 0.13273553, 0.08712895, 0.85013127, 0.55414766,\n",
       "       0.81947292, 0.83783026, 0.61214543, 0.54901433, 0.28413753,\n",
       "       0.34943752, 0.76773064, 0.05871815, 0.6382489 , 0.71257795,\n",
       "       0.84271033, 0.98685765, 0.87513505, 0.99679731, 0.9606548 ,\n",
       "       0.8755413 , 0.67885993, 0.06954384, 0.56548088, 0.9512496 ,\n",
       "       0.7085103 , 0.54132153, 0.47788502, 0.20868711, 0.38598312,\n",
       "       0.71017481, 0.45029167, 0.77430742, 0.46751519, 0.49407223,\n",
       "       0.91606725, 0.67070022, 0.06260449, 0.21909653, 0.72442915,\n",
       "       0.46191954, 0.22284768, 0.53660246, 0.0968724 , 0.65628844,\n",
       "       0.04302444, 0.68194715, 0.79363059, 0.50258307, 0.52452484,\n",
       "       0.56741319, 0.99792937, 0.35666863, 0.00354083, 0.4748838 ,\n",
       "       0.21059967, 0.37958271, 0.88159867, 0.29016893, 0.26482237,\n",
       "       0.13976942, 0.00481048, 0.53759097, 0.43240096, 0.78880987,\n",
       "       0.68722968, 0.62135622, 0.19516537, 0.43375408, 0.91103359,\n",
       "       0.39594842, 0.90923487, 0.40535546, 0.93735936, 0.3846648 ,\n",
       "       0.84457436, 0.26773346, 0.03087616, 0.10599361, 0.49196269,\n",
       "       0.85425597, 0.79199256, 0.02366312, 0.56717042, 0.42060155,\n",
       "       0.23102701, 0.78963551, 0.83735411, 0.11964779, 0.46401077,\n",
       "       0.01061974, 0.93588161, 0.61542948, 0.54266192, 0.88540981,\n",
       "       0.68096461, 0.50456651, 0.87300282, 0.96815716, 0.94619487,\n",
       "       0.94361735, 0.71374452, 0.30534352, 0.46249797, 0.44621659,\n",
       "       0.73836139, 0.00688911, 0.06533973, 0.8311323 , 0.73473845,\n",
       "       0.55370401, 0.85209403, 0.97153542, 0.05757798, 0.09891573,\n",
       "       0.04328307, 0.36058158, 0.44555793, 0.95739166, 0.41423453,\n",
       "       0.72820499, 0.35685605, 0.49523985, 0.90264057, 0.71134579,\n",
       "       0.50146734, 0.71502199, 0.99746642, 0.7995922 , 0.46762262,\n",
       "       0.40007446, 0.39429548, 0.93064906, 0.15936258, 0.43604388,\n",
       "       0.26007213, 0.02798937, 0.76387421, 0.43802837, 0.92595987,\n",
       "       0.31887225, 0.98787459, 0.75981309, 0.22005146, 0.24374911,\n",
       "       0.26807661, 0.20839089, 0.27281194, 0.97644586, 0.65472609,\n",
       "       0.2557322 , 0.51438828, 0.98257263, 0.13512811, 0.92673703,\n",
       "       0.58120997, 0.78035253, 0.35213678, 0.10981576, 0.40933385,\n",
       "       0.51463638, 0.24569181, 0.72431626, 0.28404611, 0.54145708,\n",
       "       0.25687002, 0.72822455, 0.16903357, 0.29437641, 0.86771469,\n",
       "       0.61890246, 0.03553946, 0.82721888, 0.89422497, 0.59407638,\n",
       "       0.97161072, 0.54010267, 0.69931696, 0.70455308, 0.55741435,\n",
       "       0.39448329, 0.51456367, 0.81888186, 0.9220147 , 0.01209453,\n",
       "       0.85534261, 0.27183463, 0.57904737, 0.75787568, 0.66281847,\n",
       "       0.98144541, 0.07021614, 0.54876852, 0.94374738, 0.38343618,\n",
       "       0.25516552, 0.36837648, 0.35804165, 0.60479737, 0.10610688,\n",
       "       0.51164533, 0.99292032, 0.08007884, 0.73067287, 0.04747329,\n",
       "       0.19345607, 0.00309226, 0.04720959, 0.76816857, 0.34799175,\n",
       "       0.79042275, 0.97481842, 0.37066716, 0.55124574, 0.90146509,\n",
       "       0.87502632, 0.98281454, 0.41947447, 0.19700466, 0.74843603,\n",
       "       0.90231073, 0.16814285, 0.36118727, 0.83561781, 0.10206488,\n",
       "       0.73801589, 0.52286989, 0.36800351, 0.66080317, 0.56118279,\n",
       "       0.16511483, 0.99568525, 0.97941607, 0.90081632, 0.5739085 ,\n",
       "       0.89459534, 0.4956881 , 0.54486023, 0.11849463, 0.36402994,\n",
       "       0.08533377, 0.59909737, 0.24824585, 0.59309045, 0.88088581,\n",
       "       0.42912303, 0.23930227, 0.73521199, 0.20456983, 0.69359182,\n",
       "       0.3174846 , 0.96803097, 0.36913131, 0.82694481, 0.34106125,\n",
       "       0.54352788, 0.76349923, 0.93762057, 0.18860775, 0.88658832,\n",
       "       0.3683035 , 0.77667277, 0.66866705, 0.40766159, 0.8826882 ,\n",
       "       0.93611899, 0.9434593 , 0.92561922, 0.41143706, 0.20524773,\n",
       "       0.87664834, 0.19131012, 0.75753337, 0.23782207, 0.8917389 ,\n",
       "       0.98112577, 0.50152812, 0.00836489, 0.64901121, 0.13118156,\n",
       "       0.73954637, 0.1987016 , 0.85406702, 0.80312465, 0.09022196,\n",
       "       0.79792823, 0.05008695, 0.12358794, 0.15093835, 0.73470887,\n",
       "       0.87738127, 0.28345226, 0.97847407, 0.99044288, 0.33447385,\n",
       "       0.10582557, 0.82750238, 0.75897359, 0.11076056, 0.95873016,\n",
       "       0.15653658, 0.94123685, 0.22872965, 0.48998669, 0.36147496,\n",
       "       0.33518586, 0.02336219, 0.24282448, 0.59401909, 0.19646296,\n",
       "       0.34496307, 0.98865499, 0.66308483, 0.18232695, 0.98092266,\n",
       "       0.45271047, 0.94876464, 0.45229872, 0.67648533, 0.7691716 ,\n",
       "       0.93065629, 0.62887047, 0.81334671, 0.55420387, 0.50402864,\n",
       "       0.64407903, 0.67298976, 0.78509096, 0.14111769, 0.7780185 ,\n",
       "       0.33673653, 0.13948086, 0.41634582, 0.73282641, 0.76675633,\n",
       "       0.62759911, 0.15656072, 0.7358722 , 0.51439584, 0.09835223,\n",
       "       0.10614101, 0.19602266, 0.32639651, 0.86212678, 0.3291289 ,\n",
       "       0.83459037, 0.86186007, 0.87818474, 0.82242587, 0.72143094,\n",
       "       0.12422285, 0.38671628, 0.58812548, 0.88362237, 0.9040541 ,\n",
       "       0.93244549, 0.02405323, 0.25583855, 0.90708939, 0.55816087,\n",
       "       0.97574452, 0.60021644, 0.55277903, 0.26618067, 0.25383845,\n",
       "       0.81375554, 0.98333785, 0.9846092 , 0.59786914, 0.66334446,\n",
       "       0.71931322, 0.0049429 , 0.05317848, 0.98952198, 0.09802087,\n",
       "       0.37445077, 0.40264386, 0.89326443, 0.72654249, 0.37182806,\n",
       "       0.54441362, 0.57143627, 0.56078379, 0.62178482, 0.63803985,\n",
       "       0.2739895 , 0.67799007, 0.54903801, 0.17630079, 0.99750956,\n",
       "       0.93607379, 0.06775333, 0.00724153, 0.99413146, 0.77567599,\n",
       "       0.65487351, 0.390656  , 0.48466809, 0.46704095, 0.16249711,\n",
       "       0.16195879, 0.63904385, 0.13860626, 0.97729134, 0.7103203 ,\n",
       "       0.74736117, 0.49727022, 0.36458855, 0.07744927, 0.29797546,\n",
       "       0.92204868, 0.73388632, 0.88856904, 0.01559201, 0.0550755 ,\n",
       "       0.89120735, 0.39687209, 0.17922268, 0.18439241, 0.69117033,\n",
       "       0.23508054, 0.66835118, 0.99462801, 0.86464319, 0.60493061,\n",
       "       0.13124604, 0.9152304 , 0.67818124, 0.78202686, 0.84502958,\n",
       "       0.42896489, 0.98575736, 0.7123011 , 0.22498459, 0.3752128 ,\n",
       "       0.19969091, 0.82342216, 0.65619408, 0.01906453, 0.52296811,\n",
       "       0.7624693 , 0.06868567, 0.20753122, 0.84048311, 0.25348067,\n",
       "       0.4759428 , 0.64207061, 0.44265766, 0.42827825, 0.74880544,\n",
       "       0.6109405 , 0.64567691, 0.70634428, 0.35924801, 0.79852657,\n",
       "       0.45310886, 0.48883827, 0.9836556 , 0.72405416, 0.13113153,\n",
       "       0.81261861, 0.80804053, 0.13586829, 0.91369992, 0.58421229,\n",
       "       0.31582481, 0.60934758, 0.82019918, 0.42666527, 0.0073183 ,\n",
       "       0.43590338, 0.01765964, 0.87930037, 0.20700964, 0.9621287 ,\n",
       "       0.98461004, 0.47923271, 0.99178326, 0.1193623 , 0.09244732,\n",
       "       0.62215821, 0.42365688, 0.43565084, 0.43555741, 0.04890375,\n",
       "       0.69219543, 0.27200995, 0.49011991, 0.4806979 , 0.17482883,\n",
       "       0.70354864, 0.52328376, 0.17348309, 0.01948986, 0.72565948,\n",
       "       0.21112727, 0.64546871, 0.76309228, 0.52699371, 0.86349032,\n",
       "       0.83858371, 0.96029833, 0.82861743, 0.28468468, 0.74900607,\n",
       "       0.76513731, 0.07185553, 0.47223985, 0.79226759, 0.39526391,\n",
       "       0.657546  , 0.21836116, 0.87074859, 0.37099777, 0.21748794,\n",
       "       0.68267143, 0.83733144, 0.04045551, 0.34712273, 0.41570091,\n",
       "       0.70265371, 0.67958279, 0.34702947, 0.98529924, 0.87779553])"
      ]
     },
     "execution_count": 2,
     "metadata": {},
     "output_type": "execute_result"
    }
   ],
   "source": [
    "x = np.random.rand(1000)\n",
    "x"
   ]
  },
  {
   "cell_type": "code",
   "execution_count": 3,
   "metadata": {},
   "outputs": [
    {
     "data": {
      "text/plain": [
       "(array([ 88.,  96.,  84.,  87., 108.,  98., 103., 108.,  97., 131.]),\n",
       " array([0.00243618, 0.10200705, 0.20157792, 0.30114878, 0.40071965,\n",
       "        0.50029052, 0.59986138, 0.69943225, 0.79900312, 0.89857398,\n",
       "        0.99814485]),\n",
       " <a list of 10 Patch objects>)"
      ]
     },
     "execution_count": 3,
     "metadata": {},
     "output_type": "execute_result"
    }
   ],
   "source": [
    "import matplotlib.pyplot as plt\n",
    "\n",
    "\n",
    "plt.hist(x)"
   ]
  },
  {
   "cell_type": "code",
   "execution_count": 4,
   "metadata": {},
   "outputs": [
    {
     "data": {
      "text/plain": [
       "(array([  1.,  15.,  58., 171., 231., 226., 196.,  81.,  18.,   3.]),\n",
       " array([-0.43011359,  0.23723247,  0.90457854,  1.57192461,  2.23927067,\n",
       "         2.90661674,  3.5739628 ,  4.24130887,  4.90865494,  5.576001  ,\n",
       "         6.24334707]),\n",
       " <a list of 10 Patch objects>)"
      ]
     },
     "execution_count": 4,
     "metadata": {},
     "output_type": "execute_result"
    },
    {
     "data": {
      "image/png": "[encoded data removed]",
      "text/plain": [
       "<Figure size 432x288 with 1 Axes>"
      ]
     },
     "metadata": {},
     "output_type": "display_data"
    }
   ],
   "source": [
    "z = np.random.randn(1000) + 3\n",
    "plt.hist(z)"
   ]
  },
  {
   "cell_type": "code",
   "execution_count": 5,
   "metadata": {},
   "outputs": [
    {
     "data": {
      "text/plain": [
       "(array([105.,  90., 107., 110.,  98., 114.,  79.,  93.,  95., 109.]),\n",
       " array([ 1. , 10.8, 20.6, 30.4, 40.2, 50. , 59.8, 69.6, 79.4, 89.2, 99. ]),\n",
       " <a list of 10 Patch objects>)"
      ]
     },
     "execution_count": 5,
     "metadata": {},
     "output_type": "execute_result"
    },
    {
     "data": {
      "image/png": "[encoded data removed]",
      "text/plain": [
       "<Figure size 432x288 with 1 Axes>"
      ]
     },
     "metadata": {},
     "output_type": "display_data"
    }
   ],
   "source": [
    "y = np.random.randint(1,100, size = 1000)\n",
    "plt.hist (y)"
   ]
  },
  {
   "cell_type": "code",
   "execution_count": 6,
   "metadata": {},
   "outputs": [
    {
     "data": {
      "text/plain": [
       "array([31, 92, 91,  2, 43, 95, 27, 54, 27, 55, 75, 25, 96, 95, 75, 11, 35,\n",
       "       36, 50, 14, 87, 39, 56, 46, 52, 60, 46, 99, 32,  8, 64, 31, 83, 31,\n",
       "       22, 90, 15, 40, 86, 40, 75, 13, 13, 57, 13, 48, 75, 75, 83, 21, 74,\n",
       "       81, 48, 67, 27, 32, 44, 58, 23,  1, 29, 47, 51, 78,  6, 54, 50, 31,\n",
       "       96, 34, 13, 54, 24, 83, 77, 53, 67, 94, 50, 84,  3, 71, 61, 64, 49,\n",
       "       11,  4, 91, 87, 53, 98, 63, 81, 93, 95, 16, 99, 31, 95, 25, 16, 82,\n",
       "       48, 32, 25, 36, 69, 39, 42, 62,  7, 78, 54, 37, 19, 63, 17,  2, 90,\n",
       "       48, 53, 62, 27, 86, 95, 53, 18, 10, 49, 14, 42, 45, 71, 74,  8, 67,\n",
       "       31, 82, 49, 33, 23, 78,  8, 23,  4, 61, 88, 14, 25,  8,  2, 92, 59,\n",
       "       36, 75, 13, 90, 36, 61, 47, 10, 54, 10, 13,  8,  6, 43, 67, 66, 34,\n",
       "       57, 79, 78, 64, 72, 85, 44, 56, 42, 87, 26, 35, 15, 11, 15, 80, 99,\n",
       "       72, 37, 46, 94, 73,  6, 27, 22,  3, 31, 71, 90,  4, 53, 34, 14, 84,\n",
       "       30, 80,  7, 82, 74, 79, 86, 34, 21, 62, 67, 71, 38, 30, 23, 28, 91,\n",
       "       54, 93, 52,  2, 69, 66, 44, 32, 42, 56, 86, 22, 94, 15, 23, 46, 85,\n",
       "       79, 80, 82, 45, 95, 22, 75, 55, 57, 79, 52, 63, 18, 70,  5, 98, 53,\n",
       "       54, 27, 49, 44,  7, 51, 95, 36, 48, 89,  7, 41,  7, 56,  8,  6, 36,\n",
       "       29, 54, 10, 70, 43, 55, 56, 59, 13, 86, 77, 72, 83,  8,  5, 67, 95,\n",
       "       52, 24, 75, 62, 20, 16, 16, 79, 42, 78, 16, 62, 86, 28, 17, 88, 22,\n",
       "       83, 24, 11, 91, 38, 18, 53, 38, 24, 17, 76, 84, 18, 63, 68, 61, 28,\n",
       "        1, 51, 52, 57, 44,  1, 38, 34, 75, 55,  9, 76,  7, 42, 27, 29, 80,\n",
       "       14, 59, 59, 49, 22, 34,  4, 66, 14, 30,  7, 93, 78, 38, 90, 89,  7,\n",
       "       65, 89, 45, 50, 44,  8, 50, 88, 46, 10, 25, 76, 87, 98,  4, 98, 42,\n",
       "       54, 30, 13, 97, 19, 18, 16, 70, 23, 70, 19, 79, 13, 19, 77, 44, 74,\n",
       "       28, 27, 88, 70, 47, 11, 69, 40, 32, 85, 60, 32, 33,  2, 87, 64, 39,\n",
       "       50, 14,  5, 77, 40, 82, 95, 81, 40, 39, 77, 97,  4, 59, 51, 29, 73,\n",
       "       78, 32, 26, 32, 48, 99,  5, 59,  4,  2, 83, 90, 76, 75, 64, 43, 19,\n",
       "       49, 59,  4, 17, 51, 83, 35, 62, 83, 54, 29, 96, 45, 71,  8, 37, 76,\n",
       "       62, 59, 86, 64, 67, 94, 71, 28, 14, 93, 35, 11, 85, 29, 54, 98, 79,\n",
       "       16, 56, 22, 62, 26, 43,  7, 17, 88, 24, 57, 22, 25, 70, 66, 90, 17,\n",
       "       11,  4, 44, 98, 31, 76, 42, 12, 20, 42, 39, 89, 14, 45, 81, 50, 57,\n",
       "       37, 45, 30, 81, 31, 69, 40, 70, 41, 45,  6, 27, 19, 17, 57, 62, 58,\n",
       "       25, 12, 61, 72, 47, 81, 42, 43, 49, 46, 19, 84, 27, 28, 97, 74, 78,\n",
       "       67, 28,  9, 69, 56, 67, 87, 58, 81, 25, 80, 76, 70,  1, 29, 52, 44,\n",
       "       26, 96, 81, 62, 51, 65,  2, 17, 80, 39, 45, 77, 56, 67, 79, 42, 14,\n",
       "       14, 90, 24, 47,  9,  9, 67, 99, 71, 79, 44, 54, 92, 42, 41, 66, 56,\n",
       "       93, 31, 26, 60, 92, 31, 90, 31, 61, 15, 29, 84, 78, 95, 76, 15, 21,\n",
       "        6, 57, 23, 87,  1, 26, 51, 53, 93, 59, 84, 83, 79, 49, 64, 71, 89,\n",
       "        4, 87, 87, 58, 82, 18, 91, 37, 61, 37, 41, 75, 15, 78, 26, 89, 57,\n",
       "       30, 47, 57, 93, 67, 56,  1, 96, 15, 88, 29, 24, 94, 40, 30, 90, 90,\n",
       "       76, 32, 43, 87, 49, 51, 25, 71, 97,  9, 11, 51, 97, 99, 43,  2, 96,\n",
       "       63, 53, 11, 54, 80, 21, 66, 59, 70, 95, 23, 11, 60, 93, 87, 52, 56,\n",
       "       98, 34,  9, 53, 35, 93, 64, 24, 48,  4, 91, 36, 89, 45, 51, 46, 78,\n",
       "       85, 31, 63, 52, 40, 39, 33, 47, 67, 68, 75, 13, 64,  3, 41, 30, 33,\n",
       "        6, 40, 77, 10, 22,  2, 97, 52, 29, 26, 60, 16,  2, 73,  8, 42, 23,\n",
       "        9, 17, 11,  4, 22, 42, 20, 65, 30, 37, 94, 47, 31,  8, 38, 79, 26,\n",
       "       91, 30, 39, 15, 45, 13, 51, 62, 94, 85, 86, 42, 25, 33, 97, 33, 93,\n",
       "        1, 92, 62, 94, 23, 64, 91, 38, 42,  5, 18, 28, 27, 53, 56, 67, 95,\n",
       "       58, 78, 21,  7, 38, 76, 98, 87,  5,  6, 33, 93, 40, 35, 98, 79, 59,\n",
       "       79,  3, 31, 20, 38, 83, 68, 13, 59, 72,  2, 54, 56, 59, 96, 30, 49,\n",
       "        1, 79,  1, 51, 86, 55, 70, 56, 32, 53, 96, 54, 91, 81, 44, 16,  4,\n",
       "       43, 97, 40, 86, 22, 98, 95, 88, 95, 59, 94,  3,  9, 98, 39, 48, 75,\n",
       "       98, 14, 39, 84,  3, 55, 43, 12,  7, 85, 22, 46, 17, 88, 36, 94, 80,\n",
       "       30, 61, 95, 99, 91, 36,  7, 39,  6, 38, 96, 42, 28, 61, 33, 35, 90,\n",
       "       76,  7, 29, 50, 66, 50, 51, 43, 16, 96, 17, 83, 94, 87, 33, 29, 57,\n",
       "        6, 39, 53, 53, 45, 20, 68, 24, 32,  7, 23, 32, 10, 88, 71,  9, 33,\n",
       "       89,  5,  1, 37, 24, 25, 63,  7, 20, 39, 99, 98, 87, 20, 80,  5, 87,\n",
       "       62, 99, 41, 32, 43, 31, 36, 34, 41, 99, 72, 78, 93,  3, 89, 15, 47,\n",
       "       42, 54, 91, 94, 64, 41, 46, 65, 75, 89,  4, 30, 51, 86, 58, 29, 54,\n",
       "       21,  5,  5, 36, 49, 28, 36, 41,  6, 92, 39, 29, 35, 83])"
      ]
     },
     "execution_count": 6,
     "metadata": {},
     "output_type": "execute_result"
    }
   ],
   "source": [
    "y"
   ]
  },
  {
   "cell_type": "code",
   "execution_count": 7,
   "metadata": {},
   "outputs": [
    {
     "data": {
      "text/plain": [
       "7"
      ]
     },
     "execution_count": 7,
     "metadata": {},
     "output_type": "execute_result"
    }
   ],
   "source": [
    "np.random.randint(1,10)"
   ]
  },
  {
   "cell_type": "markdown",
   "metadata": {},
   "source": [
    "### Permutations\n",
    "\n",
    "   This package contains two functions, shuffle and permutations. Both are used to change the order of an array but differs where shuffle modifies the contents of an array in-place and permutations return a re-ordered copy of the array. One other difference is when permutation is passed an integer, it will return a shuffled range. Shuffle requires np.arange to output a shuffled range."
   ]
  },
  {
   "cell_type": "code",
   "execution_count": 8,
   "metadata": {},
   "outputs": [
    {
     "data": {
      "text/plain": [
       "array([0, 1, 2, 3, 4, 5, 6, 7, 8])"
      ]
     },
     "execution_count": 8,
     "metadata": {},
     "output_type": "execute_result"
    }
   ],
   "source": [
    "arr = np.arange(9)\n",
    "arr"
   ]
  },
  {
   "cell_type": "code",
   "execution_count": 9,
   "metadata": {},
   "outputs": [
    {
     "data": {
      "text/plain": [
       "array([[0, 1, 2],\n",
       "       [3, 4, 5],\n",
       "       [6, 7, 8]])"
      ]
     },
     "execution_count": 9,
     "metadata": {},
     "output_type": "execute_result"
    }
   ],
   "source": [
    "x = np.reshape(arr, (3,3))\n",
    "x\n"
   ]
  },
  {
   "cell_type": "code",
   "execution_count": 10,
   "metadata": {},
   "outputs": [
    {
     "data": {
      "text/plain": [
       "array([2, 0, 5, 1, 4, 7, 9, 8, 3, 6])"
      ]
     },
     "execution_count": 10,
     "metadata": {},
     "output_type": "execute_result"
    }
   ],
   "source": [
    "np.random.permutation(10)\n"
   ]
  },
  {
   "cell_type": "code",
   "execution_count": 11,
   "metadata": {},
   "outputs": [
    {
     "data": {
      "text/plain": [
       "array([[3, 4, 5],\n",
       "       [0, 1, 2],\n",
       "       [6, 7, 8]])"
      ]
     },
     "execution_count": 11,
     "metadata": {},
     "output_type": "execute_result"
    }
   ],
   "source": [
    "arr2 = np.random.permutation(x)\n",
    "arr2"
   ]
  },
  {
   "cell_type": "markdown",
   "metadata": {},
   "source": [
    "### Distribution Functions"
   ]
  },
  {
   "cell_type": "markdown",
   "metadata": {},
   "source": [
    "#### numpy.random.uniform\n",
    "   This function produce random numbers from a uniform distribution. It is sometimes known as a rectangular distribution [2]. The probability of each value to be drawn in the given interval is the same or equal. This function takes three parameters. A lower and higher boundary of the output interval and the size of the distribution. The lower boundary is included in the process whereas the higher boundary is not included and will not be drawn. "
   ]
  },
  {
   "cell_type": "code",
   "execution_count": 12,
   "metadata": {},
   "outputs": [
    {
     "data": {
      "text/plain": [
       "array([-5.56536305e-01, -6.92971438e-01, -6.85131530e-01, -1.98827565e-01,\n",
       "       -9.64962205e-02, -4.00738267e-01, -1.12614109e-01, -6.65861224e-01,\n",
       "       -3.47337195e-01, -7.21175399e-01, -4.08055892e-01, -2.31318339e-01,\n",
       "       -4.54124187e-01, -9.99318369e-01, -1.79591208e-02, -9.72782623e-01,\n",
       "       -6.41545765e-01, -1.81208211e-02, -9.68254530e-01, -8.04943050e-01,\n",
       "       -2.77490688e-01, -4.98393887e-01, -4.53937757e-02, -1.25826934e-01,\n",
       "       -8.83968199e-01, -1.49474639e-01, -3.89069888e-01, -9.22800752e-01,\n",
       "       -2.45611797e-01, -8.36927267e-01, -8.89426667e-01, -3.71447750e-01,\n",
       "       -2.58783600e-02, -5.54303778e-01, -5.34525073e-01, -4.53955402e-01,\n",
       "       -3.85112881e-01, -5.71153919e-01, -9.75962583e-02, -7.60831660e-01,\n",
       "       -1.76723771e-01, -1.94170232e-01, -3.50959476e-01, -4.38384910e-02,\n",
       "       -1.70715324e-02, -8.46918583e-01, -6.38071581e-01, -1.75953149e-01,\n",
       "       -3.59852474e-01, -8.16563036e-01, -9.90028988e-01, -7.96427045e-02,\n",
       "       -3.71602956e-03, -1.16746910e-01, -1.48005916e-01, -9.97659396e-01,\n",
       "       -5.08770309e-01, -8.95896462e-01, -9.49018906e-01, -4.87480680e-01,\n",
       "       -7.70107020e-01, -4.92123028e-01, -7.64008092e-01, -9.47365987e-01,\n",
       "       -1.20197031e-01, -5.48826960e-01, -2.96585184e-01, -1.86285363e-01,\n",
       "       -3.92703381e-01, -1.47654779e-01, -6.69038264e-01, -6.17621981e-01,\n",
       "       -2.66092284e-01, -5.59449688e-01, -4.86251934e-01, -8.56237663e-01,\n",
       "       -3.20960447e-01, -8.49414874e-01, -5.46725114e-01, -8.97714843e-01,\n",
       "       -5.88749279e-01, -2.65874191e-01, -5.63002941e-01, -4.24198972e-01,\n",
       "       -4.25746018e-01, -7.50371369e-01, -9.87339702e-01, -5.72932645e-01,\n",
       "       -8.12799259e-01, -2.96794070e-01, -7.61767681e-01, -2.09781089e-01,\n",
       "       -9.61727427e-01, -6.14519895e-01, -8.01245830e-01, -6.00069358e-01,\n",
       "       -9.37238270e-01, -5.39930894e-01, -9.89542013e-01, -4.90568261e-01,\n",
       "       -5.26271687e-02, -8.96723135e-03, -8.06209153e-01, -6.14643729e-01,\n",
       "       -6.24041025e-01, -6.08843063e-01, -1.66648114e-02, -9.12623858e-01,\n",
       "       -7.29808274e-01, -1.15629894e-01, -2.21433110e-01, -3.90149266e-01,\n",
       "       -8.34401005e-01, -7.95762263e-01, -7.70888389e-01, -3.49030292e-01,\n",
       "       -3.50107042e-01, -4.58214968e-01, -8.53818732e-01, -1.55139048e-01,\n",
       "       -3.03030462e-01, -1.37524858e-01, -6.05276529e-01, -6.94456541e-01,\n",
       "       -9.72421937e-01, -3.35045491e-02, -4.62203797e-01, -7.59784577e-01,\n",
       "       -9.01534397e-01, -3.50086158e-01, -1.92242733e-01, -6.33039061e-01,\n",
       "       -8.62674228e-02, -6.64182011e-01, -5.60313657e-02, -3.55313609e-01,\n",
       "       -1.96013260e-01, -1.83735097e-02, -3.98761290e-01, -5.50516145e-01,\n",
       "       -8.71254680e-01, -9.28274691e-02, -3.32631106e-01, -7.30550106e-02,\n",
       "       -7.25013268e-01, -7.90325248e-01, -1.51422445e-01, -1.90635729e-01,\n",
       "       -7.04088294e-01, -5.02521601e-01, -2.11685996e-01, -1.27158564e-01,\n",
       "       -9.56750735e-01, -5.75244013e-01, -3.89002059e-01, -9.69231266e-01,\n",
       "       -4.02831501e-01, -3.81893953e-01, -1.80894490e-01, -2.17421028e-01,\n",
       "       -1.24025507e-01, -6.30273820e-02, -6.32666056e-01, -3.60466312e-01,\n",
       "       -9.82476085e-01, -2.19003887e-01, -1.13723388e-01, -6.53398923e-01,\n",
       "       -2.56035222e-01, -1.85690240e-01, -7.13820062e-01, -8.63383359e-01,\n",
       "       -6.16501523e-01, -2.26200351e-01, -5.58042832e-01, -1.53986536e-02,\n",
       "       -6.18658131e-01, -2.37587486e-01, -3.74535871e-01, -2.40187879e-02,\n",
       "       -4.51886740e-01, -6.97607796e-01, -5.66044109e-01, -6.70299823e-01,\n",
       "       -2.31995452e-01, -1.67368006e-01, -1.07320600e-01, -3.23323682e-02,\n",
       "       -3.62967461e-01, -4.91021045e-02, -5.40477665e-01, -3.98551324e-01,\n",
       "       -2.22743967e-01, -3.84289011e-01, -1.65366658e-01, -2.20030637e-02,\n",
       "       -1.11111498e-01, -1.27603165e-01, -6.18409185e-01, -9.38294290e-01,\n",
       "       -2.27075809e-01, -4.89741589e-01, -2.18015337e-01, -1.40567953e-01,\n",
       "       -8.15696722e-01, -1.90139098e-01, -5.96960464e-01, -6.00729592e-01,\n",
       "       -1.50400011e-01, -4.03857062e-01, -3.04638265e-01, -6.57568372e-01,\n",
       "       -9.64427535e-01, -2.37543971e-01, -7.57413907e-01, -5.75666942e-01,\n",
       "       -2.50217992e-01, -3.80701466e-01, -7.58461379e-01, -7.69169320e-01,\n",
       "       -4.69018182e-01, -3.89044697e-01, -2.33094382e-02, -8.69092312e-01,\n",
       "       -5.59176300e-01, -8.31494005e-01, -2.36453651e-01, -7.27602262e-02,\n",
       "       -7.77879725e-01, -7.47330512e-01, -5.44445989e-01, -2.02913925e-01,\n",
       "       -3.70638156e-02, -4.87975833e-01, -1.48656151e-01, -1.10513920e-01,\n",
       "       -3.79517512e-01, -3.50819327e-01, -2.84790553e-01, -2.44870917e-01,\n",
       "       -3.84151801e-01, -3.09127414e-01, -3.25196445e-01, -1.94960695e-01,\n",
       "       -5.35263962e-01, -7.90872774e-01, -8.74705209e-01, -7.82986314e-01,\n",
       "       -9.62141663e-01, -6.89459264e-01, -6.93050502e-01, -5.83989611e-01,\n",
       "       -9.91181276e-01, -1.70315548e-01, -4.22173095e-01, -4.07102228e-02,\n",
       "       -3.02717371e-02, -2.05027385e-01, -1.26488931e-01, -9.46452030e-01,\n",
       "       -4.24246102e-01, -4.13174402e-01, -8.78151513e-01, -3.48168831e-01,\n",
       "       -2.83304001e-01, -4.20483573e-01, -1.48854819e-01, -3.91244884e-01,\n",
       "       -7.97634221e-01, -8.03684259e-01, -7.53324296e-01, -4.88974012e-01,\n",
       "       -4.02569942e-01, -3.01916389e-01, -1.65421344e-01, -8.97029345e-01,\n",
       "       -7.34245258e-02, -5.87535007e-02, -5.77702852e-01, -7.97742415e-02,\n",
       "       -2.43540857e-01, -1.86703730e-02, -7.80819463e-01, -9.82313285e-01,\n",
       "       -8.02500393e-01, -1.94956991e-01, -9.69615416e-01, -9.16077301e-01,\n",
       "       -5.66935959e-01, -3.75959484e-02, -5.55781929e-02, -9.11080244e-01,\n",
       "       -8.97767098e-01, -6.95492409e-01, -5.41542650e-01, -4.96682226e-01,\n",
       "       -6.09471248e-01, -1.45979515e-01, -9.85893191e-01, -9.70861195e-01,\n",
       "       -9.22264079e-01, -8.09394982e-01, -8.19821022e-01, -8.17885084e-01,\n",
       "       -7.49070865e-01, -5.70258607e-01, -5.67796370e-02, -5.52830824e-01,\n",
       "       -6.43878182e-01, -4.90920087e-02, -8.47456246e-01, -8.03311806e-01,\n",
       "       -6.70809734e-01, -6.40263130e-01, -7.49498947e-01, -5.53644362e-01,\n",
       "       -5.26685530e-01, -4.31735663e-01, -2.70721851e-01, -1.99829225e-01,\n",
       "       -4.82215408e-01, -2.26972263e-01, -5.06488038e-02, -4.19144208e-01,\n",
       "       -3.83431061e-01, -8.08848975e-01, -8.16972272e-01, -9.75813593e-01,\n",
       "       -7.67120459e-01, -9.45509009e-03, -9.71045285e-01, -5.22948611e-01,\n",
       "       -9.24838637e-02, -4.18416756e-01, -6.02357287e-01, -3.38426310e-01,\n",
       "       -7.51074296e-01, -4.28826537e-01, -8.42847055e-01, -6.90628295e-01,\n",
       "       -8.75061797e-01, -2.82749136e-01, -6.80044385e-01, -6.02913855e-01,\n",
       "       -4.90919617e-01, -4.23652117e-01, -9.44090026e-01, -6.61453654e-02,\n",
       "       -4.13857104e-01, -6.87218125e-01, -6.36231860e-01, -2.09455257e-01,\n",
       "       -4.62637547e-01, -2.16911159e-01, -2.51029152e-01, -1.89231532e-01,\n",
       "       -2.31196706e-01, -2.61484424e-01, -5.92872415e-02, -5.68506741e-01,\n",
       "       -9.15162420e-01, -7.69209027e-01, -9.23481565e-01, -4.54141716e-01,\n",
       "       -4.26905553e-01, -5.67932693e-01, -7.01322927e-01, -6.15698711e-02,\n",
       "       -7.61219268e-01, -9.65118509e-01, -5.91362971e-01, -2.86984212e-01,\n",
       "       -3.53288988e-01, -4.84618977e-01, -4.55637338e-01, -1.47938630e-01,\n",
       "       -9.24437279e-01, -5.70439153e-01, -6.53253797e-01, -2.42024368e-01,\n",
       "       -7.55682588e-01, -7.36491584e-02, -3.52978322e-01, -5.50115859e-01,\n",
       "       -7.37711766e-01, -8.33109647e-02, -6.70987152e-01, -7.21960657e-01,\n",
       "       -6.44156104e-03, -8.10432053e-01, -6.07788269e-01, -9.38061631e-01,\n",
       "       -6.86992037e-01, -5.69587025e-02, -5.18826893e-01, -9.07551372e-01,\n",
       "       -3.73210323e-01, -5.52314753e-01, -7.58854195e-01, -1.25654910e-01,\n",
       "       -7.06272152e-01, -5.52956575e-01, -5.77153812e-01, -1.11089069e-02,\n",
       "       -2.00938640e-01, -9.58654078e-01, -6.59994915e-01, -2.28273818e-02,\n",
       "       -1.85465652e-02, -9.78255049e-01, -5.50238385e-01, -4.58070895e-01,\n",
       "       -9.09143767e-01, -2.77656079e-01, -6.00465529e-01, -1.62360422e-01,\n",
       "       -5.73902703e-01, -5.91600145e-01, -9.95603406e-01, -2.71116590e-01,\n",
       "       -2.05989743e-01, -8.55830663e-01, -1.63241148e-01, -6.11236393e-02,\n",
       "       -1.11788551e-01, -1.81837082e-01, -3.02791657e-01, -9.17876634e-01,\n",
       "       -1.97556035e-01, -6.52720001e-01, -4.16281815e-01, -9.49512622e-01,\n",
       "       -4.59894557e-01, -4.17253548e-01, -3.81387839e-01, -8.26535412e-02,\n",
       "       -7.70201749e-02, -8.07470929e-01, -9.44665793e-01, -4.12054319e-01,\n",
       "       -9.87524253e-01, -8.76896283e-01, -1.17799025e-01, -9.33349398e-01,\n",
       "       -1.46671751e-01, -5.24354223e-01, -5.78692354e-02, -7.39333815e-01,\n",
       "       -6.90084118e-01, -5.05531661e-01, -2.03305947e-01, -3.16077192e-01,\n",
       "       -3.51031003e-02, -4.89134246e-01, -1.95791022e-01, -7.67092078e-01,\n",
       "       -7.87104788e-01, -6.82366160e-01, -7.22340288e-01, -5.54174733e-01,\n",
       "       -4.27415966e-01, -4.09133222e-01, -1.83996728e-01, -7.56109991e-01,\n",
       "       -7.75309558e-01, -3.24702971e-01, -1.32619297e-01, -2.21327885e-01,\n",
       "       -9.25500502e-01, -4.03249410e-01, -5.24202214e-01, -8.12695337e-01,\n",
       "       -6.89154121e-01, -4.67192685e-02, -5.76718029e-01, -7.45196658e-01,\n",
       "       -1.96602890e-02, -3.45153490e-01, -5.28802052e-01, -8.47423042e-01,\n",
       "       -3.10746569e-01, -5.76169622e-01, -5.47877836e-02, -3.62376077e-01,\n",
       "       -2.18927081e-01, -2.60779731e-01, -1.00654012e-01, -2.15359174e-01,\n",
       "       -5.45160002e-01, -7.21805754e-01, -2.59532883e-01, -1.22909738e-01,\n",
       "       -4.05559183e-01, -3.35853487e-01, -4.54741609e-01, -4.68868682e-01,\n",
       "       -5.85515186e-01, -1.08382910e-02, -2.89751451e-01, -2.18142731e-01,\n",
       "       -3.52499862e-01, -9.59428170e-01, -2.27632915e-01, -1.96524813e-01,\n",
       "       -4.67877071e-01, -4.54712072e-01, -1.40383011e-01, -9.62504617e-01,\n",
       "       -3.12599652e-01, -8.91330171e-01, -4.76155358e-02, -9.80665359e-01,\n",
       "       -7.00806777e-01, -3.59280306e-01, -8.16528640e-02, -6.44556490e-01,\n",
       "       -2.42150142e-01, -4.77628236e-02, -5.99527840e-01, -8.04665546e-02,\n",
       "       -6.06500991e-01, -6.09377481e-01, -9.93628649e-02, -4.94372527e-01,\n",
       "       -5.29324503e-01, -1.87874992e-01, -9.73339357e-01, -3.40586474e-01,\n",
       "       -4.85119100e-01, -7.46025695e-02, -3.99366560e-01, -8.67793057e-01,\n",
       "       -6.46916063e-01, -6.23072156e-01, -6.35332261e-01, -3.64662516e-01,\n",
       "       -5.67137172e-01, -3.04661261e-01, -4.06843022e-01, -1.54876284e-01,\n",
       "       -1.14520097e-01, -6.33095533e-01, -1.62046681e-01, -7.28528243e-01,\n",
       "       -8.27927015e-01, -6.19566842e-01, -4.91051863e-01, -4.22644394e-01,\n",
       "       -7.04682497e-01, -4.70571969e-01, -1.77306842e-01, -8.19541759e-01,\n",
       "       -1.10303624e-01, -4.32765998e-01, -9.07647737e-02, -7.30211388e-01,\n",
       "       -4.11774603e-01, -2.22608979e-02, -1.06770797e-01, -4.72502910e-01,\n",
       "       -8.50765633e-01, -8.21938855e-01, -5.11072097e-01, -6.53730863e-02,\n",
       "       -5.43877679e-02, -4.80590055e-01, -8.14944252e-01, -1.83138093e-01,\n",
       "       -8.50629922e-01, -3.17719098e-02, -9.40329737e-01, -3.43462795e-01,\n",
       "       -8.74929197e-01, -5.89128896e-01, -7.98701877e-01, -5.97013837e-01,\n",
       "       -8.39080352e-04, -1.77256178e-02, -9.28623287e-01, -4.65223059e-01,\n",
       "       -1.71695090e-01, -4.67632919e-01, -9.72469855e-01, -1.20364519e-01,\n",
       "       -2.84246302e-01, -5.30246890e-01, -5.80822613e-01, -8.44357555e-01,\n",
       "       -5.37245895e-01, -7.95405562e-01, -5.01389543e-01, -3.98692625e-01,\n",
       "       -7.64515115e-01, -9.06486744e-01, -2.37748561e-01, -1.51223880e-01,\n",
       "       -4.65791126e-01, -3.68757412e-01, -1.36044193e-01, -3.34668715e-01,\n",
       "       -5.06794812e-01, -1.41588276e-01, -5.17143075e-01, -5.06222354e-01,\n",
       "       -1.83562806e-01, -8.25807933e-01, -7.05617214e-01, -9.02959290e-01,\n",
       "       -6.65178992e-01, -3.35685878e-01, -4.37169458e-01, -6.35115383e-01,\n",
       "       -5.06882646e-01, -7.40361780e-01, -7.55826097e-01, -3.23083059e-01,\n",
       "       -5.26707313e-01, -7.73800744e-04, -5.42070890e-01, -5.24261710e-01,\n",
       "       -8.39558794e-02, -6.81509905e-01, -2.53523506e-01, -2.58939335e-01,\n",
       "       -1.13411370e-01, -3.54961214e-01, -3.82824949e-01, -2.75874953e-01,\n",
       "       -7.68891308e-01, -1.41999744e-01, -3.43493668e-02, -8.88381729e-01,\n",
       "       -7.37634086e-01, -1.67818301e-01, -7.81202560e-01, -2.00630517e-01,\n",
       "       -8.02429492e-01, -1.69167138e-01, -9.81909719e-01, -8.91340115e-01,\n",
       "       -9.44576996e-01, -6.96423857e-01, -6.86623873e-01, -9.42310561e-01,\n",
       "       -7.48119884e-01, -9.46248017e-01, -5.98467010e-01, -7.64564911e-01,\n",
       "       -3.87856821e-01, -7.25100710e-01, -6.21814519e-01, -8.64637543e-01,\n",
       "       -5.32609392e-01, -4.60321627e-01, -1.38168261e-01, -6.80549134e-01,\n",
       "       -1.72769435e-01, -7.66929969e-01, -6.43318835e-02, -9.55330717e-01,\n",
       "       -7.60710509e-01, -6.21201527e-02, -8.80796787e-01, -9.53149466e-02,\n",
       "       -2.54013932e-02, -3.81383074e-01, -7.74353819e-01, -1.82587938e-01,\n",
       "       -1.71168974e-01, -6.14927498e-01, -6.37596281e-01, -5.10559539e-01,\n",
       "       -8.89735706e-01, -2.07637862e-01, -4.76398417e-01, -5.31223575e-01,\n",
       "       -5.02409578e-01, -4.80930382e-01, -4.33505641e-01, -4.11190036e-01,\n",
       "       -9.42008071e-01, -9.07763506e-02, -8.97033176e-01, -1.94589597e-01,\n",
       "       -9.78616599e-01, -8.12445704e-01, -8.13578165e-01, -8.65087901e-01,\n",
       "       -3.31950758e-01, -9.98258989e-01, -7.75526869e-02, -2.34210212e-02,\n",
       "       -3.23013254e-01, -8.13283508e-01, -1.05396922e-01, -2.11103751e-01,\n",
       "       -6.87740753e-01, -3.19679847e-01, -8.85104326e-01, -7.90617543e-02,\n",
       "       -5.56740571e-02, -9.69256797e-01, -3.08235805e-01, -2.23722355e-01,\n",
       "       -2.73735321e-01, -4.79258132e-01, -3.25832350e-01, -2.00928897e-01,\n",
       "       -7.79822406e-01, -2.43058306e-02, -9.13990832e-01, -9.02438157e-01,\n",
       "       -6.53782631e-01, -3.47000996e-01, -3.59294346e-01, -2.57196890e-01,\n",
       "       -5.16277224e-01, -8.41003005e-01, -6.70438581e-01, -1.86171375e-01,\n",
       "       -6.63980035e-01, -2.89896421e-01, -4.76079167e-01, -4.88783253e-01,\n",
       "       -7.14704632e-01, -2.35289592e-01, -3.22380220e-01, -5.28091389e-01,\n",
       "       -5.89499024e-01, -2.61392140e-01, -1.31407055e-01, -3.81985612e-01,\n",
       "       -1.95786759e-01, -3.42115884e-01, -8.01524291e-01, -5.79892418e-01,\n",
       "       -4.51116977e-01, -3.00965720e-01, -9.81224950e-01, -5.01389771e-01,\n",
       "       -9.34546233e-01, -6.60859035e-01, -1.48509723e-01, -9.94321722e-01,\n",
       "       -8.30761509e-01, -7.64540225e-02, -9.56322966e-01, -7.70235503e-02,\n",
       "       -4.86119407e-01, -3.58151917e-01, -6.21085881e-01, -3.09919736e-01,\n",
       "       -5.44686472e-01, -8.16717066e-01, -1.13386415e-01, -1.59303015e-01,\n",
       "       -3.74602623e-01, -1.32858652e-01, -4.23980625e-02, -1.63728933e-01,\n",
       "       -4.63514601e-01, -6.80116019e-01, -5.78067748e-01, -9.88017440e-01,\n",
       "       -6.97046597e-01, -1.17530053e-01, -5.16056953e-01, -3.17886697e-01,\n",
       "       -4.69085294e-01, -5.90547146e-02, -2.76622567e-01, -4.06343083e-01,\n",
       "       -4.44796658e-01, -9.45509715e-03, -3.88390205e-02, -9.79192229e-02,\n",
       "       -9.86842208e-01, -9.09347643e-01, -8.95426652e-02, -6.85832968e-01,\n",
       "       -3.92937299e-01, -7.48094073e-01, -7.41237590e-01, -1.57496089e-01,\n",
       "       -5.02167663e-01, -5.72785897e-01, -7.74708287e-01, -7.91168638e-01,\n",
       "       -3.66121323e-01, -6.87461912e-01, -4.34725340e-01, -5.86019846e-01,\n",
       "       -7.76807817e-01, -9.66234806e-02, -8.48912528e-01, -6.65406254e-01,\n",
       "       -6.81303369e-01, -5.01605014e-01, -9.73190283e-01, -7.88650041e-01,\n",
       "       -5.07774124e-01, -8.16663842e-01, -6.07639569e-02, -5.55768019e-01,\n",
       "       -5.56471527e-01, -1.05487978e-01, -1.68134482e-01, -3.00751050e-01,\n",
       "       -3.70281400e-01, -4.77754208e-01, -8.75291499e-01, -9.13865410e-01,\n",
       "       -5.60319221e-01, -1.49153155e-01, -1.66104551e-01, -2.34025500e-01,\n",
       "       -5.82041573e-01, -9.69783421e-01, -2.58989711e-01, -7.19681799e-01,\n",
       "       -9.51610876e-01, -1.55611186e-01, -5.66220318e-01, -4.50542660e-01,\n",
       "       -9.94217502e-01, -4.31161714e-01, -4.49381903e-01, -5.85198912e-01,\n",
       "       -9.54883680e-01, -7.46637307e-01, -9.59173242e-01, -1.29598654e-01,\n",
       "       -4.94460307e-01, -5.41241362e-01, -7.53077523e-01, -1.39558539e-01,\n",
       "       -6.02835405e-01, -4.55220713e-01, -5.93504436e-01, -6.96997187e-02,\n",
       "       -5.28278971e-01, -1.54441547e-01, -2.25550386e-01, -3.10191312e-01,\n",
       "       -1.48355390e-01, -1.66856430e-01, -9.64005442e-01, -8.83052137e-01,\n",
       "       -1.14773683e-01, -9.46510267e-02, -6.87199165e-01, -8.54775774e-01,\n",
       "       -6.12207514e-01, -9.91354264e-01, -4.81008413e-01, -2.45938288e-01,\n",
       "       -4.30211725e-01, -9.51912963e-01, -6.07993086e-01, -8.74834898e-01,\n",
       "       -4.47540627e-01, -6.85964583e-01, -2.04442703e-01, -4.33333068e-01,\n",
       "       -2.95682415e-01, -2.94543308e-01, -5.90501508e-01, -5.70559495e-01,\n",
       "       -5.92190775e-01, -8.49499113e-01, -3.91215354e-01, -2.36019284e-03,\n",
       "       -5.87344639e-01, -2.49020983e-01, -4.21325745e-01, -2.05122617e-01,\n",
       "       -4.81091822e-01, -9.71378245e-01, -2.28543061e-01, -9.06845802e-01,\n",
       "       -8.10262068e-01, -6.52798781e-01, -7.82984528e-01, -8.71488233e-01,\n",
       "       -3.51122536e-01, -7.98984370e-01, -9.77952726e-01, -4.78878396e-01,\n",
       "       -4.45981111e-02, -9.48685062e-01, -6.96635768e-01, -7.66109775e-01,\n",
       "       -8.79211853e-01, -6.64007045e-01, -9.85188462e-01, -9.84646052e-01,\n",
       "       -6.53924518e-01, -4.00712663e-01, -4.41664180e-01, -6.50377613e-01,\n",
       "       -3.93904487e-01, -8.95819581e-01, -1.59654021e-01, -3.53089306e-01,\n",
       "       -6.26280658e-01, -4.68725808e-01, -1.88282533e-01, -6.00237214e-01,\n",
       "       -3.58578292e-01, -8.24340757e-01, -5.56202738e-01, -4.40101574e-01,\n",
       "       -5.78498591e-01, -9.47060259e-01, -3.95554511e-01, -2.42726883e-01,\n",
       "       -3.53111709e-01, -2.88954779e-01, -1.94301175e-01, -2.59956608e-01,\n",
       "       -8.74539434e-01, -6.55476744e-01, -1.67953788e-01, -4.53633670e-01,\n",
       "       -2.49227943e-02, -6.75734793e-01, -3.68929286e-01, -9.26639020e-02,\n",
       "       -5.71167522e-02, -5.82669334e-01, -8.02258867e-02, -7.45275036e-01,\n",
       "       -6.32315844e-01, -4.95123880e-01, -8.45962257e-01, -9.97475948e-01,\n",
       "       -9.89348098e-01, -3.36034620e-01, -5.13693018e-02, -3.51096512e-02,\n",
       "       -3.69002323e-01, -1.84113020e-01, -9.38827112e-01, -5.37972771e-01,\n",
       "       -7.43444828e-01, -4.44366597e-01, -1.99600794e-01, -7.55883462e-01,\n",
       "       -3.73255490e-01, -9.30377334e-03, -6.21412895e-02, -8.83896902e-02,\n",
       "       -9.90407510e-01, -6.80996109e-01, -3.28732347e-01, -4.63865298e-01,\n",
       "       -8.62705709e-01, -5.30692973e-01, -4.69404230e-01, -9.02353102e-01,\n",
       "       -6.69456993e-01, -5.36750047e-01, -6.94223823e-01, -5.77437888e-01,\n",
       "       -9.51667797e-01, -1.10150972e-01, -6.39744427e-01, -4.33534134e-01,\n",
       "       -1.59897304e-01, -1.92488475e-01, -4.13917533e-01, -4.08919709e-02,\n",
       "       -2.96587260e-01, -5.87810349e-01, -7.24775708e-01, -9.81335168e-01,\n",
       "       -7.57196376e-01, -7.13672856e-01, -3.46554646e-01, -1.17018397e-01,\n",
       "       -7.26833385e-01, -5.04985532e-01, -6.00912767e-01, -5.48525023e-01,\n",
       "       -3.57075099e-01, -3.74000068e-01, -9.56902073e-01, -8.83908354e-01,\n",
       "       -2.21280920e-01, -7.22334110e-01, -1.43558279e-01, -8.69508622e-01,\n",
       "       -4.39095396e-01, -8.19557533e-01, -5.92230172e-01, -5.05355588e-01,\n",
       "       -3.14528537e-01, -1.46822799e-01, -7.33006392e-01, -2.12355033e-01])"
      ]
     },
     "execution_count": 12,
     "metadata": {},
     "output_type": "execute_result"
    }
   ],
   "source": [
    "x = np.random.uniform(-1,0,size=1000)\n",
    "x"
   ]
  },
  {
   "cell_type": "code",
   "execution_count": 13,
   "metadata": {},
   "outputs": [
    {
     "data": {
      "text/plain": [
       "(array([101.,  86.,  86.,  97., 113., 107., 100.,  84., 116., 110.]),\n",
       " array([-9.99318369e-01, -8.99463912e-01, -7.99609455e-01, -6.99754999e-01,\n",
       "        -5.99900542e-01, -5.00046085e-01, -4.00191628e-01, -3.00337171e-01,\n",
       "        -2.00482714e-01, -1.00628258e-01, -7.73800744e-04]),\n",
       " <a list of 10 Patch objects>)"
      ]
     },
     "execution_count": 13,
     "metadata": {},
     "output_type": "execute_result"
    },
    {
     "data": {
      "image/png": "[encoded data removed]",
      "text/plain": [
       "<Figure size 432x288 with 1 Axes>"
      ]
     },
     "metadata": {},
     "output_type": "display_data"
    }
   ],
   "source": [
    "plt.hist(x)"
   ]
  },
  {
   "cell_type": "markdown",
   "metadata": {},
   "source": [
    "#### numpy.random.normal\n",
    "   This function draw random samples from a normal or Gaussian distribution. The normal distribution, described as a bell curve, is important in statistics because it reflects many real-world events[3]. The values or samples are distributed symmetrically, with most clustered around a central peak or mean and the probability for values taper off equally on both sides of the mean. \n",
    "    This function takes three parameters; the loc or the mean of the distribution, the scale or the standard deviation (spread) and the size of the distribution.\n"
   ]
  },
  {
   "cell_type": "code",
   "execution_count": 14,
   "metadata": {},
   "outputs": [
    {
     "data": {
      "text/plain": [
       "array([-2.71483088e-02, -1.92520410e-02,  7.90832032e-02,  9.49804302e-02,\n",
       "        5.71081629e-02,  3.61416064e-02,  7.56453720e-02,  8.52725315e-02,\n",
       "       -1.79398539e-01, -5.52270148e-03, -1.88450693e-01, -1.63823061e-01,\n",
       "       -9.14195204e-02,  8.58872324e-02, -8.04650259e-02,  2.12913279e-02,\n",
       "        5.53517243e-02, -3.67917784e-03,  3.84594671e-02,  2.77370673e-02,\n",
       "        6.41909940e-02,  1.80721831e-01, -3.88840375e-02,  6.31176492e-02,\n",
       "       -1.63759048e-01, -1.25103909e-01,  1.11486371e-02,  2.53137898e-03,\n",
       "       -1.16291041e-02, -1.48495042e-01,  4.92109752e-02, -6.49780816e-02,\n",
       "        8.75859577e-02, -1.18543194e-01,  2.90385600e-02, -1.57052033e-03,\n",
       "        8.47318842e-03,  1.37071330e-01,  2.55468827e-02, -8.76617575e-02,\n",
       "       -1.00750741e-01,  2.31529038e-01,  2.99340483e-02, -7.49925247e-02,\n",
       "       -9.33932558e-02,  7.16246496e-02, -7.37753378e-02,  1.39662323e-01,\n",
       "       -4.65246494e-03,  5.00289687e-02,  1.03351647e-02,  4.98231382e-02,\n",
       "        1.57196103e-01, -3.56945044e-02, -3.54040412e-02, -2.11941836e-01,\n",
       "        1.19793008e-01, -6.97529637e-02,  1.12471246e-02, -1.90210001e-02,\n",
       "        3.77020797e-02, -2.68244006e-01,  6.13361197e-02, -2.38683923e-02,\n",
       "       -6.19613394e-02,  1.04930937e-01, -3.22523116e-02,  5.94970112e-02,\n",
       "        2.19043363e-02,  6.99695648e-02, -1.51591222e-01, -6.21917700e-02,\n",
       "       -4.23087661e-02,  1.39162244e-01,  3.45235946e-02,  3.59899211e-03,\n",
       "       -2.12058845e-01, -3.14625364e-02,  2.78505601e-02, -3.62846231e-02,\n",
       "       -1.13780411e-01, -7.77678249e-02,  6.99586668e-02, -8.74424703e-02,\n",
       "        3.62218804e-02,  1.05309194e-01, -1.78632077e-01,  1.04243777e-01,\n",
       "        1.90656087e-02, -1.09080129e-01, -2.03092890e-02, -1.66611389e-02,\n",
       "       -7.44046686e-02,  1.94978687e-01,  4.18981888e-02,  2.63735622e-02,\n",
       "        2.94722126e-02,  2.86636783e-02, -1.99019258e-01, -1.31267172e-01,\n",
       "       -4.00443204e-02,  1.68433159e-01,  9.67806741e-02,  3.56877934e-02,\n",
       "        4.76700287e-02,  1.76712289e-01,  2.00901924e-02,  1.57209836e-01,\n",
       "       -6.05908270e-02, -2.42741274e-02,  3.23927797e-03, -1.43641241e-01,\n",
       "       -1.29980335e-01, -4.77942497e-02, -1.54688685e-01, -5.44588672e-02,\n",
       "       -2.28498327e-01,  1.51281366e-01, -2.58962639e-02, -8.81399033e-02,\n",
       "        1.36499147e-01,  2.71840679e-02,  8.86959492e-02,  2.22993678e-02,\n",
       "       -4.26580876e-02, -1.48943886e-01, -3.71847907e-02,  5.73661633e-02,\n",
       "       -1.12160978e-01,  7.18410906e-02,  5.60261321e-03, -1.59531701e-01,\n",
       "       -5.96653413e-02, -2.22640400e-02, -1.53519069e-01,  8.96607935e-02,\n",
       "       -8.55117724e-02,  9.42475321e-02, -7.09957827e-02, -4.61339814e-02,\n",
       "       -1.75516717e-02, -3.75794088e-02,  9.22474765e-02,  4.94566281e-02,\n",
       "        8.79917162e-02, -1.15484492e-01,  8.39770135e-02, -7.10945131e-02,\n",
       "        9.81720502e-02, -1.67318440e-01, -5.63192776e-02,  7.26629301e-02,\n",
       "       -3.39677585e-02,  1.80699930e-01,  5.71974417e-02,  2.08758166e-02,\n",
       "        8.92957891e-02,  1.73523400e-01, -1.04265606e-01,  3.01304191e-03,\n",
       "       -1.51950546e-01, -1.36197605e-01,  1.23357740e-03,  6.89855850e-02,\n",
       "        9.90476969e-02, -2.22320936e-03, -9.03612044e-02, -6.36511864e-02,\n",
       "        8.30007026e-02,  1.64242409e-01,  1.22701840e-01, -1.31821291e-01,\n",
       "        7.40103317e-02, -8.07659075e-02, -4.48379814e-02, -1.58372366e-01,\n",
       "       -1.16677142e-01, -4.40821773e-02,  1.98301300e-01,  7.87311470e-02,\n",
       "       -9.82869957e-03,  6.57855191e-04,  1.22451412e-01,  1.88132778e-01,\n",
       "       -9.12709469e-02, -8.07038153e-02,  1.26484953e-01, -5.98523117e-02,\n",
       "        4.58280961e-03,  2.12785281e-02, -5.44335826e-02, -1.98539202e-04,\n",
       "        2.88980796e-02, -1.95659555e-02, -4.97793046e-02, -2.18248834e-01,\n",
       "       -1.02881574e-01, -3.44244636e-02, -5.26233109e-02, -3.18227075e-01,\n",
       "        3.54040759e-02, -1.46747007e-01,  9.71050299e-03,  6.27618699e-02,\n",
       "        4.39704824e-02, -1.37246094e-01, -1.08295596e-01,  4.01074328e-02,\n",
       "       -2.23849597e-01,  2.85718675e-01,  4.48103181e-02,  1.28162395e-02,\n",
       "        6.36882415e-02, -8.68539275e-02, -1.67140070e-01, -1.23301126e-01,\n",
       "       -7.60895680e-02, -1.02839502e-01, -4.81907836e-02,  1.15704014e-01,\n",
       "       -2.57706171e-02,  1.16469548e-01, -5.65124798e-02,  7.82512364e-02,\n",
       "       -1.00036675e-01,  4.09112953e-02,  7.64224177e-02, -8.89693872e-02,\n",
       "        5.49852612e-02, -6.48646717e-02, -7.70838472e-03, -1.70301833e-01,\n",
       "       -1.96320261e-01,  1.55557992e-01,  1.46654814e-02,  7.83632261e-02,\n",
       "        1.10502196e-01,  1.99956514e-03, -1.74047887e-01,  9.33251542e-02,\n",
       "       -3.81529173e-02, -2.47342370e-01, -3.74314657e-02,  5.33374772e-02,\n",
       "        3.87360909e-02, -1.00901790e-02, -8.51494578e-02,  2.85735416e-02,\n",
       "        7.60007119e-02,  4.38975718e-02,  1.17513958e-01, -8.28035334e-02,\n",
       "       -1.12791644e-01,  2.44863719e-01,  9.90578119e-02,  1.29927874e-02,\n",
       "       -9.16006321e-02,  4.24644642e-02,  1.30408741e-01,  7.91824736e-02,\n",
       "       -9.11089972e-02, -1.28264538e-01, -4.07497486e-02,  5.79531198e-03,\n",
       "        2.14794224e-01, -4.37897936e-03,  1.38593400e-02, -1.07712181e-02,\n",
       "       -9.16424735e-02,  3.21100741e-02,  2.24670525e-02,  1.95315479e-02,\n",
       "       -1.61539600e-01, -8.26394390e-02, -7.55204758e-03, -2.03727288e-02,\n",
       "        6.93332352e-03, -2.03710324e-01,  1.90529213e-01,  9.32545098e-02,\n",
       "        2.97500047e-02, -1.06921582e-01, -1.02824650e-01, -3.06284448e-02,\n",
       "       -2.48733809e-02, -7.53606301e-03, -7.37878354e-03, -3.77833066e-02,\n",
       "        7.02308968e-02, -1.91521650e-02,  3.04696926e-02,  9.45605704e-02,\n",
       "       -6.26874015e-02, -1.36420427e-01,  4.10113932e-02, -7.36480828e-02,\n",
       "        1.02974520e-02, -4.63152917e-02, -7.68436387e-02,  4.06463629e-01,\n",
       "        1.04892249e-01,  1.28251707e-01,  8.55433035e-02, -6.17135625e-02,\n",
       "       -8.97425689e-02,  1.20802531e-02, -5.82844196e-02,  7.07449229e-02,\n",
       "       -8.09551706e-02,  3.32287818e-02,  1.76169875e-01, -7.56586405e-03,\n",
       "       -8.26668051e-02,  1.95728369e-02, -1.32584684e-02, -5.20454785e-02,\n",
       "        9.67088502e-02, -1.46918300e-02,  1.32474150e-01,  6.70795248e-02,\n",
       "        3.13060869e-02,  1.82462957e-01,  1.02537471e-01,  5.29860046e-02,\n",
       "       -1.02453024e-01, -1.36110190e-02,  1.36077104e-01,  2.38968186e-02,\n",
       "        1.09172490e-03, -5.72503290e-02,  2.04439853e-02,  5.13626429e-02,\n",
       "        5.09943012e-02, -7.83451763e-02,  3.07412187e-02,  1.98151286e-02,\n",
       "       -6.70125283e-02, -1.00606278e-01, -3.84598618e-02,  1.35611417e-02,\n",
       "        6.00594738e-02,  8.25246362e-02, -5.38701927e-02, -2.03321427e-02,\n",
       "       -1.17389623e-02, -1.91264446e-01,  4.96573520e-02,  1.50914544e-02,\n",
       "        2.55403771e-02,  9.23426411e-02,  3.65561376e-02, -9.38559533e-02,\n",
       "       -1.73728830e-01, -1.13707684e-02, -3.08258279e-03, -7.76893449e-02,\n",
       "        8.62070911e-02,  8.49539766e-02,  1.38025436e-01, -1.25796440e-01,\n",
       "       -1.50480098e-02,  1.78004187e-01, -3.46292907e-02,  6.23726818e-03,\n",
       "       -2.83877116e-01, -1.24004833e-01,  1.10006885e-01,  5.66524657e-02,\n",
       "        2.91573651e-03,  7.90011156e-02, -9.67466848e-02,  2.55031110e-02,\n",
       "       -3.57981434e-02, -5.37465818e-02, -2.19646065e-02,  1.52887152e-01,\n",
       "       -1.52587425e-01,  2.44949573e-02,  1.21116724e-01, -7.72359525e-02,\n",
       "       -6.87434822e-02,  1.41951910e-01,  6.69765902e-02,  3.96014800e-02,\n",
       "        1.51794374e-01,  5.60078089e-02, -5.36295606e-03,  1.83461467e-01,\n",
       "        1.49584517e-01, -2.70773249e-03,  1.51571699e-01, -8.10978135e-02,\n",
       "        9.18785802e-02, -5.90261961e-02,  4.69349837e-03, -1.33675957e-01,\n",
       "       -3.14462017e-02, -8.39688303e-02, -2.00657971e-02, -8.01385601e-02,\n",
       "       -1.33854418e-03, -3.42556631e-02, -2.25550397e-01,  7.23263373e-02,\n",
       "        4.46966089e-03,  1.08847609e-01, -4.24577953e-02,  1.08889828e-01,\n",
       "        3.65243250e-02,  3.16560295e-02,  4.13789936e-02, -5.42886852e-02,\n",
       "        8.13531668e-02,  3.60336184e-02,  1.67043931e-01, -2.67363814e-02,\n",
       "       -1.07560413e-01, -1.14435202e-01,  3.55590504e-02,  5.96520027e-03,\n",
       "        1.01589536e-01, -1.46641190e-02,  9.11461522e-02, -5.30694333e-02,\n",
       "        7.43332711e-02,  4.23162146e-02, -7.15489114e-02,  1.00717189e-01,\n",
       "       -9.40762131e-03, -9.74740661e-02,  1.09954110e-01, -2.53509416e-02,\n",
       "        6.02380453e-02, -4.55767474e-02, -6.63396182e-03,  7.90798274e-02,\n",
       "       -3.07858402e-02,  3.81249983e-02, -5.75887455e-02, -8.38605875e-02,\n",
       "       -9.68346304e-02,  2.80662011e-01, -1.10401350e-01, -1.10743577e-01,\n",
       "       -3.57451062e-03,  3.07830482e-02, -1.00982576e-01, -1.33771003e-01,\n",
       "       -1.65769911e-01, -5.77335036e-03, -7.67080987e-02,  9.46559998e-02,\n",
       "        1.59611148e-01, -7.28404524e-02,  2.60329451e-02, -8.62952782e-02,\n",
       "        8.07814938e-02, -4.03287046e-02, -1.94581569e-01, -3.31861238e-02,\n",
       "        3.41799265e-02,  5.26437419e-02,  1.03803181e-01,  9.16951716e-02,\n",
       "        6.11982055e-02,  1.38582112e-01,  2.97200952e-01, -1.57616100e-01,\n",
       "        3.89825561e-02,  2.12762968e-01,  7.02136924e-02, -1.51861520e-01,\n",
       "        1.56257265e-01, -2.70237067e-01, -2.26337975e-02, -5.21915951e-02,\n",
       "        4.79394345e-02, -1.78029572e-01,  7.85392592e-02,  1.58311027e-01,\n",
       "        5.39961855e-03,  1.89728263e-02, -6.95031031e-02, -7.21539666e-02,\n",
       "        6.76738797e-02, -8.75933466e-02,  1.93876176e-01, -4.15682567e-02,\n",
       "        3.12201123e-02,  3.99112646e-02, -1.40276714e-01, -6.88813177e-02,\n",
       "       -1.13611674e-01, -7.58458908e-02, -2.27101823e-03, -3.36509502e-02,\n",
       "       -1.27641123e-01, -6.79944183e-03,  5.78170500e-02, -6.00604682e-02,\n",
       "       -1.77430159e-02, -9.23812505e-03,  1.32214169e-01,  1.83532225e-01,\n",
       "       -7.20495743e-02, -2.74854096e-02, -1.04536910e-01, -5.72677785e-02,\n",
       "        1.46281097e-02,  1.03925906e-01, -5.93142594e-02,  4.09328294e-02,\n",
       "        1.32410342e-01,  1.72382453e-01, -7.31168100e-02,  1.77746745e-01,\n",
       "        7.80497557e-02,  1.10900983e-01, -7.37204204e-02,  1.25536925e-01,\n",
       "       -3.02270454e-02,  1.97727306e-02, -3.22428804e-02,  2.47671954e-01,\n",
       "       -1.72985372e-01, -5.31022039e-02, -1.33652174e-01,  1.00761184e-02,\n",
       "        8.51833309e-02,  3.48824064e-02, -5.50365718e-02, -8.50956894e-02,\n",
       "       -5.92488880e-02,  8.52276488e-02, -3.81031736e-02, -1.09813982e-01,\n",
       "       -3.71486623e-02, -5.73864344e-02, -3.75883693e-02, -7.80289185e-02,\n",
       "        5.10747665e-02,  7.12489340e-02, -5.91587611e-02, -4.75253557e-02,\n",
       "       -1.20708985e-01,  1.34038562e-01,  2.02225443e-01, -4.81378734e-02,\n",
       "        3.29303669e-03, -7.89368227e-03,  1.31933577e-01, -1.44311031e-01,\n",
       "       -3.36364390e-02,  3.86049706e-02, -6.91889079e-02,  1.42075502e-02,\n",
       "        2.07017444e-01,  1.95365007e-01,  2.12099686e-01,  6.58508163e-02,\n",
       "        6.26020836e-02,  3.23342181e-02,  4.19851560e-02, -1.39746017e-01,\n",
       "        7.09046097e-02,  2.72751405e-03, -9.66224695e-02, -7.89744919e-02,\n",
       "        2.38039471e-02, -3.48148832e-02,  1.92661878e-02,  8.12541321e-02,\n",
       "        1.11589666e-01, -1.30385630e-01,  1.67434725e-01,  6.43464581e-02,\n",
       "       -5.89739630e-04, -7.97528314e-02,  1.97614242e-01, -1.56573043e-01,\n",
       "        3.33616355e-02, -1.76132114e-01,  1.37587563e-01, -7.68852450e-03,\n",
       "        5.47414248e-02,  7.36033386e-02, -8.18148743e-02,  1.56557206e-01,\n",
       "       -7.83732263e-02, -6.08976102e-02, -4.61569947e-02,  5.28736968e-02,\n",
       "       -1.56669825e-01, -2.93579541e-02,  1.84280012e-01,  2.06094517e-02,\n",
       "        7.24104728e-02,  4.80856030e-02, -4.11514775e-03,  4.83391217e-02,\n",
       "        3.36266427e-02, -7.70712306e-02,  2.23580956e-01,  2.41173491e-01,\n",
       "       -1.81159769e-02, -2.60707672e-02,  2.45398980e-02,  7.81006512e-02,\n",
       "        4.19956570e-02,  2.14437172e-02,  1.09601090e-02, -1.35982894e-01,\n",
       "       -1.02026002e-01,  1.33850008e-01, -1.65788959e-02, -1.38670267e-02,\n",
       "        1.34662869e-01, -1.16123242e-01, -1.65321015e-01, -7.50905180e-02,\n",
       "       -5.22798681e-02, -2.28834312e-02, -1.41535425e-02, -1.22233070e-02,\n",
       "       -1.49412142e-01, -1.50206165e-01, -1.14817520e-01,  2.84333829e-01,\n",
       "       -9.63469740e-02, -7.15549159e-02,  1.89193263e-01,  9.88020557e-02,\n",
       "        5.26187135e-02,  6.71979773e-02, -1.55608147e-01,  1.52371539e-03,\n",
       "       -5.94111004e-02,  4.66906418e-02,  1.31081793e-01,  8.97562625e-02,\n",
       "       -3.69016109e-02, -4.78987881e-02, -1.78395429e-01,  5.63369148e-02,\n",
       "        4.15310206e-02, -3.90909964e-02,  2.04335912e-01,  9.07098549e-02,\n",
       "        1.78187665e-03,  7.53918216e-02, -1.52384670e-01, -9.34086041e-02,\n",
       "        7.79762351e-03, -2.03283297e-02, -6.44017464e-02,  3.28878337e-02,\n",
       "       -4.24175275e-02,  1.38682448e-01, -8.41018215e-02, -9.57726574e-02,\n",
       "       -5.33575557e-02,  3.06007134e-02,  9.27114838e-02,  7.06363213e-02,\n",
       "       -6.49880289e-02, -1.66743113e-01, -1.45402382e-01, -6.03011145e-02,\n",
       "        9.94532508e-02,  2.22218352e-02, -2.98058528e-02, -1.15662903e-01,\n",
       "       -3.73413777e-01,  9.03185043e-02,  4.49864260e-02, -2.93633151e-02,\n",
       "        8.86856370e-02, -1.25396663e-01,  6.08077785e-02,  2.17777427e-01,\n",
       "        1.48404741e-01, -5.46372696e-02, -2.97422581e-02,  1.21276600e-01,\n",
       "        6.26700382e-02,  1.89433807e-02, -1.35718416e-01, -8.78851310e-02,\n",
       "       -1.39710219e-01,  1.67103418e-01, -4.78723721e-02, -4.84867930e-02,\n",
       "       -1.88859712e-02, -3.67638827e-02,  6.84712305e-03,  8.77291166e-02,\n",
       "       -1.43154981e-03, -5.29708299e-02, -1.89901774e-01, -3.27839292e-02,\n",
       "        1.14955830e-01, -5.03044850e-02,  2.37454289e-02, -6.73383746e-02,\n",
       "        8.39503170e-02,  1.97479341e-02,  6.21369150e-02,  1.47184008e-02,\n",
       "       -1.19007024e-01,  9.97024310e-02, -5.45830945e-03, -1.23415866e-01,\n",
       "       -5.83351939e-02, -1.66939134e-02, -8.08542148e-02, -1.11842064e-01,\n",
       "        8.74963057e-02, -6.86807798e-02, -3.68448906e-02, -1.93517159e-01,\n",
       "       -5.62981544e-03, -6.01189247e-02, -1.17681207e-02, -6.82719258e-02,\n",
       "        2.67617636e-01, -1.72087782e-01, -5.90749401e-02,  1.61218797e-01,\n",
       "        1.48588586e-01,  1.79591577e-01,  2.46907535e-01, -8.28965835e-04,\n",
       "        6.16296412e-02, -3.01746074e-02,  5.35080643e-02,  6.81710789e-02,\n",
       "       -2.13732510e-01,  8.36838981e-02,  2.10380793e-02, -1.81320523e-02,\n",
       "       -8.18043943e-02, -1.05715191e-01, -1.10551783e-01,  1.36484741e-01,\n",
       "       -7.74662238e-04, -2.42720252e-02,  2.07798735e-02, -2.68863731e-02,\n",
       "        3.32325162e-02, -1.28604503e-01,  1.07063151e-01, -3.32695152e-02,\n",
       "        2.57346837e-02,  9.20876970e-03,  1.17616862e-01,  1.25036665e-01,\n",
       "        1.68984646e-04,  8.77051520e-02, -1.32212791e-01, -2.35445249e-01,\n",
       "       -6.54614112e-02, -5.06727372e-02, -5.50908416e-02, -3.87307372e-02,\n",
       "        1.07177610e-03,  4.35532685e-02,  1.41222662e-03, -1.24118125e-01,\n",
       "        1.96111629e-01,  1.41576152e-01, -9.23585667e-02,  3.23449084e-02,\n",
       "        1.00551316e-01,  3.31777304e-02,  3.17364089e-01,  5.31069909e-02,\n",
       "        1.58312192e-01,  7.80174558e-02,  8.83604274e-03,  1.32944336e-02,\n",
       "        2.09959369e-01,  8.84144691e-02, -7.10477914e-02,  5.28805821e-02,\n",
       "       -1.42803531e-03,  5.60979546e-02, -2.48443131e-02, -4.11452413e-02,\n",
       "        1.41397389e-01,  2.13506265e-01,  2.54240583e-02, -5.32042157e-02,\n",
       "       -8.80503163e-03,  1.70843480e-02, -4.47335495e-02,  4.30619715e-02,\n",
       "        1.23388674e-01,  1.70835626e-02,  1.31581223e-02,  1.11894907e-01,\n",
       "       -2.60642627e-02, -5.16045951e-02, -6.42534139e-03,  4.53365284e-02,\n",
       "       -7.70498929e-02,  9.58699887e-02,  1.84496663e-01, -1.12460988e-02,\n",
       "       -1.10151335e-01,  2.33369389e-02,  2.60027016e-02,  1.32932588e-02,\n",
       "        2.06641797e-02, -8.10581961e-03, -8.61971924e-02,  1.53319174e-01,\n",
       "        5.31294020e-02, -1.46426606e-01, -5.44944932e-03, -4.20542208e-02,\n",
       "        8.11942282e-02,  1.22061534e-01, -9.57168203e-02,  1.31326500e-01,\n",
       "       -9.62190362e-02,  6.00121069e-02,  4.18837354e-02,  1.15710027e-01,\n",
       "        1.12134957e-02,  2.49313646e-03,  1.92229248e-01, -3.84306794e-03,\n",
       "       -3.45859653e-02,  8.55811927e-02,  3.20275866e-03, -1.63130805e-01,\n",
       "       -1.41940476e-02, -1.05344503e-02, -1.04595934e-01, -1.40432374e-01,\n",
       "        3.88263209e-02, -7.84962386e-02, -1.85928041e-01, -4.33611373e-02,\n",
       "        8.56710689e-02,  1.84348953e-01,  1.12818019e-01,  4.68771716e-02,\n",
       "        1.43011088e-02, -1.20941469e-01, -7.92793680e-03, -3.36242770e-03,\n",
       "        2.49862721e-02, -1.26387715e-02, -4.49544183e-03,  4.61403386e-02,\n",
       "       -2.35613552e-02, -1.73096358e-01, -3.03544256e-02,  8.75991517e-02,\n",
       "        8.52180179e-03, -4.40737031e-02, -6.18764446e-02,  2.18226913e-02,\n",
       "        2.61948027e-01,  1.39288028e-02, -6.74097697e-02,  7.63673028e-02,\n",
       "       -2.95933993e-01, -1.55509366e-02, -1.81224770e-01, -1.38113744e-01,\n",
       "        1.18696798e-01, -7.52711014e-02, -2.36822831e-02, -8.47657710e-02,\n",
       "        1.85878346e-01,  9.90902377e-02, -1.07260745e-02, -1.84194816e-01,\n",
       "        1.16661668e-01, -9.33120568e-02, -9.47996020e-02,  5.13348431e-02,\n",
       "        2.44576916e-02, -2.17407083e-02, -6.63486364e-02, -1.30861850e-01,\n",
       "        1.11370671e-01,  1.02283672e-01,  1.48712834e-01,  1.19804101e-01,\n",
       "        5.25357546e-02, -1.19011162e-01,  2.83380583e-02,  4.66614890e-02,\n",
       "       -1.35926808e-02, -1.20317173e-01, -1.88122836e-02,  1.68186304e-02,\n",
       "        1.25298209e-01, -6.39338714e-02, -1.86090243e-01, -6.79335194e-02,\n",
       "       -5.50921525e-03, -1.30927630e-01,  8.35883013e-02, -5.40084967e-02,\n",
       "        1.08199937e-01,  6.66949983e-03, -1.41588605e-01, -1.03029158e-02,\n",
       "        1.28359885e-01,  1.27367434e-01,  1.51639484e-01, -9.29477364e-02,\n",
       "        9.51448868e-02, -4.29801203e-02, -1.28261662e-01,  5.81036422e-02,\n",
       "        7.06083612e-02,  1.61104813e-01, -4.77252651e-02,  1.87037434e-01,\n",
       "        9.64291229e-02,  3.73258655e-02, -3.04241134e-02, -1.01183841e-02,\n",
       "       -9.48321121e-02,  1.42983857e-01,  1.90946706e-01,  6.77210040e-03,\n",
       "       -5.54784118e-04, -1.73320013e-01, -4.46122122e-02, -5.48941571e-02,\n",
       "        1.51865358e-01, -1.67357671e-01,  3.97100304e-02, -5.11518321e-03,\n",
       "       -8.39087903e-04,  8.16360275e-02, -5.48424124e-02,  8.61061786e-02,\n",
       "       -9.44171025e-03,  1.26107047e-02,  2.88260153e-02, -2.62789557e-01,\n",
       "       -1.18468685e-01, -2.07193791e-01,  5.90860674e-02,  4.62181934e-02,\n",
       "       -3.78864893e-02,  1.49742552e-01,  5.07569356e-02,  1.61775423e-01,\n",
       "        8.76814512e-02, -1.35506822e-01,  6.94361363e-03, -2.39516844e-02,\n",
       "       -6.87438771e-02, -2.54860207e-01, -7.61998221e-02, -1.18645815e-01,\n",
       "        8.66389583e-02, -2.38656391e-02,  2.81834761e-02, -3.92474907e-02,\n",
       "        2.13461644e-01,  9.79197152e-02, -1.20982106e-01, -6.28193502e-02,\n",
       "        8.26069956e-02, -5.38035244e-02, -2.42924299e-01, -2.76419096e-02,\n",
       "       -1.11978350e-01, -1.65434094e-01,  1.16281225e-01, -5.14635780e-02,\n",
       "        2.34410245e-01,  3.81664439e-02,  6.93779598e-02,  2.77854235e-02,\n",
       "        7.58473263e-02, -6.83205098e-02,  1.00246205e-02,  9.19868354e-02,\n",
       "       -6.60377154e-02, -1.98612585e-02,  6.61771023e-02, -1.33087451e-01,\n",
       "        5.08675344e-02,  8.46840859e-02,  9.97834738e-02,  1.74665304e-01,\n",
       "       -3.66412535e-02, -1.90401066e-01, -2.28768164e-02,  2.91367972e-02])"
      ]
     },
     "execution_count": 14,
     "metadata": {},
     "output_type": "execute_result"
    }
   ],
   "source": [
    "mu, sigma = 0, 0.1 # mean and standard deviation\n",
    "j = np.random.normal(mu, sigma, 1000)\n",
    "j"
   ]
  },
  {
   "cell_type": "code",
   "execution_count": 15,
   "metadata": {},
   "outputs": [
    {
     "data": {
      "text/plain": [
       "(array([  3.,  12.,  67., 183., 298., 267., 117.,  45.,   7.,   1.]),\n",
       " array([-0.37341378, -0.29542604, -0.2174383 , -0.13945056, -0.06146281,\n",
       "         0.01652493,  0.09451267,  0.17250041,  0.25048815,  0.32847589,\n",
       "         0.40646363]),\n",
       " <a list of 10 Patch objects>)"
      ]
     },
     "execution_count": 15,
     "metadata": {},
     "output_type": "execute_result"
    },
    {
     "data": {
      "image/png": "[encoded data removed]",
      "text/plain": [
       "<Figure size 432x288 with 1 Axes>"
      ]
     },
     "metadata": {},
     "output_type": "display_data"
    }
   ],
   "source": [
    "plt.hist(j)"
   ]
  },
  {
   "cell_type": "markdown",
   "metadata": {},
   "source": [
    "#### numpy.random.binomial\n",
    "\n",
    "   This function draws samples from the binomial distribution. It simulates the probability of a \"yes/no\" or \"success/failure\" experiment, hence the prefix \"bi\" in binomial. A popular example is the coin toss where it has only two possible outcomes. function takes three parameters, n, p, s. The n which stands for the number of trials, p is the probability and s is the size or shape. "
   ]
  },
  {
   "cell_type": "code",
   "execution_count": 16,
   "metadata": {
    "scrolled": true
   },
   "outputs": [
    {
     "data": {
      "text/plain": [
       "array([ 4,  7,  7,  7,  3,  5,  6,  5,  6,  3,  6,  5,  4,  4,  4,  6,  8,\n",
       "        5,  5,  6,  4,  3,  5,  5,  5,  7,  4,  4,  3,  4,  4,  6,  3,  5,\n",
       "        4,  6,  2,  5,  7,  6,  2,  4,  3,  4,  2,  6,  6,  6,  5,  4,  4,\n",
       "        5,  4,  6,  5,  7,  6,  4,  7,  4,  6,  2,  4,  4,  3,  6,  6,  3,\n",
       "        3,  6,  8,  5,  7,  4,  5,  6,  4,  8,  4,  5,  7,  7,  5,  4,  4,\n",
       "        4,  5,  7,  3,  4,  7,  5,  4,  5,  7,  5,  4,  4,  5,  2,  5,  7,\n",
       "        4,  5,  2,  3,  5,  5,  6,  5,  5,  3,  7,  5,  5,  5,  4,  4,  7,\n",
       "        7,  4,  3,  4,  2,  6,  5,  2,  6,  2,  8,  2,  5,  5,  6,  6,  6,\n",
       "        6,  5,  4,  5,  4,  4,  5,  5,  5,  6,  5,  3,  4,  5,  5,  4,  6,\n",
       "        3,  8,  2,  7,  4,  6,  5,  7,  4,  5,  6,  4,  7,  5,  5,  7,  3,\n",
       "        7,  4,  2,  3,  8,  3,  6,  2,  3,  6,  5,  4,  5,  4,  5,  5,  3,\n",
       "        6,  8,  4,  9,  3,  5,  5,  6,  4,  5,  6,  4,  7,  7,  5,  5,  4,\n",
       "        5,  9,  3,  4,  4,  5,  5,  7,  6,  6,  4,  4,  6,  4,  4,  2,  7,\n",
       "        1,  3,  5,  4,  6,  5,  7,  5,  2,  7,  2,  6,  6,  4,  6,  4,  6,\n",
       "        2,  6,  4,  3,  4,  6,  6,  7,  4,  6,  5,  4,  7,  5,  6,  7,  7,\n",
       "        6,  6,  3,  4,  6,  6,  8,  2,  4,  5,  7,  5,  4,  4,  4,  6,  6,\n",
       "        7,  4,  4,  7,  4,  3,  4,  8,  4,  7,  4,  5,  7,  6,  6,  4,  6,\n",
       "        2,  4,  2,  4,  8,  5,  4,  5,  5,  5,  5,  5,  4,  5,  6,  4,  7,\n",
       "        6,  9,  6,  4,  6,  1,  4,  6,  7,  4,  4,  8,  5,  6,  6,  4,  4,\n",
       "        4,  3,  7,  5,  3,  4,  7,  3,  7,  3,  3,  6,  4,  8,  7,  4,  5,\n",
       "        6,  8,  5,  4,  6,  3,  6,  6,  4,  4,  4,  6,  6,  7,  5,  5,  7,\n",
       "        3,  9,  8,  4,  4,  7,  4,  5,  8,  4,  3,  5,  3,  5,  5,  5,  8,\n",
       "        5,  5,  4,  4,  5,  5,  5,  4,  7,  7,  4,  5,  4,  6,  5,  6,  5,\n",
       "        7,  5,  6,  3,  5,  3,  4,  4,  6,  5,  5,  8,  3,  5,  8,  3,  5,\n",
       "        5,  6,  6,  4,  3,  4,  3,  5,  6,  5,  5,  5,  3,  6,  5,  6,  5,\n",
       "        4,  5,  5,  6,  4,  7,  2,  3,  2,  6,  6,  4,  7,  4,  2,  8,  8,\n",
       "        3,  5,  3,  5,  6,  6,  8,  4,  7,  4,  6,  5,  5,  7,  7,  5,  3,\n",
       "        4,  3,  3,  5,  8,  4,  7,  5,  4,  8,  6,  8,  4,  7,  5,  4,  5,\n",
       "        4,  6,  3,  4,  0,  7,  3,  5,  5,  7,  5,  7,  7,  5,  8,  4,  5,\n",
       "        7,  5,  7,  4,  2,  5,  6,  8,  5,  4,  2,  4,  4,  8,  3,  6,  4,\n",
       "        1,  3,  7,  5,  5,  7,  4,  3,  5,  4,  9,  4,  5,  4,  5,  3,  5,\n",
       "        5,  9,  8,  4,  4,  4,  5,  5,  5,  6,  4,  4,  7,  2,  5,  5,  7,\n",
       "        3,  5,  7,  4,  5,  4,  7,  4,  5,  5,  6,  2,  4,  6,  2,  6,  4,\n",
       "        4,  4,  3,  5,  4,  5,  5,  3,  6,  2,  6,  5,  4,  8,  6,  5,  3,\n",
       "        4,  4,  5,  4,  3,  2,  4,  6,  5,  5,  5,  3,  7,  6,  4,  4,  4,\n",
       "        7,  3,  6,  5,  5,  4,  6,  6,  2,  5,  4,  5,  1,  7,  4,  2,  3,\n",
       "        7,  6,  5,  3,  3,  3,  3,  3,  3,  4,  5,  6,  5,  6,  4,  5,  5,\n",
       "        5,  6,  6,  5,  4,  4,  5,  7,  6,  5,  4,  8,  5,  6,  6,  5,  7,\n",
       "        4,  8,  2,  3,  4,  1,  4,  4,  4,  6,  4,  7,  4,  7,  6,  6,  8,\n",
       "        5,  4,  5,  4,  7,  5,  5,  4,  7,  4,  7,  5,  9,  8,  3,  7,  4,\n",
       "        5,  3,  7,  6,  4,  5,  6,  7,  7,  4,  5,  2,  4,  4,  6,  7,  7,\n",
       "        4,  6,  5,  6,  3,  7,  7,  5,  7,  2,  4,  5,  7,  7,  5,  5,  7,\n",
       "        6,  7,  6,  7,  3,  7,  3,  5,  4,  4,  5,  6,  3,  5,  4,  4,  3,\n",
       "        7,  3,  4,  3,  4,  6,  7,  3,  6,  5,  5,  8,  5,  8,  7,  6,  5,\n",
       "        3,  3,  3,  8,  4,  5,  8,  6,  5,  3,  3,  4,  4,  6,  4,  6,  5,\n",
       "        5,  5,  3,  7,  4,  4,  8,  6,  3,  3,  8,  6,  6,  3,  6,  4,  6,\n",
       "        5,  5,  7,  2,  5,  4,  6,  4,  5,  2,  7,  4,  8,  6,  5,  6,  5,\n",
       "        4,  6,  6,  6,  4,  5,  7,  8,  7,  7,  7,  5,  6,  8,  1,  7,  3,\n",
       "        6,  8,  5,  4,  8,  4,  3,  4,  8,  6,  3,  7,  2,  4,  7,  3,  4,\n",
       "        4,  8,  5,  3,  7,  6,  4,  6,  3,  6,  3,  5,  4,  2,  7,  4,  3,\n",
       "        5,  5,  3,  6,  5,  3,  5,  5,  5,  8,  4,  5,  5,  5,  4,  5,  5,\n",
       "        5,  5,  5,  6,  5,  8, 10,  6,  4,  2,  8,  5,  4,  6,  9,  4,  5,\n",
       "        4,  7,  3,  3,  7,  7,  7,  7,  4,  2,  6,  3,  5,  3,  3,  7,  6,\n",
       "        6,  6,  5,  4,  2,  5,  6,  7,  4,  6,  3,  5,  5,  7,  4,  3,  7,\n",
       "        5,  6,  4,  7,  3,  6,  8,  4,  3,  5,  7,  5,  9,  6,  6,  3,  6,\n",
       "        6,  5,  6,  5,  2,  5,  4,  5,  6,  5,  5,  4,  8,  7,  5,  4,  3,\n",
       "        6,  7,  5,  8,  6,  5,  2,  8,  5,  4,  5,  6,  2,  4,  5,  6,  4,\n",
       "        8,  2,  4,  6,  7,  8,  5,  3,  6,  6,  3,  4,  7,  6,  6,  6,  3,\n",
       "        7,  5,  5,  5,  4,  6,  4,  7,  6,  6,  4,  6,  7,  6])"
      ]
     },
     "execution_count": 16,
     "metadata": {},
     "output_type": "execute_result"
    }
   ],
   "source": [
    "# this is a simulation of flipping a coin 10 times and the number of \"successful\" result(s),  tested 1000 times\n",
    "\n",
    "n, p = 10, .5  # number of trials, probability of each trial\n",
    "s = np.random.binomial(n, p, 1000)\n",
    "s \n",
    "\n"
   ]
  },
  {
   "cell_type": "code",
   "execution_count": 17,
   "metadata": {},
   "outputs": [
    {
     "data": {
      "text/plain": [
       "(array([  1.,   6.,  46., 112., 226., 241., 176., 127.,  55.,  10.]),\n",
       " array([ 0.,  1.,  2.,  3.,  4.,  5.,  6.,  7.,  8.,  9., 10.]),\n",
       " <a list of 10 Patch objects>)"
      ]
     },
     "execution_count": 17,
     "metadata": {},
     "output_type": "execute_result"
    },
    {
     "data": {
      "image/png": "[encoded data removed]",
      "text/plain": [
       "<Figure size 432x288 with 1 Axes>"
      ]
     },
     "metadata": {},
     "output_type": "display_data"
    }
   ],
   "source": [
    "plt.hist(s)"
   ]
  },
  {
   "cell_type": "markdown",
   "metadata": {},
   "source": [
    "#### numpy.random.poisson \n",
    "\n",
    "   This function draws samples from the poisson distribution. It simulates the probability of an event occuring within an interval of time or space. Although it appears to be similar to the binomial function, it differs where in the poisson experiment, the \"fail\" or \"no\" is not known. This function takes two parameters. The lam or expectation of the interval and the size or shape of the samples. \n",
    "   The poisson distribution is not symmetrical; it is skewed toward the infinity end [4] and it can be applied to many real world events."
   ]
  },
  {
   "cell_type": "code",
   "execution_count": 18,
   "metadata": {
    "scrolled": true
   },
   "outputs": [
    {
     "data": {
      "text/plain": [
       "(array([ 398.,  853., 3097., 1773., 2534.,  668.,  542.,   78.,   50.,\n",
       "           7.]),\n",
       " array([ 0. ,  1.5,  3. ,  4.5,  6. ,  7.5,  9. , 10.5, 12. , 13.5, 15. ]),\n",
       " <a list of 10 Patch objects>)"
      ]
     },
     "execution_count": 18,
     "metadata": {},
     "output_type": "execute_result"
    },
    {
     "data": {
      "image/png": "[encoded data removed]",
      "text/plain": [
       "<Figure size 432x288 with 1 Axes>"
      ]
     },
     "metadata": {},
     "output_type": "display_data"
    }
   ],
   "source": [
    "\n",
    "m = np.random.poisson(5, 10000)\n",
    "m\n",
    "plt.hist(m)"
   ]
  },
  {
   "cell_type": "markdown",
   "metadata": {},
   "source": [
    "#### numpy.random.chisquare\n",
    "    \n",
    "   This function draws samples from the chisquare distribution. This distribution is widely used in inferential statistics such as testing hypothesis. \n",
    "   The numpy.random.chisquare function takes two parameters, df or number of degrees of freedom and the size or shape. \n",
    "    \n",
    "    "
   ]
  },
  {
   "cell_type": "code",
   "execution_count": 19,
   "metadata": {
    "scrolled": true
   },
   "outputs": [
    {
     "data": {
      "text/plain": [
       "array([3.06384491e+00, 1.72165791e-01, 7.70575696e+00, 7.37889823e+00,\n",
       "       1.72432968e+00, 2.49340402e+00, 1.80994543e+00, 1.65412165e-01,\n",
       "       2.77024559e-01, 2.86617979e+00, 2.53835577e+00, 3.89454074e-01,\n",
       "       3.98440001e+00, 5.55214385e+00, 8.22623133e-01, 1.31033825e+00,\n",
       "       5.12731586e+00, 6.97161726e+00, 1.55243506e+00, 2.89659176e+00,\n",
       "       4.00630470e+00, 4.34270102e+00, 1.70153641e+00, 2.37813425e+00,\n",
       "       3.46379915e-01, 6.88338580e-01, 6.37577987e-01, 1.46886385e+00,\n",
       "       4.12791425e-01, 1.16610113e+00, 1.66537452e+00, 2.05616886e+00,\n",
       "       3.64150552e+00, 4.43222028e+00, 1.13498950e+00, 5.26248742e+00,\n",
       "       1.34543348e+00, 3.71687428e-01, 4.19171675e-01, 2.18011789e+00,\n",
       "       5.56476181e-03, 1.13665013e+01, 1.68791851e-01, 2.74553145e+00,\n",
       "       2.24049806e+00, 2.83915249e+00, 6.73399432e-01, 7.88766607e-02,\n",
       "       1.09492534e+00, 3.62718456e+00, 1.21669639e+00, 3.77416029e+00,\n",
       "       3.48009065e-01, 1.88720095e-01, 3.37502163e+00, 3.29435027e+00,\n",
       "       4.31551585e+00, 1.75710426e+00, 3.97232702e-01, 7.66751447e-02,\n",
       "       2.23993124e+00, 2.86430111e+00, 3.08584224e-01, 4.43070644e-01,\n",
       "       1.12776727e+01, 1.47943141e+00, 2.59445796e+00, 2.70544381e+00,\n",
       "       1.50703171e-01, 1.49168917e+00, 5.13530863e+00, 7.11084138e+00,\n",
       "       1.61578796e+00, 2.99405385e-01, 6.91192382e-02, 3.47864194e-01,\n",
       "       8.91460344e-01, 8.18371693e-01, 1.95570791e-01, 1.90887761e+00,\n",
       "       1.36153724e+00, 1.79130365e+00, 4.08011077e+00, 4.78870331e+00,\n",
       "       3.56848169e+00, 4.29933385e-01, 1.24074732e+00, 3.00803509e+00,\n",
       "       1.12491697e+00, 8.93682073e-01, 8.15887913e-02, 9.93523134e-01,\n",
       "       2.69655406e+00, 2.53864254e-01, 3.77442803e-01, 4.31804803e-01,\n",
       "       2.66590691e+00, 2.36924292e+00, 5.61758462e-02, 2.04282547e-01])"
      ]
     },
     "execution_count": 19,
     "metadata": {},
     "output_type": "execute_result"
    }
   ],
   "source": [
    "c = np.random.chisquare(2,100)\n",
    "c\n"
   ]
  },
  {
   "cell_type": "code",
   "execution_count": 20,
   "metadata": {},
   "outputs": [
    {
     "data": {
      "text/plain": [
       "(array([40., 22., 17., 10.,  5.,  0.,  4.,  0.,  0.,  2.]),\n",
       " array([5.56476181e-03, 1.14165841e+00, 2.27775207e+00, 3.41384572e+00,\n",
       "        4.54993937e+00, 5.68603303e+00, 6.82212668e+00, 7.95822033e+00,\n",
       "        9.09431398e+00, 1.02304076e+01, 1.13665013e+01]),\n",
       " <a list of 10 Patch objects>)"
      ]
     },
     "execution_count": 20,
     "metadata": {},
     "output_type": "execute_result"
    },
    {
     "data": {
      "image/png": "[encoded data removed]",
      "text/plain": [
       "<Figure size 432x288 with 1 Axes>"
      ]
     },
     "metadata": {},
     "output_type": "display_data"
    }
   ],
   "source": [
    "plt.hist(c)"
   ]
  },
  {
   "cell_type": "markdown",
   "metadata": {},
   "source": [
    "#### The random seed\n",
    "\n",
    "The random numbers generated by the numpy.random function cannot be considered true random numbers. It is generated through an algorithm that starts with a number or a seed that is set either by the user or the machine itself. Once a seed number is chosen it is subjected to mathematical computation to generate the next number. If the seed number is not reset or changed, the same numbers will be generated again. This is a key reason why it is should not be used for security [1], but is also useful in other functions such as debugging or synchronizing remote systems[5].     "
   ]
  },
  {
   "cell_type": "code",
   "execution_count": 21,
   "metadata": {},
   "outputs": [
    {
     "data": {
      "text/plain": [
       "array([0.18739065, 0.0897468 , 0.43638008, 0.77979095, 0.73589604])"
      ]
     },
     "execution_count": 21,
     "metadata": {},
     "output_type": "execute_result"
    }
   ],
   "source": [
    "# The same command but it shows different outputs since the seed is not set.\n",
    "np.random.rand(5)"
   ]
  },
  {
   "cell_type": "code",
   "execution_count": 22,
   "metadata": {},
   "outputs": [
    {
     "data": {
      "text/plain": [
       "array([0.37512953, 0.04601557, 0.68803582, 0.03114452, 0.16634655])"
      ]
     },
     "execution_count": 22,
     "metadata": {},
     "output_type": "execute_result"
    }
   ],
   "source": [
    "np.random.rand(5)"
   ]
  },
  {
   "cell_type": "code",
   "execution_count": 23,
   "metadata": {},
   "outputs": [
    {
     "data": {
      "text/plain": [
       "array([0.5507979 , 0.70814782, 0.29090474, 0.51082761, 0.89294695])"
      ]
     },
     "execution_count": 23,
     "metadata": {},
     "output_type": "execute_result"
    }
   ],
   "source": [
    "# The same two commands with the seed set has identical output. \n",
    "np.random.seed(3)\n",
    "np.random.rand(5)"
   ]
  },
  {
   "cell_type": "code",
   "execution_count": 24,
   "metadata": {},
   "outputs": [
    {
     "data": {
      "text/plain": [
       "array([0.5507979 , 0.70814782, 0.29090474, 0.51082761, 0.89294695])"
      ]
     },
     "execution_count": 24,
     "metadata": {},
     "output_type": "execute_result"
    }
   ],
   "source": [
    "np.random.seed(3)\n",
    "np.random.rand(5)"
   ]
  },
  {
   "cell_type": "markdown",
   "metadata": {},
   "source": [
    "## References\n",
    "[1] Python Software Foundation.\n",
    "    https://docs.python.org \n",
    "    \n",
    "[2] Wolfram MathWorld.\n",
    "    https://mathworld.wolfram.com\n",
    "   \n",
    "[3] https://stattrek.com\n",
    "\n",
    "[4] University of Massachusetts Amherst.\n",
    "    https://www.umass.edu/wsp/resources/poisson/#binomial\n",
    "\n",
    "[5] Wikipedia. https://en.wikipedia.org/wiki/Random_seed"
   ]
  },
  {
   "cell_type": "code",
   "execution_count": null,
   "metadata": {},
   "outputs": [],
   "source": []
  }
 ],
 "metadata": {
  "kernelspec": {
   "display_name": "Python 3",
   "language": "python",
   "name": "python3"
  },
  "language_info": {
   "codemirror_mode": {
    "name": "ipython",
    "version": 3
   },
   "file_extension": ".py",
   "mimetype": "text/x-python",
   "name": "python",
   "nbconvert_exporter": "python",
   "pygments_lexer": "ipython3",
   "version": "3.6.5"
  }
 },
 "nbformat": 4,
 "nbformat_minor": 2
}
