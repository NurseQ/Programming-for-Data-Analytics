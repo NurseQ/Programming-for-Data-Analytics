{
 "cells": [
  {
   "cell_type": "markdown",
   "metadata": {},
   "source": [
    "# Programming for Data Analytics Assignmet\n",
    "\n",
    "- Explain the overall function of the package.\n",
    "- Explain the overall use of the \"Simple random data\" and \"Permutations\" package.\n",
    "- Explain the use and purpose of at least five \"Distribution\" functions.\n",
    "- Explain the use of seeds in generating peudorandom numbers.\n"
   ]
  },
  {
   "cell_type": "markdown",
   "metadata": {},
   "source": [
    "# The numpy.random package\n",
    "\n",
    "  The overall function of the numpy.random package is to generate arrays of sample values (random data/numbers). This package can generate data probability distributions useful in scientific research. Generating random numbers is important in any simulation. These simulation may follow patterns for certain analyses. Simulation is used to discover relationships between systems. \n",
    "  The numpy.random package is similar with the python random module in that they both use the Mersenne Twister algorithm to generate psuedorandom numbers. The numbers generated are not considered true random numbers and if some key information are obtained, then the numbers can be predicted or reproduced. This is a reason why this type of random nunmber generation cannot be used for security purposes [1]. \n",
    "  \n",
    "  The numpy.random package generate random numbers according to different probabilities across different intervals.\n",
    "\n",
    "### Simple Random Data Package\n",
    "\n",
    "   The simple random data package is a collection of methods or functions to quickly generate random numbers in a given distribution. Some assumptions are set in these functions that affect how the numbers are generated. Some methods perform similar function and output such as random_sample, random, ranf and random. \n",
    "   \n",
    "### Permutations\n",
    "\n",
    "   This package contains two functions, shuffle and permutations. Both are used to change the order of an array but differs where shuffle modifies the contents of an array in-place and permutations return a re-ordered copy of the array. One other difference is when permutation is passed an integer, it will return a shuffled range. Shuffle requires np.arange to output a shuffled range.\n",
    "\n",
    "#### Distribution Functions\n",
    "\n",
    "#### numpy.random.uniform\n",
    "   This function produce random numbers from a uniform distribution. It is sometimes known as a rectangular distribution [2]. The probability of each value to be drawn in the given interval is the same or equal. This function takes three parameters. A lower and higher boundary of the output interval and the size of the distribution. The lower boundary is included in the process whereas the higher boundary is not included and will not be drawn. \n",
    "   \n",
    "#### numpy.random.normal\n",
    "   This function draw random samples from a normal or Gaussian distribution. The normal distribution, described as a bell curve, is important in statistics because it reflects many real-world events[3]. The values or samples are distributed symmetrically, with most clustered around a central peak or mean and the probability for values taper off equally on both sides of the mean. \n",
    "    This function takes three parameters; the loc or the mean of the distribution, the scale or the standard deviation (spread) and the size of the distribution.\n",
    "\n",
    "#### numpy.random.binomial\n",
    "\n",
    "\n",
    "#### numpy.random.poisson\n",
    "\n",
    "#### numpy.random.exponential\n",
    " \n",
    "\n",
    "## References\n",
    "[1] Python Software Foundation.\n",
    "    https://docs.python.org \n",
    "    \n",
    "[2] Wolfram MathWorld.\n",
    "    https://mathworld.wolfram.com\n",
    "   \n",
    "[3] https://stattrek.com\n",
    "\n",
    "[4] University of Massachusetts Amherst.\n",
    "    https://www.umass.edu/wsp/resources/poisson/#binomial"
   ]
  },
  {
   "cell_type": "code",
   "execution_count": null,
   "metadata": {},
   "outputs": [],
   "source": []
  },
  {
   "cell_type": "code",
   "execution_count": 1,
   "metadata": {},
   "outputs": [],
   "source": [
    "import numpy as np"
   ]
  },
  {
   "cell_type": "code",
   "execution_count": null,
   "metadata": {},
   "outputs": [],
   "source": []
  },
  {
   "cell_type": "code",
   "execution_count": null,
   "metadata": {},
   "outputs": [],
   "source": []
  },
  {
   "cell_type": "code",
   "execution_count": 2,
   "metadata": {
    "scrolled": true
   },
   "outputs": [
    {
     "data": {
      "text/plain": [
       "array([5.99237190e-01, 3.23721191e-01, 2.79386734e-01, 2.25255099e-01,\n",
       "       7.70234182e-01, 1.16115155e-01, 1.68898658e-01, 9.45482296e-01,\n",
       "       1.97302310e-01, 9.44256439e-01, 5.00766040e-01, 1.72824613e-01,\n",
       "       6.94872880e-01, 3.95003548e-01, 1.62855647e-01, 6.82089431e-01,\n",
       "       3.60304863e-02, 8.86982101e-01, 7.35444040e-01, 6.70835508e-01,\n",
       "       7.45267338e-01, 7.84067167e-01, 5.39446105e-02, 3.09999701e-01,\n",
       "       4.82911522e-01, 2.95574672e-01, 7.89515798e-01, 8.77841151e-01,\n",
       "       1.28251032e-01, 5.22451697e-01, 7.62022862e-01, 3.57346702e-01,\n",
       "       2.87977658e-01, 8.75303030e-01, 1.73556824e-01, 5.50215458e-01,\n",
       "       6.26704958e-03, 5.48428125e-01, 1.13779647e-01, 3.40900168e-01,\n",
       "       4.63802533e-01, 2.96223304e-01, 8.57731023e-01, 9.77111182e-01,\n",
       "       2.26848179e-01, 6.12668619e-01, 3.84393107e-01, 7.79556920e-01,\n",
       "       8.87992245e-01, 1.46793913e-01, 7.20867880e-01, 6.24737700e-01,\n",
       "       8.95804315e-01, 3.25292483e-01, 9.56565415e-01, 1.87971300e-01,\n",
       "       5.34018164e-01, 6.60887153e-01, 6.02235731e-01, 4.31975038e-01,\n",
       "       5.43502645e-04, 8.46470594e-01, 6.54138871e-01, 5.34976763e-01,\n",
       "       3.34252340e-01, 9.95187275e-01, 3.80693444e-01, 5.31122974e-01,\n",
       "       7.00987246e-01, 4.54851659e-01, 5.86141919e-01, 2.72590657e-01,\n",
       "       3.30302399e-01, 1.89424636e-01, 9.13629046e-01, 3.09781485e-01,\n",
       "       4.79661913e-01, 3.10045364e-01, 1.21549083e-01, 9.29378847e-01,\n",
       "       4.31046071e-01, 5.64151235e-01, 9.55950897e-01, 4.73725615e-01,\n",
       "       6.95744500e-01, 5.42089282e-02, 1.80133958e-01, 8.24973906e-01,\n",
       "       5.26982231e-02, 2.07305335e-01, 4.57687411e-01, 9.74532208e-01,\n",
       "       7.87269068e-01, 8.23350045e-01, 3.36212684e-01, 5.47195288e-01,\n",
       "       7.94350451e-01, 1.86537588e-01, 6.56398205e-01, 8.88020418e-01,\n",
       "       6.21962172e-01, 4.89889522e-01, 4.57351519e-01, 6.76032013e-01,\n",
       "       1.32618107e-01, 2.48975955e-01, 9.15345695e-01, 8.96652662e-01,\n",
       "       4.61523706e-01, 4.93385560e-01, 9.23215953e-01, 5.52960886e-02,\n",
       "       2.93711308e-01, 7.39435975e-01, 1.03683081e-01, 7.28658048e-01,\n",
       "       7.60947250e-01, 5.38690900e-01, 1.71757086e-01, 4.05422051e-01,\n",
       "       3.32698078e-02, 9.09102835e-01, 5.73870465e-01, 3.14675201e-01,\n",
       "       6.84689402e-01, 3.63329863e-01, 8.02244060e-01, 1.18349717e-01,\n",
       "       1.37172226e-01, 1.68567683e-01, 2.74082476e-01, 1.13141765e-01,\n",
       "       3.37102779e-01, 2.89752912e-02, 8.72500590e-02, 6.85860245e-01,\n",
       "       5.83086086e-01, 4.42458261e-02, 6.87293045e-01, 8.66648051e-01,\n",
       "       4.57868697e-01, 4.71117371e-01, 9.65741283e-01, 3.70523595e-01,\n",
       "       3.66812039e-01, 5.78623506e-01, 9.79555037e-02, 8.02282012e-01,\n",
       "       8.10516497e-01, 5.12599785e-01, 8.99708995e-01, 5.74927779e-01,\n",
       "       1.48272928e-01, 8.75717798e-01, 5.94186199e-01, 9.79442309e-01,\n",
       "       3.37127920e-01, 3.86730043e-01, 2.97809633e-02, 8.99328711e-01,\n",
       "       3.29102578e-01, 8.98155437e-01, 9.47644719e-01, 7.56346824e-01,\n",
       "       8.57631690e-01, 4.16158571e-01, 4.50302354e-01, 3.53807248e-01,\n",
       "       3.11912262e-02, 9.12386016e-01, 6.31702191e-01, 1.02096769e-01,\n",
       "       7.74779741e-02, 2.31738962e-02, 5.51256470e-01, 3.47647863e-01,\n",
       "       8.76336589e-01, 1.82848915e-01, 6.29993016e-01, 7.47183208e-01,\n",
       "       5.81451622e-01, 5.39679971e-01, 7.72609664e-01, 7.99742537e-01,\n",
       "       2.99216800e-01, 9.37127357e-01, 6.76163367e-01, 8.06014005e-02,\n",
       "       3.96179553e-01, 3.08593818e-01, 9.70559784e-01, 6.67979983e-01,\n",
       "       4.21981406e-01, 3.84858958e-01, 2.23924522e-01, 3.05151294e-02,\n",
       "       1.97362652e-01, 3.65101852e-02, 1.75015096e-01, 6.77352806e-01,\n",
       "       7.27970277e-01, 2.34249523e-01, 9.93439653e-03, 6.80264743e-01,\n",
       "       8.51475935e-01, 3.94833270e-01, 5.42298239e-01, 5.74518162e-01,\n",
       "       2.63311583e-01, 8.52011161e-01, 3.38209687e-01, 3.95017942e-01,\n",
       "       4.14769362e-01, 5.06564721e-01, 4.31259062e-01, 3.76121156e-01,\n",
       "       8.16035166e-01, 1.02806809e-02, 1.18904185e-02, 3.34858338e-01,\n",
       "       8.17506458e-01, 9.17626982e-02, 9.41363504e-01, 3.10152990e-03,\n",
       "       7.62648471e-01, 1.17668772e-01, 6.63340017e-01, 1.98681731e-01,\n",
       "       8.66583517e-01, 1.81421474e-01, 5.94790853e-02, 8.10849919e-01,\n",
       "       1.52633900e-01, 2.99688745e-01, 6.84230644e-02, 4.49669375e-01,\n",
       "       5.22109057e-01, 8.26797744e-01, 2.05406321e-02, 7.24147222e-01,\n",
       "       7.55772638e-01, 3.81971905e-01, 5.73078977e-01, 6.89731641e-01,\n",
       "       3.51842433e-01, 2.34891818e-01, 9.07661430e-01, 7.48218648e-01,\n",
       "       2.04475809e-01, 9.16607650e-02, 8.67776263e-01, 7.66968890e-01,\n",
       "       1.65366657e-01, 9.82278700e-02, 4.37676386e-01, 4.58156907e-01,\n",
       "       9.92882097e-01, 6.56731294e-01, 6.86311926e-01, 2.11496372e-01,\n",
       "       6.77271876e-01, 9.98398159e-02, 7.88894284e-01, 5.35364399e-01,\n",
       "       4.97773017e-01, 8.74997546e-01, 6.52812940e-01, 7.49336924e-01,\n",
       "       3.29360329e-01, 6.60313955e-02, 9.42869860e-02, 6.46132319e-01,\n",
       "       9.21880049e-01, 8.35163568e-01, 1.09630703e-01, 3.01860145e-01,\n",
       "       5.18512376e-01, 3.62978943e-01, 5.09815293e-01, 5.82159167e-01,\n",
       "       7.77283212e-01, 5.77726832e-01, 4.00846404e-01, 3.84506944e-01,\n",
       "       2.27785444e-01, 6.21391599e-01, 3.18928195e-01, 3.98670799e-01,\n",
       "       1.22244275e-01, 1.35863812e-01, 2.92517115e-01, 2.32715362e-01,\n",
       "       8.43506389e-01, 3.92042085e-01, 6.17305648e-01, 6.55885204e-01,\n",
       "       3.44889002e-01, 9.61293207e-01, 6.53082394e-01, 7.62559844e-01,\n",
       "       2.86196746e-01, 2.29924481e-01, 6.68278042e-01, 9.31899126e-01,\n",
       "       3.07297109e-02, 5.55151146e-01, 9.48717016e-01, 6.13124603e-01,\n",
       "       8.21129709e-01, 8.64321588e-01, 9.33751684e-01, 1.43541978e-01,\n",
       "       6.44050227e-02, 6.32785880e-01, 6.61193447e-01, 9.86446801e-01,\n",
       "       7.63855853e-01, 4.81591874e-01, 5.91770303e-01, 5.33161197e-02,\n",
       "       1.30229727e-01, 5.21726694e-01, 4.28171516e-01, 8.19368008e-01,\n",
       "       5.80110357e-01, 6.00771728e-01, 2.38438353e-01, 2.01846559e-01,\n",
       "       1.57623873e-01, 5.75027704e-01, 4.01039275e-01, 7.09942961e-01,\n",
       "       3.37576255e-01, 2.26718625e-01, 5.47998446e-01, 1.77940959e-01,\n",
       "       5.30715650e-01, 5.17762895e-01, 4.86839058e-02, 5.91055732e-01,\n",
       "       6.64027344e-01, 1.06852124e-01, 8.09352069e-01, 8.67192503e-01,\n",
       "       8.28584726e-01, 7.56787803e-01, 1.32360789e-01, 3.69039669e-01,\n",
       "       9.18526862e-01, 4.19634488e-01, 4.46919668e-01, 4.08510124e-01,\n",
       "       8.10956254e-01, 8.93090430e-01, 8.77680846e-01, 4.69475563e-01,\n",
       "       1.59184670e-01, 8.32064815e-01, 1.82322789e-01, 1.16864397e-01,\n",
       "       5.40702906e-01, 9.97379924e-01, 8.45004172e-02, 2.75022190e-01,\n",
       "       2.50742495e-01, 3.72525130e-01, 6.84731303e-01, 6.91097260e-01,\n",
       "       9.21278213e-01, 3.04885286e-01, 8.97773442e-01, 3.48513783e-01,\n",
       "       4.74713284e-01, 1.37722246e-01, 1.18232661e-01, 2.00914106e-01,\n",
       "       1.07649694e-01, 8.37872223e-01, 2.88339412e-02, 7.91840045e-01,\n",
       "       3.32239817e-02, 2.93420586e-01, 1.00318581e-01, 9.04787740e-01,\n",
       "       9.57292116e-01, 1.98077518e-01, 7.78804253e-01, 1.40920282e-01,\n",
       "       1.43283229e-02, 4.45758693e-01, 5.20690367e-01, 8.77911257e-01,\n",
       "       4.83057038e-02, 1.49589187e-01, 4.17172801e-01, 5.31309805e-03,\n",
       "       3.58648067e-01, 5.76732390e-01, 2.37214682e-01, 7.90188562e-01,\n",
       "       3.16912964e-01, 3.84663467e-02, 9.04389335e-01, 9.41551001e-01,\n",
       "       1.66282030e-01, 2.04894766e-01, 5.65466833e-01, 1.80458744e-01,\n",
       "       8.10296052e-01, 8.22338695e-01, 7.12822714e-01, 9.93968099e-01,\n",
       "       2.81423223e-01, 8.50853776e-01, 4.44390497e-02, 9.93190306e-01,\n",
       "       2.46276988e-01, 2.98489568e-01, 4.79612783e-02, 1.32250732e-01,\n",
       "       1.22186244e-01, 4.05002730e-01, 4.17227536e-01, 3.45709204e-01,\n",
       "       2.64109178e-02, 4.41163452e-01, 5.17115439e-01, 8.55044703e-01,\n",
       "       6.78171073e-01, 9.79152972e-01, 3.16210747e-01, 6.72176805e-02,\n",
       "       9.51762822e-01, 9.14032530e-01, 2.32664337e-01, 7.95247918e-01,\n",
       "       7.51709581e-01, 5.00811129e-01, 7.00504788e-01, 6.54944079e-01,\n",
       "       5.04050927e-01, 4.13511652e-01, 6.31502464e-01, 2.71867205e-01,\n",
       "       8.84349142e-01, 9.09026020e-01, 1.56385684e-01, 8.91371938e-02,\n",
       "       9.84301982e-02, 8.66271562e-02, 6.82448975e-01, 2.29717484e-01,\n",
       "       6.97115284e-01, 2.86994144e-01, 3.03772979e-02, 7.75884156e-01,\n",
       "       8.93733770e-01, 9.20252016e-01, 5.58945366e-01, 9.77023810e-01,\n",
       "       8.27891807e-01, 4.59168774e-01, 1.51994561e-01, 4.18310210e-01,\n",
       "       6.21419892e-01, 4.27580150e-01, 5.13406246e-01, 2.04742675e-01,\n",
       "       2.32476946e-01, 7.33303086e-01, 4.78590895e-01, 7.85363651e-01,\n",
       "       4.86705304e-01, 1.21814115e-01, 5.18742427e-01, 8.85430729e-01,\n",
       "       6.88628549e-01, 3.98432320e-01, 1.17189662e-01, 6.38471429e-01,\n",
       "       1.76443751e-01, 4.37122633e-01, 5.36665731e-01, 7.57881772e-01,\n",
       "       7.87889436e-01, 4.95529495e-01, 4.41209275e-01, 4.84929262e-01,\n",
       "       5.01704285e-01, 8.29797832e-01, 5.99797980e-02, 9.98302515e-01,\n",
       "       6.74251809e-01, 5.08194398e-01, 6.81941775e-01, 7.33180073e-01,\n",
       "       9.15651743e-01, 3.17500711e-01, 3.40665481e-01, 6.21373250e-01,\n",
       "       6.46378576e-01, 2.34348309e-02, 8.18225015e-01, 4.58582352e-01,\n",
       "       1.82851423e-01, 5.42056432e-01, 7.88689414e-01, 9.66665352e-01,\n",
       "       7.05652712e-01, 2.07058665e-01, 8.05388753e-02, 6.08333691e-01,\n",
       "       1.75162803e-01, 6.69422209e-01, 4.06171561e-01, 1.92178739e-01,\n",
       "       7.89217611e-01, 2.55497640e-01, 2.96273844e-01, 1.06850816e-01,\n",
       "       8.23520746e-03, 6.97855895e-01, 8.28457255e-01, 3.88751112e-02,\n",
       "       9.98733640e-01, 5.64517095e-01, 2.59560556e-01, 9.01638177e-01,\n",
       "       2.52381335e-01, 5.97280878e-01, 4.05495535e-01, 8.61989072e-01,\n",
       "       6.53367844e-02, 2.90574519e-02, 9.98341616e-01, 9.38797040e-01,\n",
       "       4.36426021e-01, 6.20828728e-01, 5.23622928e-03, 2.38217155e-01,\n",
       "       8.44890052e-01, 8.30703175e-01, 9.93160201e-01, 6.03332127e-01,\n",
       "       1.18152631e-01, 3.14311871e-01, 3.28631866e-01, 9.36645950e-01,\n",
       "       8.63003498e-01, 9.86091635e-01, 4.42601513e-01, 7.82329267e-01,\n",
       "       3.92657153e-01, 5.76724637e-01, 4.96527130e-01, 8.92700864e-01,\n",
       "       8.91007640e-01, 3.70156759e-01, 4.78079750e-01, 4.25625061e-01,\n",
       "       9.58907252e-01, 6.25314172e-01, 9.44932259e-01, 6.47498469e-01,\n",
       "       7.99492109e-01, 2.58613338e-01, 4.10866620e-01, 5.46309326e-01,\n",
       "       1.20020004e-01, 6.20239412e-01, 1.37522811e-01, 8.19376511e-01,\n",
       "       4.42721283e-01, 2.41547838e-01, 1.58120934e-01, 4.28337426e-01,\n",
       "       1.98318354e-01, 8.89938034e-01, 2.40200574e-01, 5.01412403e-01,\n",
       "       6.42678844e-01, 8.77790871e-02, 6.73669446e-01, 3.51811902e-01,\n",
       "       6.80457748e-01, 8.01499292e-01, 5.82250976e-01, 9.37787109e-01,\n",
       "       5.04865714e-01, 5.51196331e-02, 2.53792206e-01, 6.45735378e-01,\n",
       "       9.60014832e-02, 8.97964382e-01, 2.13641021e-01, 9.68137761e-01,\n",
       "       5.73971792e-01, 3.73744537e-01, 1.03242179e-01, 4.31987505e-02,\n",
       "       4.81157976e-01, 3.62961170e-01, 4.27818003e-01, 6.04155737e-01,\n",
       "       1.78447787e-01, 1.41652239e-01, 3.29756587e-02, 4.24904829e-01,\n",
       "       9.08825208e-01, 9.39353912e-01, 3.19745170e-01, 9.06759966e-01,\n",
       "       7.96584059e-02, 8.46753483e-01, 5.23429348e-01, 7.36376943e-02,\n",
       "       5.64790659e-01, 6.19787362e-01, 4.78500781e-01, 6.49404337e-02,\n",
       "       7.54110620e-01, 3.13713576e-02, 6.22783573e-01, 5.95609270e-01,\n",
       "       7.94885970e-01, 2.00281801e-01, 1.48063356e-01, 2.71216996e-01,\n",
       "       1.58566107e-01, 6.16908670e-01, 7.12760760e-01, 4.53409944e-01,\n",
       "       7.86325760e-02, 9.27152758e-01, 4.38837007e-01, 8.70530508e-01,\n",
       "       5.44516187e-01, 6.07772609e-01, 2.64085253e-01, 4.00742926e-01,\n",
       "       8.19608554e-01, 8.81392122e-01, 7.51671433e-01, 9.54262732e-01,\n",
       "       5.97301873e-01, 5.29649643e-01, 5.13124337e-01, 9.30655491e-01,\n",
       "       1.01504546e-01, 4.61743549e-01, 8.79465007e-01, 5.16855486e-01,\n",
       "       1.07155199e-01, 6.71787915e-01, 6.51854194e-01, 6.72809212e-01,\n",
       "       4.30455467e-01, 3.46102277e-01, 3.07247460e-01, 7.02702755e-01,\n",
       "       4.23305962e-01, 8.75266999e-01, 3.38572732e-01, 5.53550398e-01,\n",
       "       2.44249123e-01, 3.22031882e-01, 7.08427775e-01, 8.86551007e-01,\n",
       "       8.01032303e-01, 4.63653439e-01, 5.51950783e-01, 2.19386787e-02,\n",
       "       7.88733971e-01, 4.90711633e-01, 9.33118978e-01, 1.43340551e-01,\n",
       "       8.87403389e-01, 2.97532947e-01, 5.63683172e-01, 2.76688723e-01,\n",
       "       3.75896714e-01, 7.49377913e-01, 1.70911677e-01, 4.54157339e-01,\n",
       "       8.40869161e-01, 5.56255172e-01, 5.63631767e-01, 1.60353982e-01,\n",
       "       7.78260294e-01, 4.29726895e-01, 5.68586763e-01, 7.46298417e-01,\n",
       "       2.19927862e-01, 5.98519290e-01, 5.25968290e-01, 1.60299410e-01,\n",
       "       7.37991816e-01, 1.69830719e-01, 2.97600460e-01, 5.70153504e-01,\n",
       "       5.01305734e-01, 8.66000090e-01, 1.54421942e-02, 7.35067369e-02,\n",
       "       2.71069187e-02, 7.88983544e-01, 9.73092129e-01, 3.22791459e-01,\n",
       "       7.21920054e-01, 4.91620569e-01, 8.20992515e-01, 9.43435428e-01,\n",
       "       7.92699410e-01, 8.30267125e-01, 2.18490443e-01, 5.26402818e-02,\n",
       "       3.02701271e-01, 6.57667186e-01, 3.66181395e-01, 1.46989017e-02,\n",
       "       5.35414015e-01, 1.71400804e-01, 2.72324238e-01, 2.68519002e-01,\n",
       "       2.83774301e-01, 1.16046189e-01, 7.12734904e-02, 7.71153345e-01,\n",
       "       3.79058075e-01, 8.39548996e-01, 5.13070734e-01, 4.70497601e-01,\n",
       "       5.83497342e-01, 4.22764516e-01, 4.90764236e-01, 8.46669425e-01,\n",
       "       2.75325271e-01, 3.13439444e-01, 8.98896601e-01, 2.12564656e-01,\n",
       "       4.72531732e-01, 2.38167659e-01, 7.14542194e-01, 7.05858455e-01,\n",
       "       9.39228995e-01, 3.43361348e-01, 4.50755507e-01, 6.93366960e-01,\n",
       "       7.87920366e-01, 5.66729862e-01, 7.81732041e-01, 4.65001798e-01,\n",
       "       9.50145328e-01, 7.63091777e-01, 7.79558476e-01, 2.66023160e-01,\n",
       "       9.40206398e-01, 9.99002849e-01, 1.38749288e-01, 8.78729561e-03,\n",
       "       3.05316126e-01, 4.18486056e-01, 6.31827440e-01, 9.60721921e-01,\n",
       "       9.45060436e-01, 4.63440854e-01, 9.98869121e-02, 8.08419235e-02,\n",
       "       9.45927371e-01, 5.24942299e-01, 7.22006351e-01, 1.32031917e-01,\n",
       "       8.51724810e-01, 8.55580782e-01, 3.51614302e-01, 3.00109001e-01,\n",
       "       4.63754830e-01, 8.73933674e-01, 3.25419512e-02, 8.87398009e-01,\n",
       "       7.25179108e-01, 7.73612247e-01, 7.61651394e-01, 6.55190408e-01,\n",
       "       6.12183000e-01, 3.25325682e-01, 5.19265965e-01, 8.16372912e-01,\n",
       "       6.33417109e-01, 5.77412892e-02, 3.76964883e-01, 1.77280373e-01,\n",
       "       8.93161882e-01, 6.61036453e-01, 8.88190951e-01, 5.46179614e-01,\n",
       "       3.40780256e-01, 9.97278031e-01, 6.57172003e-01, 9.08453842e-01,\n",
       "       9.31357392e-01, 1.24738354e-01, 2.16453759e-01, 9.06575684e-01,\n",
       "       7.41235778e-01, 2.42498765e-01, 4.60370775e-01, 4.70557633e-01,\n",
       "       7.75976232e-01, 5.29080335e-01, 4.34068647e-01, 9.23845512e-01,\n",
       "       9.26800533e-01, 1.83434782e-02, 5.30405676e-01, 4.54711002e-01,\n",
       "       8.21144070e-01, 2.51573232e-01, 8.46489155e-01, 8.12906886e-01,\n",
       "       5.38346004e-01, 8.96086798e-01, 8.13553098e-01, 8.24634559e-01,\n",
       "       2.55081233e-01, 2.19615752e-02, 8.81028507e-01, 4.31776855e-01,\n",
       "       9.64971222e-01, 1.94595324e-01, 1.80307676e-01, 5.09389562e-02,\n",
       "       5.38886475e-01, 5.69481084e-01, 7.39094622e-01, 7.09488834e-01,\n",
       "       8.49646191e-01, 7.03305975e-01, 6.48023832e-01, 4.10531781e-01,\n",
       "       4.79538100e-01, 3.41175545e-01, 8.22528887e-01, 4.62659856e-01,\n",
       "       5.61069642e-01, 7.93567626e-01, 8.45433024e-01, 4.55156823e-01,\n",
       "       7.70784684e-01, 3.43417609e-01, 2.84821540e-01, 2.68146778e-01,\n",
       "       2.08332898e-01, 8.20946864e-01, 2.11617560e-01, 2.58580438e-01,\n",
       "       7.68980552e-01, 5.67709478e-01, 5.70318750e-01, 3.82391666e-01,\n",
       "       3.82008383e-01, 2.32893686e-02, 8.01939873e-01, 2.38514290e-01,\n",
       "       4.81628004e-01, 3.52197472e-01, 8.54580028e-02, 9.24831531e-01,\n",
       "       4.88299846e-01, 8.25535423e-01, 5.65387902e-01, 4.22158135e-01,\n",
       "       8.09797196e-01, 7.56163120e-01, 6.98337118e-01, 3.16198801e-01,\n",
       "       6.65698401e-01, 2.25247236e-01, 2.28980248e-01, 1.33230567e-02,\n",
       "       3.67901168e-01, 1.61935750e-01, 6.59843978e-01, 7.30111176e-01,\n",
       "       6.82110907e-01, 4.36704973e-01, 3.73897850e-01, 5.77978437e-01,\n",
       "       7.18666450e-01, 6.76504650e-01, 9.81945133e-01, 2.05863785e-01,\n",
       "       1.51698176e-01, 8.88664504e-01, 9.10932967e-01, 6.65094857e-01,\n",
       "       8.39672763e-01, 4.56358638e-01, 7.11746334e-01, 6.93824205e-01,\n",
       "       1.33442035e-01, 2.78263764e-01, 7.93159965e-01, 9.38709977e-01,\n",
       "       8.05286553e-01, 2.69445000e-01, 7.70518788e-01, 4.59980602e-01,\n",
       "       7.76471442e-01, 5.15906314e-01, 5.63870016e-01, 1.73592447e-01,\n",
       "       5.55576329e-01, 2.55486833e-01, 8.81077994e-01, 9.10398753e-03,\n",
       "       6.83023195e-01, 3.94129832e-01, 6.69242498e-01, 7.25657651e-01,\n",
       "       6.10485549e-01, 4.55939145e-01, 1.51629198e-01, 4.57941385e-01,\n",
       "       9.79559318e-01, 4.74495369e-01, 5.97502100e-01, 5.01280184e-01,\n",
       "       1.75148223e-01, 9.62488565e-01, 4.61863668e-01, 8.25572444e-01,\n",
       "       9.79766893e-01, 7.23774850e-01, 6.91447142e-02, 3.91861242e-02,\n",
       "       2.22483674e-02, 5.62181714e-01, 6.90899000e-01, 1.91879167e-01,\n",
       "       8.01453822e-01, 8.94138856e-01, 3.15575026e-01, 6.47359303e-01,\n",
       "       6.79478274e-01, 9.20907806e-01, 9.59513479e-01, 8.92771755e-01,\n",
       "       3.72253370e-01, 5.96580061e-01, 2.54534057e-01, 5.94320969e-02,\n",
       "       2.99155766e-01, 1.24956086e-01, 8.80652340e-01, 8.50460244e-01,\n",
       "       7.50801079e-01, 9.49503907e-01, 4.99210260e-01, 7.00896332e-01,\n",
       "       5.56422620e-02, 2.90214715e-01, 6.92917012e-01, 1.43549389e-02,\n",
       "       7.93965046e-01, 2.46671241e-01, 3.82395732e-01, 2.15409787e-01,\n",
       "       4.55569028e-01, 1.20297684e-01, 6.65240676e-01, 7.90293356e-01,\n",
       "       2.81915163e-01, 8.67995654e-02, 3.14277961e-01, 3.81052924e-01,\n",
       "       3.04591303e-01, 6.02782023e-01, 1.93144711e-01, 6.33818919e-01,\n",
       "       4.09860400e-01, 9.88141836e-01, 8.32769229e-01, 1.62732374e-01,\n",
       "       2.13776674e-01, 8.30190863e-02, 3.71290147e-01, 2.32057076e-01,\n",
       "       5.90674206e-01, 9.01043985e-01, 3.10411445e-01, 5.60727974e-01,\n",
       "       2.84002498e-01, 8.83587276e-01, 5.65258025e-01, 3.60978371e-01,\n",
       "       6.15465522e-01, 4.75560417e-01, 4.71418297e-01, 1.64118392e-01])"
      ]
     },
     "execution_count": 2,
     "metadata": {},
     "output_type": "execute_result"
    }
   ],
   "source": [
    "x = np.random.rand(1000)\n",
    "x"
   ]
  },
  {
   "cell_type": "code",
   "execution_count": 3,
   "metadata": {},
   "outputs": [
    {
     "data": {
      "text/plain": [
       "(array([ 97.,  99.,  94.,  96., 107., 107.,  99.,  93., 115.,  93.]),\n",
       " array([5.43502645e-04, 1.00389437e-01, 2.00235372e-01, 3.00081306e-01,\n",
       "        3.99927241e-01, 4.99773176e-01, 5.99619110e-01, 6.99465045e-01,\n",
       "        7.99310979e-01, 8.99156914e-01, 9.99002849e-01]),\n",
       " <a list of 10 Patch objects>)"
      ]
     },
     "execution_count": 3,
     "metadata": {},
     "output_type": "execute_result"
    }
   ],
   "source": [
    "import matplotlib.pyplot as plt\n",
    "\n",
    "\n",
    "plt.hist(x)"
   ]
  },
  {
   "cell_type": "code",
   "execution_count": 4,
   "metadata": {},
   "outputs": [
    {
     "data": {
      "text/plain": [
       "(array([ 14.,  54., 100., 195., 211., 195., 131.,  70.,  24.,   6.]),\n",
       " array([0.34482787, 0.90516964, 1.46551142, 2.0258532 , 2.58619497,\n",
       "        3.14653675, 3.70687853, 4.2672203 , 4.82756208, 5.38790386,\n",
       "        5.94824564]),\n",
       " <a list of 10 Patch objects>)"
      ]
     },
     "execution_count": 4,
     "metadata": {},
     "output_type": "execute_result"
    },
    {
     "data": {
      "image/png": "[encoded data removed]",
      "text/plain": [
       "<Figure size 432x288 with 1 Axes>"
      ]
     },
     "metadata": {},
     "output_type": "display_data"
    }
   ],
   "source": [
    "z = np.random.randn(1000) + 3\n",
    "plt.hist(z)"
   ]
  },
  {
   "cell_type": "code",
   "execution_count": 5,
   "metadata": {},
   "outputs": [
    {
     "data": {
      "text/plain": [
       "(array([112.,  90., 108.,  89.,  91., 118.,  97., 103., 101.,  91.]),\n",
       " array([ 1. , 10.8, 20.6, 30.4, 40.2, 50. , 59.8, 69.6, 79.4, 89.2, 99. ]),\n",
       " <a list of 10 Patch objects>)"
      ]
     },
     "execution_count": 5,
     "metadata": {},
     "output_type": "execute_result"
    },
    {
     "data": {
      "image/png": "[encoded data removed]",
      "text/plain": [
       "<Figure size 432x288 with 1 Axes>"
      ]
     },
     "metadata": {},
     "output_type": "display_data"
    }
   ],
   "source": [
    "y = np.random.randint(1,100, size = 1000)\n",
    "plt.hist (y)"
   ]
  },
  {
   "cell_type": "code",
   "execution_count": 6,
   "metadata": {},
   "outputs": [
    {
     "data": {
      "text/plain": [
       "array([83, 39,  6, 56, 26, 61, 67,  3, 11, 74, 91, 25, 29, 51, 56, 49, 73,\n",
       "       96, 62, 82, 24, 67, 14, 26, 57, 85, 56, 12, 47, 41, 55, 95, 85, 91,\n",
       "       65, 57, 40, 82, 75, 37, 83, 47, 30, 71, 44, 64, 75, 49, 14, 68, 89,\n",
       "       38, 82, 67, 15, 62, 65, 88, 56, 74, 49, 54, 73, 68, 23, 35, 59, 95,\n",
       "       62, 96, 67,  5, 88,  7, 93, 31,  9,  9,  7, 41, 30, 47, 73, 67, 97,\n",
       "       32,  7, 92, 79, 87, 43, 52, 80, 82, 32, 56, 48,  7, 53, 91, 12,  8,\n",
       "       58, 47,  1, 41, 36, 39, 82, 49, 33, 79, 79, 14, 95, 95, 23, 33, 88,\n",
       "       81, 84, 40, 78, 64,  6, 58,  3, 43, 22,  5, 18, 11, 48, 74, 50, 70,\n",
       "       33, 46, 86, 16, 23, 71, 69, 84, 47,  6, 65, 68, 47, 26, 72, 73,  6,\n",
       "       40, 40, 29, 55, 12, 79, 44, 99, 68, 84, 22, 62, 36, 32, 84, 99, 37,\n",
       "       82, 56, 24, 28, 70, 72, 26,  2, 85, 63, 37, 47, 41, 61, 35, 81, 31,\n",
       "        4, 40, 73, 42, 96, 98, 52, 55,  7, 51, 22, 47, 68, 62, 61, 46, 53,\n",
       "       64, 80, 59, 36, 94, 96, 48, 54, 89, 63, 94, 54, 51,  7, 43, 88, 63,\n",
       "       53, 32, 23, 37, 76, 29, 92, 70, 12, 75, 79, 15,  1,  7, 42, 52, 52,\n",
       "       58, 20, 79, 74, 89, 90, 84, 13, 60, 63, 53, 32, 56, 28, 81,  2, 44,\n",
       "       50, 56, 48, 54,  3, 43, 43, 34, 30, 29,  2,  6, 33, 38, 78, 54, 96,\n",
       "       29, 59, 13, 36, 69,  5, 60, 11, 74, 42, 14, 93, 89, 88, 26, 48, 53,\n",
       "       94, 41, 90, 83, 40, 83, 53, 22, 86, 57, 83, 21, 88, 61, 66, 34, 67,\n",
       "       54, 85, 86, 79,  9, 54, 37, 25, 52,  6, 74, 18, 22, 31, 49, 19, 48,\n",
       "       66, 88, 37,  8, 12, 54, 13, 99, 12, 62, 55, 30, 95, 86, 72, 13, 32,\n",
       "       59, 95, 20, 66, 88, 44, 96, 49, 13, 15, 76, 84, 28, 10, 87,  5, 95,\n",
       "        9, 36, 49,  5, 21, 12, 33, 42,  8, 14,  2, 12, 95, 85, 60, 14, 55,\n",
       "       52, 29, 60, 64, 54, 23,  2, 93, 33, 59, 84, 48, 62, 62, 86, 29, 24,\n",
       "        8, 37, 14, 73, 73, 22, 53, 48, 49, 30,  3, 66, 73, 23,  7, 53, 94,\n",
       "       71, 80, 97, 22, 53, 81, 98,  9,  2,  3,  5, 53, 66, 67, 94, 46, 84,\n",
       "       26, 19, 98, 27, 90, 52, 79, 67, 35, 54, 43, 82, 74, 65, 80, 71, 98,\n",
       "       68, 70, 88, 65, 22, 20, 26, 67, 74, 54, 75, 10, 49, 78, 53, 56,  7,\n",
       "       62, 76, 61, 86,  5, 39, 54, 82, 10, 16, 67, 18, 47, 47, 73, 72, 77,\n",
       "       42, 82, 55,  6, 42, 24, 50, 24, 16, 32,  2, 19, 92, 29, 16, 19, 83,\n",
       "       47, 17, 99,  7, 99, 19, 79,  5,  4, 19, 64, 74, 89, 11, 70, 42, 24,\n",
       "       43, 26,  7, 56, 40, 33,  2, 14, 59,  1, 76, 74, 97, 10, 99, 28, 49,\n",
       "       21, 74, 11, 88, 94,  7, 30, 83, 50, 22, 81, 37, 51, 28, 94,  7,  1,\n",
       "       19, 37, 10, 33, 72, 54, 50, 47,  2, 67, 26, 94,  7, 89, 25, 48,  3,\n",
       "        1,  1, 22, 92, 56, 37, 99,  5, 50, 28, 33, 43, 81,  5, 24, 30,  5,\n",
       "       78, 49, 79, 88, 89,  1, 53,  2, 52, 87, 58, 95, 80, 11, 54, 62, 70,\n",
       "       67, 49,  2, 36, 90, 69, 95, 65, 55, 30, 97, 85, 40, 85, 87, 88, 28,\n",
       "        7, 65, 12, 99, 50, 87, 62,  9, 20, 90, 92, 26,  8, 71, 28, 59, 26,\n",
       "       56, 66, 14, 33, 81,  6, 96, 32, 67, 69, 63,  9, 12, 97, 85, 58, 71,\n",
       "       70, 80, 85, 27, 11, 38, 12, 17, 98, 41,  8,  9, 99, 83, 71, 94, 24,\n",
       "        4, 75, 87, 88, 51, 67, 78,  3, 34, 52, 27, 96, 81,  8, 52, 16, 67,\n",
       "       71, 25, 26, 51, 66, 16, 97, 79, 58, 62, 78, 14, 64, 32, 87, 62,  9,\n",
       "       44, 76, 39, 96, 59, 20, 11, 19, 78, 39, 38, 13, 53, 13, 90, 61, 70,\n",
       "       28, 76,  6,  6, 66,  7, 12, 71, 24, 40, 60, 48, 36, 58, 34, 48, 45,\n",
       "       60, 68, 54, 32, 21, 15, 98, 32, 76,  5, 14, 15, 36, 42, 53, 69, 90,\n",
       "       11, 46, 38, 91, 53, 88, 80, 33, 30, 98, 76, 74, 71, 49, 15, 41, 50,\n",
       "       28, 76, 10, 60, 51, 25,  6, 26, 56, 70, 17,  5, 68, 20,  4, 44, 39,\n",
       "       88, 75, 62, 54, 43, 12, 23, 50, 12, 25, 65, 30, 59, 22, 94, 45, 87,\n",
       "       20, 57, 54, 59, 44, 39,  8, 54,  2, 24, 22, 90, 69, 70, 43, 62, 40,\n",
       "       29, 63, 32, 96, 86, 91, 73, 77, 87, 15, 20, 98, 98,  9, 52, 49, 39,\n",
       "       91, 25, 29, 79, 59, 81, 99,  3, 21, 76, 32, 22, 92, 58, 62, 12, 72,\n",
       "        8, 16, 51, 27, 29, 26, 28, 71, 67,  9, 29, 72, 12, 85,  2, 49, 14,\n",
       "       98,  1, 29, 61, 14, 53, 58, 27, 49, 35, 28,  6, 51, 57, 87, 36, 23,\n",
       "       96, 40, 94, 17, 22, 34, 43, 34, 97, 28, 52, 36, 12,  5, 49, 85, 12,\n",
       "       17, 19, 39, 38, 69, 51, 91, 32, 54, 91, 14,  5, 25, 10, 41, 94,  1,\n",
       "       63, 58, 21, 71, 78, 64,  9, 40, 54, 30, 85,  7, 88, 22, 33, 86, 13,\n",
       "       77, 60,  8, 74, 10, 48, 82, 41, 43, 71, 70, 95, 74, 21, 73, 89, 69,\n",
       "       24, 51, 92, 89,  5, 90, 39, 41, 70, 52, 60,  2, 75, 85, 38, 27, 10,\n",
       "       76, 76, 99, 69, 29, 56, 28, 48, 86, 67, 47, 68, 95, 79, 42, 10, 45,\n",
       "       71, 57, 79, 12, 32, 92, 44, 70, 12, 89, 49, 49, 51, 88])"
      ]
     },
     "execution_count": 6,
     "metadata": {},
     "output_type": "execute_result"
    }
   ],
   "source": [
    "y"
   ]
  },
  {
   "cell_type": "code",
   "execution_count": 7,
   "metadata": {},
   "outputs": [
    {
     "data": {
      "text/plain": [
       "array([1., 1., 1., 1., 1., 1., 1., 1., 1., 1., 1., 1., 1., 1., 1., 1., 1.,\n",
       "       1., 1., 1., 1., 1., 1., 1., 1., 1., 1., 1., 1., 1., 1., 1., 1., 1.,\n",
       "       1., 1., 1., 1., 1., 1., 1., 1., 1., 1., 1., 1., 1., 1., 1., 1., 1.,\n",
       "       1., 1., 1., 1., 1., 1., 1., 1., 1., 1., 1., 1., 1., 1., 1., 1., 1.,\n",
       "       1., 1., 1., 1., 1., 1., 1., 1., 1., 1., 1., 1., 1., 1., 1., 1., 1.,\n",
       "       1., 1., 1., 1., 1., 1., 1., 1., 1., 1., 1., 1., 1., 1., 1., 1., 1.,\n",
       "       1., 1., 1., 1., 1., 1., 1., 1., 1., 1., 1., 1., 1., 1., 1., 1., 1.,\n",
       "       1., 1., 1., 1., 1., 1., 1., 1., 1., 1., 1., 1., 1., 1., 1., 1., 1.,\n",
       "       1., 1., 1., 1., 1., 1., 1., 1., 1., 1., 1., 1., 1., 1., 1., 1., 1.,\n",
       "       1., 1., 1., 1., 1., 1., 1., 1., 1., 1., 1., 1., 1., 1., 1., 1., 1.,\n",
       "       1., 1., 1., 1., 1., 1., 1., 1., 1., 1., 1., 1., 1., 1., 1., 1., 1.,\n",
       "       1., 1., 1., 1., 1., 1., 1., 1., 1., 1., 1., 1., 1., 1., 1., 1., 1.,\n",
       "       1., 1., 1., 1., 1., 1., 1., 1., 1., 1., 1., 1., 1., 1., 1., 1., 1.,\n",
       "       1., 1., 1., 1., 1., 1., 1., 1., 1., 1., 1., 1., 1., 1., 1., 1., 1.,\n",
       "       1., 1., 1., 1., 1., 1., 1., 1., 1., 1., 1., 1., 1., 1., 1., 1., 1.,\n",
       "       1., 1., 1., 1., 1., 1., 1., 1., 1., 1., 1., 1., 1., 1., 1., 1., 1.,\n",
       "       1., 1., 1., 1., 1., 1., 1., 1., 1., 1., 1., 1., 1., 1., 1., 1., 1.,\n",
       "       1., 1., 1., 1., 1., 1., 1., 1., 1., 1., 1., 1., 1., 1., 1., 1., 1.,\n",
       "       1., 1., 1., 1., 1., 1., 1., 1., 1., 1., 1., 1., 1., 1., 1., 1., 1.,\n",
       "       1., 1., 1., 1., 1., 1., 1., 1., 1., 1., 1., 1., 1., 1., 1., 1., 1.,\n",
       "       1., 1., 1., 1., 1., 1., 1., 1., 1., 1., 1., 1., 1., 1., 1., 1., 1.,\n",
       "       1., 1., 1., 1., 1., 1., 1., 1., 1., 1., 1., 1., 1., 1., 1., 1., 1.,\n",
       "       1., 1., 1., 1., 1., 1., 1., 1., 1., 1., 1., 1., 1., 1., 1., 1., 1.,\n",
       "       1., 1., 1., 1., 1., 1., 1., 1., 1., 1., 1., 1., 1., 1., 1., 1., 1.,\n",
       "       1., 1., 1., 1., 1., 1., 1., 1., 1., 1., 1., 1., 1., 1., 1., 1., 1.,\n",
       "       1., 1., 1., 1., 1., 1., 1., 1., 1., 1., 1., 1., 1., 1., 1., 1., 1.,\n",
       "       1., 1., 1., 1., 1., 1., 1., 1., 1., 1., 1., 1., 1., 1., 1., 1., 1.,\n",
       "       1., 1., 1., 1., 1., 1., 1., 1., 1., 1., 1., 1., 1., 1., 1., 1., 1.,\n",
       "       1., 1., 1., 1., 1., 1., 1., 1., 1., 1., 1., 1., 1., 1., 1., 1., 1.,\n",
       "       1., 1., 1., 1., 1., 1., 1., 1., 1., 1., 1., 1., 1., 1., 1., 1., 1.,\n",
       "       1., 1., 1., 1., 1., 1., 1., 1., 1., 1., 1., 1., 1., 1., 1., 1., 1.,\n",
       "       1., 1., 1., 1., 1., 1., 1., 1., 1., 1., 1., 1., 1., 1., 1., 1., 1.,\n",
       "       1., 1., 1., 1., 1., 1., 1., 1., 1., 1., 1., 1., 1., 1., 1., 1., 1.,\n",
       "       1., 1., 1., 1., 1., 1., 1., 1., 1., 1., 1., 1., 1., 1., 1., 1., 1.,\n",
       "       1., 1., 1., 1., 1., 1., 1., 1., 1., 1., 1., 1., 1., 1., 1., 1., 1.,\n",
       "       1., 1., 1., 1., 1., 1., 1., 1., 1., 1., 1., 1., 1., 1., 1., 1., 1.,\n",
       "       1., 1., 1., 1., 1., 1., 1., 1., 1., 1., 1., 1., 1., 1., 1., 1., 1.,\n",
       "       1., 1., 1., 1., 1., 1., 1., 1., 1., 1., 1., 1., 1., 1., 1., 1., 1.,\n",
       "       1., 1., 1., 1., 1., 1., 1., 1., 1., 1., 1., 1., 1., 1., 1., 1., 1.,\n",
       "       1., 1., 1., 1., 1., 1., 1., 1., 1., 1., 1., 1., 1., 1., 1., 1., 1.,\n",
       "       1., 1., 1., 1., 1., 1., 1., 1., 1., 1., 1., 1., 1., 1., 1., 1., 1.,\n",
       "       1., 1., 1., 1., 1., 1., 1., 1., 1., 1., 1., 1., 1., 1., 1., 1., 1.,\n",
       "       1., 1., 1., 1., 1., 1., 1., 1., 1., 1., 1., 1., 1., 1., 1., 1., 1.,\n",
       "       1., 1., 1., 1., 1., 1., 1., 1., 1., 1., 1., 1., 1., 1., 1., 1., 1.,\n",
       "       1., 1., 1., 1., 1., 1., 1., 1., 1., 1., 1., 1., 1., 1., 1., 1., 1.,\n",
       "       1., 1., 1., 1., 1., 1., 1., 1., 1., 1., 1., 1., 1., 1., 1., 1., 1.,\n",
       "       1., 1., 1., 1., 1., 1., 1., 1., 1., 1., 1., 1., 1., 1., 1., 1., 1.,\n",
       "       1., 1., 1., 1., 1., 1., 1., 1., 1., 1., 1., 1., 1., 1., 1., 1., 1.,\n",
       "       1., 1., 1., 1., 1., 1., 1., 1., 1., 1., 1., 1., 1., 1., 1., 1., 1.,\n",
       "       1., 1., 1., 1., 1., 1., 1., 1., 1., 1., 1., 1., 1., 1., 1., 1., 1.,\n",
       "       1., 1., 1., 1., 1., 1., 1., 1., 1., 1., 1., 1., 1., 1., 1., 1., 1.,\n",
       "       1., 1., 1., 1., 1., 1., 1., 1., 1., 1., 1., 1., 1., 1., 1., 1., 1.,\n",
       "       1., 1., 1., 1., 1., 1., 1., 1., 1., 1., 1., 1., 1., 1., 1., 1., 1.,\n",
       "       1., 1., 1., 1., 1., 1., 1., 1., 1., 1., 1., 1., 1., 1., 1., 1., 1.,\n",
       "       1., 1., 1., 1., 1., 1., 1., 1., 1., 1., 1., 1., 1., 1., 1., 1., 1.,\n",
       "       1., 1., 1., 1., 1., 1., 1., 1., 1., 1., 1., 1., 1., 1., 1., 1., 1.,\n",
       "       1., 1., 1., 1., 1., 1., 1., 1., 1., 1., 1., 1., 1., 1., 1., 1., 1.,\n",
       "       1., 1., 1., 1., 1., 1., 1., 1., 1., 1., 1., 1., 1., 1., 1., 1., 1.,\n",
       "       1., 1., 1., 1., 1., 1., 1., 1., 1., 1., 1., 1., 1., 1.])"
      ]
     },
     "execution_count": 7,
     "metadata": {},
     "output_type": "execute_result"
    }
   ],
   "source": [
    "np.random.uniform(1, size=1000)"
   ]
  },
  {
   "cell_type": "code",
   "execution_count": 8,
   "metadata": {},
   "outputs": [
    {
     "data": {
      "text/plain": [
       "array([1, 8, 0, 6, 2, 7, 3, 4, 5, 9])"
      ]
     },
     "execution_count": 8,
     "metadata": {},
     "output_type": "execute_result"
    }
   ],
   "source": [
    "np.random.permutation(10)\n"
   ]
  },
  {
   "cell_type": "code",
   "execution_count": 9,
   "metadata": {},
   "outputs": [
    {
     "data": {
      "text/plain": [
       "2"
      ]
     },
     "execution_count": 9,
     "metadata": {},
     "output_type": "execute_result"
    }
   ],
   "source": [
    "np.random.randint(1,10)"
   ]
  },
  {
   "cell_type": "code",
   "execution_count": 10,
   "metadata": {},
   "outputs": [
    {
     "data": {
      "text/plain": [
       "array([0, 1, 2, 3, 4, 5, 6, 7, 8])"
      ]
     },
     "execution_count": 10,
     "metadata": {},
     "output_type": "execute_result"
    }
   ],
   "source": [
    "arr = np.arange(9)\n",
    "arr\n"
   ]
  },
  {
   "cell_type": "code",
   "execution_count": 11,
   "metadata": {},
   "outputs": [
    {
     "data": {
      "text/plain": [
       "array([[0, 1, 2],\n",
       "       [3, 4, 5],\n",
       "       [6, 7, 8]])"
      ]
     },
     "execution_count": 11,
     "metadata": {},
     "output_type": "execute_result"
    }
   ],
   "source": [
    "x = np.reshape(arr, (3,3))\n",
    "x\n"
   ]
  },
  {
   "cell_type": "code",
   "execution_count": null,
   "metadata": {},
   "outputs": [],
   "source": []
  },
  {
   "cell_type": "code",
   "execution_count": 12,
   "metadata": {},
   "outputs": [
    {
     "data": {
      "text/plain": [
       "array([[0, 1, 2],\n",
       "       [6, 7, 8],\n",
       "       [3, 4, 5]])"
      ]
     },
     "execution_count": 12,
     "metadata": {},
     "output_type": "execute_result"
    }
   ],
   "source": [
    "arr2 = np.random.permutation(x)\n",
    "arr2"
   ]
  },
  {
   "cell_type": "markdown",
   "metadata": {},
   "source": [
    "#### numpy.random.binomial\n",
    "\n",
    "   This function draws samples from the binomial distribution. It simulates the probability of a \"yes/no\" or \"success/failure\" experiment, hence the prefix \"bi\" in binomial. A popular example is the coin toss where it has only two possible outcomes. function takes three parameters, n, p, s. The n which stands for the number of trials, p is the probability and s is the size or shape. "
   ]
  },
  {
   "cell_type": "code",
   "execution_count": 13,
   "metadata": {
    "scrolled": true
   },
   "outputs": [
    {
     "data": {
      "text/plain": [
       "array([ 4,  5,  5,  2,  3,  5,  4,  7,  5,  4,  3,  7,  4,  5,  2,  6,  2,\n",
       "        4,  6,  4,  5,  7,  5,  6,  2,  3,  5,  6,  7,  5,  5,  4,  6,  8,\n",
       "        6,  5,  4,  6,  5,  4,  6,  3,  5,  7,  4,  4,  6,  8,  5,  4,  6,\n",
       "        3,  8,  6,  4,  6,  5,  3,  6,  3,  6,  6,  8,  5,  3,  5,  3,  3,\n",
       "        5,  4,  5,  7,  6,  3,  5,  4,  4,  7,  5,  5,  5,  3,  8,  6,  2,\n",
       "        6,  6,  7,  5,  2,  5,  5,  6,  8,  7,  7,  5,  4,  5,  4,  5,  6,\n",
       "        5,  5,  5,  5,  7,  6,  4,  9,  5,  5,  3,  3,  5,  6,  5,  6,  7,\n",
       "        4,  4,  5,  5,  5,  9,  6,  7,  7,  6,  5,  6,  5,  5,  5,  5,  4,\n",
       "        6,  6,  2,  3,  3,  3,  6,  5,  5,  6,  2,  3,  7,  7,  3,  1,  4,\n",
       "        7,  6,  5,  7,  5,  5,  2,  5,  4,  3,  5,  7,  2,  7,  8,  6,  7,\n",
       "        5,  5,  4,  7,  8,  5,  1,  4,  7,  3,  3,  5,  4,  4,  7,  4,  5,\n",
       "        7,  4,  5,  7,  6,  7,  6,  6,  6,  6,  7,  8,  5,  5,  3,  7,  6,\n",
       "        5,  4,  4,  4,  6,  6,  3,  5,  4,  4,  4,  5,  5,  5,  4,  7,  4,\n",
       "        6,  3,  8,  3,  5,  7,  8,  7,  5,  6,  4,  7,  6,  5,  6,  7,  6,\n",
       "        6,  4,  4,  9,  6,  4,  2,  7,  5,  6,  6,  3,  4,  6,  6,  4,  4,\n",
       "        7,  6,  3,  5,  6,  5,  2,  5,  5,  6,  4,  6,  8,  5,  4,  5,  6,\n",
       "        7,  4,  6,  5,  3,  4,  4,  6,  7,  3,  2,  4,  4,  7,  4,  4,  2,\n",
       "        3,  3,  5,  7,  5,  5,  5,  6,  2,  7,  5,  3,  7,  7,  4,  5,  6,\n",
       "        3,  6,  4,  5,  6,  4,  5,  5,  5,  6,  6,  3,  5,  2,  4,  4,  2,\n",
       "        4,  4,  4,  6,  4,  4,  6,  6,  6,  3,  4,  3,  7,  7,  6,  6,  6,\n",
       "        3,  8,  6,  6,  5,  2,  5,  6,  5,  3,  5,  6,  6,  7,  6,  5,  3,\n",
       "        4,  5,  4,  8,  6,  5,  3,  4,  2,  5,  6,  4,  5,  5,  7,  7,  5,\n",
       "        5,  6,  8,  4,  5,  7,  1,  5,  4,  6,  4,  3,  8,  6,  7,  4,  5,\n",
       "        4,  5,  3,  6,  8,  3,  4,  2,  7,  8,  6,  4,  6,  4,  5,  4,  4,\n",
       "        8,  6,  6,  6,  5,  6,  4,  4,  8,  6,  5,  2,  7,  2,  4,  6,  8,\n",
       "        5,  3,  6,  3,  6,  7,  4,  2,  8,  5,  6,  4,  3,  6,  4,  0,  8,\n",
       "        5,  5,  4,  7,  5,  4,  5,  2,  5,  6,  5,  3,  7,  4,  4,  7,  4,\n",
       "        3,  4,  2,  8,  6,  4,  6,  3,  6,  6,  5,  7,  7,  4,  4,  3,  7,\n",
       "        4,  6,  2,  6,  7,  3,  8,  4,  4,  5,  4,  6,  6,  4,  6,  3,  5,\n",
       "        5,  3,  5,  8,  5,  1,  5,  6,  3,  6,  4,  6,  6,  5,  7,  2,  6,\n",
       "        4,  5,  5,  7,  4,  8,  6,  3,  6,  6, 10,  4,  5,  9,  6,  7,  4,\n",
       "        3,  8,  5,  5,  3,  5,  5,  6,  4,  5,  5,  8,  4,  5,  5,  6,  4,\n",
       "        3,  7,  4, 10,  6,  4,  5,  6,  6,  4,  4,  3,  6,  4,  5,  9,  7,\n",
       "        7,  6,  5,  7,  5,  3,  5,  3,  7,  2,  4,  7,  5,  7,  5,  6,  0,\n",
       "        3,  5,  8,  5,  6,  6,  2,  6,  4,  2,  4,  4,  7,  3,  7,  3,  3,\n",
       "        6,  4,  4,  3,  4,  4,  4,  1,  6,  3,  5,  6,  6,  5,  3,  6,  4,\n",
       "        4,  3,  3,  5,  4,  6,  5,  3,  5,  7,  6,  4,  8,  6,  6,  7,  7,\n",
       "        4,  6,  6,  7,  5,  1,  3,  7,  6,  6,  6,  6,  5,  5,  4,  3,  6,\n",
       "        6,  5,  8,  6,  5,  5,  6,  6,  5,  3,  7,  4,  4,  4,  5,  2,  4,\n",
       "        5,  5,  4,  4,  3,  7,  3,  8,  6,  7,  7,  6,  6,  5,  5,  4,  9,\n",
       "        6,  2,  3,  9,  7,  5,  5,  4,  4,  6,  5,  4,  6,  5,  7,  4,  7,\n",
       "        6,  4,  4,  3,  5,  4,  5,  5,  6,  5,  6,  8,  3,  3,  4,  3,  5,\n",
       "        7,  6,  3,  3,  5,  5,  5,  3,  5,  5,  4,  3,  4,  8,  5,  7,  7,\n",
       "        8,  5,  6,  7,  6,  4,  3,  5,  3,  4,  6,  2,  6,  3,  3,  6,  6,\n",
       "        5,  6,  6,  2,  3,  4,  7,  4,  3,  6,  2,  4,  7,  6,  5,  5,  7,\n",
       "        5,  2,  4,  5,  5,  3,  5,  4,  6,  5,  4,  5,  6,  5,  5,  4,  6,\n",
       "        8,  4,  3,  5,  4,  4,  6,  3,  3,  9,  4,  4,  4,  4,  8,  5,  8,\n",
       "        5,  5,  5,  2,  4,  7,  5,  3,  5,  5,  5,  4,  4,  4,  7,  6,  5,\n",
       "        3,  6,  5,  6,  6,  3,  4,  4,  4,  1,  4,  3,  4,  6,  5,  5,  7,\n",
       "        6,  4,  3,  6,  5,  6,  3,  4,  7,  6,  5,  5,  6,  8,  7,  3,  5,\n",
       "        2,  7,  5,  5,  6,  2,  5,  4,  5,  5,  4,  8,  6,  5,  2,  4,  7,\n",
       "        7,  4,  7,  7,  2,  5,  4,  5,  6,  4,  5,  8,  4,  2,  9,  6,  6,\n",
       "        6,  5,  8,  5,  3,  5,  3,  5,  2,  4,  4,  6,  4,  5,  2,  8,  4,\n",
       "        5,  6,  2,  3,  5,  3,  2,  5,  6,  3,  4,  9,  3,  7,  4,  4,  4,\n",
       "        6,  3,  6,  5,  6,  5,  4,  6,  4,  2,  5,  5,  4,  6,  9,  5,  5,\n",
       "        4,  7,  8,  4,  7,  4,  4,  6,  4,  5,  4,  6,  6,  7,  6,  7,  7,\n",
       "        5,  5,  6,  8,  5,  7,  6,  3,  5,  4,  3,  4,  4,  7,  5,  6,  5,\n",
       "        4,  3,  6,  6,  4,  9,  6,  9,  6,  8,  3,  4,  4,  5,  4,  5,  5,\n",
       "        6,  8,  6,  6,  2,  7,  4,  6,  4,  6,  4,  6,  4,  7])"
      ]
     },
     "execution_count": 13,
     "metadata": {},
     "output_type": "execute_result"
    }
   ],
   "source": [
    "# this is a simulation of flipping a coin 10 times and the number of \"successful\" result(s),  tested 1000 times\n",
    "\n",
    "n, p = 10, .5  # number of trials, probability of each trial\n",
    "s = np.random.binomial(n, p, 1000)\n",
    "s \n",
    "\n"
   ]
  },
  {
   "cell_type": "code",
   "execution_count": 14,
   "metadata": {},
   "outputs": [
    {
     "data": {
      "text/plain": [
       "(array([  2.,   7.,  48., 114., 207., 237., 211., 111.,  48.,  15.]),\n",
       " array([ 0.,  1.,  2.,  3.,  4.,  5.,  6.,  7.,  8.,  9., 10.]),\n",
       " <a list of 10 Patch objects>)"
      ]
     },
     "execution_count": 14,
     "metadata": {},
     "output_type": "execute_result"
    },
    {
     "data": {
      "image/png": "[encoded data removed]",
      "text/plain": [
       "<Figure size 432x288 with 1 Axes>"
      ]
     },
     "metadata": {},
     "output_type": "display_data"
    }
   ],
   "source": [
    "plt.hist(s)"
   ]
  },
  {
   "cell_type": "markdown",
   "metadata": {},
   "source": [
    "#### numpy.random.poisson \n",
    "\n",
    "   This function draws samples from the poisson distribution. It simulates the probability of an event occuring within an interval of time or space. Although it appears to be similar to the binomial function, it differs where in the poisson experiment, the \"fail\" or \"no\" is not known. This function takes two parameters. The lam or expectation of the interval and the size or shape of the samples. \n",
    "   The poisson distribution is not symmetrical; it is skewed toward the infinity end [4]. "
   ]
  },
  {
   "cell_type": "code",
   "execution_count": 16,
   "metadata": {},
   "outputs": [
    {
     "data": {
      "text/plain": [
       "(array([3.900e+02, 2.260e+03, 3.506e+03, 1.443e+03, 1.749e+03, 5.270e+02,\n",
       "        7.500e+01, 4.500e+01, 4.000e+00, 1.000e+00]),\n",
       " array([ 0. ,  1.7,  3.4,  5.1,  6.8,  8.5, 10.2, 11.9, 13.6, 15.3, 17. ]),\n",
       " <a list of 10 Patch objects>)"
      ]
     },
     "execution_count": 16,
     "metadata": {},
     "output_type": "execute_result"
    },
    {
     "data": {
      "image/png": "[encoded data removed]",
      "text/plain": [
       "<Figure size 432x288 with 1 Axes>"
      ]
     },
     "metadata": {},
     "output_type": "display_data"
    }
   ],
   "source": [
    "\n",
    "m = np.random.poisson(5, 10000)\n",
    "m\n",
    "plt.hist(m)"
   ]
  },
  {
   "cell_type": "code",
   "execution_count": null,
   "metadata": {},
   "outputs": [],
   "source": []
  }
 ],
 "metadata": {
  "kernelspec": {
   "display_name": "Python 3",
   "language": "python",
   "name": "python3"
  },
  "language_info": {
   "codemirror_mode": {
    "name": "ipython",
    "version": 3
   },
   "file_extension": ".py",
   "mimetype": "text/x-python",
   "name": "python",
   "nbconvert_exporter": "python",
   "pygments_lexer": "ipython3",
   "version": "3.6.5"
  }
 },
 "nbformat": 4,
 "nbformat_minor": 2
}
