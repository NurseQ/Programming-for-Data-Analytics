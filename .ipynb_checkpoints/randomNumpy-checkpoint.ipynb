{
 "cells": [
  {
   "cell_type": "markdown",
   "metadata": {},
   "source": [
    "# Programming for Data Analytics Assignmet\n",
    "\n",
    "- Explain the overall function of the package.\n",
    "- Explain the overall use of the \"Simple random data\" and \"Permutaitons\" package.\n",
    "- Explain the use and purpose of at least five \"Distribution\" functions.\n",
    "- Explain the use of seeds in generating peudorandom numbers.\n"
   ]
  },
  {
   "cell_type": "markdown",
   "metadata": {},
   "source": [
    "# The numpy.random package\n",
    "\n",
    "    The numpy.random package "
   ]
  },
  {
   "cell_type": "code",
   "execution_count": 1,
   "metadata": {},
   "outputs": [],
   "source": [
    "import numpy as np"
   ]
  },
  {
   "cell_type": "code",
   "execution_count": 3,
   "metadata": {},
   "outputs": [
    {
     "data": {
      "text/plain": [
       "array([[0.72490124, 0.38233953, 0.11937188, 0.05118636, 0.67462041,\n",
       "        0.10718595, 0.89987619, 0.90156043, 0.26333189, 0.99192514],\n",
       "       [0.22557405, 0.89895724, 0.2984581 , 0.04730371, 0.08688054,\n",
       "        0.86097544, 0.62921049, 0.83865312, 0.67351404, 0.79719322],\n",
       "       [0.46182199, 0.28301583, 0.28526825, 0.0718021 , 0.94827251,\n",
       "        0.59479762, 0.15062885, 0.50379176, 0.98085663, 0.8408561 ]])"
      ]
     },
     "execution_count": 3,
     "metadata": {},
     "output_type": "execute_result"
    }
   ],
   "source": [
    "np.random.rand(3,10)"
   ]
  },
  {
   "cell_type": "code",
   "execution_count": null,
   "metadata": {},
   "outputs": [],
   "source": [
    "# Try"
   ]
  },
  {
   "cell_type": "code",
   "execution_count": null,
   "metadata": {},
   "outputs": [],
   "source": []
  }
 ],
 "metadata": {
  "kernelspec": {
   "display_name": "Python 3",
   "language": "python",
   "name": "python3"
  },
  "language_info": {
   "codemirror_mode": {
    "name": "ipython",
    "version": 3
   },
   "file_extension": ".py",
   "mimetype": "text/x-python",
   "name": "python",
   "nbconvert_exporter": "python",
   "pygments_lexer": "ipython3",
   "version": "3.6.5"
  }
 },
 "nbformat": 4,
 "nbformat_minor": 2
}
