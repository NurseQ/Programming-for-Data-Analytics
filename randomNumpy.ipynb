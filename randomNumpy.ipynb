{
 "cells": [
  {
   "cell_type": "markdown",
   "metadata": {},
   "source": [
    "# Programming for Data Analytics Assignmet\n",
    "\n",
    "- Explain the overall function of the package.\n",
    "- Explain the overall use of the \"Simple random data\" and \"Permutations\" package.\n",
    "- Explain the use and purpose of at least five \"Distribution\" functions.\n",
    "- Explain the use of seeds in generating peudorandom numbers.\n"
   ]
  },
  {
   "cell_type": "markdown",
   "metadata": {},
   "source": [
    "# The numpy.random package\n",
    "\n",
    "  The overall function of the numpy.random package is to generate arrays of sample values (random data/numbers). This package can generate data probability distributions useful in scientific research. Generating random numbers is important in any simulation. These simulation may follow patterns for certain analyses. Simulation is used to discover relationships between systems. \n",
    "  The numpy.random package is similar with the python random module in that they both use the Mersenne Twister algorithm to generate psuedorandom numbers. The numbers generated are not considered true random numbers and if some key information are obtained, then the numbers can be predicted or reproduced. This is a reason why this type of random nunmber generation cannot be used for security purposes [1]. \n",
    "  \n",
    "  The numpy.random package generate random numbers according to different probabilities across different intervals.\n",
    "\n",
    "### Simple Random Data Package\n",
    "\n",
    "   The simple random data package is a collection of methods or functions to quickly generate random numbers in a given distribution. Some assumptions are set in these functions that affect how the numbers are generated. Some methods perform similar function and output such as random_sample, random, ranf and random. \n",
    "   \n",
    "### Permutations\n",
    "\n",
    "   This package contains two functions, shuffle and permutations. Both are used to change the order of an array but differs where shuffle modifies the contents of an array in-place and permutations return a re-ordered copy of the array. One other difference is when permutation is passed an integer, it will return a shuffled range. Shuffle requires np.arange to output a shuffled range.\n",
    "\n",
    "#### Distribution Functions\n",
    "\n",
    "#### numpy.random.uniform\n",
    "   This function produce random numbers from a uniform distribution. It is sometimes known as a rectangular distribution [2]. The probability of each value to be drawn in the given interval is the same or equal. This function takes three parameters. A lower and higher boundary of the output interval and the size of the distribution. The lower boundary is included in the process whereas the higher boundary is not included and will not be drawn. \n",
    "   \n",
    "#### numpy.random.normal\n",
    "   This function draw random samples from a normal or Gaussian distribution. The normal distribution, described as a bell curve, is important in statistics because it reflects many real-world events[3]. The values or samples are distributed symmetrically, with most clustered around a central peak or mean and the probability for values taper off equally on both sides of the mean. \n",
    "    This function takes three parameters; the loc or the mean of the distribution, the scale or the standard deviation (spread) and the size of the distribution.\n",
    "\n",
    "#### numpy.random.binomial\n",
    "\n",
    "#### numpy.random.poisson\n",
    "\n",
    "#### numpy.random.exponential\n",
    " \n",
    "\n",
    "## References\n",
    "[1] Python Software Foundation.\n",
    "    https://docs.python.org \n",
    "    \n",
    "[2] Wolfram MathWorld.\n",
    "    https://mathworld.wolfram.com\n",
    "   \n",
    "[3] https://stattrek.com"
   ]
  },
  {
   "cell_type": "code",
   "execution_count": null,
   "metadata": {},
   "outputs": [],
   "source": []
  },
  {
   "cell_type": "code",
   "execution_count": 1,
   "metadata": {},
   "outputs": [],
   "source": [
    "import numpy as np"
   ]
  },
  {
   "cell_type": "code",
   "execution_count": 2,
   "metadata": {
    "scrolled": true
   },
   "outputs": [
    {
     "data": {
      "text/plain": [
       "array([0.52491051, 0.44013283, 0.3592806 , 0.71959405, 0.91695694,\n",
       "       0.08209329, 0.77810668, 0.08303298, 0.59784653, 0.11668416,\n",
       "       0.83397514, 0.78042513, 0.79464255, 0.95258853, 0.57693197,\n",
       "       0.68089679, 0.38756519, 0.94800637, 0.78063703, 0.52809809,\n",
       "       0.3730771 , 0.66753069, 0.32017278, 0.75187456, 0.2360801 ,\n",
       "       0.93794945, 0.08248034, 0.29414704, 0.10224719, 0.1470797 ,\n",
       "       0.59085518, 0.19599433, 0.80058354, 0.92661394, 0.15487119,\n",
       "       0.92838323, 0.63540383, 0.12754145, 0.21018693, 0.0459965 ,\n",
       "       0.29197775, 0.37158722, 0.95616242, 0.17652356, 0.55481211,\n",
       "       0.73122106, 0.43115383, 0.19212324, 0.13041203, 0.84780529,\n",
       "       0.15271878, 0.15705867, 0.23413876, 0.4886008 , 0.07676523,\n",
       "       0.13884421, 0.36836961, 0.060101  , 0.04802788, 0.37996699,\n",
       "       0.36550155, 0.24217437, 0.51323912, 0.61989014, 0.2613561 ,\n",
       "       0.14973759, 0.44129329, 0.70057619, 0.55179998, 0.09423325,\n",
       "       0.64055405, 0.34741728, 0.43153595, 0.50859147, 0.99578505,\n",
       "       0.9708948 , 0.37595268, 0.93096364, 0.16618239, 0.43648822,\n",
       "       0.4604636 , 0.27478372, 0.47391826, 0.27512125, 0.49416122,\n",
       "       0.75205019, 0.25363994, 0.19314772, 0.8987158 , 0.71438672,\n",
       "       0.53161755, 0.57536033, 0.5309295 , 0.29478274, 0.94181362,\n",
       "       0.90193992, 0.94321825, 0.62980215, 0.26260565, 0.43874208,\n",
       "       0.44864026, 0.30384708, 0.41764723, 0.62939197, 0.00967411,\n",
       "       0.82225874, 0.41987868, 0.97117259, 0.24623677, 0.8972435 ,\n",
       "       0.10910963, 0.47862847, 0.91231568, 0.22203527, 0.44799583,\n",
       "       0.48736783, 0.84764985, 0.51199697, 0.68856609, 0.32321795,\n",
       "       0.97841228, 0.99418892, 0.2320244 , 0.01316114, 0.82588454,\n",
       "       0.52039723, 0.84889494, 0.23117926, 0.68570735, 0.53476267,\n",
       "       0.45957894, 0.87658409, 0.0479617 , 0.49469454, 0.07669485,\n",
       "       0.46466577, 0.21945339, 0.80203136, 0.36504885, 0.22836792,\n",
       "       0.79682614, 0.63043949, 0.05120363, 0.9470925 , 0.20771337,\n",
       "       0.44897117, 0.06356666, 0.70426473, 0.11476262, 0.87817348,\n",
       "       0.02948272, 0.43979755, 0.2574354 , 0.37394986, 0.16459388,\n",
       "       0.3047432 , 0.23431939, 0.57372912, 0.19455564, 0.00347498,\n",
       "       0.35862956, 0.27717591, 0.21089287, 0.12632433, 0.8994793 ,\n",
       "       0.12482796, 0.36270756, 0.54218891, 0.51839176, 0.31945294,\n",
       "       0.94971057, 0.45016172, 0.12270579, 0.61921093, 0.2407854 ,\n",
       "       0.83385341, 0.84911234, 0.41353939, 0.58472586, 0.46877107,\n",
       "       0.75506357, 0.0655306 , 0.42070422, 0.41238803, 0.9578586 ,\n",
       "       0.12126065, 0.63767213, 0.32831403, 0.55164947, 0.53726211,\n",
       "       0.36120003, 0.89972474, 0.71873425, 0.73311856, 0.40902197,\n",
       "       0.24017656, 0.10564513, 0.06471894, 0.92922899, 0.98562953,\n",
       "       0.93219606, 0.52654839, 0.93764461, 0.57627861, 0.82432471,\n",
       "       0.37480773, 0.75795534, 0.45943121, 0.24417368, 0.4061595 ,\n",
       "       0.98457159, 0.41551865, 0.00142874, 0.96129924, 0.68472222,\n",
       "       0.69913742, 0.49722014, 0.58755198, 0.51081152, 0.28637605,\n",
       "       0.33066055, 0.53135393, 0.13187861, 0.64039489, 0.46156618,\n",
       "       0.56557393, 0.92362743, 0.53855524, 0.17646518, 0.92914055,\n",
       "       0.52915192, 0.44144405, 0.18934922, 0.43679254, 0.34993808,\n",
       "       0.44499052, 0.77124157, 0.87230916, 0.79705185, 0.9811231 ,\n",
       "       0.11274259, 0.61082793, 0.61972347, 0.15053407, 0.76193785,\n",
       "       0.04779615, 0.53639699, 0.03369578, 0.99281319, 0.90881528,\n",
       "       0.20396371, 0.47942523, 0.4988114 , 0.92772209, 0.64745472,\n",
       "       0.77189972, 0.43102882, 0.32289697, 0.70279521, 0.42058384,\n",
       "       0.48930271, 0.13028393, 0.6902257 , 0.53234525, 0.33281281,\n",
       "       0.09101368, 0.74729125, 0.05333911, 0.3768461 , 0.04002804,\n",
       "       0.04507097, 0.25868588, 0.66575052, 0.32199154, 0.86464071,\n",
       "       0.38249195, 0.38718545, 0.63187065, 0.64361901, 0.61007064,\n",
       "       0.21540761, 0.91630156, 0.19562064, 0.60833197, 0.89133799,\n",
       "       0.95291587, 0.92561327, 0.54738967, 0.51837771, 0.41014407,\n",
       "       0.17207769, 0.13995364, 0.62368317, 0.54499973, 0.88038792,\n",
       "       0.29115517, 0.7417011 , 0.34194318, 0.04048651, 0.74651111,\n",
       "       0.61451204, 0.89543074, 0.10737979, 0.54260769, 0.17511169,\n",
       "       0.40648229, 0.41558391, 0.69843551, 0.60056856, 0.2516857 ,\n",
       "       0.60854053, 0.14957811, 0.72489138, 0.00453618, 0.71398169,\n",
       "       0.83297863, 0.13508868, 0.61047119, 0.84166558, 0.76299779,\n",
       "       0.82062263, 0.72892031, 0.57298725, 0.85230325, 0.19375872,\n",
       "       0.84638157, 0.42407218, 0.73957829, 0.32104987, 0.56544182,\n",
       "       0.59858032, 0.07957142, 0.87192566, 0.76897537, 0.9558656 ,\n",
       "       0.91965252, 0.96847552, 0.49978965, 0.97335314, 0.56672749,\n",
       "       0.50901753, 0.86714109, 0.15384198, 0.28329133, 0.6985037 ,\n",
       "       0.16286271, 0.38536187, 0.08302842, 0.79745024, 0.74914066,\n",
       "       0.78048382, 0.26480301, 0.06626527, 0.89740701, 0.24875752,\n",
       "       0.61587515, 0.72679501, 0.35806842, 0.61088146, 0.01032735,\n",
       "       0.38376886, 0.43171027, 0.87988237, 0.38746708, 0.38656899,\n",
       "       0.21362276, 0.42676759, 0.28754077, 0.98293422, 0.39156559,\n",
       "       0.73385683, 0.11708466, 0.09305041, 0.48550581, 0.4820818 ,\n",
       "       0.95061734, 0.73201778, 0.83321196, 0.98434622, 0.38418756,\n",
       "       0.38857701, 0.89679667, 0.63222297, 0.36919201, 0.41459369,\n",
       "       0.25573266, 0.65734158, 0.30127471, 0.48985371, 0.0717615 ,\n",
       "       0.94068766, 0.48472233, 0.70867239, 0.58609553, 0.20667641,\n",
       "       0.2704918 , 0.65459756, 0.29279857, 0.91266395, 0.10755585,\n",
       "       0.49810482, 0.53433578, 0.58998339, 0.4151976 , 0.14612893,\n",
       "       0.05647379, 0.59011421, 0.46723361, 0.18085649, 0.69216908,\n",
       "       0.66013403, 0.02051845, 0.14838123, 0.9912329 , 0.26427675,\n",
       "       0.63208292, 0.78518382, 0.70441764, 0.46611363, 0.74102543,\n",
       "       0.57888541, 0.30885142, 0.20037928, 0.55218534, 0.56341013,\n",
       "       0.0200323 , 0.80243617, 0.27700307, 0.97665028, 0.79254642,\n",
       "       0.39994044, 0.64486826, 0.42147618, 0.95846427, 0.72282991,\n",
       "       0.96731654, 0.96315302, 0.43684367, 0.97062139, 0.46805289,\n",
       "       0.4650044 , 0.62466156, 0.48219396, 0.38132176, 0.83259221,\n",
       "       0.42043912, 0.75615538, 0.56280127, 0.12165714, 0.39844325,\n",
       "       0.84074465, 0.33025391, 0.46662025, 0.82675797, 0.49482666,\n",
       "       0.44312022, 0.29211912, 0.87871242, 0.73530357, 0.83239263,\n",
       "       0.13350432, 0.78647675, 0.02149344, 0.57301621, 0.75081436,\n",
       "       0.9597578 , 0.53138678, 0.0157084 , 0.15601738, 0.74024754,\n",
       "       0.82745838, 0.80301406, 0.08784831, 0.56253033, 0.01190604,\n",
       "       0.0940153 , 0.84821006, 0.26034483, 0.69930238, 0.73487458,\n",
       "       0.09590566, 0.60212941, 0.5223096 , 0.78846743, 0.0333892 ,\n",
       "       0.63664244, 0.8250975 , 0.70315569, 0.44561206, 0.6643747 ,\n",
       "       0.20824334, 0.15218658, 0.54796668, 0.4283946 , 0.48553833,\n",
       "       0.60171633, 0.41615338, 0.97323775, 0.25546321, 0.75838384,\n",
       "       0.70059374, 0.33358031, 0.82230344, 0.08288064, 0.01388489,\n",
       "       0.61322872, 0.91036608, 0.73146023, 0.46921389, 0.53752242,\n",
       "       0.9939018 , 0.14836715, 0.30395978, 0.43860781, 0.10581323,\n",
       "       0.96788061, 0.10240659, 0.82796158, 0.83379782, 0.44386972,\n",
       "       0.24194518, 0.49403441, 0.07107055, 0.80002165, 0.42610728,\n",
       "       0.08382323, 0.30730419, 0.50592761, 0.86224416, 0.28875762,\n",
       "       0.60796057, 0.23812812, 0.21638964, 0.43690394, 0.45962022,\n",
       "       0.52282665, 0.72917756, 0.71183593, 0.60954479, 0.29525118,\n",
       "       0.27039033, 0.91104527, 0.14936902, 0.46751836, 0.91528316,\n",
       "       0.89690937, 0.03359245, 0.42000022, 0.28997576, 0.26694641,\n",
       "       0.24313752, 0.03041253, 0.03499296, 0.04559292, 0.8893458 ,\n",
       "       0.11604521, 0.44999548, 0.31508565, 0.29355471, 0.52338652,\n",
       "       0.80526095, 0.88878533, 0.86881677, 0.76913532, 0.94103029,\n",
       "       0.14169878, 0.71027114, 0.15378775, 0.81686623, 0.26988305,\n",
       "       0.43165037, 0.20929713, 0.40568772, 0.11215559, 0.59148455,\n",
       "       0.42594817, 0.58232518, 0.00474887, 0.02808955, 0.25587622,\n",
       "       0.27473839, 0.84027926, 0.64448491, 0.14511399, 0.6098078 ,\n",
       "       0.49761304, 0.78913049, 0.37733388, 0.64742146, 0.96385035,\n",
       "       0.9519977 , 0.93089141, 0.47949482, 0.75129946, 0.92806665,\n",
       "       0.10496337, 0.10623816, 0.64339721, 0.19475902, 0.73769785,\n",
       "       0.03436162, 0.25982313, 0.11654356, 0.67023462, 0.79843109,\n",
       "       0.98136483, 0.13932552, 0.61660203, 0.50186108, 0.96199307,\n",
       "       0.70738346, 0.8934677 , 0.65171097, 0.63634677, 0.24056438,\n",
       "       0.49953105, 0.48779189, 0.96635476, 0.17860296, 0.88746907,\n",
       "       0.4693067 , 0.76734701, 0.91203784, 0.06157197, 0.57838096,\n",
       "       0.98750629, 0.10819388, 0.38580578, 0.70994859, 0.04326609,\n",
       "       0.65310869, 0.52838626, 0.19534713, 0.70293355, 0.11783154,\n",
       "       0.41458328, 0.22828132, 0.22550995, 0.69852863, 0.12905136,\n",
       "       0.07524341, 0.7425951 , 0.38663947, 0.53388836, 0.13596412,\n",
       "       0.66513306, 0.30544732, 0.87056646, 0.14926891, 0.92652087,\n",
       "       0.35489846, 0.49523024, 0.53974361, 0.93221538, 0.6006949 ,\n",
       "       0.56021236, 0.53561388, 0.2606868 , 0.43286577, 0.60915415,\n",
       "       0.51476066, 0.34503462, 0.18288693, 0.89940557, 0.30858852,\n",
       "       0.63557303, 0.47536801, 0.60583786, 0.13393387, 0.0958791 ,\n",
       "       0.92283355, 0.46383413, 0.04804633, 0.35924511, 0.34458453,\n",
       "       0.00488832, 0.54416088, 0.19910154, 0.55523628, 0.30826839,\n",
       "       0.13109967, 0.6647065 , 0.79343881, 0.54350314, 0.01524994,\n",
       "       0.20461423, 0.58394167, 0.12141857, 0.92059794, 0.12064349,\n",
       "       0.54864893, 0.37729265, 0.23933688, 0.33223838, 0.47789318,\n",
       "       0.30075225, 0.35117544, 0.29033821, 0.42162754, 0.0974348 ,\n",
       "       0.46123053, 0.03007432, 0.71416785, 0.699333  , 0.00839574,\n",
       "       0.86430024, 0.94022603, 0.83949263, 0.99568164, 0.88957071,\n",
       "       0.23686181, 0.39466475, 0.44208664, 0.60604143, 0.60621992,\n",
       "       0.41524621, 0.21262259, 0.57120121, 0.36078022, 0.93504611,\n",
       "       0.49739451, 0.36916255, 0.64602325, 0.71785714, 0.5717339 ,\n",
       "       0.84631376, 0.08479127, 0.86058453, 0.5865479 , 0.01594686,\n",
       "       0.92902255, 0.73258598, 0.41672616, 0.1725288 , 0.92912155,\n",
       "       0.79841139, 0.3816907 , 0.13515511, 0.7741516 , 0.34409905,\n",
       "       0.76237016, 0.83481271, 0.91239357, 0.47485154, 0.23417639,\n",
       "       0.23272485, 0.82187086, 0.71915269, 0.42039313, 0.3029777 ,\n",
       "       0.50362016, 0.9963008 , 0.8453489 , 0.46588571, 0.53425379,\n",
       "       0.61798568, 0.43994252, 0.27970382, 0.75868759, 0.33931764,\n",
       "       0.59460741, 0.00997272, 0.69456038, 0.95987342, 0.2963644 ,\n",
       "       0.73883977, 0.41718608, 0.9086538 , 0.05777381, 0.98926245,\n",
       "       0.70600575, 0.48343774, 0.5831828 , 0.09644029, 0.01037298,\n",
       "       0.58764085, 0.10177755, 0.15320945, 0.27707935, 0.98266478,\n",
       "       0.76413239, 0.7161429 , 0.89913781, 0.1735367 , 0.26033677,\n",
       "       0.10984691, 0.48028026, 0.22458997, 0.30551025, 0.57157204,\n",
       "       0.43800524, 0.99997107, 0.19832575, 0.6940168 , 0.60641742,\n",
       "       0.94471038, 0.27956357, 0.59103469, 0.91017202, 0.56626904,\n",
       "       0.08094471, 0.51769992, 0.74146736, 0.08240894, 0.24075798,\n",
       "       0.88058487, 0.88424225, 0.11956171, 0.52761733, 0.71345132,\n",
       "       0.0787259 , 0.00981172, 0.16357928, 0.60353475, 0.83450428,\n",
       "       0.50880949, 0.69336409, 0.54868142, 0.25692076, 0.83284749,\n",
       "       0.56484094, 0.98058236, 0.22285072, 0.8712733 , 0.30778029,\n",
       "       0.78496694, 0.97408248, 0.59669696, 0.92869414, 0.67224317,\n",
       "       0.01009068, 0.78033308, 0.63961232, 0.52369863, 0.0058076 ,\n",
       "       0.62543889, 0.18067498, 0.19797676, 0.49408793, 0.64767719,\n",
       "       0.41648944, 0.42429907, 0.34435176, 0.54086355, 0.77794245,\n",
       "       0.95354366, 0.6353356 , 0.00313832, 0.00867721, 0.66952373,\n",
       "       0.87129426, 0.12571401, 0.94048557, 0.40485584, 0.87739227,\n",
       "       0.50345213, 0.68976508, 0.37271838, 0.82060447, 0.22297037,\n",
       "       0.94183764, 0.50037194, 0.15747251, 0.19501304, 0.97894285,\n",
       "       0.31104965, 0.53424328, 0.78593253, 0.43956161, 0.16851197,\n",
       "       0.18989713, 0.58244615, 0.75343678, 0.43025465, 0.09788839,\n",
       "       0.38144256, 0.93830328, 0.40466432, 0.44854964, 0.93821788,\n",
       "       0.5983465 , 0.91447434, 0.93193838, 0.08241221, 0.85970929,\n",
       "       0.24181216, 0.41723707, 0.0225326 , 0.38938526, 0.61447607,\n",
       "       0.07068512, 0.6793773 , 0.12063734, 0.11067636, 0.90668092,\n",
       "       0.23650507, 0.29501851, 0.6363986 , 0.48717712, 0.45612969,\n",
       "       0.93173647, 0.67646135, 0.46012845, 0.45028127, 0.80071417,\n",
       "       0.93498179, 0.80579306, 0.48458582, 0.56552875, 0.59269212,\n",
       "       0.64186012, 0.16161216, 0.34320622, 0.61500496, 0.88222014,\n",
       "       0.37081643, 0.86974851, 0.63503407, 0.89690985, 0.09756842,\n",
       "       0.95371023, 0.71211308, 0.59969197, 0.85264097, 0.39630475,\n",
       "       0.92881272, 0.18159806, 0.62749541, 0.20189493, 0.59006892,\n",
       "       0.81280248, 0.63400553, 0.29594736, 0.62742592, 0.89828582,\n",
       "       0.07376598, 0.39929286, 0.05708794, 0.84653551, 0.36734909,\n",
       "       0.76849336, 0.19744971, 0.60365834, 0.9043439 , 0.72297004,\n",
       "       0.57771208, 0.48144376, 0.21892006, 0.6488312 , 0.40230697,\n",
       "       0.91670567, 0.73050568, 0.37936472, 0.20846189, 0.38215379,\n",
       "       0.48430009, 0.7162754 , 0.64485211, 0.03557141, 0.62719554,\n",
       "       0.34958738, 0.10693603, 0.86722799, 0.72963217, 0.89150716,\n",
       "       0.4982212 , 0.70027473, 0.28271551, 0.493526  , 0.98538611,\n",
       "       0.72178462, 0.75452268, 0.55373455, 0.70866886, 0.03794242,\n",
       "       0.59341386, 0.52589912, 0.60326981, 0.62265262, 0.58812512,\n",
       "       0.42758973, 0.22091484, 0.82286369, 0.72335446, 0.40993277,\n",
       "       0.3573723 , 0.4266289 , 0.01362376, 0.50806891, 0.8502363 ,\n",
       "       0.69918549, 0.35609738, 0.52647991, 0.67468411, 0.71362076,\n",
       "       0.39637425, 0.10051699, 0.99293771, 0.08159534, 0.66723305])"
      ]
     },
     "execution_count": 2,
     "metadata": {},
     "output_type": "execute_result"
    }
   ],
   "source": [
    "x = np.random.rand(1000)\n",
    "x"
   ]
  },
  {
   "cell_type": "code",
   "execution_count": 3,
   "metadata": {},
   "outputs": [
    {
     "data": {
      "text/plain": [
       "(array([ 90.,  99.,  93.,  88., 130., 106., 102.,  98.,  89., 105.]),\n",
       " array([0.00142874, 0.10128297, 0.20113721, 0.30099144, 0.40084567,\n",
       "        0.50069991, 0.60055414, 0.70040837, 0.80026261, 0.90011684,\n",
       "        0.99997107]),\n",
       " <a list of 10 Patch objects>)"
      ]
     },
     "execution_count": 3,
     "metadata": {},
     "output_type": "execute_result"
    }
   ],
   "source": [
    "import matplotlib.pyplot as plt\n",
    "\n",
    "\n",
    "plt.hist(x)"
   ]
  },
  {
   "cell_type": "code",
   "execution_count": 4,
   "metadata": {},
   "outputs": [
    {
     "data": {
      "text/plain": [
       "(array([  4.,  16.,  80., 162., 213., 232., 163.,  96.,  30.,   4.]),\n",
       " array([-0.16467044,  0.45714806,  1.07896656,  1.70078506,  2.32260356,\n",
       "         2.94442205,  3.56624055,  4.18805905,  4.80987755,  5.43169605,\n",
       "         6.05351455]),\n",
       " <a list of 10 Patch objects>)"
      ]
     },
     "execution_count": 4,
     "metadata": {},
     "output_type": "execute_result"
    },
    {
     "data": {
      "image/png": "[encoded data removed]",
      "text/plain": [
       "<Figure size 432x288 with 1 Axes>"
      ]
     },
     "metadata": {
      "needs_background": "light"
     },
     "output_type": "display_data"
    }
   ],
   "source": [
    "z = np.random.randn(1000) + 3\n",
    "plt.hist(z)"
   ]
  },
  {
   "cell_type": "code",
   "execution_count": 5,
   "metadata": {},
   "outputs": [
    {
     "data": {
      "text/plain": [
       "(array([ 95., 103., 109., 111., 100.,  95.,  92.,  90., 106.,  99.]),\n",
       " array([ 1. , 10.8, 20.6, 30.4, 40.2, 50. , 59.8, 69.6, 79.4, 89.2, 99. ]),\n",
       " <a list of 10 Patch objects>)"
      ]
     },
     "execution_count": 5,
     "metadata": {},
     "output_type": "execute_result"
    },
    {
     "data": {
      "image/png": "[encoded data removed]",
      "text/plain": [
       "<Figure size 432x288 with 1 Axes>"
      ]
     },
     "metadata": {
      "needs_background": "light"
     },
     "output_type": "display_data"
    }
   ],
   "source": [
    "y = np.random.randint(1,100, size = 1000)\n",
    "plt.hist (y)"
   ]
  },
  {
   "cell_type": "code",
   "execution_count": 6,
   "metadata": {},
   "outputs": [
    {
     "data": {
      "text/plain": [
       "array([39, 11, 86, 97, 81, 96, 23, 53, 41, 64, 58, 31, 25, 16, 97, 26, 43,\n",
       "       94, 96, 58, 67, 28, 82, 16, 10, 99, 62, 55, 92,  4, 32, 29,  2, 14,\n",
       "       96, 74, 43,  9, 51, 20, 63, 68, 69, 79, 85, 89, 21, 70, 88,  8, 48,\n",
       "       16,  8, 15, 98, 23, 56, 47, 99,  2, 98,  7, 57, 53, 74,  6, 23, 32,\n",
       "       56, 14, 35,  5, 69, 37, 42, 67, 45, 69, 53, 91, 17, 74, 24, 44, 43,\n",
       "       22, 61, 19,  1, 87, 42, 76, 86, 88, 83, 86, 26, 28, 65, 11, 46, 36,\n",
       "       38, 13, 94, 88, 48, 62, 93, 91, 41, 34, 20, 30, 24, 47,  3, 18, 44,\n",
       "       86, 34, 59, 49, 43, 27, 26, 52, 84, 85, 52, 32, 61, 32, 33, 67, 30,\n",
       "       81, 22, 15, 70, 25, 44, 64, 18, 25, 38, 45, 90, 69,  4, 37, 51,  9,\n",
       "       91, 25, 63, 84,  7, 85, 50, 66, 60, 35, 56, 96, 60, 70, 30, 89, 70,\n",
       "       64, 60, 77, 62, 81, 28, 44, 73,  9, 49, 11, 46, 77, 59, 70, 58, 40,\n",
       "       34, 64, 42, 23, 29, 57, 30, 17, 80,  3, 77, 35, 11, 54, 76, 88, 42,\n",
       "       70, 16, 40, 74, 70, 59, 99,  5, 32, 84, 91,  8, 58, 21, 81,  7, 71,\n",
       "       41, 47, 38, 50, 18, 90, 66, 38, 46, 19, 92,  2, 61, 64, 70, 84, 61,\n",
       "       44, 35, 20, 20, 93, 29, 24, 20, 34,  5, 13, 33, 32, 15, 40, 54, 97,\n",
       "       39, 51, 79, 31, 45, 11, 84, 85, 91, 86, 65, 77, 96, 60, 52, 97, 48,\n",
       "       11, 29, 25, 17, 16, 34, 32, 87, 88, 97, 81, 77, 35, 16, 67, 68, 80,\n",
       "        8, 69, 77, 22, 44, 89, 29, 61, 45, 13, 68,  6, 52, 47, 99, 69, 88,\n",
       "       52, 84, 27, 68,  4, 46, 55, 51, 87,  4, 90, 24, 75, 98, 15, 40, 77,\n",
       "       73, 66, 45, 91, 88, 82, 73, 83, 28, 23, 56, 62, 58, 17, 22, 44, 40,\n",
       "       73, 19, 85, 80,  6, 45, 32, 92, 18, 57, 98, 65, 34,  3, 97, 80, 92,\n",
       "       29, 89, 59, 26,  7, 57, 22, 23, 33, 40, 66,  3, 82, 65, 82, 83, 46,\n",
       "       27, 69, 10, 88, 38, 80, 81, 46, 92, 32, 89, 99, 41, 65, 92, 10,  9,\n",
       "       15, 77, 46, 23, 13, 43, 44, 67, 86, 69, 66, 15, 88,  6,  2, 31, 70,\n",
       "       28, 92, 59, 65, 98, 78, 32, 35,  7, 46, 73, 18, 70, 96, 53, 69, 70,\n",
       "       47, 34, 17, 50, 85, 45, 65, 17, 88, 32, 32, 30, 99, 46, 23, 36, 50,\n",
       "       51, 77, 85, 34, 63,  9, 51, 25,  5, 36, 15, 37, 10, 12, 37, 51, 81,\n",
       "       14, 97, 48, 45, 30, 84, 18, 95, 21, 24, 45, 12,  7, 12,  7, 75, 21,\n",
       "       34, 41, 98, 29, 37, 24, 34, 54, 65, 80, 78, 70, 25,  8,  7, 23, 96,\n",
       "       39, 35, 40, 11, 24, 86, 77, 26,  6, 20, 71, 65, 28, 88, 85, 41, 32,\n",
       "       17, 96, 22, 20, 21, 97, 17,  2, 42, 87, 18, 12, 58, 33,  8, 31, 61,\n",
       "       14, 35, 55, 10, 57, 46, 50, 24, 50, 68, 51, 24, 68, 49, 94, 55, 81,\n",
       "       65, 19, 69, 93, 57, 94, 63, 13, 41, 62, 20,  8, 62, 61, 49, 46, 77,\n",
       "       44, 44, 33, 50, 93, 94, 83, 70, 90, 55, 64, 11, 31, 22, 12, 27, 97,\n",
       "       19, 12, 34, 98, 39, 16, 54, 59, 23, 32, 25, 97, 71, 47, 77, 94, 86,\n",
       "       36, 98, 15, 43,  6, 79, 92, 51, 53,  4, 42, 68, 67, 12, 96, 49, 52,\n",
       "       38, 22, 90, 10, 42, 25,  9, 95, 81, 63, 26, 75, 18, 39, 75, 39, 91,\n",
       "        1, 26, 67, 15, 53, 23, 48, 90, 29,  6,  3, 37, 77, 47, 84,  3, 47,\n",
       "       40, 21, 75, 35, 87, 59, 55,  1, 75, 95, 53, 56, 98, 31, 57, 81, 25,\n",
       "       74, 51, 58, 13,  9, 41, 42, 52, 24, 41, 73, 13, 41, 95, 94, 22, 44,\n",
       "       65, 77, 84, 78, 28, 54, 11, 22, 39, 43, 96, 90, 37,  6, 95, 26, 92,\n",
       "       81, 61,  5, 93, 98, 40, 83, 25,  8, 80, 66, 62,  4, 71, 77, 64, 74,\n",
       "       74, 88, 50, 92, 15, 31,  5, 11, 67, 30, 72, 90, 46, 96, 47, 83, 29,\n",
       "       42, 32, 29, 22, 39, 76, 76, 50, 46, 41, 40, 71, 45, 84, 30, 47, 13,\n",
       "       56, 14, 15, 62, 19, 67, 93, 17, 68, 78, 84, 39, 76, 77, 61, 39,  1,\n",
       "       96,  7, 83, 85,  2, 45, 87, 23, 12, 91, 55, 26, 22, 71,  7, 70, 38,\n",
       "        1, 93, 52, 29, 14, 22, 51, 80,  6, 39, 87,  8, 72, 28, 97, 36, 40,\n",
       "       75, 47, 20, 94, 55, 12, 45, 85, 76, 45, 33, 86, 10, 27, 51, 83, 38,\n",
       "        2, 35, 40, 81, 93, 27, 75, 14, 71, 96, 72, 79, 83, 91, 81, 32, 24,\n",
       "       22, 53,  7, 53, 25, 85, 51, 11,  2,  8, 41, 71, 63, 17, 48, 32, 45,\n",
       "       38, 93, 60,  8,  4, 36, 66,  2, 21, 25, 62, 17, 34,  8, 32, 78, 25,\n",
       "       78, 49, 66, 71, 51, 92, 20, 66, 14, 87, 58, 99, 15, 76, 52, 75, 89,\n",
       "       81, 43, 68, 37, 18, 44, 88, 31, 47,  1, 16, 24, 42, 11, 61,  1, 49,\n",
       "       97, 80, 80,  4, 76, 59, 34, 59, 53, 61, 36, 26, 17, 70,  4, 67, 14,\n",
       "       88, 22, 17,  5,  7, 37, 10, 73, 76, 67, 87, 23, 26, 24, 96, 89, 47,\n",
       "       25, 98, 77, 89, 96, 97, 40, 56, 31,  9, 37, 40,  7, 55,  4, 19, 67,\n",
       "       13, 87, 74, 73, 46, 74, 94, 65, 38, 25, 54,  9, 54, 84, 90, 88, 11,\n",
       "       58, 56,  5, 47,  8, 66, 75, 29,  5, 58, 51, 44, 91, 40, 47, 50, 84,\n",
       "       65, 20, 15, 86, 40, 10, 11, 52,  8, 13, 85, 89, 31, 46])"
      ]
     },
     "execution_count": 6,
     "metadata": {},
     "output_type": "execute_result"
    }
   ],
   "source": [
    "y"
   ]
  },
  {
   "cell_type": "code",
   "execution_count": 7,
   "metadata": {},
   "outputs": [
    {
     "data": {
      "text/plain": [
       "array([1., 1., 1., 1., 1., 1., 1., 1., 1., 1., 1., 1., 1., 1., 1., 1., 1.,\n",
       "       1., 1., 1., 1., 1., 1., 1., 1., 1., 1., 1., 1., 1., 1., 1., 1., 1.,\n",
       "       1., 1., 1., 1., 1., 1., 1., 1., 1., 1., 1., 1., 1., 1., 1., 1., 1.,\n",
       "       1., 1., 1., 1., 1., 1., 1., 1., 1., 1., 1., 1., 1., 1., 1., 1., 1.,\n",
       "       1., 1., 1., 1., 1., 1., 1., 1., 1., 1., 1., 1., 1., 1., 1., 1., 1.,\n",
       "       1., 1., 1., 1., 1., 1., 1., 1., 1., 1., 1., 1., 1., 1., 1., 1., 1.,\n",
       "       1., 1., 1., 1., 1., 1., 1., 1., 1., 1., 1., 1., 1., 1., 1., 1., 1.,\n",
       "       1., 1., 1., 1., 1., 1., 1., 1., 1., 1., 1., 1., 1., 1., 1., 1., 1.,\n",
       "       1., 1., 1., 1., 1., 1., 1., 1., 1., 1., 1., 1., 1., 1., 1., 1., 1.,\n",
       "       1., 1., 1., 1., 1., 1., 1., 1., 1., 1., 1., 1., 1., 1., 1., 1., 1.,\n",
       "       1., 1., 1., 1., 1., 1., 1., 1., 1., 1., 1., 1., 1., 1., 1., 1., 1.,\n",
       "       1., 1., 1., 1., 1., 1., 1., 1., 1., 1., 1., 1., 1., 1., 1., 1., 1.,\n",
       "       1., 1., 1., 1., 1., 1., 1., 1., 1., 1., 1., 1., 1., 1., 1., 1., 1.,\n",
       "       1., 1., 1., 1., 1., 1., 1., 1., 1., 1., 1., 1., 1., 1., 1., 1., 1.,\n",
       "       1., 1., 1., 1., 1., 1., 1., 1., 1., 1., 1., 1., 1., 1., 1., 1., 1.,\n",
       "       1., 1., 1., 1., 1., 1., 1., 1., 1., 1., 1., 1., 1., 1., 1., 1., 1.,\n",
       "       1., 1., 1., 1., 1., 1., 1., 1., 1., 1., 1., 1., 1., 1., 1., 1., 1.,\n",
       "       1., 1., 1., 1., 1., 1., 1., 1., 1., 1., 1., 1., 1., 1., 1., 1., 1.,\n",
       "       1., 1., 1., 1., 1., 1., 1., 1., 1., 1., 1., 1., 1., 1., 1., 1., 1.,\n",
       "       1., 1., 1., 1., 1., 1., 1., 1., 1., 1., 1., 1., 1., 1., 1., 1., 1.,\n",
       "       1., 1., 1., 1., 1., 1., 1., 1., 1., 1., 1., 1., 1., 1., 1., 1., 1.,\n",
       "       1., 1., 1., 1., 1., 1., 1., 1., 1., 1., 1., 1., 1., 1., 1., 1., 1.,\n",
       "       1., 1., 1., 1., 1., 1., 1., 1., 1., 1., 1., 1., 1., 1., 1., 1., 1.,\n",
       "       1., 1., 1., 1., 1., 1., 1., 1., 1., 1., 1., 1., 1., 1., 1., 1., 1.,\n",
       "       1., 1., 1., 1., 1., 1., 1., 1., 1., 1., 1., 1., 1., 1., 1., 1., 1.,\n",
       "       1., 1., 1., 1., 1., 1., 1., 1., 1., 1., 1., 1., 1., 1., 1., 1., 1.,\n",
       "       1., 1., 1., 1., 1., 1., 1., 1., 1., 1., 1., 1., 1., 1., 1., 1., 1.,\n",
       "       1., 1., 1., 1., 1., 1., 1., 1., 1., 1., 1., 1., 1., 1., 1., 1., 1.,\n",
       "       1., 1., 1., 1., 1., 1., 1., 1., 1., 1., 1., 1., 1., 1., 1., 1., 1.,\n",
       "       1., 1., 1., 1., 1., 1., 1., 1., 1., 1., 1., 1., 1., 1., 1., 1., 1.,\n",
       "       1., 1., 1., 1., 1., 1., 1., 1., 1., 1., 1., 1., 1., 1., 1., 1., 1.,\n",
       "       1., 1., 1., 1., 1., 1., 1., 1., 1., 1., 1., 1., 1., 1., 1., 1., 1.,\n",
       "       1., 1., 1., 1., 1., 1., 1., 1., 1., 1., 1., 1., 1., 1., 1., 1., 1.,\n",
       "       1., 1., 1., 1., 1., 1., 1., 1., 1., 1., 1., 1., 1., 1., 1., 1., 1.,\n",
       "       1., 1., 1., 1., 1., 1., 1., 1., 1., 1., 1., 1., 1., 1., 1., 1., 1.,\n",
       "       1., 1., 1., 1., 1., 1., 1., 1., 1., 1., 1., 1., 1., 1., 1., 1., 1.,\n",
       "       1., 1., 1., 1., 1., 1., 1., 1., 1., 1., 1., 1., 1., 1., 1., 1., 1.,\n",
       "       1., 1., 1., 1., 1., 1., 1., 1., 1., 1., 1., 1., 1., 1., 1., 1., 1.,\n",
       "       1., 1., 1., 1., 1., 1., 1., 1., 1., 1., 1., 1., 1., 1., 1., 1., 1.,\n",
       "       1., 1., 1., 1., 1., 1., 1., 1., 1., 1., 1., 1., 1., 1., 1., 1., 1.,\n",
       "       1., 1., 1., 1., 1., 1., 1., 1., 1., 1., 1., 1., 1., 1., 1., 1., 1.,\n",
       "       1., 1., 1., 1., 1., 1., 1., 1., 1., 1., 1., 1., 1., 1., 1., 1., 1.,\n",
       "       1., 1., 1., 1., 1., 1., 1., 1., 1., 1., 1., 1., 1., 1., 1., 1., 1.,\n",
       "       1., 1., 1., 1., 1., 1., 1., 1., 1., 1., 1., 1., 1., 1., 1., 1., 1.,\n",
       "       1., 1., 1., 1., 1., 1., 1., 1., 1., 1., 1., 1., 1., 1., 1., 1., 1.,\n",
       "       1., 1., 1., 1., 1., 1., 1., 1., 1., 1., 1., 1., 1., 1., 1., 1., 1.,\n",
       "       1., 1., 1., 1., 1., 1., 1., 1., 1., 1., 1., 1., 1., 1., 1., 1., 1.,\n",
       "       1., 1., 1., 1., 1., 1., 1., 1., 1., 1., 1., 1., 1., 1., 1., 1., 1.,\n",
       "       1., 1., 1., 1., 1., 1., 1., 1., 1., 1., 1., 1., 1., 1., 1., 1., 1.,\n",
       "       1., 1., 1., 1., 1., 1., 1., 1., 1., 1., 1., 1., 1., 1., 1., 1., 1.,\n",
       "       1., 1., 1., 1., 1., 1., 1., 1., 1., 1., 1., 1., 1., 1., 1., 1., 1.,\n",
       "       1., 1., 1., 1., 1., 1., 1., 1., 1., 1., 1., 1., 1., 1., 1., 1., 1.,\n",
       "       1., 1., 1., 1., 1., 1., 1., 1., 1., 1., 1., 1., 1., 1., 1., 1., 1.,\n",
       "       1., 1., 1., 1., 1., 1., 1., 1., 1., 1., 1., 1., 1., 1., 1., 1., 1.,\n",
       "       1., 1., 1., 1., 1., 1., 1., 1., 1., 1., 1., 1., 1., 1., 1., 1., 1.,\n",
       "       1., 1., 1., 1., 1., 1., 1., 1., 1., 1., 1., 1., 1., 1., 1., 1., 1.,\n",
       "       1., 1., 1., 1., 1., 1., 1., 1., 1., 1., 1., 1., 1., 1., 1., 1., 1.,\n",
       "       1., 1., 1., 1., 1., 1., 1., 1., 1., 1., 1., 1., 1., 1., 1., 1., 1.,\n",
       "       1., 1., 1., 1., 1., 1., 1., 1., 1., 1., 1., 1., 1., 1.])"
      ]
     },
     "execution_count": 7,
     "metadata": {},
     "output_type": "execute_result"
    }
   ],
   "source": [
    "np.random.uniform(1, size=1000)"
   ]
  },
  {
   "cell_type": "code",
   "execution_count": 8,
   "metadata": {},
   "outputs": [
    {
     "data": {
      "text/plain": [
       "array([0, 5, 1, 2, 8, 3, 9, 7, 4, 6])"
      ]
     },
     "execution_count": 8,
     "metadata": {},
     "output_type": "execute_result"
    }
   ],
   "source": [
    "np.random.permutation(10)\n"
   ]
  },
  {
   "cell_type": "code",
   "execution_count": 9,
   "metadata": {},
   "outputs": [
    {
     "data": {
      "text/plain": [
       "6"
      ]
     },
     "execution_count": 9,
     "metadata": {},
     "output_type": "execute_result"
    }
   ],
   "source": [
    "np.random.randint(1,10)"
   ]
  },
  {
   "cell_type": "code",
   "execution_count": 10,
   "metadata": {},
   "outputs": [
    {
     "data": {
      "text/plain": [
       "array([0, 1, 2, 3, 4, 5, 6, 7, 8])"
      ]
     },
     "execution_count": 10,
     "metadata": {},
     "output_type": "execute_result"
    }
   ],
   "source": [
    "arr = np.arange(9)\n",
    "arr\n"
   ]
  },
  {
   "cell_type": "code",
   "execution_count": 11,
   "metadata": {},
   "outputs": [
    {
     "data": {
      "text/plain": [
       "array([[0, 1, 2],\n",
       "       [3, 4, 5],\n",
       "       [6, 7, 8]])"
      ]
     },
     "execution_count": 11,
     "metadata": {},
     "output_type": "execute_result"
    }
   ],
   "source": [
    "x = np.reshape(arr, (3,3))\n",
    "x\n"
   ]
  },
  {
   "cell_type": "code",
   "execution_count": null,
   "metadata": {},
   "outputs": [],
   "source": []
  },
  {
   "cell_type": "code",
   "execution_count": 12,
   "metadata": {},
   "outputs": [
    {
     "data": {
      "text/plain": [
       "array([[6, 7, 8],\n",
       "       [0, 1, 2],\n",
       "       [3, 4, 5]])"
      ]
     },
     "execution_count": 12,
     "metadata": {},
     "output_type": "execute_result"
    }
   ],
   "source": [
    "arr2 = np.random.permutation(x)\n",
    "arr2"
   ]
  },
  {
   "cell_type": "code",
   "execution_count": null,
   "metadata": {},
   "outputs": [],
   "source": []
  }
 ],
 "metadata": {
  "kernelspec": {
   "display_name": "Python 3",
   "language": "python",
   "name": "python3"
  },
  "language_info": {
   "codemirror_mode": {
    "name": "ipython",
    "version": 3
   },
   "file_extension": ".py",
   "mimetype": "text/x-python",
   "name": "python",
   "nbconvert_exporter": "python",
   "pygments_lexer": "ipython3",
   "version": "3.6.6"
  }
 },
 "nbformat": 4,
 "nbformat_minor": 2
}
