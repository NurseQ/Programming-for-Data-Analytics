{
 "cells": [
  {
   "cell_type": "markdown",
   "metadata": {},
   "source": [
    "# Programming for Data Analytics Assignmet\n",
    "\n",
    "- Explain the overall function of the package.\n",
    "- Explain the overall use of the \"Simple random data\" and \"Permutations\" package.\n",
    "- Explain the use and purpose of at least five \"Distribution\" functions.\n",
    "- Explain the use of seeds in generating peudorandom numbers.\n"
   ]
  },
  {
   "cell_type": "markdown",
   "metadata": {},
   "source": [
    "# The numpy.random package\n",
    "\n",
    "  The overall function of the numpy.random package is to generate arrays of sample values (random data/numbers). This package can generate data probability distributions useful in scientific research. Generating random numbers is important in any simulation. These simulation may follow patterns for certain analyses. Simulation is used to discover relationships between systems. \n",
    "  The numpy.random package is similar with the python random module in that they both use the Mersenne Twister algorithm to generate psuedorandom numbers. The numbers generated are not considered true random numbers and if some key information are obtained, then the numbers can be predicted or reproduced. This is a reason why this type of random nunmber generation cannot be used for security purposes [1]. \n",
    "  \n",
    "  The numpy.random package generate random numbers according to different probabilities across different intervals.\n",
    "\n",
    "### Simple Random Data Package\n",
    "\n",
    "   The simple random data package is a collection of methods or functions to quickly generate random numbers in a given distribution. Some assumptions are set in these functions that affect how the numbers are generated. Some methods perform similar function and output such as random_sample, random, ranf and random. \n",
    "   \n",
    "### Permutations\n",
    "\n",
    "   This package contains two functions, shuffle and permutations. Both are used to change the order of an array but differs where shuffle modifies the contents of an array in-place and permutations return a re-ordered copy of the array. One other difference is when permutation is passed an integer, it will return a shuffled range. Shuffle requires np.arange to output a shuffled range.\n",
    "\n",
    "#### Distribution Functions\n",
    "\n",
    "#### numpy.random.uniform\n",
    "   This function produce random numbers from a uniform distribution. It is sometimes known as a rectangular distribution [2]. The probability of each value to be drawn in the given interval is the same or equal. This function takes three parameters. A lower and higher boundary of the output interval and the size of the distribution. The lower boundary is included in the process whereas the higher boundary is not included and will not be drawn. \n",
    "   \n",
    "#### numpy.random.normal\n",
    "   This function draw random samples from a normal or Gaussian distribution. The normal distribution, described as a bell curve, is important in statistics because it reflects many real-world events[3]. The values or samples are distributed symmetrically, with most clustered around a central peak or mean and the probability for values taper off equally on both sides of the mean. \n",
    "    This function takes three parameters; the loc or the mean of the distribution, the scale or the standard deviation (spread) and the size of the distribution.\n",
    "\n",
    "#### numpy.random.binomial\n",
    "\n",
    "\n",
    "#### numpy.random.poisson\n",
    "\n",
    "#### numpy.random.exponential\n",
    " \n",
    "\n",
    "## References\n",
    "[1] Python Software Foundation.\n",
    "    https://docs.python.org \n",
    "    \n",
    "[2] Wolfram MathWorld.\n",
    "    https://mathworld.wolfram.com\n",
    "   \n",
    "[3] https://stattrek.com"
   ]
  },
  {
   "cell_type": "code",
   "execution_count": null,
   "metadata": {},
   "outputs": [],
   "source": []
  },
  {
   "cell_type": "code",
   "execution_count": 1,
   "metadata": {},
   "outputs": [],
   "source": [
    "import numpy as np"
   ]
  },
  {
   "cell_type": "code",
   "execution_count": null,
   "metadata": {},
   "outputs": [],
   "source": []
  },
  {
   "cell_type": "code",
   "execution_count": null,
   "metadata": {},
   "outputs": [],
   "source": []
  },
  {
   "cell_type": "code",
   "execution_count": 2,
   "metadata": {
    "scrolled": true
   },
   "outputs": [
    {
     "data": {
      "text/plain": [
       "array([6.96194010e-01, 6.64666023e-03, 3.02911494e-01, 2.06042180e-01,\n",
       "       9.51524694e-01, 4.55301020e-01, 9.07837084e-02, 6.08567418e-01,\n",
       "       1.23600866e-01, 7.71327743e-01, 1.30229810e-01, 2.12310123e-01,\n",
       "       1.78692725e-01, 6.91972488e-01, 2.03470796e-01, 2.84188652e-01,\n",
       "       7.28310550e-01, 1.04964174e-01, 1.28423457e-01, 9.67920666e-01,\n",
       "       4.35161114e-01, 9.94543903e-03, 2.61379940e-03, 6.01944438e-01,\n",
       "       8.21863603e-01, 4.63681312e-01, 1.90349283e-01, 1.55500402e-01,\n",
       "       6.57495447e-01, 1.27573292e-02, 7.03494568e-01, 4.15272623e-01,\n",
       "       2.39625642e-01, 8.22902738e-01, 8.74914274e-01, 4.75175172e-01,\n",
       "       3.26670069e-01, 4.61968279e-01, 5.59269349e-01, 8.10110071e-01,\n",
       "       3.68214128e-01, 1.45938297e-02, 6.14132309e-01, 3.01096161e-01,\n",
       "       8.86851370e-01, 9.44924671e-01, 1.03991495e-01, 8.89744544e-01,\n",
       "       6.50591551e-02, 7.11586053e-01, 9.65493281e-01, 5.11642134e-02,\n",
       "       1.89316437e-01, 2.25423679e-01, 9.25055748e-01, 2.30449296e-01,\n",
       "       3.46643597e-01, 9.98157797e-01, 8.92024394e-01, 8.64779432e-01,\n",
       "       3.78810556e-01, 7.05397107e-01, 6.98307259e-01, 1.59570339e-01,\n",
       "       8.78679904e-01, 7.89459229e-01, 3.54941338e-01, 8.25747727e-01,\n",
       "       7.53879776e-01, 8.88743242e-01, 9.08596656e-01, 3.81672389e-01,\n",
       "       5.06278720e-01, 2.36678770e-01, 7.14618176e-01, 4.27111557e-01,\n",
       "       2.42322419e-01, 1.55244681e-02, 3.40049686e-01, 3.78895241e-01,\n",
       "       6.19813619e-01, 7.26594940e-01, 3.37124927e-01, 1.11199783e-02,\n",
       "       9.72318826e-01, 7.88037376e-01, 1.82542635e-01, 3.05760678e-01,\n",
       "       3.58247884e-01, 9.85200050e-01, 9.11340002e-01, 7.25098979e-01,\n",
       "       9.96189415e-01, 6.58791602e-01, 9.56337185e-01, 6.75131686e-01,\n",
       "       5.89661640e-02, 6.92484731e-01, 2.24994800e-01, 5.17319368e-01,\n",
       "       5.95331611e-01, 7.12985917e-01, 6.31109248e-01, 6.24946638e-01,\n",
       "       2.23696902e-01, 9.35438503e-01, 6.97186454e-01, 5.26501277e-01,\n",
       "       2.81495251e-01, 4.63847484e-01, 6.12296262e-01, 8.40487274e-02,\n",
       "       4.29873124e-01, 4.32284007e-01, 5.89210960e-01, 6.55250579e-02,\n",
       "       6.96105148e-01, 7.34571271e-01, 2.50633023e-01, 4.12691309e-01,\n",
       "       9.43780528e-01, 4.96643299e-01, 8.55555342e-02, 8.51782012e-02,\n",
       "       2.90798965e-01, 2.32977720e-01, 6.80699171e-01, 6.52566700e-01,\n",
       "       2.13457804e-01, 5.12324636e-01, 6.33219063e-01, 2.48614254e-02,\n",
       "       9.25201866e-01, 7.49362978e-01, 9.99087270e-01, 3.88067359e-01,\n",
       "       8.31778119e-01, 1.02197916e-01, 3.53648477e-01, 6.76185376e-01,\n",
       "       5.33175629e-01, 4.92034805e-01, 5.77049583e-01, 3.43161894e-01,\n",
       "       2.24884452e-02, 2.00987118e-01, 7.53398721e-01, 1.94601481e-01,\n",
       "       8.82589145e-01, 2.57966421e-01, 4.40408257e-01, 3.98935975e-01,\n",
       "       8.99090917e-02, 3.70352611e-01, 3.46200153e-02, 1.53842840e-02,\n",
       "       5.27520208e-01, 5.64072603e-01, 5.27168680e-02, 9.87771207e-01,\n",
       "       7.60589200e-01, 3.60704899e-02, 1.52227116e-01, 7.75372972e-01,\n",
       "       8.77085160e-01, 3.96497140e-01, 3.34368221e-01, 9.81717586e-01,\n",
       "       6.89860292e-01, 8.85035390e-01, 4.78192992e-01, 9.19092640e-01,\n",
       "       6.09741736e-01, 1.53871653e-02, 3.53483060e-01, 4.79990319e-01,\n",
       "       3.13776762e-01, 5.53790724e-01, 9.94684283e-01, 2.34830148e-01,\n",
       "       4.02999693e-01, 2.47615823e-01, 7.78758426e-01, 6.58174375e-01,\n",
       "       6.07055969e-01, 7.39929769e-01, 9.10953467e-01, 2.78259027e-01,\n",
       "       1.59784791e-01, 3.08840636e-01, 1.91548257e-01, 9.34080559e-02,\n",
       "       7.74914203e-01, 7.73726236e-01, 2.00159670e-01, 4.96827398e-01,\n",
       "       3.51243590e-01, 9.76312979e-01, 5.79004377e-01, 9.25701642e-01,\n",
       "       5.70033823e-01, 7.96908389e-02, 3.01360406e-01, 2.72981508e-01,\n",
       "       4.78913997e-01, 9.37120795e-01, 7.94975090e-01, 7.84808795e-01,\n",
       "       6.83408673e-01, 9.62763274e-01, 9.86925300e-01, 4.33637929e-01,\n",
       "       2.23546886e-01, 3.69352840e-01, 4.34905639e-01, 6.20986213e-01,\n",
       "       1.46173542e-02, 9.07358406e-01, 8.23069184e-01, 3.00246640e-01,\n",
       "       2.44782687e-01, 3.05469786e-01, 6.30910642e-01, 9.87842433e-01,\n",
       "       7.88269338e-01, 5.85006861e-01, 6.21809193e-01, 1.38036538e-03,\n",
       "       2.40128624e-01, 3.03580682e-01, 7.64106587e-01, 7.85953692e-01,\n",
       "       3.87193146e-01, 3.10552309e-01, 6.93345709e-01, 6.13233483e-01,\n",
       "       7.38198711e-03, 2.70768977e-02, 3.12569113e-01, 3.23187763e-01,\n",
       "       6.09926445e-01, 2.37726047e-01, 9.65463682e-01, 4.14719366e-01,\n",
       "       1.89846708e-01, 2.93013623e-01, 6.13617279e-01, 1.45342071e-01,\n",
       "       6.07214359e-01, 2.48985503e-01, 8.59147103e-01, 7.68683122e-02,\n",
       "       8.87891568e-01, 3.05034013e-01, 2.27845047e-01, 3.91034705e-01,\n",
       "       9.27963212e-01, 3.23282620e-01, 9.44166030e-02, 4.33480571e-01,\n",
       "       9.12562661e-01, 4.55742458e-01, 1.58320541e-01, 2.48564824e-01,\n",
       "       4.07306269e-01, 5.32555504e-01, 1.78478722e-01, 6.39438050e-01,\n",
       "       6.19083734e-01, 6.48851093e-01, 5.82027287e-01, 5.39392890e-01,\n",
       "       7.30241718e-01, 9.42837225e-01, 3.25232644e-01, 4.53435287e-01,\n",
       "       9.04726997e-01, 3.71209001e-01, 5.81715926e-01, 7.08348083e-01,\n",
       "       1.76627608e-01, 6.18598857e-01, 3.85242791e-01, 1.17987318e-01,\n",
       "       7.09082269e-02, 3.58682888e-01, 5.85675466e-02, 5.56306778e-01,\n",
       "       5.34783566e-01, 1.96095767e-01, 3.50730859e-01, 6.09307395e-01,\n",
       "       6.92873307e-01, 7.32605664e-01, 8.06168636e-01, 1.94068560e-01,\n",
       "       1.13420610e-01, 5.47834416e-02, 6.33662765e-01, 1.99527854e-01,\n",
       "       1.29282153e-02, 6.86855164e-04, 4.78315029e-01, 1.16658564e-01,\n",
       "       6.93475428e-01, 2.30436986e-02, 2.27290066e-01, 5.74951875e-01,\n",
       "       5.84973653e-01, 2.38628977e-01, 4.16370450e-02, 9.84119499e-01,\n",
       "       4.80156173e-01, 1.59503715e-01, 3.42795356e-01, 4.77385804e-01,\n",
       "       7.70559422e-01, 5.67855350e-01, 5.78464277e-01, 3.87378822e-01,\n",
       "       4.90959841e-01, 4.02961691e-01, 6.22800452e-01, 1.94331962e-01,\n",
       "       9.73831697e-01, 5.03157898e-01, 5.54314788e-02, 4.98091233e-01,\n",
       "       2.52976340e-01, 2.47971724e-01, 3.43709595e-01, 5.06391816e-01,\n",
       "       8.67099737e-01, 7.53669576e-01, 6.90480617e-01, 1.24201584e-01,\n",
       "       2.17476472e-01, 2.04606524e-01, 2.67719781e-01, 4.34181938e-01,\n",
       "       6.32975703e-01, 4.57674652e-02, 8.80094345e-01, 6.84526732e-01,\n",
       "       8.09687605e-01, 5.19199672e-01, 8.51181961e-01, 1.54543445e-01,\n",
       "       9.55989344e-01, 7.82109105e-01, 4.19286617e-01, 7.44553734e-02,\n",
       "       1.21494060e-01, 5.96503642e-01, 3.55094977e-01, 9.64718367e-02,\n",
       "       4.71280328e-01, 8.69780895e-01, 7.86917730e-01, 1.33267857e-01,\n",
       "       1.52835016e-01, 2.50750538e-01, 6.09532311e-02, 7.02056801e-01,\n",
       "       5.24206691e-02, 4.82620232e-01, 8.84529250e-01, 3.96553760e-01,\n",
       "       5.13090423e-01, 7.00564340e-01, 8.33020012e-01, 9.76240775e-02,\n",
       "       1.59974679e-01, 2.04714568e-01, 3.36250711e-01, 2.52470163e-01,\n",
       "       2.16396119e-01, 2.08191734e-02, 1.00107825e-01, 5.93971824e-01,\n",
       "       3.67088101e-01, 4.29802149e-01, 9.41985866e-01, 5.03775879e-01,\n",
       "       4.84528547e-01, 8.84742557e-01, 5.11070855e-01, 1.34064711e-01,\n",
       "       4.16169899e-01, 7.79828509e-01, 2.92142712e-01, 9.58921622e-01,\n",
       "       5.53028006e-01, 3.09614725e-01, 5.83248947e-01, 5.66500142e-01,\n",
       "       1.00342367e-01, 5.74324555e-01, 3.07253440e-01, 6.80093953e-01,\n",
       "       3.49606418e-01, 2.35048202e-01, 8.55706748e-01, 8.45460045e-01,\n",
       "       9.49291405e-01, 1.69660728e-02, 7.40144167e-01, 9.56812712e-01,\n",
       "       6.84042499e-01, 4.43360273e-01, 8.59889594e-01, 5.20875731e-01,\n",
       "       6.87857425e-01, 6.05239615e-01, 1.74067831e-01, 8.49538394e-01,\n",
       "       8.75950433e-01, 2.21177809e-01, 9.85232861e-01, 3.87073065e-01,\n",
       "       1.55396910e-01, 3.91290877e-02, 9.96051005e-01, 9.89806065e-01,\n",
       "       9.14940843e-01, 2.33178219e-02, 6.93761007e-01, 7.25277700e-01,\n",
       "       3.48768204e-01, 4.26554872e-01, 4.15814650e-02, 8.80172893e-01,\n",
       "       7.48845971e-01, 9.37254294e-01, 2.81225420e-01, 3.70131176e-01,\n",
       "       6.31316620e-01, 8.47246683e-01, 9.02657717e-01, 4.48920688e-01,\n",
       "       4.63709379e-01, 1.95341932e-01, 8.66901025e-01, 5.88144261e-01,\n",
       "       6.01832794e-01, 9.80806407e-01, 9.39792552e-02, 8.15831647e-01,\n",
       "       2.83316574e-01, 7.08016899e-01, 9.31493136e-01, 7.08508672e-01,\n",
       "       4.25446743e-01, 4.14320529e-01, 6.30346498e-01, 3.15276939e-01,\n",
       "       6.09642244e-01, 5.32989892e-01, 5.57635499e-01, 5.56773301e-01,\n",
       "       8.05808972e-01, 3.24529927e-01, 6.90622165e-01, 5.20964701e-01,\n",
       "       2.42856369e-01, 9.53297500e-01, 7.75832453e-03, 9.72849431e-01,\n",
       "       3.96786079e-01, 5.12451184e-01, 9.15843110e-01, 5.22274794e-01,\n",
       "       9.53460865e-01, 1.75895624e-02, 3.59778711e-01, 8.38991811e-01,\n",
       "       7.17568722e-01, 5.33156432e-02, 8.25021597e-01, 9.11150940e-01,\n",
       "       2.64798561e-01, 6.80678883e-01, 6.10974377e-01, 1.50231367e-01,\n",
       "       4.17553387e-01, 3.55694261e-01, 7.29321479e-02, 2.47915194e-01,\n",
       "       4.13240698e-01, 2.90608148e-03, 8.50096379e-01, 9.37276782e-01,\n",
       "       3.91610667e-01, 1.05654673e-01, 1.55762917e-01, 1.92247058e-01,\n",
       "       3.36604607e-01, 3.17808660e-01, 5.57942737e-02, 7.53309057e-01,\n",
       "       7.27546847e-01, 8.31883372e-01, 6.13057712e-01, 6.40555779e-01,\n",
       "       5.75653644e-01, 7.04662887e-01, 8.06425381e-01, 3.64090758e-01,\n",
       "       6.14542216e-01, 2.43336001e-01, 5.23609333e-01, 3.49206016e-01,\n",
       "       8.72609598e-01, 6.39494201e-02, 1.11594357e-01, 8.99996626e-02,\n",
       "       6.84794951e-01, 4.45863640e-01, 6.08399627e-01, 1.55452124e-01,\n",
       "       9.41768290e-01, 7.62962461e-01, 7.63491139e-01, 3.01032056e-01,\n",
       "       9.02294280e-01, 6.40688827e-01, 2.63883579e-01, 7.55828394e-01,\n",
       "       9.91043162e-01, 5.31802230e-01, 7.65464795e-01, 1.27207159e-01,\n",
       "       7.63293413e-01, 3.29758438e-01, 1.07000135e-02, 6.49575756e-01,\n",
       "       9.71601432e-01, 3.76318477e-02, 9.86219862e-01, 1.47321328e-01,\n",
       "       5.20236764e-01, 5.06996319e-01, 9.05540125e-01, 6.23933868e-01,\n",
       "       5.26384919e-01, 1.45206773e-01, 5.43921304e-01, 5.30017081e-01,\n",
       "       6.23743174e-01, 5.33211268e-01, 8.77003747e-01, 7.68284338e-01,\n",
       "       4.94268732e-01, 8.41898699e-01, 9.46428641e-01, 1.70654545e-01,\n",
       "       6.46618743e-01, 2.80505916e-01, 7.48460460e-01, 4.85716697e-01,\n",
       "       9.24407147e-01, 7.87662996e-01, 5.12608429e-01, 5.99164779e-01,\n",
       "       9.22710595e-01, 1.34028705e-01, 5.67444931e-01, 3.98284759e-01,\n",
       "       7.89820224e-01, 8.65459236e-01, 4.19588007e-01, 5.32819987e-01,\n",
       "       7.41731425e-01, 9.10109195e-01, 3.99562926e-01, 7.16974687e-01,\n",
       "       7.65306625e-01, 5.95514224e-01, 6.14046712e-01, 9.87001439e-01,\n",
       "       1.53798439e-02, 5.78124050e-01, 5.22925143e-01, 3.34379095e-01,\n",
       "       2.01793134e-01, 7.47280927e-01, 8.21876343e-01, 7.55723187e-01,\n",
       "       9.83958132e-01, 6.76073187e-01, 7.52489364e-01, 6.68961897e-01,\n",
       "       7.63771415e-01, 7.43108265e-01, 3.54493142e-01, 2.20411615e-01,\n",
       "       4.21331245e-01, 8.01444330e-01, 7.81166480e-01, 5.71150410e-01,\n",
       "       1.95693372e-01, 5.07930905e-01, 1.65747550e-02, 7.56207088e-01,\n",
       "       3.99703838e-01, 8.72382769e-01, 7.31749869e-01, 7.46389262e-01,\n",
       "       5.55784180e-01, 5.61350246e-02, 2.17417288e-01, 8.73370749e-02,\n",
       "       3.44115278e-01, 4.86902790e-01, 4.92480683e-01, 1.29762174e-01,\n",
       "       7.28723279e-01, 4.11263443e-01, 2.25409507e-01, 2.17147631e-01,\n",
       "       2.21376339e-01, 1.57580694e-01, 9.23238781e-01, 1.08130602e-01,\n",
       "       4.31108483e-01, 8.29599236e-02, 3.72738118e-01, 5.72324128e-02,\n",
       "       7.03412431e-02, 8.88038242e-02, 5.05113465e-01, 2.78399161e-01,\n",
       "       6.44828572e-01, 2.16671033e-01, 7.83532284e-01, 5.89711139e-01,\n",
       "       2.43297962e-01, 2.19577741e-01, 1.07938479e-01, 5.07911975e-01,\n",
       "       9.04880413e-02, 5.09347815e-01, 6.86530357e-01, 6.19962997e-01,\n",
       "       7.25545135e-01, 6.77057518e-01, 9.12778801e-01, 3.04061689e-01,\n",
       "       9.41986561e-01, 9.80565127e-01, 7.74098983e-01, 4.32264175e-01,\n",
       "       2.48148806e-01, 6.92552188e-01, 2.25394549e-01, 1.15178139e-01,\n",
       "       8.98975118e-01, 4.73843107e-01, 3.51047245e-01, 7.58883442e-01,\n",
       "       4.59604836e-01, 3.13341551e-01, 3.75391350e-01, 3.95837654e-01,\n",
       "       8.69818863e-01, 7.22353952e-01, 7.99677047e-01, 7.55949561e-01,\n",
       "       7.87642949e-01, 7.26081039e-01, 6.41202605e-01, 5.62989046e-01,\n",
       "       5.36655442e-01, 4.92068158e-01, 9.42357546e-01, 7.64718527e-01,\n",
       "       6.64108570e-01, 2.24329206e-02, 8.78199596e-01, 5.11074596e-01,\n",
       "       5.62078168e-01, 1.69881872e-01, 8.33760229e-01, 6.10591856e-01,\n",
       "       5.39195459e-01, 6.66946003e-01, 6.09278426e-02, 2.52636009e-01,\n",
       "       5.60146804e-01, 4.12982353e-01, 9.63721874e-01, 1.73039702e-01,\n",
       "       1.71120345e-01, 7.42097861e-01, 3.25284459e-01, 1.51188011e-02,\n",
       "       3.23738576e-01, 4.14289097e-01, 9.62025644e-01, 4.16828668e-01,\n",
       "       3.83502729e-01, 8.77057760e-01, 7.48694484e-01, 8.06221970e-01,\n",
       "       9.58994457e-01, 8.96930176e-01, 3.28925646e-01, 1.50767249e-01,\n",
       "       3.29028331e-01, 8.01042081e-01, 4.26377054e-01, 9.74708187e-01,\n",
       "       7.83647804e-01, 3.34462534e-01, 5.05690021e-01, 2.20037666e-01,\n",
       "       6.23354025e-01, 6.34266092e-01, 4.55011611e-01, 8.86908476e-01,\n",
       "       2.87072180e-01, 2.29114677e-01, 2.29646615e-01, 3.66592430e-01,\n",
       "       9.54841883e-02, 4.14968009e-01, 7.77145038e-01, 6.75739850e-01,\n",
       "       6.03195559e-02, 8.95281836e-01, 4.55320161e-02, 4.34573564e-01,\n",
       "       6.14824627e-01, 3.89798878e-01, 6.40666938e-01, 7.52410242e-01,\n",
       "       4.23219646e-01, 7.00365764e-01, 5.21838655e-01, 3.21347482e-01,\n",
       "       8.20482888e-01, 9.09584838e-01, 4.62169153e-01, 5.32470914e-01,\n",
       "       9.49698772e-01, 4.80161133e-01, 5.07534272e-01, 2.48205793e-01,\n",
       "       7.52866005e-02, 3.45509802e-02, 2.86682164e-01, 1.43202559e-01,\n",
       "       5.50277812e-01, 2.38721296e-02, 6.32908800e-02, 5.42179566e-01,\n",
       "       8.24907822e-01, 1.81528770e-01, 4.72419316e-01, 5.67623043e-01,\n",
       "       5.15370024e-01, 6.88463302e-01, 5.03414762e-01, 2.34755686e-01,\n",
       "       1.63472164e-01, 9.99508393e-02, 4.73634315e-01, 5.17292963e-01,\n",
       "       2.32017352e-02, 7.00482928e-01, 3.86681275e-01, 7.01502520e-01,\n",
       "       8.50440733e-01, 2.09724144e-01, 7.62997954e-01, 7.62136920e-01,\n",
       "       3.90464072e-01, 6.38400642e-01, 6.39261056e-01, 9.67650628e-01,\n",
       "       2.74163731e-01, 1.32544656e-01, 7.24773672e-01, 7.03341952e-01,\n",
       "       3.00568756e-01, 3.68304945e-01, 9.09487197e-01, 9.94539065e-01,\n",
       "       7.51468220e-01, 5.32840730e-01, 5.90925795e-01, 4.62768834e-01,\n",
       "       1.61354649e-01, 4.49655189e-02, 7.01868935e-01, 9.27500197e-01,\n",
       "       7.88306630e-01, 9.24965036e-01, 7.41143345e-01, 2.53685148e-01,\n",
       "       6.40542795e-02, 6.66700036e-01, 7.49588495e-01, 7.61433556e-04,\n",
       "       5.13780759e-02, 7.08138883e-01, 8.57909336e-01, 1.90047271e-01,\n",
       "       8.49417213e-01, 5.75197487e-01, 1.56447773e-01, 2.15745088e-01,\n",
       "       4.50583168e-01, 6.02266772e-01, 2.67994831e-01, 4.89259958e-01,\n",
       "       9.27662959e-01, 1.78861679e-01, 8.64578716e-01, 4.54786823e-01,\n",
       "       1.79718106e-01, 3.24695580e-01, 8.45134404e-01, 8.08945857e-01,\n",
       "       1.79806416e-02, 2.41752989e-02, 1.72051609e-01, 8.10471608e-01,\n",
       "       3.47876301e-01, 4.74253031e-01, 8.60973497e-01, 5.52237908e-01,\n",
       "       2.90156690e-01, 7.88188250e-01, 5.98715364e-01, 4.85278737e-01,\n",
       "       3.97189643e-01, 7.87611095e-01, 8.79801111e-01, 5.16230960e-01,\n",
       "       7.75430775e-01, 1.91064586e-01, 8.75779221e-01, 5.95097995e-01,\n",
       "       3.38207359e-01, 9.96755010e-01, 1.17037613e-01, 2.43775035e-01,\n",
       "       6.41811635e-01, 1.58102928e-01, 1.31705633e-02, 4.87872377e-01,\n",
       "       4.46221442e-01, 3.95490592e-01, 3.42917799e-02, 6.62837473e-02,\n",
       "       2.76238464e-01, 1.90333080e-01, 3.90401885e-02, 8.88558133e-01,\n",
       "       5.58300867e-01, 5.69044282e-01, 7.92187921e-01, 4.36523817e-01,\n",
       "       9.68935983e-01, 7.76112785e-01, 5.83847508e-01, 8.36863957e-01,\n",
       "       3.72465081e-01, 7.38444292e-01, 8.18744447e-01, 6.55896283e-01,\n",
       "       3.95335189e-01, 3.67213536e-01, 8.52961009e-01, 8.18811466e-01,\n",
       "       7.29174661e-01, 3.43093834e-01, 4.65446369e-01, 6.41702720e-01,\n",
       "       6.19559373e-01, 8.25378245e-01, 4.79583665e-01, 8.37178098e-01,\n",
       "       8.81178130e-02, 4.16543684e-01, 4.74620811e-02, 9.21611878e-02,\n",
       "       3.91374182e-01, 3.88387222e-01, 5.70434420e-01, 3.00926395e-01,\n",
       "       9.61777020e-02, 8.13054378e-01, 5.17102906e-02, 4.82746263e-01,\n",
       "       6.11165197e-01, 5.45250374e-01, 6.15871958e-01, 3.76178081e-01,\n",
       "       8.68509507e-01, 8.98338437e-01, 7.80540529e-01, 5.64641709e-01,\n",
       "       9.70407076e-01, 7.48011759e-01, 7.83734699e-01, 6.84120686e-01,\n",
       "       2.57432656e-01, 4.16708355e-01, 2.24289664e-01, 5.82363538e-01,\n",
       "       8.45865912e-01, 9.44454881e-01, 9.99369802e-02, 2.45902242e-01,\n",
       "       9.17194694e-01, 3.68321348e-01, 8.17130367e-01, 1.39469996e-01,\n",
       "       3.80013110e-01, 6.64182356e-01, 3.83484734e-01, 3.84773980e-01,\n",
       "       1.72474232e-01, 4.22059233e-01, 7.46912498e-01, 2.49073366e-01,\n",
       "       9.87759323e-01, 7.28288167e-01, 5.99728355e-01, 3.66560269e-01,\n",
       "       4.32070750e-01, 2.77127435e-01, 4.00568837e-01, 2.86035415e-01,\n",
       "       7.22222451e-01, 7.32024648e-01, 6.69221539e-01, 3.49519085e-01,\n",
       "       3.40209646e-01, 2.18071841e-01, 4.65250528e-01, 1.42943072e-01,\n",
       "       6.63930282e-01, 3.28985038e-01, 3.47235604e-01, 7.17588734e-01,\n",
       "       9.94848227e-01, 4.01363617e-02, 3.76360334e-01, 4.74874735e-01,\n",
       "       3.45768573e-01, 6.58740692e-02, 1.28654640e-01, 4.31903915e-01,\n",
       "       4.92376266e-01, 8.97068807e-01, 8.06884391e-01, 3.30111920e-01,\n",
       "       5.82514659e-01, 1.11612142e-01, 8.01065331e-01, 2.62364738e-02,\n",
       "       6.48440825e-01, 1.98893870e-01, 4.58416670e-01, 7.77561450e-01,\n",
       "       5.82626946e-01, 3.54675195e-01, 2.41920108e-02, 1.47520154e-01,\n",
       "       1.21205480e-01, 6.53698984e-01, 5.16527777e-01, 5.61129405e-02,\n",
       "       2.61253808e-01, 4.24984868e-02, 7.37099297e-01, 2.89075592e-01,\n",
       "       9.15759973e-01, 2.18240052e-02, 7.48980734e-01, 7.60726690e-01,\n",
       "       4.77533688e-01, 1.38787501e-01, 3.93945804e-01, 1.89101888e-01,\n",
       "       3.70460251e-01, 9.32451722e-01, 4.43139857e-01, 9.33065704e-02,\n",
       "       2.37513060e-01, 8.24669026e-01, 5.01564480e-02, 4.24698839e-01,\n",
       "       9.18915098e-01, 4.32666525e-01, 6.52749295e-01, 5.67287896e-01])"
      ]
     },
     "execution_count": 2,
     "metadata": {},
     "output_type": "execute_result"
    }
   ],
   "source": [
    "x = np.random.rand(1000)\n",
    "x"
   ]
  },
  {
   "cell_type": "code",
   "execution_count": 3,
   "metadata": {},
   "outputs": [
    {
     "data": {
      "text/plain": [
       "(array([109.,  85.,  90., 119.,  98., 102., 103., 113.,  88.,  93.]),\n",
       " array([6.86855164e-04, 1.00526897e-01, 2.00366938e-01, 3.00206980e-01,\n",
       "        4.00047021e-01, 4.99887063e-01, 5.99727104e-01, 6.99567146e-01,\n",
       "        7.99407187e-01, 8.99247229e-01, 9.99087270e-01]),\n",
       " <a list of 10 Patch objects>)"
      ]
     },
     "execution_count": 3,
     "metadata": {},
     "output_type": "execute_result"
    }
   ],
   "source": [
    "import matplotlib.pyplot as plt\n",
    "\n",
    "\n",
    "plt.hist(x)"
   ]
  },
  {
   "cell_type": "code",
   "execution_count": 4,
   "metadata": {},
   "outputs": [
    {
     "data": {
      "text/plain": [
       "(array([ 12.,  31.,  84., 154., 206., 220., 155.,  92.,  33.,  13.]),\n",
       " array([0.08459016, 0.66890031, 1.25321046, 1.83752061, 2.42183076,\n",
       "        3.00614091, 3.59045106, 4.17476121, 4.75907136, 5.34338151,\n",
       "        5.92769166]),\n",
       " <a list of 10 Patch objects>)"
      ]
     },
     "execution_count": 4,
     "metadata": {},
     "output_type": "execute_result"
    },
    {
     "data": {
      "image/png": "[encoded data removed]",
      "text/plain": [
       "<Figure size 432x288 with 1 Axes>"
      ]
     },
     "metadata": {},
     "output_type": "display_data"
    }
   ],
   "source": [
    "z = np.random.randn(1000) + 3\n",
    "plt.hist(z)"
   ]
  },
  {
   "cell_type": "code",
   "execution_count": 5,
   "metadata": {},
   "outputs": [
    {
     "data": {
      "text/plain": [
       "(array([ 99.,  88.,  89., 105.,  90.,  99., 101.,  98., 121., 110.]),\n",
       " array([ 1. , 10.8, 20.6, 30.4, 40.2, 50. , 59.8, 69.6, 79.4, 89.2, 99. ]),\n",
       " <a list of 10 Patch objects>)"
      ]
     },
     "execution_count": 5,
     "metadata": {},
     "output_type": "execute_result"
    },
    {
     "data": {
      "image/png": "[encoded data removed]",
      "text/plain": [
       "<Figure size 432x288 with 1 Axes>"
      ]
     },
     "metadata": {},
     "output_type": "display_data"
    }
   ],
   "source": [
    "y = np.random.randint(1,100, size = 1000)\n",
    "plt.hist (y)"
   ]
  },
  {
   "cell_type": "code",
   "execution_count": 6,
   "metadata": {},
   "outputs": [
    {
     "data": {
      "text/plain": [
       "array([66, 74, 49, 95, 33, 20, 85, 89, 80, 57,  1, 92, 29, 19, 35, 60, 71,\n",
       "       14, 99, 45, 51, 90, 22, 37,  2, 54, 97, 13, 95, 50, 94,  5, 89, 23,\n",
       "       94, 58, 28, 93, 52, 60, 57, 40,  2,  1, 48, 15, 88, 58, 64,  7, 40,\n",
       "       93,  5, 84, 24,  2, 38, 71, 52, 25, 63, 47, 79, 32, 40, 79, 16, 25,\n",
       "       81,  3, 62,  2, 27, 28, 31, 65, 96, 72, 76,  9, 43, 60, 26, 89,  7,\n",
       "       96, 32, 81, 43, 42, 16, 86,  7, 71, 71, 97, 21, 22, 73, 97, 71, 45,\n",
       "       11, 85, 34, 66, 95, 71, 99, 63, 72, 69, 40, 62, 10, 94, 78, 90, 49,\n",
       "        5,  2, 79, 60, 86, 93, 10, 31, 35,  4, 44, 53, 90, 13, 25, 36, 91,\n",
       "       54, 42, 60,  4, 56, 89,  7, 87, 59, 73, 27, 90, 78, 22, 42, 46, 91,\n",
       "       59, 38, 21, 16, 73, 54, 14, 19, 18, 71, 54, 28, 68, 77, 88, 37, 86,\n",
       "       59, 91,  7, 97, 59, 73,  4, 12,  6, 68, 59, 80, 83, 88,  8, 90, 99,\n",
       "       46, 90, 43, 35, 69, 35, 27, 80, 28, 69, 57, 57, 12, 14, 26, 62, 77,\n",
       "       50, 75,  7, 83, 66, 75, 42, 23, 82, 90, 94, 48, 82, 34, 49, 13, 91,\n",
       "       60, 11, 48, 65, 37, 73, 75, 24, 65, 56, 89, 93, 97, 30, 39, 33, 53,\n",
       "       50,  3, 32,  2, 47, 11, 34, 14, 43, 80, 39, 82, 45, 75, 13, 38, 55,\n",
       "       71, 94, 99, 97, 37, 37, 44, 31, 51, 75, 28, 57, 98, 45, 33, 18, 31,\n",
       "       85, 69, 70, 38, 73, 14,  1, 69, 66, 21, 97, 58,  6, 69,  7, 74, 69,\n",
       "       68, 74, 61, 81,  6, 90, 44, 30, 50, 78, 59, 38, 71, 25, 84, 33, 38,\n",
       "       66, 16,  4, 53, 43, 23, 18,  3, 48, 45, 34, 36, 21, 27, 66, 25, 90,\n",
       "        5, 42, 56, 21, 86, 36, 94, 53, 89, 53, 26, 79, 61, 51, 12, 26, 49,\n",
       "       83, 81, 32, 46, 29, 68, 94, 56,  4, 78, 71, 47, 76, 28, 66, 74, 86,\n",
       "       71,  6, 80, 93, 11, 25, 85, 88, 73, 47, 11, 62, 92, 76, 44, 57, 31,\n",
       "       23, 19, 43, 79, 37,  5, 17, 10, 32, 56, 86, 44, 96, 45, 29, 59, 14,\n",
       "       48, 58, 35, 24, 77,  1, 89, 79,  8, 75, 26, 85, 76, 71, 38, 85, 48,\n",
       "       48, 96, 78, 61, 62, 38,  6,  8, 90, 12, 99, 89, 14, 96, 75, 33,  8,\n",
       "       85, 23,  8, 86, 55, 22,  3, 74, 56, 66, 89, 77, 59, 50, 96, 67, 13,\n",
       "       34, 12, 38, 65, 58,  7, 17, 11, 24,  4, 50, 14, 57, 51, 58, 70, 58,\n",
       "       70, 66, 17, 88, 86,  6, 71, 41, 25, 76, 22, 27, 94, 91, 95, 82, 65,\n",
       "       45, 54, 37, 10, 40, 74, 62, 69, 78, 28, 66, 89, 22, 80, 57, 80, 64,\n",
       "       18,  3, 78, 89, 54, 61, 51, 10, 63, 88, 54, 34, 85,  9, 80, 11, 88,\n",
       "       75, 34, 39, 59,  4,  1, 91, 80, 46, 51, 54, 83,  2, 80, 60, 29, 92,\n",
       "       83, 20,  3, 51, 12, 19, 44, 53, 47, 62, 11, 65, 38, 99, 46, 22, 92,\n",
       "       86, 46, 18, 95, 57, 26, 90, 43, 91, 64, 15, 85, 59,  2, 50, 46, 36,\n",
       "        1, 23, 15, 61, 63, 19, 62, 97, 90, 68, 37, 99, 93, 79, 88, 83, 58,\n",
       "       60, 26, 18,  7, 76, 14, 20, 16,  5,  8, 47, 34, 46, 84, 38, 39, 29,\n",
       "       70, 84, 86, 62, 78, 86, 83, 32, 67, 37, 67, 15, 91,  7, 78, 22, 48,\n",
       "        5, 34,  2, 97, 87, 20, 45, 85, 81, 71, 44, 32, 81, 22, 21, 81, 55,\n",
       "       23, 19, 44, 83, 34, 60, 31, 28, 62, 48, 17, 86, 96, 63, 91, 56,  5,\n",
       "       45, 53, 40, 15, 79, 77, 92, 33, 28, 34, 33, 73,  1, 99, 56,  7, 55,\n",
       "       85, 92, 70,  7, 10, 77, 86, 64, 67, 54, 80, 37, 76, 17, 92, 77,  5,\n",
       "        4, 75, 95, 41, 31, 89, 94, 87, 91, 96, 69,  3, 21, 48,  7, 39, 11,\n",
       "       86, 69, 13, 80, 28, 75, 69, 86, 36, 56, 53, 53, 88,  8, 98, 40, 63,\n",
       "       96, 13, 54, 66, 92, 63,  4,  2, 38,  2, 92, 14, 54, 36, 60, 72, 22,\n",
       "       31, 81, 74, 91, 37, 56, 20, 79, 45, 94,  6, 67, 71, 18, 34, 47, 83,\n",
       "       64, 63, 92, 94, 56, 56, 69, 72, 64, 70, 12, 84, 35, 39, 39, 10, 78,\n",
       "       49, 79, 67, 58, 31, 82, 68, 49, 87, 61, 44, 35,  2, 20, 30, 36, 99,\n",
       "       92, 23, 37, 31, 90, 88, 86, 58, 11, 84, 96, 63, 63, 91, 94, 96, 65,\n",
       "       44, 95, 27, 84, 14, 89, 86, 16, 37, 65, 42, 31,  9, 44, 51, 58, 91,\n",
       "       43, 44, 63, 69, 42, 83, 46, 25, 75,  5, 88, 81, 29, 10,  1, 40, 54,\n",
       "        7, 21, 98, 62, 30, 52, 66, 10, 42, 56, 76, 82, 42, 38, 12, 80, 29,\n",
       "       41, 19, 53, 46, 36, 44, 11,  7, 40, 10, 78, 86, 81, 96, 64, 29, 28,\n",
       "       24, 71, 86, 14, 44, 63, 33, 32, 43, 38, 23, 45, 26, 64, 15, 11, 59,\n",
       "       95, 10, 23, 98, 80, 36, 78, 85,  2, 42, 92, 59, 81, 70, 12, 21, 50,\n",
       "       86, 17,  4, 10,  4, 15, 94, 10, 64, 56, 88, 58, 69, 10, 84, 56, 92,\n",
       "        9, 91, 68, 31, 99, 45, 81, 78,  1, 78, 30, 75, 28, 50, 42,  4, 23,\n",
       "       94, 88, 24, 29, 81, 91, 65, 30, 41, 70, 71, 92, 49, 51, 25, 38, 87,\n",
       "       57, 48, 36, 14, 43, 89, 41, 96, 16, 41, 19, 91, 17, 88, 29, 35, 63,\n",
       "       38, 20, 15, 41, 70, 11, 53, 53, 21, 46, 66, 96, 71, 29, 38, 37, 85,\n",
       "       80, 67, 92, 55, 67, 14,  6, 11, 97, 88, 89, 74, 89, 66])"
      ]
     },
     "execution_count": 6,
     "metadata": {},
     "output_type": "execute_result"
    }
   ],
   "source": [
    "y"
   ]
  },
  {
   "cell_type": "code",
   "execution_count": 7,
   "metadata": {},
   "outputs": [
    {
     "data": {
      "text/plain": [
       "array([1., 1., 1., 1., 1., 1., 1., 1., 1., 1., 1., 1., 1., 1., 1., 1., 1.,\n",
       "       1., 1., 1., 1., 1., 1., 1., 1., 1., 1., 1., 1., 1., 1., 1., 1., 1.,\n",
       "       1., 1., 1., 1., 1., 1., 1., 1., 1., 1., 1., 1., 1., 1., 1., 1., 1.,\n",
       "       1., 1., 1., 1., 1., 1., 1., 1., 1., 1., 1., 1., 1., 1., 1., 1., 1.,\n",
       "       1., 1., 1., 1., 1., 1., 1., 1., 1., 1., 1., 1., 1., 1., 1., 1., 1.,\n",
       "       1., 1., 1., 1., 1., 1., 1., 1., 1., 1., 1., 1., 1., 1., 1., 1., 1.,\n",
       "       1., 1., 1., 1., 1., 1., 1., 1., 1., 1., 1., 1., 1., 1., 1., 1., 1.,\n",
       "       1., 1., 1., 1., 1., 1., 1., 1., 1., 1., 1., 1., 1., 1., 1., 1., 1.,\n",
       "       1., 1., 1., 1., 1., 1., 1., 1., 1., 1., 1., 1., 1., 1., 1., 1., 1.,\n",
       "       1., 1., 1., 1., 1., 1., 1., 1., 1., 1., 1., 1., 1., 1., 1., 1., 1.,\n",
       "       1., 1., 1., 1., 1., 1., 1., 1., 1., 1., 1., 1., 1., 1., 1., 1., 1.,\n",
       "       1., 1., 1., 1., 1., 1., 1., 1., 1., 1., 1., 1., 1., 1., 1., 1., 1.,\n",
       "       1., 1., 1., 1., 1., 1., 1., 1., 1., 1., 1., 1., 1., 1., 1., 1., 1.,\n",
       "       1., 1., 1., 1., 1., 1., 1., 1., 1., 1., 1., 1., 1., 1., 1., 1., 1.,\n",
       "       1., 1., 1., 1., 1., 1., 1., 1., 1., 1., 1., 1., 1., 1., 1., 1., 1.,\n",
       "       1., 1., 1., 1., 1., 1., 1., 1., 1., 1., 1., 1., 1., 1., 1., 1., 1.,\n",
       "       1., 1., 1., 1., 1., 1., 1., 1., 1., 1., 1., 1., 1., 1., 1., 1., 1.,\n",
       "       1., 1., 1., 1., 1., 1., 1., 1., 1., 1., 1., 1., 1., 1., 1., 1., 1.,\n",
       "       1., 1., 1., 1., 1., 1., 1., 1., 1., 1., 1., 1., 1., 1., 1., 1., 1.,\n",
       "       1., 1., 1., 1., 1., 1., 1., 1., 1., 1., 1., 1., 1., 1., 1., 1., 1.,\n",
       "       1., 1., 1., 1., 1., 1., 1., 1., 1., 1., 1., 1., 1., 1., 1., 1., 1.,\n",
       "       1., 1., 1., 1., 1., 1., 1., 1., 1., 1., 1., 1., 1., 1., 1., 1., 1.,\n",
       "       1., 1., 1., 1., 1., 1., 1., 1., 1., 1., 1., 1., 1., 1., 1., 1., 1.,\n",
       "       1., 1., 1., 1., 1., 1., 1., 1., 1., 1., 1., 1., 1., 1., 1., 1., 1.,\n",
       "       1., 1., 1., 1., 1., 1., 1., 1., 1., 1., 1., 1., 1., 1., 1., 1., 1.,\n",
       "       1., 1., 1., 1., 1., 1., 1., 1., 1., 1., 1., 1., 1., 1., 1., 1., 1.,\n",
       "       1., 1., 1., 1., 1., 1., 1., 1., 1., 1., 1., 1., 1., 1., 1., 1., 1.,\n",
       "       1., 1., 1., 1., 1., 1., 1., 1., 1., 1., 1., 1., 1., 1., 1., 1., 1.,\n",
       "       1., 1., 1., 1., 1., 1., 1., 1., 1., 1., 1., 1., 1., 1., 1., 1., 1.,\n",
       "       1., 1., 1., 1., 1., 1., 1., 1., 1., 1., 1., 1., 1., 1., 1., 1., 1.,\n",
       "       1., 1., 1., 1., 1., 1., 1., 1., 1., 1., 1., 1., 1., 1., 1., 1., 1.,\n",
       "       1., 1., 1., 1., 1., 1., 1., 1., 1., 1., 1., 1., 1., 1., 1., 1., 1.,\n",
       "       1., 1., 1., 1., 1., 1., 1., 1., 1., 1., 1., 1., 1., 1., 1., 1., 1.,\n",
       "       1., 1., 1., 1., 1., 1., 1., 1., 1., 1., 1., 1., 1., 1., 1., 1., 1.,\n",
       "       1., 1., 1., 1., 1., 1., 1., 1., 1., 1., 1., 1., 1., 1., 1., 1., 1.,\n",
       "       1., 1., 1., 1., 1., 1., 1., 1., 1., 1., 1., 1., 1., 1., 1., 1., 1.,\n",
       "       1., 1., 1., 1., 1., 1., 1., 1., 1., 1., 1., 1., 1., 1., 1., 1., 1.,\n",
       "       1., 1., 1., 1., 1., 1., 1., 1., 1., 1., 1., 1., 1., 1., 1., 1., 1.,\n",
       "       1., 1., 1., 1., 1., 1., 1., 1., 1., 1., 1., 1., 1., 1., 1., 1., 1.,\n",
       "       1., 1., 1., 1., 1., 1., 1., 1., 1., 1., 1., 1., 1., 1., 1., 1., 1.,\n",
       "       1., 1., 1., 1., 1., 1., 1., 1., 1., 1., 1., 1., 1., 1., 1., 1., 1.,\n",
       "       1., 1., 1., 1., 1., 1., 1., 1., 1., 1., 1., 1., 1., 1., 1., 1., 1.,\n",
       "       1., 1., 1., 1., 1., 1., 1., 1., 1., 1., 1., 1., 1., 1., 1., 1., 1.,\n",
       "       1., 1., 1., 1., 1., 1., 1., 1., 1., 1., 1., 1., 1., 1., 1., 1., 1.,\n",
       "       1., 1., 1., 1., 1., 1., 1., 1., 1., 1., 1., 1., 1., 1., 1., 1., 1.,\n",
       "       1., 1., 1., 1., 1., 1., 1., 1., 1., 1., 1., 1., 1., 1., 1., 1., 1.,\n",
       "       1., 1., 1., 1., 1., 1., 1., 1., 1., 1., 1., 1., 1., 1., 1., 1., 1.,\n",
       "       1., 1., 1., 1., 1., 1., 1., 1., 1., 1., 1., 1., 1., 1., 1., 1., 1.,\n",
       "       1., 1., 1., 1., 1., 1., 1., 1., 1., 1., 1., 1., 1., 1., 1., 1., 1.,\n",
       "       1., 1., 1., 1., 1., 1., 1., 1., 1., 1., 1., 1., 1., 1., 1., 1., 1.,\n",
       "       1., 1., 1., 1., 1., 1., 1., 1., 1., 1., 1., 1., 1., 1., 1., 1., 1.,\n",
       "       1., 1., 1., 1., 1., 1., 1., 1., 1., 1., 1., 1., 1., 1., 1., 1., 1.,\n",
       "       1., 1., 1., 1., 1., 1., 1., 1., 1., 1., 1., 1., 1., 1., 1., 1., 1.,\n",
       "       1., 1., 1., 1., 1., 1., 1., 1., 1., 1., 1., 1., 1., 1., 1., 1., 1.,\n",
       "       1., 1., 1., 1., 1., 1., 1., 1., 1., 1., 1., 1., 1., 1., 1., 1., 1.,\n",
       "       1., 1., 1., 1., 1., 1., 1., 1., 1., 1., 1., 1., 1., 1., 1., 1., 1.,\n",
       "       1., 1., 1., 1., 1., 1., 1., 1., 1., 1., 1., 1., 1., 1., 1., 1., 1.,\n",
       "       1., 1., 1., 1., 1., 1., 1., 1., 1., 1., 1., 1., 1., 1., 1., 1., 1.,\n",
       "       1., 1., 1., 1., 1., 1., 1., 1., 1., 1., 1., 1., 1., 1.])"
      ]
     },
     "execution_count": 7,
     "metadata": {},
     "output_type": "execute_result"
    }
   ],
   "source": [
    "np.random.uniform(1, size=1000)"
   ]
  },
  {
   "cell_type": "code",
   "execution_count": 8,
   "metadata": {},
   "outputs": [
    {
     "data": {
      "text/plain": [
       "array([5, 9, 1, 0, 4, 6, 3, 7, 2, 8])"
      ]
     },
     "execution_count": 8,
     "metadata": {},
     "output_type": "execute_result"
    }
   ],
   "source": [
    "np.random.permutation(10)\n"
   ]
  },
  {
   "cell_type": "code",
   "execution_count": 9,
   "metadata": {},
   "outputs": [
    {
     "data": {
      "text/plain": [
       "2"
      ]
     },
     "execution_count": 9,
     "metadata": {},
     "output_type": "execute_result"
    }
   ],
   "source": [
    "np.random.randint(1,10)"
   ]
  },
  {
   "cell_type": "code",
   "execution_count": 10,
   "metadata": {},
   "outputs": [
    {
     "data": {
      "text/plain": [
       "array([0, 1, 2, 3, 4, 5, 6, 7, 8])"
      ]
     },
     "execution_count": 10,
     "metadata": {},
     "output_type": "execute_result"
    }
   ],
   "source": [
    "arr = np.arange(9)\n",
    "arr\n"
   ]
  },
  {
   "cell_type": "code",
   "execution_count": 11,
   "metadata": {},
   "outputs": [
    {
     "data": {
      "text/plain": [
       "array([[0, 1, 2],\n",
       "       [3, 4, 5],\n",
       "       [6, 7, 8]])"
      ]
     },
     "execution_count": 11,
     "metadata": {},
     "output_type": "execute_result"
    }
   ],
   "source": [
    "x = np.reshape(arr, (3,3))\n",
    "x\n"
   ]
  },
  {
   "cell_type": "code",
   "execution_count": null,
   "metadata": {},
   "outputs": [],
   "source": []
  },
  {
   "cell_type": "code",
   "execution_count": 12,
   "metadata": {},
   "outputs": [
    {
     "data": {
      "text/plain": [
       "array([[6, 7, 8],\n",
       "       [3, 4, 5],\n",
       "       [0, 1, 2]])"
      ]
     },
     "execution_count": 12,
     "metadata": {},
     "output_type": "execute_result"
    }
   ],
   "source": [
    "arr2 = np.random.permutation(x)\n",
    "arr2"
   ]
  },
  {
   "cell_type": "markdown",
   "metadata": {},
   "source": [
    "#### numpy.random.binomial\n",
    "\n",
    "   This function draws samples from the binomial distribution. It simulates the probability of a \"yes/no\" or \"success/failure\" experiment, hence the prefix \"bi\" in binomial. A popular example is the coin toss where it has only two possible outcomes. function takes three parameters, n, p, s. The n which stands for the number of trials, p is the probability and s is the size or shape. "
   ]
  },
  {
   "cell_type": "code",
   "execution_count": 16,
   "metadata": {
    "scrolled": true
   },
   "outputs": [
    {
     "data": {
      "text/plain": [
       "array([ 6,  6,  5,  4,  6,  2,  5,  2,  4,  7,  3,  5,  5,  6,  6,  6,  7,\n",
       "        9,  5,  6,  5,  4,  3,  4,  5,  4,  2,  5,  5,  2,  3,  2,  6,  7,\n",
       "        7,  2,  6,  3,  4,  4,  3,  4,  3,  5,  7,  3,  6,  5,  2,  9,  6,\n",
       "        4,  4,  6,  3,  4,  3,  7,  5,  4,  5,  3,  7,  7,  2,  2,  4,  6,\n",
       "        4,  5,  8,  4,  4,  5,  6,  8,  6,  5,  3,  5,  6,  8,  4,  4,  7,\n",
       "        6,  7,  7,  4,  6,  5,  6,  8,  5,  5,  5,  4,  5,  5,  3,  4,  5,\n",
       "        6,  4,  2,  5,  3,  5,  6,  3,  7,  2,  5,  5,  3,  5,  6,  5,  4,\n",
       "        3,  4,  4,  6,  2,  6,  5,  5,  7,  3,  5,  6,  7,  3,  4,  6,  6,\n",
       "        7,  7,  3,  5,  5,  5,  7,  4,  8,  5,  5,  3,  3,  6,  7,  7,  6,\n",
       "        3,  4,  1,  4,  6,  8,  7,  7,  6,  3,  6,  4,  7,  3,  4,  6,  3,\n",
       "        5,  7,  7,  8,  5,  4,  5,  4,  9,  9,  5,  5,  6,  4,  4,  4,  4,\n",
       "        3,  4,  4,  3,  5,  7,  5,  5,  4,  3,  4,  7,  5,  5,  3,  2,  2,\n",
       "        6,  2,  5,  5,  4,  6,  6,  2,  5,  6,  2,  6,  5,  3,  2,  6,  5,\n",
       "        4,  4,  6,  4,  5,  6,  5,  3,  5,  4,  5,  4,  6,  5,  3,  5,  7,\n",
       "        4,  3,  5,  4,  5,  3,  7,  5,  5,  4,  6,  6,  9,  2,  4,  3,  8,\n",
       "        5,  5,  5,  8,  5,  6,  5,  5,  6,  4,  3,  5,  7,  3,  5,  3,  6,\n",
       "        6,  5,  5,  5,  4,  4,  5,  6,  6,  4,  8,  4,  3,  3,  6,  4,  5,\n",
       "        5,  2,  6,  4,  4,  4,  3,  6,  7,  8,  3,  5,  5,  5,  6,  6,  4,\n",
       "        5,  6,  7,  6,  4,  4,  5,  7,  5,  4,  6,  6,  4,  5,  7,  3,  7,\n",
       "        5,  6,  4,  3,  4,  3,  6,  6,  6, 10,  6,  7,  6,  4,  4,  6,  3,\n",
       "        4,  3,  7,  4,  5,  2,  4,  6,  4,  5,  3,  6,  6,  5,  8,  5,  5,\n",
       "        4,  6,  8,  6,  4,  6,  4,  4,  5,  7,  5,  8,  5,  5,  7,  5,  4,\n",
       "        2,  4,  2,  6,  2,  7,  3,  7,  5,  4,  6,  4,  5,  5,  6,  7,  5,\n",
       "        5,  7,  7,  6,  8,  4,  1,  6,  5,  8,  4,  3,  5,  4,  4,  6,  6,\n",
       "        6,  3,  5,  5,  6,  6,  7,  4,  3,  4,  4,  5,  5,  5,  5,  2,  5,\n",
       "        5,  5,  5,  7,  5,  3,  4,  6,  6,  5,  6,  5,  5,  5,  5,  6,  5,\n",
       "        6,  3,  5,  7,  6,  4,  3,  5,  6,  6,  5,  5,  5,  4,  4,  5,  7,\n",
       "        3,  3,  6,  7,  5,  5,  6,  7,  6,  5,  5,  5,  4,  5,  6,  5,  4,\n",
       "        1,  8,  7,  9,  6,  6,  6,  4,  6,  3,  4,  5,  3,  6,  8,  7,  3,\n",
       "        6,  7,  6,  5,  4,  4,  5,  5,  7,  4,  3,  4,  8,  4,  6,  6,  3,\n",
       "        5,  6,  8,  7,  3,  4,  4,  8,  5,  6,  6,  7,  2,  6,  5,  3,  5,\n",
       "        6,  3,  7,  3,  5,  4,  7,  4,  7,  6,  8,  5,  5,  4,  5,  5,  3,\n",
       "        5,  6,  7,  4,  5,  6,  6,  3,  5,  3,  3,  3,  6,  5,  7,  6,  4,\n",
       "        4,  5,  6,  5,  6,  8,  5,  9,  5,  3,  2,  4,  6,  8,  4,  5,  6,\n",
       "        4,  5,  4,  5,  3,  7,  7,  6,  4,  4,  3,  6,  6,  5,  7,  3,  5,\n",
       "        4,  5,  5,  6,  7,  5,  4,  5,  4,  6,  4,  3,  5,  6,  4,  3,  5,\n",
       "        4,  5,  6,  6,  8,  3,  3,  6,  7,  6,  6,  5,  7,  5,  5,  7,  6,\n",
       "        8,  5,  4,  5,  9,  3,  5,  3,  1,  6,  3,  7,  3,  8,  6,  5,  6,\n",
       "        6,  7,  3,  5,  4,  6,  3,  4,  7,  6,  4,  6,  4,  6,  8,  6,  4,\n",
       "        3,  4,  5,  5,  6,  5,  7,  5,  4,  8,  6,  6,  6,  2,  6,  5,  6,\n",
       "        6,  3,  4,  2,  5,  7,  5,  6,  3,  6,  5,  6,  6,  5,  4,  4,  7,\n",
       "        5,  6,  8,  7,  5,  5,  5,  2,  5,  5,  5,  6,  7,  9,  7,  7,  7,\n",
       "        5,  5,  6,  3,  5,  5,  1,  5,  6,  6,  5,  7,  5,  2,  5,  7,  7,\n",
       "        2,  5,  3,  4,  5,  6,  6,  6,  6,  5,  4,  6,  4,  4,  6,  7,  3,\n",
       "        5,  3,  4,  4,  3,  6,  6,  6,  4,  7,  2,  7,  5,  4,  8,  5,  6,\n",
       "        2,  7,  6,  6,  4,  6,  8,  7,  4,  6,  4,  6,  7,  6,  4,  3,  3,\n",
       "        4,  5,  4,  4,  2,  4,  4,  5,  3,  3,  5,  7,  2,  7,  6,  7,  7,\n",
       "        1,  4,  6,  6,  5,  4,  5,  5,  8,  7,  7,  4,  7,  5,  5,  7,  2,\n",
       "        4,  6,  8,  7,  5,  5,  4,  4,  2,  4,  5,  4,  7,  6,  5,  7,  7,\n",
       "        5,  5,  3,  2,  7,  4,  4,  6,  3,  6,  4,  6,  3,  4,  4,  7,  5,\n",
       "        7,  4,  7,  5,  7,  3,  4,  4,  6,  6,  7,  4,  6,  5,  4,  7,  2,\n",
       "        8,  5,  3,  3,  6,  5,  6,  4,  7,  7,  5,  6,  6,  4,  2,  6,  7,\n",
       "        7,  7,  5,  4,  6,  5,  5,  2,  3,  5,  5,  6,  4,  4,  7,  5,  5,\n",
       "        5,  6,  6,  5,  6,  6,  4,  5,  4,  5,  5,  8,  6,  8,  5,  4,  7,\n",
       "        4,  4,  6,  3,  4,  6,  6,  5,  5,  6,  5,  5,  6,  4,  5,  6,  5,\n",
       "        5,  5,  4,  4,  7,  3,  8,  7,  4,  6,  3,  9,  4,  7,  7,  4,  5,\n",
       "        6,  5,  6,  4,  2,  7,  5,  4,  4,  6,  4,  4,  8,  3,  3,  6,  5,\n",
       "        4,  4,  7,  5,  3,  7,  7,  7,  2,  4,  6,  6,  4,  6,  6,  7,  6,\n",
       "        4,  8,  6,  6,  8,  6,  3,  5,  4,  6,  6,  5,  4,  2])"
      ]
     },
     "execution_count": 16,
     "metadata": {},
     "output_type": "execute_result"
    }
   ],
   "source": [
    "# this is a simulation of flipping a coin 10 times and the number of \"successful\" result(s),  tested 1000 times\n",
    "\n",
    "n, p = 10, .5  # number of trials, probability of each trial\n",
    "s = np.random.binomial(n, p, 1000)\n",
    "s \n",
    "\n"
   ]
  },
  {
   "cell_type": "code",
   "execution_count": 17,
   "metadata": {},
   "outputs": [
    {
     "data": {
      "text/plain": [
       "(array([  6.,  45., 111., 196., 251., 216., 123.,  41.,  10.,   1.]),\n",
       " array([ 1. ,  1.9,  2.8,  3.7,  4.6,  5.5,  6.4,  7.3,  8.2,  9.1, 10. ]),\n",
       " <a list of 10 Patch objects>)"
      ]
     },
     "execution_count": 17,
     "metadata": {},
     "output_type": "execute_result"
    },
    {
     "data": {
      "image/png": "[encoded data removed]",
      "text/plain": [
       "<Figure size 432x288 with 1 Axes>"
      ]
     },
     "metadata": {},
     "output_type": "display_data"
    }
   ],
   "source": [
    "plt.hist(s)"
   ]
  },
  {
   "cell_type": "code",
   "execution_count": null,
   "metadata": {},
   "outputs": [],
   "source": []
  }
 ],
 "metadata": {
  "kernelspec": {
   "display_name": "Python 3",
   "language": "python",
   "name": "python3"
  },
  "language_info": {
   "codemirror_mode": {
    "name": "ipython",
    "version": 3
   },
   "file_extension": ".py",
   "mimetype": "text/x-python",
   "name": "python",
   "nbconvert_exporter": "python",
   "pygments_lexer": "ipython3",
   "version": "3.6.5"
  }
 },
 "nbformat": 4,
 "nbformat_minor": 2
}
