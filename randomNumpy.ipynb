{
 "cells": [
  {
   "cell_type": "markdown",
   "metadata": {},
   "source": [
    "# The numpy.random package\n",
    "\n",
    "The overall function of the numpy.random package is to generate arrays of random sample values. The samples or numbers generated though are not true random numbers but can be predicted, hence it can be  called more appropriately as pseudorandom numbers. This is a reason why this type of random number generation should not be used for security purposes [1]. If some key information is obtained, then the numbers can be reproduced. \n",
    "  \n",
    "The numpy.random package is similar with the python random module in that they both use the Mersenne Twister algorithm to generate random numbers.\n",
    "This package can generate data probability distributions useful for simulations in scientific research. These simulations may follow patterns for certain analyses to help discover relationships between systems. \n",
    "     \n",
    "  \n",
    " "
   ]
  },
  {
   "cell_type": "code",
   "execution_count": 1,
   "metadata": {},
   "outputs": [],
   "source": [
    "import numpy as np"
   ]
  },
  {
   "cell_type": "markdown",
   "metadata": {},
   "source": [
    "### Simple Random Data Package\n",
    "\n",
    "   The simple random data package is a collection of methods or functions to quickly generate random numbers in a given distribution. Some assumptions are set in these functions that affect how the numbers are generated. Some methods perform similar function and output such as random_sample, random, ranf and random. Four examples from the simple random data package follows, including corresponding histograms. "
   ]
  },
  {
   "cell_type": "code",
   "execution_count": 28,
   "metadata": {
    "scrolled": true
   },
   "outputs": [
    {
     "data": {
      "text/plain": [
       "array([8.96293089e-01, 1.25585310e-01, 2.07242878e-01, 5.14672033e-02,\n",
       "       4.40809844e-01, 2.98762109e-02, 4.56833224e-01, 6.49144048e-01,\n",
       "       2.78487283e-01, 6.76254902e-01, 5.90862817e-01, 2.39818824e-02,\n",
       "       5.58854088e-01, 2.59252447e-01, 4.15101197e-01, 2.83525082e-01,\n",
       "       6.93137918e-01, 4.40453718e-01, 1.56867738e-01, 5.44649018e-01,\n",
       "       7.80314765e-01, 3.06363532e-01, 2.21957884e-01, 3.87971258e-01,\n",
       "       9.36383650e-01, 9.75995422e-01, 6.72383676e-01, 9.02834109e-01,\n",
       "       8.45750871e-01, 3.77994041e-01, 9.22170089e-02, 6.53410903e-01,\n",
       "       5.57840762e-01, 3.61564763e-01, 2.25054505e-01, 4.06519916e-01,\n",
       "       4.68940249e-01, 2.69235578e-01, 2.91792774e-01, 4.57686399e-01,\n",
       "       8.60533913e-01, 5.86252904e-01, 2.83487862e-01, 2.77977507e-01,\n",
       "       4.54622076e-01, 2.05410345e-01, 2.01378711e-01, 5.14035060e-01,\n",
       "       8.72293688e-02, 4.83585532e-01, 3.62176212e-01, 7.07686622e-01,\n",
       "       7.46746223e-01, 6.91092922e-01, 6.89180414e-01, 3.73600124e-01,\n",
       "       6.68134805e-01, 3.39848664e-01, 5.72793870e-01, 3.25807158e-01,\n",
       "       4.45145049e-01, 6.15289308e-02, 2.42675422e-01, 9.71602606e-01,\n",
       "       2.30584204e-01, 6.91477511e-01, 6.50476858e-01, 7.23939139e-01,\n",
       "       4.75088611e-01, 5.96663775e-01, 6.69694239e-02, 7.25621378e-02,\n",
       "       1.98976026e-01, 1.51860997e-01, 1.00104345e-01, 1.29293865e-01,\n",
       "       5.53277732e-01, 1.87814825e-01, 9.52101243e-01, 6.81611779e-01,\n",
       "       5.41019673e-01, 7.07180601e-01, 2.63886671e-01, 9.26725684e-01,\n",
       "       8.39193058e-01, 7.26319498e-01, 4.80239956e-01, 8.42103186e-01,\n",
       "       7.44752323e-01, 6.60325906e-01, 9.13975267e-01, 6.33665564e-01,\n",
       "       3.65940585e-01, 5.52844573e-01, 1.96380577e-01, 1.92072296e-01,\n",
       "       7.25669624e-01, 7.84936703e-01, 9.72098364e-01, 8.50971417e-01,\n",
       "       5.43594327e-01, 8.97908695e-02, 4.88873245e-01, 9.27936348e-01,\n",
       "       7.87618200e-01, 4.85094226e-01, 4.55279361e-01, 2.17985768e-01,\n",
       "       1.77213381e-01, 7.36236692e-02, 8.92393188e-01, 6.40176617e-01,\n",
       "       1.43332317e-01, 4.14126920e-01, 4.91089244e-02, 2.09373350e-01,\n",
       "       7.30708124e-01, 6.51122770e-01, 4.78978297e-01, 2.74780505e-01,\n",
       "       6.52223125e-01, 9.56449511e-01, 4.35520556e-01, 7.01325051e-02,\n",
       "       5.77314878e-02, 8.28710188e-02, 9.59707187e-01, 5.40760836e-01,\n",
       "       8.37462433e-01, 1.70033544e-01, 2.60345073e-01, 6.91977512e-01,\n",
       "       8.95570328e-01, 3.40688484e-01, 6.46731980e-02, 8.64119669e-01,\n",
       "       2.90872446e-01, 7.41082406e-01, 1.58033655e-01, 6.94963435e-01,\n",
       "       8.41419619e-01, 7.27152079e-01, 3.59107525e-01, 7.26689751e-01,\n",
       "       1.39467124e-01, 3.13819115e-01, 4.19582757e-01, 8.77212039e-01,\n",
       "       1.53740209e-01, 8.80124790e-01, 7.98964319e-01, 9.71624297e-01,\n",
       "       3.67702983e-01, 2.04939769e-01, 2.40570320e-01, 8.27862801e-01,\n",
       "       9.65228149e-01, 6.98809998e-01, 4.82497042e-01, 2.87049765e-01,\n",
       "       8.33687884e-01, 8.72179508e-01, 9.21315918e-02, 2.15949471e-01,\n",
       "       8.31761090e-01, 8.48303897e-01, 3.14652999e-01, 2.79294597e-01,\n",
       "       4.30815022e-01, 5.39446500e-01, 9.55668150e-02, 8.36912139e-01,\n",
       "       5.34734870e-01, 7.74967815e-01, 2.30836266e-01, 9.65293351e-01,\n",
       "       7.51027307e-01, 3.43093864e-01, 9.48527647e-01, 7.00511779e-01,\n",
       "       8.40561085e-01, 4.54973059e-02, 5.56415411e-02, 7.42737274e-01,\n",
       "       3.04686433e-01, 5.16784366e-01, 1.56262424e-01, 9.77952410e-01,\n",
       "       5.02751048e-01, 8.29001078e-01, 7.40377963e-02, 4.78915452e-01,\n",
       "       6.22794804e-02, 8.84241431e-01, 4.45810179e-01, 6.85499183e-02,\n",
       "       7.64962823e-02, 5.38792658e-01, 7.55664045e-02, 1.83772318e-01,\n",
       "       4.36357084e-01, 4.97782831e-01, 5.83311915e-01, 6.20512681e-01,\n",
       "       3.72811500e-01, 6.18736583e-01, 1.57244658e-01, 2.75508475e-01,\n",
       "       7.98718271e-01, 1.53089301e-01, 2.23322973e-01, 2.42978180e-01,\n",
       "       4.79507305e-01, 7.45522042e-04, 3.03113605e-02, 4.61548152e-01,\n",
       "       1.62520685e-01, 6.79501804e-01, 7.95204587e-01, 5.78163359e-01,\n",
       "       6.94764977e-01, 3.90958016e-01, 4.62962030e-02, 4.39421533e-01,\n",
       "       3.71980312e-01, 5.97003242e-01, 1.34218170e-01, 2.27712897e-01,\n",
       "       8.14782417e-01, 2.64325527e-01, 4.10320205e-01, 9.35972176e-01,\n",
       "       2.75552463e-01, 1.45289959e-01, 7.02020129e-01, 5.67066550e-01,\n",
       "       6.11593836e-01, 4.20308510e-02, 4.17266895e-01, 4.26643417e-03,\n",
       "       2.46535469e-01, 7.06056184e-01, 6.15407159e-02, 2.94693499e-01,\n",
       "       9.88112753e-01, 9.71222230e-01, 4.81846389e-01, 7.35693387e-01,\n",
       "       6.32655774e-01, 4.65693071e-01, 8.57066433e-01, 1.72518252e-01,\n",
       "       8.28431922e-01, 4.20695235e-02, 8.66953692e-01, 6.75996587e-01,\n",
       "       4.45914110e-01, 6.71570248e-01, 4.60368504e-01, 7.80003222e-01,\n",
       "       1.13444084e-01, 5.08157429e-01, 8.71489540e-01, 9.27529276e-01,\n",
       "       2.20336332e-01, 2.51930303e-01, 9.04012472e-01, 3.45517339e-01,\n",
       "       5.68725740e-02, 7.14886672e-01, 4.14418859e-01, 7.35324187e-01,\n",
       "       4.77091633e-01, 5.00565554e-01, 4.17561910e-01, 2.90484896e-01,\n",
       "       9.00710867e-01, 6.68787578e-01, 7.88832343e-01, 8.95739531e-01,\n",
       "       2.50188942e-01, 9.19820614e-01, 8.62605087e-01, 5.06085262e-01,\n",
       "       5.67902174e-01, 1.14932238e-01, 7.62115841e-01, 1.73225007e-01,\n",
       "       5.33836041e-01, 1.26437305e-01, 7.29170936e-02, 6.09027444e-01,\n",
       "       4.91203130e-01, 6.74809935e-01, 7.90854183e-01, 9.82687493e-01,\n",
       "       8.40806811e-02, 6.31212112e-01, 5.76974895e-01, 6.50642177e-01,\n",
       "       5.43179455e-01, 5.57367388e-01, 8.68554634e-01, 4.52011616e-01,\n",
       "       5.34975579e-01, 6.90963704e-01, 8.94949914e-02, 4.31925319e-01,\n",
       "       1.02134221e-01, 1.37809893e-01, 2.12555847e-03, 2.09706436e-01,\n",
       "       2.16637262e-01, 5.16244481e-01, 5.70208238e-01, 8.23961181e-01,\n",
       "       4.86711189e-01, 8.91454599e-01, 3.95060790e-01, 7.44611447e-01,\n",
       "       5.52757262e-01, 6.23825086e-01, 2.70391997e-01, 9.37595008e-01,\n",
       "       7.69654715e-01, 1.45595029e-01, 5.37434370e-01, 9.95786306e-01,\n",
       "       4.90563325e-02, 3.02819838e-01, 7.40813371e-01, 3.93614477e-02,\n",
       "       7.46671091e-01, 5.73421280e-01, 7.31705676e-01, 5.50832596e-01,\n",
       "       9.39403478e-01, 3.46401703e-01, 5.74469460e-01, 5.07799790e-02,\n",
       "       5.53432834e-01, 4.19392944e-01, 9.83161788e-01, 9.45607319e-01,\n",
       "       1.38279415e-01, 4.16156415e-02, 1.20675067e-01, 1.92746968e-01,\n",
       "       7.26167994e-01, 5.43977954e-01, 5.34925335e-01, 4.64536979e-01,\n",
       "       6.69421838e-03, 3.92471914e-01, 9.98938441e-01, 8.20291205e-01,\n",
       "       5.72860711e-01, 1.96462961e-01, 9.20469425e-01, 4.24147247e-01,\n",
       "       6.19327273e-01, 2.03107657e-01, 3.28065744e-01, 3.44953463e-01,\n",
       "       3.94751870e-01, 2.22318866e-02, 6.60347052e-01, 1.69990018e-01,\n",
       "       6.03300263e-01, 6.19580347e-01, 6.97904746e-01, 2.91931186e-01,\n",
       "       2.92031987e-01, 7.55529477e-01, 3.88224195e-01, 1.52463261e-01,\n",
       "       9.05264901e-01, 1.30828100e-02, 8.86484408e-01, 2.92256776e-01,\n",
       "       3.81825040e-01, 9.78405152e-01, 4.36675741e-01, 7.15881979e-01,\n",
       "       4.12382767e-01, 9.13535812e-01, 7.19490499e-01, 4.80691788e-01,\n",
       "       8.42216490e-02, 3.63633868e-01, 4.90606702e-01, 2.83864183e-01,\n",
       "       5.34640509e-01, 2.09651068e-01, 4.94329576e-01, 5.28005195e-01,\n",
       "       6.73359641e-01, 7.45365845e-01, 7.29973742e-01, 4.24115900e-01,\n",
       "       4.55952331e-01, 8.73507101e-01, 3.62787923e-01, 7.38032831e-01,\n",
       "       9.94067232e-01, 9.24808384e-01, 5.49236868e-01, 3.05111387e-01,\n",
       "       6.22312636e-01, 6.84301668e-01, 5.26962255e-01, 3.41476631e-01,\n",
       "       4.55426571e-01, 8.17907430e-02, 2.91282205e-01, 1.44896755e-01,\n",
       "       6.66480731e-01, 9.59234142e-01, 1.57234683e-01, 2.82940719e-02,\n",
       "       7.41357169e-01, 3.54164490e-01, 5.05966277e-01, 6.10480752e-02,\n",
       "       1.77764947e-01, 6.95506292e-01, 6.05210620e-01, 8.53411222e-01,\n",
       "       9.62923214e-01, 3.59615099e-01, 6.20248507e-01, 4.47677412e-01,\n",
       "       5.05596963e-01, 3.91501759e-01, 9.77394227e-01, 6.23637817e-01,\n",
       "       1.41885427e-01, 6.97728441e-01, 9.65756257e-01, 8.94849387e-01,\n",
       "       5.58004083e-01, 1.47147837e-02, 8.05546332e-01, 9.31861340e-01,\n",
       "       7.33928982e-01, 4.28953127e-01, 3.80841108e-01, 7.44604764e-01,\n",
       "       1.07851097e-01, 7.84695847e-01, 4.98805218e-01, 7.01190131e-02,\n",
       "       8.23045214e-01, 3.91707477e-01, 1.06764936e-01, 1.73798444e-01,\n",
       "       8.59432616e-01, 1.72741799e-01, 7.84250466e-01, 8.04116100e-01,\n",
       "       8.65181456e-02, 4.35386578e-01, 7.87158973e-01, 4.90060881e-01,\n",
       "       8.66015819e-01, 3.79721250e-01, 6.28314419e-01, 2.13520265e-01,\n",
       "       8.42256384e-01, 8.39357286e-01, 5.65834335e-01, 3.23088447e-01,\n",
       "       3.47568191e-01, 5.94682742e-01, 1.28409077e-01, 5.10472840e-01,\n",
       "       2.95426271e-01, 3.41578354e-01, 3.21839050e-01, 8.34537184e-01,\n",
       "       1.75500612e-01, 2.36447568e-01, 1.64474922e-01, 1.51007732e-02,\n",
       "       4.25604730e-01, 8.43947492e-01, 9.02749257e-01, 4.87365662e-01,\n",
       "       4.21376359e-01, 8.68167231e-01, 5.28494777e-01, 5.48667175e-01,\n",
       "       6.49311918e-01, 7.96127307e-02, 8.38505577e-01, 1.05743042e-01,\n",
       "       5.32321547e-01, 9.26009542e-01, 5.48706813e-01, 3.42207844e-01,\n",
       "       7.26630868e-01, 9.01014550e-01, 6.16235366e-01, 5.58861427e-02,\n",
       "       8.78808598e-01, 1.79774514e-02, 6.78239237e-01, 9.00046023e-01,\n",
       "       1.57445564e-01, 5.28165130e-01, 7.05054590e-01, 1.75511630e-01,\n",
       "       2.45197585e-01, 6.65699890e-02, 1.59002509e-01, 1.18162069e-01,\n",
       "       2.90642432e-01, 7.50573419e-01, 6.93684471e-01, 7.62602422e-01,\n",
       "       6.59663943e-01, 7.94234198e-01, 1.48956312e-01, 5.54313594e-01,\n",
       "       2.14597529e-02, 4.91663897e-01, 8.43416847e-01, 4.72287123e-01,\n",
       "       2.95585977e-01, 2.74655001e-01, 3.93541445e-01, 9.13823000e-01,\n",
       "       9.74296064e-01, 7.48383044e-01, 9.87510073e-01, 7.62238399e-01,\n",
       "       2.84240181e-01, 4.35082042e-01, 7.23149160e-01, 7.09340018e-01,\n",
       "       6.78125050e-01, 4.87888103e-01, 1.43132129e-01, 9.59638573e-01,\n",
       "       2.20123242e-01, 9.79384345e-01, 1.27423748e-01, 9.80335634e-01,\n",
       "       3.76116134e-01, 8.10936611e-01, 7.29212263e-03, 4.45000792e-01,\n",
       "       2.48941773e-01, 6.94525202e-01, 6.63026749e-01, 4.61918250e-01,\n",
       "       7.06635863e-01, 9.78261614e-01, 9.32475791e-02, 5.62676057e-01,\n",
       "       6.75961050e-01, 6.33218580e-01, 2.62252307e-01, 8.74953795e-01,\n",
       "       2.45531158e-01, 8.44961546e-01, 4.70728616e-01, 1.43092520e-01,\n",
       "       8.24129605e-01, 7.81823011e-02, 7.94989629e-01, 6.00012218e-01,\n",
       "       8.76659501e-01, 8.03204517e-01, 4.01970751e-01, 1.35192153e-01,\n",
       "       2.66191497e-01, 1.32253426e-03, 6.53403248e-01, 8.55124013e-02,\n",
       "       1.79288577e-01, 2.44976528e-01, 4.06102482e-01, 6.86799948e-01,\n",
       "       4.44467564e-01, 5.03770566e-01, 9.32077973e-02, 3.38177401e-01,\n",
       "       2.06668545e-01, 7.39137549e-01, 1.76526147e-02, 6.16795942e-01,\n",
       "       6.97886926e-01, 5.04643017e-01, 4.44775007e-02, 2.51092537e-01,\n",
       "       2.37825622e-01, 2.67767183e-01, 2.63189926e-01, 9.72715487e-01,\n",
       "       7.91161252e-01, 8.90910732e-01, 7.13502895e-01, 3.46661738e-01,\n",
       "       9.41853422e-01, 4.84455150e-01, 1.85434940e-01, 7.29499220e-01,\n",
       "       2.59305095e-01, 8.22785412e-01, 7.40478916e-01, 2.90200316e-01,\n",
       "       4.59642855e-01, 7.15097322e-01, 6.68015465e-01, 5.26578464e-01,\n",
       "       2.14142922e-01, 3.24392998e-01, 6.94793084e-01, 4.56983083e-01,\n",
       "       7.17860151e-01, 6.84116020e-01, 3.55651670e-01, 9.90981572e-02,\n",
       "       6.80786368e-01, 3.55583347e-01, 5.64964806e-01, 1.24995177e-01,\n",
       "       1.46021241e-01, 4.23839036e-01, 6.69378835e-01, 1.17464680e-01,\n",
       "       7.74447184e-01, 8.51364079e-01, 6.72622880e-01, 7.49609029e-01,\n",
       "       2.38480279e-01, 1.00267010e-01, 3.29129658e-01, 1.25541784e-01,\n",
       "       4.16489896e-01, 7.61124351e-01, 2.81097070e-01, 8.55844480e-01,\n",
       "       4.52984677e-01, 1.61905219e-01, 6.42280017e-01, 4.38524089e-01,\n",
       "       3.30229519e-01, 5.16385263e-01, 9.91072432e-01, 7.51883094e-01,\n",
       "       2.93557945e-01, 9.27439812e-01, 1.84165738e-01, 4.08142068e-01,\n",
       "       3.72594458e-01, 9.85696695e-01, 4.51836818e-03, 6.49265593e-01,\n",
       "       5.08661272e-01, 1.55934426e-01, 6.41678138e-01, 8.07858177e-01,\n",
       "       7.66981652e-01, 7.76254149e-02, 7.95099432e-01, 3.45907298e-01,\n",
       "       8.52596764e-01, 5.62095294e-01, 7.99324049e-02, 7.44750619e-01,\n",
       "       5.63594383e-01, 4.51427385e-01, 6.38458428e-01, 4.43708065e-01,\n",
       "       3.69253025e-02, 9.12704482e-01, 2.87805368e-01, 2.79344060e-01,\n",
       "       4.97241629e-02, 7.17395301e-01, 9.09454133e-01, 4.62954256e-01,\n",
       "       8.14124226e-01, 3.28815209e-01, 3.84735233e-01, 2.91723794e-01,\n",
       "       2.94938523e-01, 5.61289139e-01, 3.25941565e-01, 6.57961065e-02,\n",
       "       6.90268210e-01, 3.08637690e-01, 3.92285203e-01, 1.86293191e-01,\n",
       "       4.93647334e-02, 6.54283027e-01, 4.23212064e-01, 9.32390404e-01,\n",
       "       1.89243412e-02, 8.24895929e-01, 1.85391838e-02, 1.72967207e-01,\n",
       "       1.38360824e-02, 5.09384069e-01, 3.53704642e-01, 3.18348592e-01,\n",
       "       9.74391402e-01, 5.78047568e-01, 9.26343251e-01, 8.88959591e-01,\n",
       "       3.39567123e-01, 6.53545747e-01, 1.95053752e-01, 3.65498202e-01,\n",
       "       6.84785963e-01, 5.68821074e-01, 8.49517432e-02, 7.81392889e-02,\n",
       "       7.71001947e-01, 7.01061534e-01, 6.48575796e-01, 2.20820389e-01,\n",
       "       7.83818343e-01, 5.76940969e-01, 1.47112944e-01, 1.66173033e-01,\n",
       "       6.20802196e-01, 9.78273277e-01, 5.86071543e-01, 2.95167155e-01,\n",
       "       7.16102858e-01, 2.03213874e-01, 6.41368995e-01, 4.13904175e-01,\n",
       "       3.08022833e-02, 5.16399140e-01, 5.07510632e-01, 9.11923677e-01,\n",
       "       7.10868686e-01, 3.03831698e-01, 6.45152444e-01, 2.50001844e-01,\n",
       "       6.54150192e-01, 6.01441407e-01, 6.14485870e-01, 1.61126025e-01,\n",
       "       7.10684343e-01, 5.37723513e-01, 7.42304928e-01, 4.46705374e-02,\n",
       "       7.33013692e-01, 9.50261705e-01, 5.85650962e-01, 1.40148905e-01,\n",
       "       9.23773318e-01, 5.55699592e-01, 2.77416256e-01, 6.22140444e-01,\n",
       "       8.58893037e-01, 1.08298784e-01, 5.59662919e-01, 6.32736714e-01,\n",
       "       9.26117633e-01, 3.81878827e-02, 5.07432049e-01, 7.32624214e-01,\n",
       "       6.59692613e-01, 8.61420805e-01, 6.56436295e-01, 6.31629438e-01,\n",
       "       6.09903017e-01, 1.64687655e-01, 8.54680462e-01, 5.15857472e-01,\n",
       "       2.13510973e-02, 8.20465492e-01, 6.88541454e-01, 6.57406045e-01,\n",
       "       5.17625182e-02, 7.05446954e-01, 3.38014115e-01, 8.14475863e-01,\n",
       "       1.56055363e-01, 3.35433718e-01, 1.03105714e-01, 1.83561085e-02,\n",
       "       3.23566289e-01, 6.99379502e-01, 4.19779329e-01, 2.97943124e-01,\n",
       "       9.36252583e-01, 7.26700525e-01, 9.71625635e-01, 3.02945947e-01,\n",
       "       1.94024502e-01, 9.68356628e-01, 7.94502973e-02, 7.85492459e-01,\n",
       "       9.47282924e-01, 7.18068513e-01, 5.74443127e-01, 3.68953475e-01,\n",
       "       2.95525094e-01, 6.70960513e-02, 3.78874194e-01, 5.02923425e-01,\n",
       "       2.48805917e-01, 9.69616371e-01, 9.98546608e-01, 2.89481093e-01,\n",
       "       6.00252056e-01, 8.82786034e-01, 5.83709676e-01, 3.51865108e-01,\n",
       "       8.45870014e-01, 5.28727445e-01, 6.19272120e-01, 7.56940853e-01,\n",
       "       2.88279722e-01, 6.86192601e-01, 2.66531101e-01, 6.52458680e-01,\n",
       "       2.56608758e-01, 7.96240648e-01, 3.47322672e-01, 9.60425408e-01,\n",
       "       1.73381103e-01, 7.14327146e-01, 8.54974207e-01, 8.71257163e-01,\n",
       "       5.20025194e-01, 5.49361114e-01, 2.94210904e-01, 8.56628520e-01,\n",
       "       7.62282167e-01, 5.13364420e-01, 5.02982362e-01, 9.19459577e-01,\n",
       "       5.60889542e-01, 9.38468816e-02, 1.08174303e-01, 7.66616515e-01,\n",
       "       5.25831234e-01, 5.56361269e-01, 4.32921695e-01, 2.26983826e-02,\n",
       "       8.03237163e-01, 3.81541707e-01, 4.64193678e-01, 4.40709909e-01,\n",
       "       1.33704084e-01, 9.63216886e-01, 9.59413653e-01, 9.77486316e-03,\n",
       "       5.45668074e-02, 3.86176721e-01, 9.81781977e-01, 4.81797652e-01,\n",
       "       9.22662703e-01, 3.41697071e-01, 4.95332730e-01, 8.28808732e-01,\n",
       "       6.58618462e-01, 3.06553105e-01, 4.56646671e-01, 6.24111350e-01,\n",
       "       4.00884738e-01, 1.98248410e-01, 2.24754084e-01, 7.40593144e-01,\n",
       "       2.10443657e-01, 1.85485363e-01, 2.87251310e-01, 9.89048431e-01,\n",
       "       9.91437899e-01, 4.79820210e-01, 2.18011391e-01, 4.43405297e-01,\n",
       "       8.82932683e-01, 5.79656678e-01, 9.00593606e-01, 8.80333352e-01,\n",
       "       8.14166509e-01, 8.83935464e-01, 5.12885613e-01, 1.68811547e-01,\n",
       "       7.79481514e-01, 9.92364647e-01, 6.62291874e-01, 2.47144404e-01,\n",
       "       9.28124201e-01, 9.23716386e-01, 9.24088553e-01, 6.62982591e-01,\n",
       "       9.38314875e-01, 2.32768060e-01, 5.74992776e-01, 9.93401616e-01,\n",
       "       9.94875425e-01, 8.00994589e-01, 5.86977647e-01, 6.27674290e-01,\n",
       "       3.92322101e-01, 2.22717060e-01, 8.96504408e-01, 5.85080511e-01,\n",
       "       3.58838548e-01, 3.27302704e-01, 1.72453821e-01, 1.85047379e-01,\n",
       "       6.67645627e-01, 2.86345190e-01, 3.16863280e-01, 8.45088864e-01,\n",
       "       9.35789105e-02, 9.49136032e-01, 4.15016524e-01, 8.27449136e-01,\n",
       "       8.23915263e-01, 6.82518478e-01, 5.27905279e-02, 6.54707055e-01,\n",
       "       4.46560799e-01, 3.10441002e-01, 5.18881105e-01, 6.64570191e-01,\n",
       "       3.90104365e-01, 4.08843177e-01, 2.15407533e-01, 1.66477423e-01,\n",
       "       6.22757051e-01, 9.74724680e-01, 9.80995296e-02, 6.56941883e-01,\n",
       "       5.99694239e-01, 7.47646557e-01, 3.19140528e-01, 2.61623465e-01,\n",
       "       2.87116917e-01, 8.37815579e-01, 8.48824367e-01, 8.12765775e-01,\n",
       "       2.78605574e-01, 3.77840704e-01, 2.90252028e-01, 6.86369319e-01,\n",
       "       2.35111540e-01, 7.43035576e-01, 7.92944950e-01, 5.33354994e-01,\n",
       "       1.74509652e-01, 2.62525364e-01, 5.67212398e-01, 7.35146538e-01,\n",
       "       2.00836733e-01, 6.48210402e-01, 9.08599719e-01, 7.32226605e-01,\n",
       "       8.88416925e-01, 9.58775733e-01, 2.74482438e-01, 2.08040145e-01,\n",
       "       9.00617840e-01, 3.89519368e-01, 1.07912678e-01, 6.23484698e-01,\n",
       "       4.78533794e-01, 1.92035466e-01, 9.16179726e-01, 4.79814065e-01,\n",
       "       9.91176936e-01, 2.81303087e-01, 5.96308137e-02, 9.07642664e-01,\n",
       "       2.96242723e-01, 9.23803646e-01, 4.84614552e-01, 6.93342753e-01,\n",
       "       1.16236477e-01, 2.64606121e-01, 6.78882906e-01, 9.52276746e-01,\n",
       "       8.20002338e-01, 9.04525654e-01, 7.74691259e-01, 9.72022319e-01,\n",
       "       2.38069011e-01, 1.22376606e-01, 2.40520266e-01, 5.80081882e-01,\n",
       "       3.70698169e-01, 3.51653907e-02, 1.24693760e-01, 2.81185625e-01,\n",
       "       3.35422457e-01, 3.17554322e-01, 5.65510630e-01, 6.55434020e-01])"
      ]
     },
     "execution_count": 28,
     "metadata": {},
     "output_type": "execute_result"
    }
   ],
   "source": [
    "# creates array of random numbers from a uniform distribution. \n",
    "x = np.random.rand(1000)\n",
    "x"
   ]
  },
  {
   "cell_type": "code",
   "execution_count": 27,
   "metadata": {},
   "outputs": [],
   "source": [
    "import matplotlib.pyplot as plt"
   ]
  },
  {
   "cell_type": "code",
   "execution_count": 4,
   "metadata": {},
   "outputs": [],
   "source": [
    "%matplotlib inline"
   ]
  },
  {
   "cell_type": "code",
   "execution_count": 29,
   "metadata": {},
   "outputs": [
    {
     "data": {
      "text/plain": [
       "(array([ 96.,  92., 114.,  89.,  99., 102., 116., 100.,  91., 101.]),\n",
       " array([7.45522042e-04, 1.00564814e-01, 2.00384106e-01, 3.00203398e-01,\n",
       "        4.00022690e-01, 4.99841982e-01, 5.99661274e-01, 6.99480565e-01,\n",
       "        7.99299857e-01, 8.99119149e-01, 9.98938441e-01]),\n",
       " <a list of 10 Patch objects>)"
      ]
     },
     "execution_count": 29,
     "metadata": {},
     "output_type": "execute_result"
    },
    {
     "data": {
      "image/png": "[encoded data removed]",
      "text/plain": [
       "<Figure size 432x288 with 1 Axes>"
      ]
     },
     "metadata": {
      "needs_background": "light"
     },
     "output_type": "display_data"
    }
   ],
   "source": [
    "# Histogram shows the rectangular shape of a uniform distribution.\n",
    "plt.hist(x)  "
   ]
  },
  {
   "cell_type": "code",
   "execution_count": 6,
   "metadata": {},
   "outputs": [
    {
     "data": {
      "text/plain": [
       "(array([  1.,  15.,  61., 151., 222., 240., 168.,  88.,  43.,  11.]),\n",
       " array([-0.16798885,  0.4458054 ,  1.05959964,  1.67339388,  2.28718813,\n",
       "         2.90098237,  3.51477661,  4.12857086,  4.7423651 ,  5.35615934,\n",
       "         5.96995359]),\n",
       " <a list of 10 Patch objects>)"
      ]
     },
     "execution_count": 6,
     "metadata": {},
     "output_type": "execute_result"
    },
    {
     "data": {
      "image/png": "[encoded data removed]",
      "text/plain": [
       "<Figure size 432x288 with 1 Axes>"
      ]
     },
     "metadata": {
      "needs_background": "light"
     },
     "output_type": "display_data"
    }
   ],
   "source": [
    "z = np.random.randn(1000) + 3\n",
    "plt.hist(z)"
   ]
  },
  {
   "cell_type": "code",
   "execution_count": 7,
   "metadata": {},
   "outputs": [
    {
     "data": {
      "text/plain": [
       "(array([ 87.,  99.,  91., 101.,  97., 106., 105., 113.,  90., 111.]),\n",
       " array([ 1. , 10.8, 20.6, 30.4, 40.2, 50. , 59.8, 69.6, 79.4, 89.2, 99. ]),\n",
       " <a list of 10 Patch objects>)"
      ]
     },
     "execution_count": 7,
     "metadata": {},
     "output_type": "execute_result"
    },
    {
     "data": {
      "image/png": "[encoded data removed]",
      "text/plain": [
       "<Figure size 432x288 with 1 Axes>"
      ]
     },
     "metadata": {
      "needs_background": "light"
     },
     "output_type": "display_data"
    }
   ],
   "source": [
    "y = np.random.randint(1,100, size = 1000)\n",
    "plt.hist (y)"
   ]
  },
  {
   "cell_type": "markdown",
   "metadata": {},
   "source": [
    "### Permutations\n",
    "\n",
    "   This package contains two functions, shuffle and permutations. Both are used to change the order of an array but differs where shuffle modifies the contents of an array in-place and permutations return a re-ordered copy of the array. One other difference is when permutation is passed an integer, it will return a shuffled range. Shuffle requires np.arange to output a shuffled range."
   ]
  },
  {
   "cell_type": "code",
   "execution_count": 10,
   "metadata": {},
   "outputs": [
    {
     "data": {
      "text/plain": [
       "array([0, 1, 2, 3, 4, 5, 6, 7, 8])"
      ]
     },
     "execution_count": 10,
     "metadata": {},
     "output_type": "execute_result"
    }
   ],
   "source": [
    "arr = np.arange(9)\n",
    "arr"
   ]
  },
  {
   "cell_type": "code",
   "execution_count": 11,
   "metadata": {},
   "outputs": [
    {
     "data": {
      "text/plain": [
       "array([[0, 1, 2],\n",
       "       [3, 4, 5],\n",
       "       [6, 7, 8]])"
      ]
     },
     "execution_count": 11,
     "metadata": {},
     "output_type": "execute_result"
    }
   ],
   "source": [
    "x = np.reshape(arr, (3,3))\n",
    "x\n"
   ]
  },
  {
   "cell_type": "code",
   "execution_count": 12,
   "metadata": {},
   "outputs": [
    {
     "data": {
      "text/plain": [
       "array([3, 9, 0, 2, 4, 7, 6, 5, 8, 1])"
      ]
     },
     "execution_count": 12,
     "metadata": {},
     "output_type": "execute_result"
    }
   ],
   "source": [
    "np.random.permutation(10)\n"
   ]
  },
  {
   "cell_type": "code",
   "execution_count": 13,
   "metadata": {},
   "outputs": [
    {
     "data": {
      "text/plain": [
       "array([[0, 1, 2],\n",
       "       [3, 4, 5],\n",
       "       [6, 7, 8]])"
      ]
     },
     "execution_count": 13,
     "metadata": {},
     "output_type": "execute_result"
    }
   ],
   "source": [
    "arr2 = np.random.permutation(x)\n",
    "arr2"
   ]
  },
  {
   "cell_type": "markdown",
   "metadata": {},
   "source": [
    "### Distribution Functions"
   ]
  },
  {
   "cell_type": "markdown",
   "metadata": {},
   "source": [
    "#### numpy.random.uniform\n",
    "   This function produce random numbers from a uniform distribution. It is sometimes known as a rectangular distribution [2]. The probability of each value to be drawn in the given interval is the same or equal. This function takes three parameters. A lower and higher boundary of the output interval and the size of the distribution. The lower boundary is included in the process whereas the higher boundary is not included and will not be drawn. "
   ]
  },
  {
   "cell_type": "code",
   "execution_count": 14,
   "metadata": {},
   "outputs": [
    {
     "data": {
      "text/plain": [
       "array([-9.70759418e-01, -7.50872899e-01, -8.40271055e-01, -7.62562130e-01,\n",
       "       -9.97958298e-01, -1.63463493e-02, -4.73613260e-01, -3.89662969e-01,\n",
       "       -9.81306899e-01, -9.16280192e-01, -8.60797128e-01, -7.20279674e-01,\n",
       "       -3.65432636e-01, -2.35582549e-01, -9.47945276e-01, -7.46748833e-01,\n",
       "       -5.14668320e-02, -8.19817407e-01, -3.72993458e-01, -5.53827306e-01,\n",
       "       -6.62662101e-01, -6.66230596e-01, -6.72435446e-01, -1.89177633e-01,\n",
       "       -9.12935259e-01, -8.40320059e-01, -7.97718944e-01, -4.06194477e-01,\n",
       "       -7.25465386e-01, -1.94157772e-02, -7.53715265e-01, -6.88324682e-01,\n",
       "       -1.37506105e-01, -4.89440481e-01, -5.59367218e-01, -9.81437026e-02,\n",
       "       -8.87777381e-01, -6.73600935e-02, -6.86269174e-02, -9.64152636e-01,\n",
       "       -1.56180331e-01, -8.12666267e-01, -5.02694272e-02, -3.50248433e-01,\n",
       "       -8.05299176e-01, -5.48536837e-02, -1.06768850e-01, -8.63239071e-01,\n",
       "       -8.12605002e-01, -4.56773560e-02, -1.10347438e-01, -5.20936323e-01,\n",
       "       -1.47992019e-01, -1.16873177e-01, -8.38763238e-01, -1.74915140e-01,\n",
       "       -2.98924502e-01, -2.88473661e-01, -2.58353542e-01, -7.60833168e-01,\n",
       "       -6.27255448e-01, -5.44831583e-01, -7.21460958e-01, -1.41921996e-01,\n",
       "       -8.78930804e-01, -9.56930742e-01, -5.39148730e-01, -8.47239049e-01,\n",
       "       -7.29074596e-01, -4.09792535e-01, -4.29379038e-02, -3.48669415e-01,\n",
       "       -1.99691044e-02, -5.73053941e-01, -9.51792845e-01, -1.31875702e-01,\n",
       "       -7.64464940e-01, -1.37305472e-01, -3.75493829e-02, -6.37734415e-02,\n",
       "       -7.64671846e-01, -1.41718257e-01, -3.02315576e-01, -3.59942236e-01,\n",
       "       -5.10663401e-01, -7.04799111e-01, -3.35560122e-01, -9.88516403e-01,\n",
       "       -8.26846092e-02, -6.35734489e-01, -7.23511902e-01, -4.16022204e-02,\n",
       "       -7.78778566e-01, -7.70074930e-01, -8.24467393e-01, -8.03394473e-01,\n",
       "       -5.10926069e-01, -3.17444020e-01, -7.29626626e-01, -5.85047922e-01,\n",
       "       -8.93593015e-01, -4.34597929e-01, -9.68546181e-01, -7.46753239e-01,\n",
       "       -5.47207211e-02, -2.62814145e-01, -3.43186004e-01, -8.93321442e-01,\n",
       "       -8.41153257e-01, -2.19389789e-01, -3.47492590e-01, -3.36152776e-01,\n",
       "       -3.90989784e-01, -6.29598411e-01, -1.61343706e-01, -6.68842874e-01,\n",
       "       -7.02456562e-01, -3.20064344e-01, -5.91551533e-01, -3.37744735e-01,\n",
       "       -5.77658087e-01, -4.27484877e-01, -4.78298110e-01, -4.57877669e-01,\n",
       "       -9.03547391e-01, -6.63950525e-01, -2.75025699e-01, -1.27453377e-01,\n",
       "       -1.42204172e-02, -4.90182058e-01, -3.00410080e-01, -9.72838824e-01,\n",
       "       -8.31235543e-02, -3.07244294e-01, -8.11096275e-02, -6.74978446e-02,\n",
       "       -4.72013862e-02, -9.03097669e-01, -9.79457418e-01, -4.20025015e-01,\n",
       "       -1.27939722e-01, -3.27046518e-01, -8.81353247e-01, -7.70808988e-01,\n",
       "       -4.41111352e-03, -4.85516083e-01, -3.09695407e-01, -7.15117075e-01,\n",
       "       -2.05427966e-01, -4.49043332e-02, -5.55211035e-01, -7.64960123e-01,\n",
       "       -8.30470520e-01, -2.45778835e-01, -2.31523398e-01, -2.35257958e-01,\n",
       "       -9.58420900e-01, -9.66363572e-01, -5.21632617e-01, -8.91962264e-01,\n",
       "       -5.30914879e-01, -4.18357903e-01, -8.15344182e-01, -1.71184636e-01,\n",
       "       -9.70722718e-01, -7.20119782e-01, -4.20349828e-01, -9.03077419e-01,\n",
       "       -6.19940316e-01, -1.07678018e-01, -3.67413435e-01, -9.45524391e-01,\n",
       "       -4.52206842e-01, -9.30290587e-01, -5.09876583e-01, -9.87145736e-01,\n",
       "       -2.40149696e-01, -9.82744261e-01, -5.49962242e-01, -4.36654402e-01,\n",
       "       -9.03656890e-01, -4.47418968e-01, -5.31511473e-01, -7.60988550e-01,\n",
       "       -6.58298434e-01, -5.44433630e-01, -5.12162992e-01, -7.61594201e-01,\n",
       "       -2.53022263e-01, -4.05549850e-01, -8.03929380e-01, -1.76099135e-01,\n",
       "       -3.09038784e-01, -5.95517878e-01, -2.33273419e-01, -1.16634072e-01,\n",
       "       -8.21939752e-01, -9.40140951e-01, -1.34180513e-01, -7.43863542e-01,\n",
       "       -5.94415863e-01, -6.52568207e-01, -1.93426154e-01, -3.39066119e-01,\n",
       "       -5.28480921e-02, -3.80316582e-01, -6.86297078e-01, -5.92353302e-02,\n",
       "       -7.26451348e-01, -3.11737734e-01, -8.46841021e-01, -4.76056465e-01,\n",
       "       -9.07977997e-01, -1.29064989e-01, -1.15445283e-01, -8.34752422e-01,\n",
       "       -8.33777757e-04, -3.82608484e-01, -5.88434294e-01, -6.10818736e-01,\n",
       "       -7.90336828e-01, -9.67665606e-01, -5.64804324e-01, -1.85709543e-01,\n",
       "       -1.56639081e-01, -9.10609299e-01, -7.78460926e-01, -8.91589409e-01,\n",
       "       -2.60051876e-01, -9.49930368e-01, -8.41094680e-01, -9.74415161e-01,\n",
       "       -8.36461710e-01, -5.18321713e-01, -5.13556943e-01, -1.02829600e-01,\n",
       "       -4.12751482e-01, -6.67544679e-01, -7.27981609e-01, -3.68560721e-01,\n",
       "       -3.88786048e-01, -5.84307706e-01, -9.74199697e-01, -6.25869618e-01,\n",
       "       -3.76201514e-02, -3.10058785e-01, -1.52538784e-01, -4.05210674e-01,\n",
       "       -9.43063501e-01, -1.70280297e-01, -1.97354644e-01, -6.35228616e-01,\n",
       "       -4.36493424e-01, -6.83487305e-01, -6.86087330e-01, -9.61515642e-01,\n",
       "       -7.89330292e-01, -7.13541197e-01, -4.74081643e-01, -2.90231863e-01,\n",
       "       -5.09775836e-01, -6.45652113e-01, -5.95066182e-01, -8.45719808e-02,\n",
       "       -6.81231841e-01, -1.43319587e-01, -6.99775409e-01, -6.29940224e-01,\n",
       "       -3.46915022e-01, -8.95052612e-01, -1.17762595e-01, -6.43300194e-01,\n",
       "       -7.49662492e-01, -4.77862680e-01, -5.83584473e-01, -9.75006128e-01,\n",
       "       -5.33700472e-01, -7.07723211e-01, -5.53757127e-01, -1.82464818e-01,\n",
       "       -5.43323021e-01, -9.53676689e-01, -8.77626836e-01, -3.81050184e-01,\n",
       "       -1.41057495e-01, -2.16852101e-01, -1.55167267e-01, -7.71063021e-01,\n",
       "       -9.91877417e-02, -5.07690200e-01, -5.62619054e-01, -2.24755608e-01,\n",
       "       -5.51468665e-01, -6.37535480e-01, -8.35703754e-01, -6.67735376e-01,\n",
       "       -1.05014318e-01, -1.98426439e-01, -1.52189263e-01, -3.28112803e-01,\n",
       "       -4.77846529e-01, -6.32701310e-01, -6.23829137e-01, -8.88366638e-01,\n",
       "       -3.02088759e-01, -7.33318299e-01, -3.58790350e-01, -6.24123849e-01,\n",
       "       -4.31855097e-01, -6.18921210e-01, -9.48830693e-01, -2.96547332e-01,\n",
       "       -5.34342108e-01, -2.09905346e-01, -9.00105403e-02, -3.17762594e-01,\n",
       "       -4.86761610e-01, -9.53214271e-01, -4.81865793e-01, -9.53695950e-02,\n",
       "       -2.60666077e-02, -2.55512711e-01, -6.07286377e-01, -4.19052758e-01,\n",
       "       -2.18740394e-01, -9.16478808e-01, -4.46334931e-01, -5.69130824e-01,\n",
       "       -8.36092121e-01, -8.37035500e-01, -8.36041154e-01, -6.20492052e-01,\n",
       "       -4.43063553e-01, -5.87098288e-02, -6.73513488e-01, -8.51622979e-01,\n",
       "       -7.14528381e-01, -6.21106379e-01, -2.67610171e-02, -5.22376212e-01,\n",
       "       -3.57047750e-01, -6.48120523e-01, -1.16409873e-02, -2.17407233e-01,\n",
       "       -4.37975209e-01, -1.75936528e-01, -8.64284863e-01, -9.19620831e-01,\n",
       "       -7.63254614e-02, -8.78082175e-01, -2.52901537e-01, -3.50883991e-01,\n",
       "       -5.85806386e-01, -9.99240608e-01, -7.46772402e-01, -9.90370213e-01,\n",
       "       -3.33054934e-01, -9.08993784e-01, -1.85065740e-01, -3.66465907e-01,\n",
       "       -7.99161523e-01, -5.77234997e-01, -9.02044086e-01, -2.81394088e-01,\n",
       "       -8.17421351e-02, -6.72250353e-01, -2.12389828e-01, -3.40350757e-01,\n",
       "       -4.59857697e-02, -1.67996250e-01, -8.17545831e-01, -7.31438843e-02,\n",
       "       -4.66489062e-01, -2.57994508e-01, -6.75534031e-01, -7.07258946e-01,\n",
       "       -3.53949514e-01, -4.87632373e-02, -2.03507344e-01, -2.82708475e-01,\n",
       "       -2.63361952e-01, -5.63068546e-01, -6.71002262e-01, -2.47121433e-02,\n",
       "       -1.86348196e-01, -3.46206882e-01, -2.61257402e-01, -5.78197225e-01,\n",
       "       -4.63539998e-01, -5.41256143e-01, -8.47315629e-01, -6.25621153e-01,\n",
       "       -2.32826853e-01, -2.50978618e-01, -2.16769268e-01, -5.14825775e-01,\n",
       "       -1.72284129e-02, -2.60574724e-01, -2.92673634e-01, -6.85090984e-01,\n",
       "       -2.48045606e-01, -7.42095378e-02, -7.91774747e-01, -7.56550215e-01,\n",
       "       -8.94350673e-01, -3.66059923e-01, -2.09451382e-02, -9.14083278e-01,\n",
       "       -4.30515004e-01, -5.65746623e-01, -8.00104063e-01, -8.70827496e-02,\n",
       "       -1.00510763e-01, -1.65542145e-01, -8.92131865e-02, -3.78051517e-01,\n",
       "       -1.19998186e-01, -8.38071620e-01, -8.77933317e-01, -2.01033911e-01,\n",
       "       -7.82854718e-01, -6.39683772e-01, -5.67668249e-01, -4.87937635e-01,\n",
       "       -8.91364943e-01, -6.68178419e-01, -8.35714627e-01, -8.82067333e-01,\n",
       "       -3.74560682e-01, -5.25671064e-01, -8.67462970e-01, -8.71714769e-01,\n",
       "       -7.58545694e-01, -4.60359876e-01, -7.67028066e-01, -2.11649020e-01,\n",
       "       -6.51748497e-01, -1.42138312e-01, -3.98393611e-01, -7.96191654e-01,\n",
       "       -9.39427863e-01, -3.15927465e-01, -9.73874240e-01, -2.89785876e-01,\n",
       "       -7.39230336e-01, -3.27088226e-01, -1.07377074e-01, -8.01402355e-01,\n",
       "       -2.51430302e-01, -5.09774876e-02, -9.31218496e-01, -9.36020477e-01,\n",
       "       -3.86265366e-01, -3.18479901e-01, -2.33019776e-01, -1.05427960e-01,\n",
       "       -9.80215125e-01, -2.04725887e-01, -1.39300925e-01, -5.23886155e-01,\n",
       "       -4.32601355e-01, -5.12184481e-01, -8.47559292e-01, -5.75733586e-01,\n",
       "       -6.01353935e-01, -2.13745326e-01, -7.16388345e-02, -4.91534311e-01,\n",
       "       -2.35543728e-02, -9.84946661e-01, -8.72459885e-02, -6.99804874e-02,\n",
       "       -4.95922034e-01, -7.37991570e-01, -5.32478380e-01, -1.44579899e-01,\n",
       "       -8.31623001e-01, -7.18605859e-01, -9.87757471e-01, -5.68650087e-01,\n",
       "       -8.45793419e-01, -5.72243228e-01, -7.96442406e-01, -9.32832080e-01,\n",
       "       -7.26533511e-01, -4.09618414e-01, -4.34752240e-02, -4.82804794e-01,\n",
       "       -8.99343832e-01, -7.95321629e-01, -5.91144273e-01, -8.54258589e-01,\n",
       "       -5.92309366e-01, -6.15371619e-01, -5.18695907e-02, -2.79225121e-01,\n",
       "       -7.50055886e-02, -4.25907076e-01, -8.79212401e-01, -3.94867225e-01,\n",
       "       -3.82156321e-01, -8.61823315e-03, -4.25445009e-01, -4.18939263e-01,\n",
       "       -3.75703246e-01, -1.66545056e-01, -5.17215927e-01, -3.51253923e-01,\n",
       "       -9.76259706e-01, -5.73517874e-01, -2.20614517e-01, -8.01089235e-01,\n",
       "       -5.13630791e-01, -7.95547409e-01, -7.09348119e-01, -3.45236472e-02,\n",
       "       -6.82812008e-02, -5.75545134e-01, -9.91448808e-02, -9.88963084e-01,\n",
       "       -9.19434872e-02, -3.44424017e-01, -4.06174420e-01, -5.21065735e-01,\n",
       "       -4.44137452e-01, -5.20888776e-01, -7.77677356e-01, -5.01014099e-02,\n",
       "       -4.22968351e-01, -9.04590868e-01, -7.93143243e-01, -1.08645046e-01,\n",
       "       -4.22476161e-01, -4.89259575e-01, -8.15936507e-01, -5.30168723e-01,\n",
       "       -5.50074148e-01, -7.30882752e-01, -6.98942061e-01, -9.64521514e-01,\n",
       "       -9.34080333e-01, -5.77100367e-01, -1.53052008e-01, -4.26760446e-02,\n",
       "       -7.33595415e-01, -2.47972830e-01, -9.58821329e-01, -9.03839373e-01,\n",
       "       -8.36644818e-01, -6.27088691e-01, -6.36463428e-01, -1.58364190e-01,\n",
       "       -5.94640374e-01, -9.14354392e-01, -8.08979046e-01, -3.67213655e-01,\n",
       "       -2.97270457e-01, -4.80327638e-01, -9.05292475e-01, -5.03121975e-01,\n",
       "       -5.26203394e-01, -3.02556945e-01, -8.67574691e-01, -6.51856319e-01,\n",
       "       -2.93662182e-01, -3.20665900e-01, -2.70600477e-01, -2.11024408e-01,\n",
       "       -1.84483439e-01, -9.98684634e-02, -9.78769997e-01, -6.40106977e-01,\n",
       "       -4.63894564e-01, -2.87180231e-01, -8.93298747e-01, -3.98034817e-01,\n",
       "       -8.03218712e-01, -4.44503465e-01, -6.67308370e-01, -2.47237708e-01,\n",
       "       -3.34184764e-01, -6.16682490e-01, -2.98924715e-01, -3.74296546e-01,\n",
       "       -4.02574784e-02, -7.84961028e-01, -6.28555071e-01, -2.77086305e-01,\n",
       "       -5.63691142e-01, -1.55084500e-01, -9.32041882e-02, -4.11877377e-01,\n",
       "       -9.67925834e-01, -4.49425251e-01, -8.85437187e-01, -5.26208423e-01,\n",
       "       -9.12286607e-01, -1.85440142e-01, -7.42141899e-01, -7.47630775e-01,\n",
       "       -2.98902315e-01, -9.29257192e-02, -8.36110821e-01, -3.28060358e-02,\n",
       "       -3.85890487e-01, -4.36049234e-01, -8.41933149e-01, -1.88370781e-01,\n",
       "       -8.18941733e-01, -3.11387440e-01, -7.02313141e-01, -7.01070382e-01,\n",
       "       -1.98006500e-02, -5.87665670e-01, -7.27504797e-01, -8.59487860e-01,\n",
       "       -4.79601160e-01, -4.66135475e-01, -6.69448485e-01, -5.75095765e-01,\n",
       "       -5.74705175e-01, -6.54502853e-01, -1.68896425e-01, -5.80745054e-01,\n",
       "       -7.13608975e-02, -8.48075052e-01, -2.45450618e-02, -1.25145988e-01,\n",
       "       -9.49756562e-01, -4.59123561e-01, -6.94451062e-01, -7.11382714e-01,\n",
       "       -5.42291187e-03, -4.12484819e-01, -6.43938102e-01, -5.25871680e-01,\n",
       "       -9.89283235e-01, -9.83384760e-01, -8.54918591e-01, -5.66756244e-01,\n",
       "       -3.66140490e-01, -4.95599560e-01, -9.40377858e-01, -8.94594234e-01,\n",
       "       -5.09328959e-01, -2.83021388e-01, -9.62651454e-01, -8.31974080e-01,\n",
       "       -9.49576904e-01, -1.68399442e-01, -9.61195006e-01, -9.00178195e-01,\n",
       "       -2.76998679e-01, -8.02018545e-01, -2.23078398e-01, -7.57116154e-01,\n",
       "       -7.82861910e-01, -8.33817362e-01, -6.23423455e-01, -8.63368586e-01,\n",
       "       -3.74899206e-01, -4.76933247e-01, -5.24536798e-01, -5.51980807e-01,\n",
       "       -6.06587637e-01, -4.26104546e-01, -7.07777442e-01, -8.29820979e-01,\n",
       "       -4.58935815e-01, -9.68417770e-01, -2.77889447e-01, -8.16348360e-01,\n",
       "       -9.74063501e-01, -7.36429773e-01, -7.18266950e-01, -8.70152371e-01,\n",
       "       -9.78394199e-01, -9.77801675e-01, -1.76542122e-01, -7.26924549e-02,\n",
       "       -2.73229092e-01, -4.87558020e-01, -8.96430528e-01, -3.81196082e-01,\n",
       "       -8.30538545e-01, -3.92313791e-01, -8.25968831e-01, -6.82926439e-01,\n",
       "       -6.48910445e-01, -2.53686779e-01, -6.94187307e-01, -3.36612101e-01,\n",
       "       -4.87009931e-01, -4.74055083e-01, -6.79350366e-01, -4.12134946e-01,\n",
       "       -1.23791073e-01, -1.76926615e-01, -5.58484769e-01, -9.79710221e-01,\n",
       "       -3.11132217e-01, -8.84171598e-01, -3.27038021e-01, -7.76640627e-01,\n",
       "       -6.23178340e-01, -5.61923229e-02, -3.99560141e-02, -4.87103947e-01,\n",
       "       -8.39638932e-02, -3.07498551e-01, -7.71247388e-01, -5.64381894e-01,\n",
       "       -7.64653204e-01, -1.51337571e-02, -9.79549448e-01, -9.30065964e-01,\n",
       "       -8.80847458e-01, -9.94073565e-01, -3.33488306e-01, -7.21324135e-01,\n",
       "       -4.71678411e-01, -3.06660353e-01, -2.27937470e-01, -3.43532960e-01,\n",
       "       -5.36794143e-01, -5.03800444e-01, -2.75642076e-01, -9.97423292e-01,\n",
       "       -5.61445825e-01, -9.23285320e-01, -6.11777273e-01, -7.33050563e-01,\n",
       "       -9.97952636e-02, -3.63019192e-01, -3.99501088e-01, -4.68163542e-01,\n",
       "       -1.40400956e-01, -5.23160318e-01, -8.95765800e-02, -4.72760949e-01,\n",
       "       -8.11506663e-01, -1.13646016e-01, -7.70990260e-01, -2.58388549e-01,\n",
       "       -5.55186969e-01, -8.03819729e-01, -4.20633531e-01, -7.21101763e-01,\n",
       "       -2.52454285e-02, -9.60088007e-01, -3.04969298e-01, -7.80850591e-01,\n",
       "       -3.94962564e-01, -1.67331217e-01, -9.00520918e-01, -2.87370787e-01,\n",
       "       -6.20891734e-01, -6.01878159e-01, -5.71999323e-02, -8.11797338e-01,\n",
       "       -2.48625993e-02, -4.87786679e-01, -1.03677162e-01, -5.23931751e-01,\n",
       "       -3.53064879e-01, -2.16877765e-01, -5.81477343e-01, -8.51707680e-01,\n",
       "       -6.90717192e-01, -1.13363048e-01, -3.68744475e-01, -1.47301085e-01,\n",
       "       -1.50937679e-02, -6.86839460e-01, -4.81560444e-01, -6.38448715e-02,\n",
       "       -5.51705991e-01, -7.58520532e-01, -9.12818540e-01, -3.13045815e-01,\n",
       "       -1.43904890e-02, -9.77096678e-01, -1.47745452e-01, -7.72410507e-01,\n",
       "       -6.10223839e-01, -5.19345943e-01, -6.31470289e-01, -4.60220955e-01,\n",
       "       -9.71101844e-01, -9.68398645e-01, -2.79420558e-01, -3.53425283e-01,\n",
       "       -3.75609030e-01, -2.41796464e-01, -3.11423001e-01, -8.77043476e-01,\n",
       "       -5.21512438e-01, -6.80722068e-01, -7.84595147e-02, -1.10678348e-01,\n",
       "       -5.66303065e-01, -1.83664736e-01, -6.25728119e-02, -3.90840823e-01,\n",
       "       -5.87939903e-01, -9.48072290e-01, -2.65268122e-01, -8.10923639e-01,\n",
       "       -4.00838918e-01, -9.76521197e-01, -7.22848247e-01, -2.97924586e-02,\n",
       "       -4.27518982e-01, -8.62324201e-01, -3.11457043e-01, -9.10673846e-01,\n",
       "       -3.06149181e-01, -3.05384890e-01, -5.56650335e-01, -6.91824803e-01,\n",
       "       -5.37099515e-01, -9.65102668e-02, -4.68051697e-01, -1.24354517e-01,\n",
       "       -3.89274858e-01, -3.16510249e-01, -3.46620766e-01, -5.11791311e-01,\n",
       "       -1.90555035e-02, -8.67114908e-01, -1.29510401e-01, -9.64812307e-02,\n",
       "       -5.27503337e-01, -1.94126951e-01, -7.96058288e-01, -7.38609461e-01,\n",
       "       -2.70494823e-02, -3.33873245e-01, -5.50665212e-01, -3.45004852e-01,\n",
       "       -4.28214932e-03, -2.58246896e-01, -3.47595407e-01, -4.23235590e-01,\n",
       "       -7.87323821e-01, -7.14971533e-02, -9.82119964e-01, -2.11902390e-01,\n",
       "       -4.14051651e-01, -5.78506694e-01, -5.55024689e-01, -9.02108908e-01,\n",
       "       -5.21990312e-01, -1.66618829e-01, -8.63240919e-01, -6.13941380e-01,\n",
       "       -4.85097743e-01, -6.01768290e-01, -1.43577003e-02, -7.99307937e-01,\n",
       "       -3.00619712e-01, -3.29057945e-01, -1.94507073e-01, -8.47676317e-01,\n",
       "       -1.65259706e-02, -3.15673812e-01, -3.62057549e-01, -3.04859646e-01,\n",
       "       -1.16743790e-01, -6.18310266e-01, -9.79999003e-02, -8.01210799e-01,\n",
       "       -8.62087545e-01, -5.53804310e-01, -9.55988966e-01, -6.74931325e-01,\n",
       "       -5.51241319e-01, -5.42217879e-01, -2.33520237e-02, -5.74650366e-01,\n",
       "       -7.55123527e-01, -5.10828261e-01, -6.45261227e-01, -4.95056836e-01,\n",
       "       -9.88840199e-01, -3.70784131e-01, -8.45645140e-01, -7.56996271e-02,\n",
       "       -7.19578786e-02, -7.58852246e-01, -1.33146842e-01, -1.32484914e-01,\n",
       "       -7.56415742e-01, -6.36956785e-02, -3.01715351e-01, -2.34414054e-01,\n",
       "       -7.07132272e-01, -2.00459331e-01, -8.43651180e-01, -5.54796360e-01,\n",
       "       -1.31681447e-01, -2.71950902e-01, -1.63288953e-01, -3.53661380e-01,\n",
       "       -8.53764257e-01, -5.27398534e-01, -5.86686280e-02, -8.10131579e-01,\n",
       "       -4.56784058e-01, -2.69950166e-01, -6.70739410e-01, -3.10976827e-01,\n",
       "       -9.98646552e-01, -1.55964137e-01, -3.71401031e-01, -1.74284444e-01,\n",
       "       -2.87717950e-02, -5.41825849e-01, -6.12755276e-01, -7.59445084e-01,\n",
       "       -8.80920309e-01, -4.87343768e-01, -2.06261518e-01, -8.02219485e-01,\n",
       "       -7.98533121e-01, -7.22473032e-02, -3.31324554e-01, -5.08338318e-01,\n",
       "       -2.63644459e-01, -9.00923341e-01, -6.95327708e-01, -9.72377652e-02,\n",
       "       -1.75565554e-01, -5.33641572e-01, -8.23119968e-01, -4.72563698e-01,\n",
       "       -6.31397079e-01, -5.30513235e-01, -6.97461340e-01, -1.11119895e-01,\n",
       "       -5.38099852e-01, -8.46776226e-01, -4.34243788e-01, -4.60951360e-01,\n",
       "       -4.15187895e-01, -5.50620319e-01, -8.77293025e-01, -1.82491423e-01,\n",
       "       -4.45659114e-01, -3.14124962e-01, -6.58510385e-01, -9.53346250e-01,\n",
       "       -2.04721761e-01, -9.81847365e-01, -3.31989416e-01, -6.96841633e-01,\n",
       "       -9.86822739e-01, -3.05990263e-01, -9.68333189e-01, -2.84669315e-01,\n",
       "       -6.05811444e-01, -9.37238412e-01, -4.63592230e-01, -5.61963964e-01,\n",
       "       -1.88637614e-01, -9.33126225e-01, -9.68137334e-01, -8.38448664e-01,\n",
       "       -8.64623740e-01, -9.22722787e-01, -3.44496891e-01, -8.12699279e-01,\n",
       "       -9.08835480e-01, -7.57079020e-01, -4.69765041e-01, -7.59290871e-01,\n",
       "       -3.85387728e-01, -9.32521269e-01, -5.67498757e-01, -6.64410618e-01,\n",
       "       -2.87055110e-01, -4.30496717e-01, -7.84753442e-01, -7.44271807e-01,\n",
       "       -5.81704499e-02, -8.44836708e-01, -3.49127164e-01, -7.89385141e-01,\n",
       "       -1.66829337e-01, -9.42777098e-01, -2.47721892e-01, -7.59334731e-01,\n",
       "       -2.28860614e-01, -6.18582770e-01, -3.03530461e-01, -6.41530041e-01,\n",
       "       -2.24862646e-01, -9.75748752e-01, -9.71232169e-01, -6.94286750e-02])"
      ]
     },
     "execution_count": 14,
     "metadata": {},
     "output_type": "execute_result"
    }
   ],
   "source": [
    "x = np.random.uniform(-1,0,size=1000)\n",
    "x"
   ]
  },
  {
   "cell_type": "code",
   "execution_count": 15,
   "metadata": {},
   "outputs": [
    {
     "data": {
      "text/plain": [
       "(array([110., 108.,  98.,  88., 115.,  92., 111.,  83.,  89., 106.]),\n",
       " array([-9.99240608e-01, -8.99399925e-01, -7.99559242e-01, -6.99718559e-01,\n",
       "        -5.99877876e-01, -5.00037193e-01, -4.00196510e-01, -3.00355827e-01,\n",
       "        -2.00515144e-01, -1.00674461e-01, -8.33777757e-04]),\n",
       " <a list of 10 Patch objects>)"
      ]
     },
     "execution_count": 15,
     "metadata": {},
     "output_type": "execute_result"
    },
    {
     "data": {
      "image/png": "[encoded data removed]",
      "text/plain": [
       "<Figure size 432x288 with 1 Axes>"
      ]
     },
     "metadata": {
      "needs_background": "light"
     },
     "output_type": "display_data"
    }
   ],
   "source": [
    "plt.hist(x)"
   ]
  },
  {
   "cell_type": "markdown",
   "metadata": {},
   "source": [
    "#### numpy.random.normal\n",
    "   This function draw random samples from a normal or Gaussian distribution. The normal distribution, described as a bell curve, is important in statistics because it reflects many real-world events[3]. The values or samples are distributed symmetrically, with most clustered around a central peak or mean and the probability for values taper off equally on both sides of the mean. \n",
    "    This function takes three parameters; the loc or the mean of the distribution, the scale or the standard deviation (spread) and the size of the distribution.\n"
   ]
  },
  {
   "cell_type": "code",
   "execution_count": 31,
   "metadata": {},
   "outputs": [],
   "source": [
    "mu, sigma = 0, 0.1 # mean and standard deviation\n",
    "j = np.random.normal(mu, sigma, 1000)\n"
   ]
  },
  {
   "cell_type": "code",
   "execution_count": 17,
   "metadata": {},
   "outputs": [
    {
     "data": {
      "text/plain": [
       "(array([  4.,  18.,  82., 159., 259., 255., 148.,  54.,  17.,   4.]),\n",
       " array([-0.3251171 , -0.25801124, -0.19090539, -0.12379954, -0.05669369,\n",
       "         0.01041216,  0.07751802,  0.14462387,  0.21172972,  0.27883557,\n",
       "         0.34594143]),\n",
       " <a list of 10 Patch objects>)"
      ]
     },
     "execution_count": 17,
     "metadata": {},
     "output_type": "execute_result"
    },
    {
     "data": {
      "image/png": "[encoded data removed]",
      "text/plain": [
       "<Figure size 432x288 with 1 Axes>"
      ]
     },
     "metadata": {
      "needs_background": "light"
     },
     "output_type": "display_data"
    }
   ],
   "source": [
    "plt.hist(j)"
   ]
  },
  {
   "cell_type": "markdown",
   "metadata": {},
   "source": [
    "#### numpy.random.binomial\n",
    "\n",
    "   This function draws samples from the binomial distribution. It simulates the probability of a \"yes/no\" or \"success/failure\" experiment, hence the prefix \"bi\" in binomial. A popular example is the coin toss where it has only two possible outcomes. function takes three parameters, n, p, s. The n which stands for the number of trials, p is the probability and s is the size or shape. "
   ]
  },
  {
   "cell_type": "code",
   "execution_count": 32,
   "metadata": {
    "scrolled": true
   },
   "outputs": [],
   "source": [
    "# this is a simulation of flipping a coin 10 times and the number of \"successful\" result(s),  tested 1000 times\n",
    "\n",
    "n, p = 10, .5  # number of trials, probability of each trial\n",
    "s = np.random.binomial(n, p, 1000)"
   ]
  },
  {
   "cell_type": "code",
   "execution_count": 19,
   "metadata": {},
   "outputs": [
    {
     "data": {
      "text/plain": [
       "(array([  2.,  11.,  45., 133., 203., 251., 182., 121.,  45.,   7.]),\n",
       " array([ 0.,  1.,  2.,  3.,  4.,  5.,  6.,  7.,  8.,  9., 10.]),\n",
       " <a list of 10 Patch objects>)"
      ]
     },
     "execution_count": 19,
     "metadata": {},
     "output_type": "execute_result"
    },
    {
     "data": {
      "image/png": "[encoded data removed]",
      "text/plain": [
       "<Figure size 432x288 with 1 Axes>"
      ]
     },
     "metadata": {
      "needs_background": "light"
     },
     "output_type": "display_data"
    }
   ],
   "source": [
    "plt.hist(s)"
   ]
  },
  {
   "cell_type": "markdown",
   "metadata": {},
   "source": [
    "#### numpy.random.poisson \n",
    "\n",
    "   This function draws samples from the poisson distribution. It simulates the probability of an event occuring within an interval of time or space. Although it appears to be similar to the binomial function, it differs where in the poisson experiment, the \"fail\" or \"no\" is not known. This function takes two parameters. The lam or expectation of the interval and the size or shape of the samples. \n",
    "   The poisson distribution is not symmetrical; it is skewed toward the infinity end [4] and it can be applied to many real world events."
   ]
  },
  {
   "cell_type": "code",
   "execution_count": 37,
   "metadata": {
    "scrolled": true
   },
   "outputs": [],
   "source": [
    "m = np.random.poisson(5, 10000)\n"
   ]
  },
  {
   "cell_type": "code",
   "execution_count": 36,
   "metadata": {},
   "outputs": [
    {
     "data": {
      "text/plain": [
       "(array([ 392.,  817., 3144., 1816., 2502.,  629.,  557.,   83.,   53.,\n",
       "           7.]),\n",
       " array([ 0. ,  1.5,  3. ,  4.5,  6. ,  7.5,  9. , 10.5, 12. , 13.5, 15. ]),\n",
       " <a list of 10 Patch objects>)"
      ]
     },
     "execution_count": 36,
     "metadata": {},
     "output_type": "execute_result"
    },
    {
     "data": {
      "image/png": "[encoded data removed]",
      "text/plain": [
       "<Figure size 432x288 with 1 Axes>"
      ]
     },
     "metadata": {
      "needs_background": "light"
     },
     "output_type": "display_data"
    }
   ],
   "source": [
    "plt.hist(m)"
   ]
  },
  {
   "cell_type": "markdown",
   "metadata": {},
   "source": [
    "#### numpy.random.chisquare\n",
    "    \n",
    "   This function draws samples from the chisquare distribution. This distribution is widely used in inferential statistics such as testing hypothesis. \n",
    "   The numpy.random.chisquare function takes two parameters, df or number of degrees of freedom and the size or shape. \n",
    "    \n",
    "    "
   ]
  },
  {
   "cell_type": "code",
   "execution_count": 35,
   "metadata": {
    "scrolled": true
   },
   "outputs": [
    {
     "data": {
      "text/plain": [
       "(array([31., 21., 19., 10.,  7.,  4.,  4.,  1.,  1.,  2.]),\n",
       " array([0.01697601, 0.76862909, 1.52028218, 2.27193526, 3.02358834,\n",
       "        3.77524142, 4.52689451, 5.27854759, 6.03020067, 6.78185376,\n",
       "        7.53350684]),\n",
       " <a list of 10 Patch objects>)"
      ]
     },
     "execution_count": 35,
     "metadata": {},
     "output_type": "execute_result"
    },
    {
     "data": {
      "image/png": "[encoded data removed]",
      "text/plain": [
       "<Figure size 432x288 with 1 Axes>"
      ]
     },
     "metadata": {
      "needs_background": "light"
     },
     "output_type": "display_data"
    }
   ],
   "source": [
    "c = np.random.chisquare(2,100)\n",
    "\n",
    "plt.hist(c)"
   ]
  },
  {
   "cell_type": "markdown",
   "metadata": {},
   "source": [
    "#### The random seed\n",
    "\n",
    "The random numbers generated by the numpy.random function cannot be considered true random numbers. It is generated through an algorithm that starts with a number or a seed that is set either by the user or the machine itself. Once a seed number is chosen it is subjected to mathematical computation to generate the next number. If the seed number is not reset or changed, the same numbers will be generated again. This is a key reason why it is should not be used for security [1], but is also useful in other functions such as debugging or synchronizing remote systems[5].     "
   ]
  },
  {
   "cell_type": "code",
   "execution_count": 23,
   "metadata": {},
   "outputs": [
    {
     "data": {
      "text/plain": [
       "array([0.37181935, 0.25012229, 0.97475558, 0.98795402, 0.2563006 ])"
      ]
     },
     "execution_count": 23,
     "metadata": {},
     "output_type": "execute_result"
    }
   ],
   "source": [
    "# The same command but it shows different outputs since the seed is not set.\n",
    "np.random.rand(5)"
   ]
  },
  {
   "cell_type": "code",
   "execution_count": 24,
   "metadata": {},
   "outputs": [
    {
     "data": {
      "text/plain": [
       "array([0.14103977, 0.00507904, 0.93228659, 0.42949603, 0.63893079])"
      ]
     },
     "execution_count": 24,
     "metadata": {},
     "output_type": "execute_result"
    }
   ],
   "source": [
    "np.random.rand(5)"
   ]
  },
  {
   "cell_type": "code",
   "execution_count": 25,
   "metadata": {},
   "outputs": [
    {
     "data": {
      "text/plain": [
       "array([0.5507979 , 0.70814782, 0.29090474, 0.51082761, 0.89294695])"
      ]
     },
     "execution_count": 25,
     "metadata": {},
     "output_type": "execute_result"
    }
   ],
   "source": [
    "# The same two commands with the seed set has identical output. \n",
    "np.random.seed(3)\n",
    "np.random.rand(5)"
   ]
  },
  {
   "cell_type": "code",
   "execution_count": 26,
   "metadata": {},
   "outputs": [
    {
     "data": {
      "text/plain": [
       "array([0.5507979 , 0.70814782, 0.29090474, 0.51082761, 0.89294695])"
      ]
     },
     "execution_count": 26,
     "metadata": {},
     "output_type": "execute_result"
    }
   ],
   "source": [
    "np.random.seed(3)\n",
    "np.random.rand(5)"
   ]
  },
  {
   "cell_type": "markdown",
   "metadata": {},
   "source": [
    "## References\n",
    "[1] Python Software Foundation.\n",
    "    https://docs.python.org \n",
    "    \n",
    "[2] Wolfram MathWorld.\n",
    "    https://mathworld.wolfram.com\n",
    "   \n",
    "[3] https://stattrek.com\n",
    "\n",
    "[4] University of Massachusetts Amherst.\n",
    "    https://www.umass.edu/wsp/resources/poisson/#binomial\n",
    "\n",
    "[5] Wikipedia. https://en.wikipedia.org/wiki/Random_seed"
   ]
  },
  {
   "cell_type": "code",
   "execution_count": null,
   "metadata": {},
   "outputs": [],
   "source": []
  }
 ],
 "metadata": {
  "kernelspec": {
   "display_name": "Python 3",
   "language": "python",
   "name": "python3"
  },
  "language_info": {
   "codemirror_mode": {
    "name": "ipython",
    "version": 3
   },
   "file_extension": ".py",
   "mimetype": "text/x-python",
   "name": "python",
   "nbconvert_exporter": "python",
   "pygments_lexer": "ipython3",
   "version": "3.6.6"
  }
 },
 "nbformat": 4,
 "nbformat_minor": 2
}
