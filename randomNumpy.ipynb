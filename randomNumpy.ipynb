{
 "cells": [
  {
   "cell_type": "markdown",
   "metadata": {},
   "source": [
    "# The numpy.random package\n",
    "\n",
    "James Quintin\n",
    "\n",
    "This jupyter notebook is an investigation of the random sampling package of Numpy. It explains the overall function of the numpy.random package followed by an investigation of the different sections of the package.    \n",
    "\n",
    "The overall function of the numpy.random package is to generate arrays of random sample values. The samples or numbers generated though are not true random numbers but can be predicted, hence it can be  called more appropriately as pseudorandom numbers. This is a reason why this type of random number generation should not be used for security purposes [1]. If some key information is obtained, then the numbers can be reproduced. \n",
    "  \n",
    "The numpy.random package is similar with the python random module in that they both use the Mersenne Twister algorithm to generate random numbers.\n",
    "\n",
    "This package can generate data probability distributions useful for simulations in scientific research. These simulations may follow patterns for certain analyses to help discover relationships between systems. \n",
    "     \n",
    "  \n",
    " "
   ]
  },
  {
   "cell_type": "code",
   "execution_count": 1,
   "metadata": {},
   "outputs": [],
   "source": [
    "import numpy as np"
   ]
  },
  {
   "cell_type": "markdown",
   "metadata": {},
   "source": [
    "### Simple Random Data section\n",
    "\n",
    "   The simple random data section is a collection of methods or functions to quickly generate random numbers. Some assumptions, such as the probability distribution and default parameters, are set in these functions which affect how the numbers are generated. Some methods perform similar function and output such as random_sample, random, ranf and random. Four examples from the simple random data package follows, including corresponding histograms. "
   ]
  },
  {
   "cell_type": "code",
   "execution_count": 2,
   "metadata": {
    "scrolled": true
   },
   "outputs": [
    {
     "data": {
      "text/plain": [
       "array([5.33665824e-01, 5.09339657e-01, 4.82308062e-01, 7.39818679e-01,\n",
       "       8.00857409e-01, 8.97219299e-01, 1.49761538e-01, 7.77779689e-01,\n",
       "       5.53061977e-02, 5.22464288e-02, 7.64107469e-01, 5.35987980e-02,\n",
       "       8.55903064e-01, 1.14727754e-01, 9.65647020e-01, 2.73792486e-01,\n",
       "       1.78458757e-01, 8.25465397e-01, 5.68846684e-01, 7.87079481e-01,\n",
       "       4.79154732e-01, 1.50109037e-01, 8.01689310e-01, 7.79064717e-01,\n",
       "       3.59048612e-01, 7.56801228e-01, 1.88805109e-01, 7.10233395e-01,\n",
       "       2.88218432e-01, 2.20211525e-01, 6.58636048e-01, 9.27751182e-01,\n",
       "       1.08399459e-01, 8.04135290e-02, 6.41623094e-01, 8.86679627e-01,\n",
       "       6.54773550e-01, 5.26828196e-02, 1.13265874e-01, 7.73984866e-01,\n",
       "       4.63368251e-01, 4.79114139e-01, 2.16762247e-01, 6.73575525e-01,\n",
       "       2.61572621e-01, 8.72123929e-01, 7.66918084e-01, 3.83498258e-02,\n",
       "       5.68210865e-01, 2.24582697e-01, 6.66173273e-01, 7.97913834e-01,\n",
       "       1.85442509e-01, 4.92018960e-01, 4.31094883e-02, 7.77831032e-01,\n",
       "       2.40531404e-01, 1.64239203e-01, 6.73230785e-01, 2.35887183e-01,\n",
       "       1.67605651e-01, 7.23012791e-01, 3.64500175e-01, 2.52007678e-01,\n",
       "       8.59019440e-01, 2.31236350e-01, 1.66298281e-01, 6.14018331e-01,\n",
       "       3.03816935e-01, 4.52473317e-01, 4.93850930e-01, 3.50115289e-01,\n",
       "       7.01628724e-01, 8.17627722e-02, 6.51569115e-01, 1.99162850e-01,\n",
       "       1.67537992e-01, 3.22457040e-01, 7.96869400e-01, 4.25278552e-01,\n",
       "       3.81306549e-01, 5.64256010e-01, 5.10648164e-01, 5.70473387e-01,\n",
       "       9.22131661e-01, 8.61633952e-01, 3.77364918e-01, 5.97005575e-01,\n",
       "       5.97335698e-01, 4.83679103e-01, 7.45919437e-01, 2.76091516e-01,\n",
       "       9.05818726e-01, 7.17286872e-01, 1.62521239e-01, 9.71160605e-03,\n",
       "       9.15592654e-02, 1.15883569e-01, 3.70542186e-01, 1.31627132e-01,\n",
       "       5.00029701e-01, 3.14105071e-01, 3.47358264e-01, 6.06532134e-01,\n",
       "       8.85455633e-01, 3.03908588e-01, 8.73180634e-01, 6.13742473e-01,\n",
       "       4.05955234e-01, 8.90264303e-01, 4.04893005e-01, 2.30471496e-01,\n",
       "       8.42402925e-01, 8.87696900e-01, 5.69141307e-01, 1.89010759e-01,\n",
       "       3.16522878e-01, 9.51808244e-02, 2.90543238e-01, 4.99310363e-01,\n",
       "       4.89317202e-01, 6.56690351e-01, 4.03817917e-01, 5.13719935e-01,\n",
       "       2.74936349e-01, 6.35234407e-01, 4.14948704e-01, 8.24353340e-01,\n",
       "       2.51923197e-01, 7.96710718e-01, 6.53822160e-01, 2.51831199e-01,\n",
       "       7.58728668e-01, 5.84637061e-01, 3.28465354e-01, 1.49257248e-01,\n",
       "       8.45981434e-01, 3.42652482e-01, 9.80159939e-01, 1.80594903e-01,\n",
       "       4.53080620e-01, 2.71373622e-03, 2.25266570e-01, 6.21855729e-01,\n",
       "       8.75310925e-01, 5.78475957e-01, 4.15691756e-01, 7.80037622e-01,\n",
       "       9.70037804e-01, 2.55278636e-01, 3.63955191e-02, 3.96300548e-01,\n",
       "       7.43424714e-01, 9.32428040e-01, 4.33150797e-02, 5.06142687e-02,\n",
       "       6.19182832e-01, 2.51566512e-01, 9.11661352e-01, 3.59360149e-05,\n",
       "       5.42953752e-01, 2.70761783e-01, 3.50201118e-01, 8.85285797e-01,\n",
       "       8.73308533e-01, 6.66791161e-01, 2.38744208e-01, 8.36520714e-01,\n",
       "       5.65869022e-01, 5.99387900e-01, 8.87281430e-01, 8.61087808e-01,\n",
       "       9.57539653e-01, 2.71834164e-01, 8.88864908e-02, 2.35427435e-03,\n",
       "       8.95484755e-01, 3.07566370e-01, 1.15752725e-01, 3.18161701e-01,\n",
       "       1.39866169e-01, 7.66722642e-01, 9.69086748e-01, 5.72007385e-01,\n",
       "       2.45219995e-01, 4.10592776e-01, 7.18602509e-02, 1.90942351e-01,\n",
       "       1.12399580e-01, 7.26278738e-02, 9.23132869e-01, 3.64699895e-01,\n",
       "       9.79856992e-01, 5.76763155e-01, 2.49166013e-01, 4.06932815e-01,\n",
       "       7.15131792e-03, 5.13860468e-01, 4.01637948e-01, 3.65191806e-01,\n",
       "       4.38795708e-02, 1.07610052e-01, 8.81228861e-01, 8.91591957e-01,\n",
       "       7.42864041e-01, 1.04618883e-01, 6.39083556e-01, 5.51519267e-02,\n",
       "       9.81421299e-01, 7.78829704e-01, 3.53387153e-01, 2.89290576e-01,\n",
       "       6.88438060e-01, 3.12295012e-01, 2.84868635e-01, 2.47826474e-01,\n",
       "       1.45837287e-01, 7.99258533e-01, 1.75493695e-01, 2.13397792e-01,\n",
       "       3.10484050e-01, 9.31845866e-01, 7.85052793e-02, 3.28639550e-01,\n",
       "       4.82875491e-01, 2.79380465e-01, 1.96256844e-01, 1.54026798e-01,\n",
       "       4.91719981e-01, 9.25917608e-01, 2.98749553e-01, 6.60363196e-01,\n",
       "       3.83990865e-01, 5.07981871e-01, 8.28004651e-01, 9.75521043e-01,\n",
       "       8.02960082e-01, 4.16784199e-01, 4.95113118e-01, 2.77678275e-01,\n",
       "       1.68010832e-01, 4.15549550e-01, 6.11906946e-01, 5.92013315e-01,\n",
       "       3.27447104e-01, 1.68503273e-01, 2.75780675e-01, 9.65938937e-01,\n",
       "       7.14965025e-01, 6.26679766e-01, 2.88626012e-02, 3.71140814e-01,\n",
       "       1.79718016e-01, 3.64416511e-01, 9.44382250e-01, 2.83874689e-01,\n",
       "       4.84022753e-01, 3.16640410e-01, 9.50853736e-01, 7.47621607e-02,\n",
       "       5.73207636e-01, 8.81372959e-01, 7.50754519e-01, 7.24229555e-01,\n",
       "       6.38134724e-01, 1.20548534e-01, 4.69522495e-01, 4.27929066e-02,\n",
       "       1.65270956e-01, 3.53212426e-01, 8.23569074e-01, 4.15414657e-01,\n",
       "       4.33075322e-01, 9.60227327e-02, 5.09264149e-01, 7.79794525e-01,\n",
       "       8.17829167e-01, 8.28308311e-01, 9.92729279e-01, 7.58298898e-01,\n",
       "       9.75284415e-02, 3.87473571e-01, 5.69879696e-01, 3.64045333e-01,\n",
       "       4.61871364e-01, 5.51862087e-01, 9.49468294e-01, 4.19334778e-01,\n",
       "       1.60834201e-01, 7.65335158e-01, 8.54078149e-01, 8.31335431e-01,\n",
       "       9.43453098e-01, 9.61866187e-01, 6.97494359e-02, 3.96914225e-01,\n",
       "       5.07488382e-01, 8.03033029e-02, 8.47566503e-01, 7.85950807e-01,\n",
       "       1.93468273e-01, 5.15149622e-01, 9.41931646e-01, 5.28993126e-01,\n",
       "       4.01693659e-01, 7.82369301e-02, 5.38795901e-01, 4.38111352e-01,\n",
       "       3.01797652e-01, 2.99994798e-01, 7.31800787e-01, 6.49731354e-01,\n",
       "       6.43700434e-01, 8.81784565e-02, 6.38102033e-01, 9.39439023e-01,\n",
       "       9.52562688e-01, 6.58911118e-01, 7.99515374e-01, 2.16982424e-01,\n",
       "       7.15209896e-01, 4.42201363e-01, 8.29545205e-01, 6.88954273e-01,\n",
       "       1.25483209e-02, 2.58956590e-01, 9.27140366e-01, 8.38056538e-01,\n",
       "       3.42713587e-01, 7.32072344e-01, 7.51249600e-02, 3.69581624e-02,\n",
       "       1.98588172e-01, 6.93629092e-01, 5.03175841e-01, 4.60833407e-01,\n",
       "       1.88802704e-01, 4.24364954e-01, 2.34057688e-01, 5.06512300e-01,\n",
       "       7.27871424e-01, 4.73639103e-01, 9.06971438e-01, 1.91610213e-01,\n",
       "       7.15623580e-01, 1.72150258e-01, 5.80854742e-01, 5.07305051e-01,\n",
       "       5.72122866e-01, 3.69388601e-01, 9.64113448e-01, 6.73079034e-01,\n",
       "       9.61082364e-01, 5.23231739e-01, 5.98027512e-01, 1.29077459e-01,\n",
       "       5.97755427e-01, 1.46726990e-01, 9.11673095e-01, 3.62835964e-01,\n",
       "       2.85937476e-01, 9.84339581e-02, 6.80076859e-01, 4.94624923e-01,\n",
       "       9.57882442e-01, 4.86656331e-01, 4.79487753e-01, 3.69177386e-01,\n",
       "       7.86777717e-01, 9.26502780e-01, 5.49556719e-01, 8.04059810e-02,\n",
       "       4.59299025e-01, 9.37931909e-01, 3.25162149e-01, 4.36260710e-01,\n",
       "       8.34848086e-01, 2.93539486e-01, 4.88993538e-01, 2.39616148e-01,\n",
       "       7.31482230e-01, 9.15221041e-01, 3.58575657e-01, 2.09826407e-01,\n",
       "       9.30971535e-01, 9.20881030e-01, 9.27366992e-02, 2.48111815e-01,\n",
       "       4.29372401e-01, 6.08057106e-01, 7.81080481e-01, 6.98533793e-01,\n",
       "       8.66921857e-01, 9.35586892e-01, 9.11737389e-01, 2.70276058e-01,\n",
       "       5.12225562e-03, 7.27679817e-01, 5.05548292e-01, 8.58304871e-01,\n",
       "       7.50710634e-01, 5.17169966e-01, 1.95987025e-02, 6.30680266e-01,\n",
       "       3.50212279e-01, 4.48844764e-01, 6.10262110e-01, 7.72852628e-02,\n",
       "       1.94166491e-01, 2.48744342e-01, 1.21397905e-01, 8.05965737e-01,\n",
       "       3.32673594e-01, 8.10508838e-01, 3.47712580e-01, 7.67836959e-01,\n",
       "       9.19760644e-01, 2.42722540e-01, 7.92848630e-01, 1.90000963e-01,\n",
       "       9.77079280e-01, 9.81973869e-01, 6.50288025e-01, 7.72228521e-01,\n",
       "       5.45410522e-01, 9.64680158e-01, 3.50750642e-01, 6.95094331e-01,\n",
       "       7.93083254e-01, 3.14128923e-02, 7.06684188e-01, 1.31566494e-01,\n",
       "       9.61697306e-01, 8.35821396e-02, 7.81901823e-01, 5.79574205e-01,\n",
       "       4.97412746e-01, 3.08410707e-01, 5.66511927e-01, 7.11122068e-01,\n",
       "       2.07298517e-01, 1.80924631e-01, 9.29313110e-01, 1.84927369e-01,\n",
       "       2.08870288e-01, 6.28435432e-01, 1.14790075e-01, 4.95805683e-01,\n",
       "       4.76111928e-01, 2.89627539e-01, 6.66224447e-01, 5.14848729e-01,\n",
       "       8.13888160e-03, 6.28403620e-01, 2.72492892e-01, 7.93536341e-01,\n",
       "       9.45433096e-01, 4.30946457e-01, 2.86648617e-01, 7.65914177e-01,\n",
       "       9.84253127e-01, 8.10169496e-01, 6.16594987e-01, 1.80595699e-01,\n",
       "       9.66050995e-01, 9.78917251e-02, 8.46862690e-02, 1.88577717e-01,\n",
       "       7.77996053e-01, 4.57213810e-02, 6.88370098e-01, 1.74932502e-03,\n",
       "       9.57398627e-01, 2.22300272e-02, 8.49732946e-01, 5.34324311e-01,\n",
       "       1.01216762e-01, 3.38352317e-01, 7.61581259e-01, 2.77777843e-02,\n",
       "       1.08529853e-01, 7.54759837e-02, 7.81021874e-01, 4.98708054e-01,\n",
       "       4.13900442e-01, 3.37376983e-01, 1.74721136e-01, 8.98775650e-01,\n",
       "       9.10524840e-01, 7.03809292e-01, 9.12150795e-01, 3.15609944e-01,\n",
       "       3.94542341e-01, 9.01460330e-02, 8.98103485e-01, 2.05088870e-01,\n",
       "       4.81466906e-01, 1.49735372e-01, 4.16493635e-01, 1.56625412e-01,\n",
       "       1.28470062e-01, 1.80557829e-01, 6.35435710e-01, 8.59818990e-02,\n",
       "       9.27511940e-01, 2.94857772e-01, 1.35851846e-01, 4.51602531e-01,\n",
       "       8.94565172e-02, 1.40170208e-01, 6.67098871e-01, 4.10866518e-01,\n",
       "       9.84290222e-01, 9.48038506e-01, 5.95273824e-01, 7.01055070e-01,\n",
       "       9.96740235e-01, 9.78365283e-01, 2.87620901e-01, 1.82455434e-01,\n",
       "       6.43664984e-01, 4.69535491e-01, 5.14120405e-01, 1.55789594e-01,\n",
       "       9.74743496e-01, 9.12093140e-01, 1.02503840e-01, 6.57924824e-02,\n",
       "       7.25463626e-01, 9.26793540e-01, 4.19504224e-01, 8.49085781e-01,\n",
       "       2.48681407e-01, 5.65641776e-01, 7.40456299e-01, 1.02909412e-01,\n",
       "       4.74351388e-02, 6.59172830e-01, 5.36056767e-01, 9.78424089e-01,\n",
       "       8.60649121e-01, 8.00810685e-01, 1.82729219e-01, 7.22529666e-01,\n",
       "       1.38228569e-02, 4.56581060e-02, 3.43299995e-02, 1.26074661e-02,\n",
       "       5.01952617e-01, 8.15140841e-01, 9.16734597e-01, 9.55332756e-01,\n",
       "       6.90095166e-01, 8.19526791e-01, 2.54716679e-01, 7.92761703e-01,\n",
       "       2.12802484e-01, 7.66944310e-01, 1.10280865e-01, 7.69876255e-01,\n",
       "       6.66179731e-01, 9.78031038e-01, 6.73562708e-01, 1.72703284e-01,\n",
       "       3.25087964e-01, 1.29069574e-01, 8.46359045e-01, 7.80369208e-01,\n",
       "       4.43094331e-01, 9.47288244e-01, 5.32340647e-01, 3.77881867e-01,\n",
       "       5.01931975e-01, 8.57204264e-02, 2.31259988e-01, 2.70034608e-01,\n",
       "       8.81097004e-01, 4.22887088e-01, 5.11078669e-01, 1.64733972e-01,\n",
       "       6.47340376e-01, 8.05284461e-01, 4.49631911e-01, 1.57684830e-01,\n",
       "       3.51964006e-02, 8.63329559e-01, 8.18597409e-01, 9.65211262e-03,\n",
       "       5.53643237e-01, 1.20989138e-01, 4.04517947e-01, 5.64894271e-01,\n",
       "       2.82673361e-01, 2.35500554e-01, 7.60487819e-01, 1.68524310e-01,\n",
       "       4.81070852e-01, 9.77175353e-01, 8.28338173e-01, 4.18697424e-01,\n",
       "       9.06908366e-01, 2.37735357e-01, 2.08483174e-01, 4.79743946e-01,\n",
       "       6.56490242e-02, 2.75568345e-01, 3.24447875e-01, 2.80263487e-01,\n",
       "       9.84211309e-01, 7.42674433e-01, 2.76109014e-01, 6.82716591e-01,\n",
       "       2.68416678e-01, 2.31864224e-01, 9.12546172e-01, 3.65598167e-01,\n",
       "       8.18474228e-01, 1.74406529e-01, 5.61701828e-02, 6.40082488e-01,\n",
       "       8.84132969e-01, 1.65792961e-01, 7.64077258e-01, 3.87916098e-01,\n",
       "       8.04713358e-01, 2.54315438e-01, 2.30603397e-01, 2.08226268e-01,\n",
       "       3.85561422e-01, 6.59243084e-01, 9.85537579e-01, 9.08741010e-01,\n",
       "       6.67772078e-01, 7.41093396e-01, 9.60158415e-01, 3.91374728e-01,\n",
       "       3.37749835e-01, 7.71792213e-03, 8.89851628e-03, 4.40899002e-01,\n",
       "       9.75066444e-01, 1.48792738e-01, 1.37078655e-01, 5.96417378e-01,\n",
       "       1.67312138e-01, 4.11944470e-01, 1.77521355e-01, 4.66633885e-01,\n",
       "       3.35715451e-01, 4.54163735e-01, 1.50395877e-01, 7.24821430e-01,\n",
       "       4.74603394e-01, 5.50358685e-02, 9.23395545e-02, 7.74406517e-02,\n",
       "       6.80762820e-01, 5.41737642e-01, 4.63322894e-01, 3.58168683e-01,\n",
       "       3.21033541e-01, 7.95093891e-01, 6.09989346e-01, 3.50607794e-01,\n",
       "       8.60556392e-01, 3.05704968e-01, 6.03031772e-01, 9.13141624e-01,\n",
       "       7.70608707e-01, 6.74519109e-01, 2.36720937e-01, 7.73391052e-01,\n",
       "       6.17289803e-01, 6.52497398e-01, 8.65828036e-01, 9.17954944e-01,\n",
       "       2.92915234e-01, 5.45162115e-01, 8.27179758e-01, 2.48991625e-01,\n",
       "       2.48319029e-01, 6.44441374e-01, 1.49463722e-01, 2.82335198e-01,\n",
       "       3.76824563e-01, 7.00989495e-01, 4.92404006e-01, 7.49900815e-01,\n",
       "       7.07191866e-01, 1.16842831e-01, 3.67466057e-01, 2.74572273e-01,\n",
       "       7.46033252e-01, 1.56191743e-01, 9.44390519e-01, 4.13740357e-01,\n",
       "       1.06386374e-01, 1.31502454e-01, 6.03852563e-01, 2.10100049e-01,\n",
       "       8.21666742e-01, 5.87762915e-01, 2.58321451e-01, 9.50862487e-01,\n",
       "       5.60232932e-01, 8.81154226e-01, 1.70925674e-01, 2.73623051e-01,\n",
       "       6.68980095e-01, 7.08166605e-01, 7.96889324e-01, 7.80981383e-01,\n",
       "       9.65030348e-01, 8.43717300e-01, 9.06049175e-01, 1.27268622e-01,\n",
       "       9.74331291e-01, 2.75133987e-01, 6.90965654e-01, 3.17030163e-01,\n",
       "       8.85129792e-01, 7.68108363e-01, 3.12488473e-02, 8.05323697e-01,\n",
       "       1.58818327e-01, 5.53122172e-01, 9.24190722e-01, 2.70788864e-01,\n",
       "       9.82773408e-01, 7.98699341e-01, 9.05999362e-01, 9.48041104e-01,\n",
       "       1.66226378e-01, 5.99622154e-01, 5.68508664e-01, 8.49484950e-01,\n",
       "       3.23233023e-01, 6.65755738e-01, 1.77049563e-01, 5.47833371e-01,\n",
       "       9.81568248e-01, 9.01649721e-01, 1.11672602e-01, 6.63821596e-01,\n",
       "       8.98354567e-01, 9.44527245e-01, 1.75734662e-01, 1.96880537e-01,\n",
       "       3.82702595e-02, 3.01094131e-01, 5.40912822e-01, 5.03339631e-01,\n",
       "       9.37360875e-01, 4.34715631e-01, 5.61145670e-01, 6.88689750e-01,\n",
       "       3.88641577e-01, 9.08345699e-01, 5.40276498e-01, 8.16264797e-01,\n",
       "       4.74857839e-01, 9.47494332e-01, 2.98996001e-01, 4.64400303e-01,\n",
       "       4.72084246e-01, 7.05059237e-01, 1.64949217e-01, 9.91367888e-01,\n",
       "       6.42558294e-01, 7.65760073e-01, 6.69252281e-01, 4.20042997e-01,\n",
       "       9.63049819e-01, 8.48965722e-02, 5.54538595e-01, 1.58196041e-01,\n",
       "       1.10470327e-01, 9.48054631e-01, 6.80720604e-01, 7.04715496e-01,\n",
       "       9.77385644e-01, 3.25869063e-01, 8.65527311e-01, 2.34930472e-01,\n",
       "       2.15734958e-01, 1.74578718e-01, 5.55603718e-01, 3.07302862e-01,\n",
       "       4.58568037e-01, 4.78346760e-01, 4.61571881e-01, 1.95267506e-01,\n",
       "       5.05778156e-02, 4.70012384e-01, 8.33614874e-01, 1.32082782e-01,\n",
       "       3.08588302e-01, 4.15107994e-01, 4.46267336e-01, 7.26892080e-01,\n",
       "       1.75890213e-01, 4.23594070e-01, 1.39318676e-01, 8.32779700e-01,\n",
       "       1.26895107e-01, 1.10156307e-01, 1.88147213e-02, 3.04444849e-01,\n",
       "       8.97703331e-01, 8.52144270e-01, 7.61075689e-01, 3.98845052e-01,\n",
       "       9.57466275e-01, 7.13363718e-01, 3.40101303e-01, 8.14425527e-01,\n",
       "       2.98767377e-01, 3.58076480e-02, 8.86879346e-01, 7.27603857e-02,\n",
       "       8.90910289e-01, 6.42084494e-01, 2.72928990e-01, 8.82812708e-02,\n",
       "       3.06221333e-01, 3.02281128e-01, 5.74221212e-01, 9.80777636e-01,\n",
       "       4.78388076e-02, 1.06758177e-01, 2.48896446e-01, 1.67485284e-01,\n",
       "       6.38363952e-01, 5.06416580e-01, 6.75876760e-01, 9.14750747e-01,\n",
       "       2.16380302e-01, 5.06850465e-01, 4.02447804e-01, 3.93769103e-01,\n",
       "       8.58303938e-01, 6.98190936e-01, 8.05258484e-01, 9.03886892e-01,\n",
       "       3.29252936e-01, 3.53212899e-02, 1.03064536e-01, 2.15009127e-01,\n",
       "       8.40889746e-01, 8.58354587e-01, 1.97097540e-01, 5.28952073e-01,\n",
       "       3.98932702e-01, 3.67431215e-01, 9.65687818e-01, 8.64159972e-01,\n",
       "       9.03220510e-01, 3.42060798e-01, 6.42817699e-01, 3.91613690e-01,\n",
       "       5.92152935e-02, 4.46070933e-01, 1.04118380e-01, 3.58764360e-01,\n",
       "       6.62898077e-01, 7.65864250e-01, 6.98229115e-01, 2.74562363e-01,\n",
       "       9.02456494e-01, 3.13833973e-01, 7.50104956e-03, 8.62944785e-01,\n",
       "       8.33939127e-01, 3.24930194e-01, 2.28245625e-01, 4.55170795e-01,\n",
       "       3.03704522e-01, 4.19086774e-01, 8.25460661e-01, 7.40284199e-01,\n",
       "       2.00726198e-01, 6.51144069e-01, 1.34533815e-01, 2.28084053e-01,\n",
       "       2.50126563e-01, 7.98922753e-01, 4.78029435e-01, 2.02528945e-01,\n",
       "       3.06685602e-02, 7.95272337e-01, 4.60330631e-01, 2.28908665e-01,\n",
       "       5.29084542e-02, 6.39496115e-01, 4.55690618e-01, 2.75351981e-01,\n",
       "       4.50192256e-01, 6.63567855e-01, 9.74713535e-01, 2.97471875e-01,\n",
       "       2.85548301e-01, 1.58666630e-01, 8.80099103e-01, 8.69005535e-01,\n",
       "       5.20548269e-01, 8.71218858e-02, 9.41632653e-01, 5.07116976e-01,\n",
       "       9.94223407e-01, 1.29398525e-02, 4.94295945e-03, 8.11456853e-01,\n",
       "       1.52807496e-01, 1.16802785e-01, 4.96025984e-01, 2.57818042e-02,\n",
       "       2.64850954e-01, 9.53337995e-01, 2.31950391e-01, 5.87096843e-01,\n",
       "       9.54570665e-01, 4.70672182e-01, 1.56248838e-01, 5.34786382e-01,\n",
       "       6.22495705e-01, 8.33733543e-02, 1.12786950e-01, 8.84895625e-01,\n",
       "       8.74170661e-01, 8.63206214e-01, 7.40415886e-01, 4.37030409e-01,\n",
       "       6.56018792e-01, 1.90671007e-02, 2.97177805e-02, 2.10111518e-01,\n",
       "       2.68702494e-01, 4.18857178e-01, 8.72217431e-01, 3.90968493e-01,\n",
       "       3.41493904e-01, 2.94058124e-01, 3.88635934e-02, 8.38573080e-01,\n",
       "       9.97106049e-01, 6.14108867e-02, 7.70989090e-01, 9.40900241e-01,\n",
       "       4.51820371e-01, 2.77858126e-01, 3.82796127e-01, 3.16261319e-01,\n",
       "       7.55717919e-01, 7.42604150e-01, 2.91621070e-02, 4.89906322e-01,\n",
       "       4.23393877e-01, 3.77493936e-01, 8.47634723e-01, 4.41525386e-01,\n",
       "       1.32025804e-02, 4.60742218e-01, 4.90719496e-01, 6.83904824e-01,\n",
       "       8.96602318e-01, 5.70169570e-01, 8.87475435e-01, 8.84960707e-01,\n",
       "       7.31865633e-01, 3.71393885e-01, 2.65955949e-02, 5.17414009e-01,\n",
       "       3.37440025e-01, 4.27078409e-02, 7.03598986e-01, 6.60930115e-01,\n",
       "       8.55927776e-02, 9.72413435e-01, 3.04597913e-01, 7.89965650e-01,\n",
       "       5.75337957e-01, 1.53820760e-01, 4.17922776e-01, 1.42552728e-01,\n",
       "       5.17065547e-01, 3.28148164e-01, 8.93281716e-01, 1.89749943e-01,\n",
       "       1.48235079e-01, 1.24423075e-01, 6.21484290e-01, 1.18429081e-01,\n",
       "       9.30138293e-01, 7.51016304e-01, 5.48832327e-01, 8.99013585e-01,\n",
       "       3.58404300e-01, 9.54681521e-02, 7.85090733e-01, 8.63148956e-01])"
      ]
     },
     "execution_count": 2,
     "metadata": {},
     "output_type": "execute_result"
    }
   ],
   "source": [
    "# creates array of random numbers from a uniform distribution. \n",
    "x = np.random.rand(1000)\n",
    "x"
   ]
  },
  {
   "cell_type": "code",
   "execution_count": 3,
   "metadata": {},
   "outputs": [],
   "source": [
    "import matplotlib.pyplot as plt"
   ]
  },
  {
   "cell_type": "code",
   "execution_count": 4,
   "metadata": {},
   "outputs": [],
   "source": [
    "%matplotlib inline"
   ]
  },
  {
   "cell_type": "code",
   "execution_count": 5,
   "metadata": {},
   "outputs": [
    {
     "data": {
      "text/plain": [
       "(array([100., 119., 104.,  96., 102.,  84.,  83.,  97., 101., 114.]),\n",
       " array([3.59360149e-05, 9.97429473e-02, 1.99449959e-01, 2.99156970e-01,\n",
       "        3.98863981e-01, 4.98570993e-01, 5.98278004e-01, 6.97985015e-01,\n",
       "        7.97692027e-01, 8.97399038e-01, 9.97106049e-01]),\n",
       " <a list of 10 Patch objects>)"
      ]
     },
     "execution_count": 5,
     "metadata": {},
     "output_type": "execute_result"
    },
    {
     "data": {
      "image/png": "[encoded data removed]",
      "text/plain": [
       "<Figure size 432x288 with 1 Axes>"
      ]
     },
     "metadata": {
      "needs_background": "light"
     },
     "output_type": "display_data"
    }
   ],
   "source": [
    "# Histogram shows the rectangular shape of a uniform distribution.\n",
    "plt.hist(x)  "
   ]
  },
  {
   "cell_type": "code",
   "execution_count": 6,
   "metadata": {},
   "outputs": [
    {
     "data": {
      "text/plain": [
       "(array([ 10.,  29.,  79., 144., 243., 206., 162.,  84.,  34.,   9.]),\n",
       " array([0.1274346 , 0.69836307, 1.26929154, 1.84022001, 2.41114848,\n",
       "        2.98207694, 3.55300541, 4.12393388, 4.69486235, 5.26579082,\n",
       "        5.83671929]),\n",
       " <a list of 10 Patch objects>)"
      ]
     },
     "execution_count": 6,
     "metadata": {},
     "output_type": "execute_result"
    },
    {
     "data": {
      "image/png": "[encoded data removed]",
      "text/plain": [
       "<Figure size 432x288 with 1 Axes>"
      ]
     },
     "metadata": {
      "needs_background": "light"
     },
     "output_type": "display_data"
    }
   ],
   "source": [
    "# return numbers from the standard normal distribution.\n",
    "z = np.random.randn(1000) + 3\n",
    "plt.hist(z)"
   ]
  },
  {
   "cell_type": "code",
   "execution_count": 7,
   "metadata": {},
   "outputs": [
    {
     "data": {
      "text/plain": [
       "(array([104.,  90., 111., 103.,  92.,  98., 103.,  94., 112.,  93.]),\n",
       " array([ 1. , 10.8, 20.6, 30.4, 40.2, 50. , 59.8, 69.6, 79.4, 89.2, 99. ]),\n",
       " <a list of 10 Patch objects>)"
      ]
     },
     "execution_count": 7,
     "metadata": {},
     "output_type": "execute_result"
    },
    {
     "data": {
      "image/png": "[encoded data removed]",
      "text/plain": [
       "<Figure size 432x288 with 1 Axes>"
      ]
     },
     "metadata": {
      "needs_background": "light"
     },
     "output_type": "display_data"
    }
   ],
   "source": [
    "# Return random integers from the “discrete uniform” distribution \n",
    "y = np.random.randint(1,100, size = 1000)\n",
    "plt.hist (y)"
   ]
  },
  {
   "cell_type": "markdown",
   "metadata": {},
   "source": [
    "### Permutations\n",
    "\n",
    "   This section contains two functions, shuffle and permutations. Both are used to change the order of an array but differs where shuffle modifies the contents of an array in-place and permutations return a re-ordered copy of the array. One other difference is when permutation is passed an integer, it will return a shuffled range. Shuffle requires np.arange to output a shuffled range."
   ]
  },
  {
   "cell_type": "code",
   "execution_count": 8,
   "metadata": {},
   "outputs": [
    {
     "data": {
      "text/plain": [
       "array([8, 5, 4, 2, 1, 3, 6, 7, 0])"
      ]
     },
     "execution_count": 8,
     "metadata": {},
     "output_type": "execute_result"
    }
   ],
   "source": [
    "# the numpy shuffle function requires np.arange to output an array\n",
    "\n",
    "arr = np.arange(9)\n",
    "np.random.shuffle(arr)\n",
    "arr"
   ]
  },
  {
   "cell_type": "code",
   "execution_count": 9,
   "metadata": {},
   "outputs": [
    {
     "data": {
      "text/plain": [
       "array([3, 6, 4, 2, 1, 5, 7, 8, 0])"
      ]
     },
     "execution_count": 9,
     "metadata": {},
     "output_type": "execute_result"
    }
   ],
   "source": [
    "# permutation can output an array when passed an integer. \n",
    "\n",
    "np.random.permutation(9)"
   ]
  },
  {
   "cell_type": "code",
   "execution_count": 10,
   "metadata": {
    "scrolled": false
   },
   "outputs": [
    {
     "data": {
      "text/plain": [
       "array([[6, 7, 0],\n",
       "       [8, 5, 4],\n",
       "       [2, 1, 3]])"
      ]
     },
     "execution_count": 10,
     "metadata": {},
     "output_type": "execute_result"
    }
   ],
   "source": [
    "# Multi-dimensional arrays are only shuffled along the first axis\n",
    "\n",
    "x = np.reshape(arr, (3,3))\n",
    "np.random.shuffle(x)\n",
    "x\n"
   ]
  },
  {
   "cell_type": "code",
   "execution_count": 11,
   "metadata": {
    "scrolled": true
   },
   "outputs": [
    {
     "data": {
      "text/plain": [
       "array([[6, 7, 0],\n",
       "       [8, 5, 4],\n",
       "       [2, 1, 3]])"
      ]
     },
     "execution_count": 11,
     "metadata": {},
     "output_type": "execute_result"
    }
   ],
   "source": [
    "# Multi-dimensional array is shuffled along it's first index\n",
    "\n",
    "arr2 = np.random.permutation(x)\n",
    "arr2"
   ]
  },
  {
   "cell_type": "markdown",
   "metadata": {},
   "source": [
    "### Distribution Functions section"
   ]
  },
  {
   "cell_type": "markdown",
   "metadata": {},
   "source": [
    "#### numpy.random.uniform\n",
    "   This function produce random numbers from a uniform distribution. It is sometimes known as a rectangular distribution [2]. The probability of each value to be drawn in the given interval is the same or equal. This function takes three parameters. A lower and higher boundary of the output interval and the size of the distribution. The lower boundary is included in the process whereas the higher boundary is not included and will not be drawn. "
   ]
  },
  {
   "cell_type": "code",
   "execution_count": 12,
   "metadata": {},
   "outputs": [
    {
     "data": {
      "text/plain": [
       "array([-0.84516074, -0.25896469, -0.32463203, -0.09049754, -0.94868644,\n",
       "       -0.67854174, -0.06233653, -0.99067748, -0.84872137, -0.44751203,\n",
       "       -0.45238533, -0.87372106, -0.72525028, -0.21381741, -0.94072906,\n",
       "       -0.82643414, -0.93812103, -0.87655137, -0.78561062, -0.27620246,\n",
       "       -0.29941348, -0.98924246, -0.95665496, -0.00871379, -0.77769498,\n",
       "       -0.02366015, -0.23786068, -0.93578163, -0.37466626, -0.77605695,\n",
       "       -0.27157088, -0.95682182, -0.69328304, -0.84974492, -0.97829066,\n",
       "       -0.92195082, -0.96215039, -0.57476297, -0.18680796, -0.82181608,\n",
       "       -0.96045302, -0.01924331, -0.22167057, -0.62217923, -0.75378154,\n",
       "       -0.64387886, -0.41426041, -0.1487781 , -0.23071434, -0.66147028,\n",
       "       -0.63634423, -0.93143673, -0.85661117, -0.7747151 , -0.19050502,\n",
       "       -0.32114356, -0.12482887, -0.5183675 , -0.50177934, -0.8404833 ,\n",
       "       -0.25706983, -0.74729019, -0.71767804, -0.59837148, -0.25541062,\n",
       "       -0.501521  , -0.32200932, -0.21083236, -0.95538056, -0.50367545,\n",
       "       -0.15080369, -0.00405194, -0.68585932, -0.50172246, -0.12255846,\n",
       "       -0.82080835, -0.27285117, -0.22847648, -0.59275542, -0.15714318,\n",
       "       -0.40483157, -0.31675528, -0.9827299 , -0.24679022, -0.25550719,\n",
       "       -0.08051658, -0.42127081, -0.09620817, -0.35308887, -0.58455571,\n",
       "       -0.18398658, -0.53100473, -0.90580226, -0.98470742, -0.23703547,\n",
       "       -0.26910239, -0.88962049, -0.83737013, -0.69770096, -0.31173421,\n",
       "       -0.36083964, -0.06784703, -0.96850239, -0.14292261, -0.17657306,\n",
       "       -0.49057407, -0.36007422, -0.03669129, -0.07555382, -0.91608424,\n",
       "       -0.48570768, -0.39156891, -0.67332126, -0.34757528, -0.21066698,\n",
       "       -0.44411652, -0.49001779, -0.93558466, -0.6189755 , -0.63152362,\n",
       "       -0.16142016, -0.83712067, -0.83127941, -0.93947949, -0.45617304,\n",
       "       -0.72310351, -0.18171158, -0.3420447 , -0.28471854, -0.66155808,\n",
       "       -0.40500989, -0.32939069, -0.3828031 , -0.86483848, -0.62492969,\n",
       "       -0.4528505 , -0.5979226 , -0.872377  , -0.57764102, -0.74768274,\n",
       "       -0.11201586, -0.87372136, -0.06933002, -0.79045402, -0.53291957,\n",
       "       -0.03655219, -0.37750018, -0.40609501, -0.38648569, -0.57621926,\n",
       "       -0.1778448 , -0.37643958, -0.51127742, -0.79702648, -0.51229501,\n",
       "       -0.26161786, -0.04896152, -0.61823434, -0.28072334, -0.44901404,\n",
       "       -0.3758185 , -0.14884188, -0.58681421, -0.77065862, -0.52796272,\n",
       "       -0.53414049, -0.91284244, -0.95118719, -0.48492305, -0.79168363,\n",
       "       -0.28675744, -0.78049811, -0.20860773, -0.51403189, -0.47664631,\n",
       "       -0.74985608, -0.89646777, -0.80069427, -0.06471447, -0.15723952,\n",
       "       -0.71644917, -0.91440651, -0.30692989, -0.47947887, -0.88196352,\n",
       "       -0.50713586, -0.22255498, -0.01781425, -0.81458843, -0.92447041,\n",
       "       -0.55604917, -0.16854311, -0.96798318, -0.24411688, -0.23002227,\n",
       "       -0.77340924, -0.63578627, -0.71580949, -0.92610471, -0.9164973 ,\n",
       "       -0.43887724, -0.38272538, -0.24679425, -0.77115888, -0.21582194,\n",
       "       -0.28816806, -0.78022383, -0.46952231, -0.84263391, -0.68050388,\n",
       "       -0.14562794, -0.73295551, -0.27370404, -0.53321826, -0.81157802,\n",
       "       -0.04946039, -0.64512027, -0.2073772 , -0.78172349, -0.0426195 ,\n",
       "       -0.54316649, -0.54013354, -0.44243113, -0.18867379, -0.31758609,\n",
       "       -0.43929465, -0.23609204, -0.72433036, -0.9457843 , -0.39005639,\n",
       "       -0.21531507, -0.00985399, -0.91289382, -0.89681631, -0.609044  ,\n",
       "       -0.16002601, -0.35029915, -0.75787447, -0.49408339, -0.57622883,\n",
       "       -0.01114548, -0.0988627 , -0.91245367, -0.22605581, -0.99943914,\n",
       "       -0.6781964 , -0.39288776, -0.34947207, -0.01391139, -0.44368234,\n",
       "       -0.56566518, -0.57697432, -0.40975979, -0.05727332, -0.73740182,\n",
       "       -0.00916399, -0.54081996, -0.2525516 , -0.3275162 , -0.15110901,\n",
       "       -0.98589863, -0.95512762, -0.03377547, -0.50446228, -0.89568152,\n",
       "       -0.82613961, -0.17629447, -0.6305175 , -0.36333286, -0.54419905,\n",
       "       -0.13321181, -0.69871007, -0.17799829, -0.96557099, -0.93081365,\n",
       "       -0.57416387, -0.01185281, -0.75997854, -0.92786918, -0.20164119,\n",
       "       -0.49555931, -0.15087197, -0.70764379, -0.85658813, -0.65269169,\n",
       "       -0.11493883, -0.34578137, -0.55432814, -0.71693156, -0.28660131,\n",
       "       -0.82668686, -0.43656672, -0.46918482, -0.37224852, -0.17624366,\n",
       "       -0.09675141, -0.74120839, -0.10212982, -0.13067185, -0.38876193,\n",
       "       -0.50114112, -0.10184308, -0.76481931, -0.19767774, -0.74318007,\n",
       "       -0.24214347, -0.51356345, -0.30146113, -0.15140902, -0.44816705,\n",
       "       -0.44957383, -0.36247799, -0.23341563, -0.270732  , -0.28269643,\n",
       "       -0.22656794, -0.06907156, -0.09412683, -0.9428629 , -0.99715113,\n",
       "       -0.09127285, -0.88633698, -0.33699663, -0.43469717, -0.64616975,\n",
       "       -0.49577159, -0.26124136, -0.63382894, -0.13018129, -0.07753441,\n",
       "       -0.31735843, -0.73749215, -0.75053463, -0.80451345, -0.5347722 ,\n",
       "       -0.75504044, -0.49882925, -0.19733927, -0.40805017, -0.46159068,\n",
       "       -0.59787735, -0.89555623, -0.23153327, -0.22307605, -0.6712614 ,\n",
       "       -0.33418198, -0.06889029, -0.12979293, -0.84598267, -0.77597107,\n",
       "       -0.15657887, -0.48554142, -0.33678088, -0.88727263, -0.38026123,\n",
       "       -0.68797154, -0.5539084 , -0.25386964, -0.07227682, -0.90016436,\n",
       "       -0.95518981, -0.99775775, -0.76190421, -0.66627426, -0.88662116,\n",
       "       -0.20764195, -0.48721243, -0.20993866, -0.06063587, -0.24114838,\n",
       "       -0.87424653, -0.8031027 , -0.45207642, -0.920742  , -0.94695375,\n",
       "       -0.05873639, -0.040672  , -0.75065299, -0.95888913, -0.09699187,\n",
       "       -0.31182437, -0.07783198, -0.90625664, -0.95057767, -0.0522383 ,\n",
       "       -0.00585456, -0.47976753, -0.86503865, -0.28394521, -0.93675216,\n",
       "       -0.7832563 , -0.71301111, -0.74859033, -0.34151372, -0.11099196,\n",
       "       -0.04223239, -0.74458311, -0.07149618, -0.77176715, -0.20661685,\n",
       "       -0.79690036, -0.43918967, -0.05979792, -0.22839696, -0.13104334,\n",
       "       -0.83491943, -0.21338956, -0.78388848, -0.32370393, -0.15678971,\n",
       "       -0.59043045, -0.78842151, -0.39708874, -0.06846193, -0.40460798,\n",
       "       -0.27721731, -0.37716054, -0.7737108 , -0.01089487, -0.9426867 ,\n",
       "       -0.05997642, -0.31048912, -0.66743711, -0.7336331 , -0.50864599,\n",
       "       -0.40745969, -0.10382541, -0.93545012, -0.20422387, -0.53167912,\n",
       "       -0.96070986, -0.30457411, -0.5242877 , -0.89673847, -0.0535151 ,\n",
       "       -0.39950698, -0.55407193, -0.724169  , -0.07297224, -0.07728241,\n",
       "       -0.1324531 , -0.32729022, -0.95434309, -0.52242415, -0.02563509,\n",
       "       -0.71674232, -0.93940592, -0.54929276, -0.24794083, -0.09492757,\n",
       "       -0.12597047, -0.16534018, -0.72494047, -0.10835315, -0.71230048,\n",
       "       -0.8405868 , -0.9388589 , -0.62009413, -0.02528852, -0.06572765,\n",
       "       -0.81749561, -0.47457597, -0.61404422, -0.53216367, -0.25900114,\n",
       "       -0.75369857, -0.80909567, -0.09210844, -0.6738757 , -0.90737999,\n",
       "       -0.68950306, -0.73010618, -0.37920547, -0.39300172, -0.00951777,\n",
       "       -0.82943945, -0.3953019 , -0.03285266, -0.19990247, -0.61873436,\n",
       "       -0.50017634, -0.27224711, -0.19393588, -0.02883227, -0.82263817,\n",
       "       -0.53767688, -0.82834344, -0.78806444, -0.67604268, -0.49985143,\n",
       "       -0.35548603, -0.69223875, -0.75402618, -0.45611929, -0.0784739 ,\n",
       "       -0.77431719, -0.21119677, -0.2491615 , -0.31227369, -0.10564697,\n",
       "       -0.57345491, -0.89261968, -0.7948278 , -0.21656674, -0.70053181,\n",
       "       -0.64258167, -0.64255848, -0.70430516, -0.04537036, -0.43088379,\n",
       "       -0.58269404, -0.84919058, -0.51352683, -0.4484991 , -0.66535232,\n",
       "       -0.01862687, -0.25663699, -0.92767413, -0.96991403, -0.79753883,\n",
       "       -0.01192471, -0.23579382, -0.2498355 , -0.20702871, -0.12527484,\n",
       "       -0.87782604, -0.6548957 , -0.87057276, -0.91561737, -0.02382647,\n",
       "       -0.38698146, -0.96041879, -0.43461719, -0.06851274, -0.25351542,\n",
       "       -0.30884916, -0.0854275 , -0.98530237, -0.20965258, -0.68089175,\n",
       "       -0.66757981, -0.6247669 , -0.73174207, -0.40406674, -0.63329344,\n",
       "       -0.96315136, -0.15489512, -0.72882941, -0.28220342, -0.12572519,\n",
       "       -0.79372014, -0.1474734 , -0.06624177, -0.40398725, -0.38556066,\n",
       "       -0.87109693, -0.44313952, -0.58604071, -0.02035456, -0.1487728 ,\n",
       "       -0.58248663, -0.45904442, -0.0228073 , -0.58533197, -0.99869587,\n",
       "       -0.1680223 , -0.05780575, -0.43951566, -0.18806296, -0.58887309,\n",
       "       -0.7190484 , -0.98651947, -0.88724458, -0.49126813, -0.03086599,\n",
       "       -0.05322361, -0.38716416, -0.67448578, -0.3664204 , -0.31471921,\n",
       "       -0.02307916, -0.37656444, -0.10599499, -0.09968524, -0.88330974,\n",
       "       -0.21418061, -0.42695383, -0.51656903, -0.26147849, -0.69942937,\n",
       "       -0.33441354, -0.50465138, -0.26939647, -0.85980838, -0.70475131,\n",
       "       -0.29360952, -0.77945084, -0.28513064, -0.0867948 , -0.23514139,\n",
       "       -0.25543042, -0.15017212, -0.88184754, -0.90522582, -0.45382889,\n",
       "       -0.00511622, -0.55103372, -0.56367435, -0.89587148, -0.75514948,\n",
       "       -0.53875417, -0.10795132, -0.43260904, -0.48305243, -0.24472518,\n",
       "       -0.13232312, -0.66063326, -0.53968087, -0.33050108, -0.44661838,\n",
       "       -0.17344238, -0.4249591 , -0.05636984, -0.17304121, -0.90553879,\n",
       "       -0.69932025, -0.10555342, -0.13519959, -0.79827626, -0.58227509,\n",
       "       -0.66048383, -0.77916926, -0.86983843, -0.48127687, -0.19094791,\n",
       "       -0.45447035, -0.11098646, -0.76227057, -0.53521035, -0.07376629,\n",
       "       -0.98519987, -0.51418002, -0.71259686, -0.5808681 , -0.95349367,\n",
       "       -0.79381341, -0.88047156, -0.39049098, -0.56436177, -0.97154303,\n",
       "       -0.50862685, -0.28800318, -0.64614446, -0.14447123, -0.46262689,\n",
       "       -0.99050136, -0.18325716, -0.00765634, -0.86070081, -0.55186588,\n",
       "       -0.78509902, -0.13782019, -0.66750679, -0.69407791, -0.94051853,\n",
       "       -0.84050873, -0.39402298, -0.59159166, -0.07237063, -0.14943565,\n",
       "       -0.46938717, -0.17391473, -0.35319822, -0.69219688, -0.43108801,\n",
       "       -0.76701556, -0.46590658, -0.83880585, -0.8397352 , -0.91576644,\n",
       "       -0.63114792, -0.52739842, -0.76334247, -0.8429252 , -0.8980179 ,\n",
       "       -0.95938089, -0.31741842, -0.60994957, -0.3072374 , -0.9792093 ,\n",
       "       -0.86221434, -0.12761971, -0.34412419, -0.21890914, -0.45042007,\n",
       "       -0.27636035, -0.7627643 , -0.84431555, -0.24782943, -0.96351118,\n",
       "       -0.4078514 , -0.70455367, -0.71568261, -0.82706192, -0.15255356,\n",
       "       -0.88207249, -0.39255168, -0.44857331, -0.02888408, -0.40498571,\n",
       "       -0.54395381, -0.08159589, -0.82542509, -0.05400042, -0.89917427,\n",
       "       -0.07926334, -0.38887458, -0.79017532, -0.39425546, -0.26535527,\n",
       "       -0.917585  , -0.87720759, -0.66982953, -0.54777271, -0.49741555,\n",
       "       -0.18111275, -0.50087531, -0.41844602, -0.59453971, -0.12324789,\n",
       "       -0.85830359, -0.66094442, -0.7220275 , -0.75808723, -0.99883077,\n",
       "       -0.0161968 , -0.61943445, -0.56986362, -0.89681803, -0.02584078,\n",
       "       -0.46813156, -0.30279555, -0.40301456, -0.55391457, -0.41026939,\n",
       "       -0.97899712, -0.77323263, -0.70511269, -0.1344773 , -0.61618112,\n",
       "       -0.5294343 , -0.74983392, -0.03429801, -0.92909964, -0.63665538,\n",
       "       -0.52522686, -0.60432302, -0.17409961, -0.35220388, -0.92367192,\n",
       "       -0.17988098, -0.25042027, -0.53166035, -0.27847931, -0.16610355,\n",
       "       -0.54643537, -0.58760125, -0.52560788, -0.38221969, -0.07588976,\n",
       "       -0.87876572, -0.58037294, -0.81642037, -0.55544931, -0.72154873,\n",
       "       -0.58179346, -0.34009361, -0.01157938, -0.40169459, -0.16236347,\n",
       "       -0.23206574, -0.51762823, -0.42876105, -0.29308736, -0.25458372,\n",
       "       -0.25898519, -0.70824898, -0.99787585, -0.29407249, -0.83232312,\n",
       "       -0.92542126, -0.71947233, -0.07883077, -0.51921782, -0.06160136,\n",
       "       -0.84703638, -0.43164536, -0.77007946, -0.37538016, -0.83211354,\n",
       "       -0.345688  , -0.54842083, -0.27292719, -0.11343085, -0.44660407,\n",
       "       -0.54525826, -0.53482642, -0.4005833 , -0.03026337, -0.96867951,\n",
       "       -0.14014178, -0.64725647, -0.6178903 , -0.97546072, -0.86675449,\n",
       "       -0.84014462, -0.77796023, -0.51707255, -0.46632418, -0.6173487 ,\n",
       "       -0.63188213, -0.52217346, -0.97760826, -0.2302477 , -0.8685809 ,\n",
       "       -0.64237657, -0.62580927, -0.98905146, -0.25295409, -0.10999638,\n",
       "       -0.43668848, -0.47913275, -0.88967113, -0.28461295, -0.54095408,\n",
       "       -0.97065627, -0.06660255, -0.22065974, -0.66931868, -0.96156431,\n",
       "       -0.85314067, -0.26524997, -0.30809033, -0.30199347, -0.17319642,\n",
       "       -0.14920047, -0.50088781, -0.86794923, -0.93030105, -0.95630085,\n",
       "       -0.61475772, -0.88017257, -0.36019541, -0.5091967 , -0.78893694,\n",
       "       -0.73614449, -0.4033671 , -0.86691425, -0.20888746, -0.39804723,\n",
       "       -0.95797573, -0.68445199, -0.29573669, -0.35592088, -0.05883361,\n",
       "       -0.37839046, -0.08846821, -0.41548249, -0.74214775, -0.56642965,\n",
       "       -0.72408268, -0.6992903 , -0.55984838, -0.88128166, -0.69254092,\n",
       "       -0.22234065, -0.41708772, -0.41359066, -0.18223755, -0.72906639,\n",
       "       -0.28037254, -0.35408791, -0.94652969, -0.07698252, -0.21232124,\n",
       "       -0.16508948, -0.5846508 , -0.38878234, -0.22043111, -0.32998445,\n",
       "       -0.44254642, -0.37928511, -0.48250896, -0.88464993, -0.94224204,\n",
       "       -0.7135153 , -0.32884493, -0.80481159, -0.36946218, -0.73924666,\n",
       "       -0.63889859, -0.53460523, -0.93124698, -0.71145419, -0.94668865,\n",
       "       -0.17385836, -0.92311874, -0.05813705, -0.63170796, -0.72279456,\n",
       "       -0.01882754, -0.7231003 , -0.21596927, -0.97289946, -0.01072323,\n",
       "       -0.07122379, -0.87859655, -0.84279596, -0.81426005, -0.11896649,\n",
       "       -0.36012416, -0.34005332, -0.83490671, -0.13614221, -0.54678162,\n",
       "       -0.84431283, -0.45852622, -0.66820722, -0.20890708, -0.02495961,\n",
       "       -0.3108016 , -0.71589475, -0.73477796, -0.84351062, -0.99604797,\n",
       "       -0.92362899, -0.74516012, -0.38872773, -0.82284885, -0.40619625,\n",
       "       -0.28682608, -0.21461975, -0.96453563, -0.33429135, -0.56290385,\n",
       "       -0.1052065 , -0.09713963, -0.48265247, -0.20351575, -0.65560025,\n",
       "       -0.46508761, -0.10427315, -0.68789626, -0.665813  , -0.30400841,\n",
       "       -0.77343607, -0.14261944, -0.19997695, -0.48347029, -0.74118318,\n",
       "       -0.2108607 , -0.80221298, -0.97831439, -0.84572101, -0.8554443 ,\n",
       "       -0.71426835, -0.14500901, -0.10851194, -0.17464165, -0.00812841,\n",
       "       -0.70740015, -0.47486286, -0.5485097 , -0.33580613, -0.53643712,\n",
       "       -0.50625738, -0.91845261, -0.97591925, -0.3563944 , -0.79037031,\n",
       "       -0.6301646 , -0.85036168, -0.49422618, -0.80561971, -0.36217106,\n",
       "       -0.47585111, -0.53312863, -0.28671208, -0.94424149, -0.79042737,\n",
       "       -0.15942976, -0.58225885, -0.9756615 , -0.82077121, -0.12277105,\n",
       "       -0.1642882 , -0.23960963, -0.27030557, -0.81990741, -0.42101994])"
      ]
     },
     "execution_count": 12,
     "metadata": {},
     "output_type": "execute_result"
    }
   ],
   "source": [
    "x = np.random.uniform(-1,0,size=1000)\n",
    "x"
   ]
  },
  {
   "cell_type": "code",
   "execution_count": 13,
   "metadata": {},
   "outputs": [
    {
     "data": {
      "text/plain": [
       "(array([104., 102., 108.,  79., 100., 101.,  96., 110.,  97., 103.]),\n",
       " array([-0.99943914, -0.89990042, -0.8003617 , -0.70082298, -0.60128426,\n",
       "        -0.50174554, -0.40220682, -0.3026681 , -0.20312938, -0.10359066,\n",
       "        -0.00405194]),\n",
       " <a list of 10 Patch objects>)"
      ]
     },
     "execution_count": 13,
     "metadata": {},
     "output_type": "execute_result"
    },
    {
     "data": {
      "image/png": "[encoded data removed]",
      "text/plain": [
       "<Figure size 432x288 with 1 Axes>"
      ]
     },
     "metadata": {
      "needs_background": "light"
     },
     "output_type": "display_data"
    }
   ],
   "source": [
    "plt.hist(x)"
   ]
  },
  {
   "cell_type": "markdown",
   "metadata": {},
   "source": [
    "#### numpy.random.normal\n",
    "   This function draw random samples from a normal or Gaussian distribution. The normal distribution, described as a bell curve, is important in statistics because it reflects many real-world events[3]. The values or samples are distributed symmetrically, with most clustered around a central peak or mean and the probability for values taper off equally on both sides of the mean. \n",
    "    This function takes three parameters; the loc or the mean of the distribution, the scale or the standard deviation (spread) and the size of the distribution.\n"
   ]
  },
  {
   "cell_type": "code",
   "execution_count": 14,
   "metadata": {},
   "outputs": [],
   "source": [
    "mu, sigma = 0, 0.1 # mean and standard deviation\n",
    "j = np.random.normal(mu, sigma, 1000)\n"
   ]
  },
  {
   "cell_type": "code",
   "execution_count": 15,
   "metadata": {},
   "outputs": [
    {
     "data": {
      "text/plain": [
       "(array([ 14.,  42.,  80., 167., 206., 216., 158.,  75.,  29.,  13.]),\n",
       " array([-0.27419714, -0.21865569, -0.16311424, -0.10757279, -0.05203134,\n",
       "         0.00351011,  0.05905156,  0.11459301,  0.17013445,  0.2256759 ,\n",
       "         0.28121735]),\n",
       " <a list of 10 Patch objects>)"
      ]
     },
     "execution_count": 15,
     "metadata": {},
     "output_type": "execute_result"
    },
    {
     "data": {
      "image/png": "[encoded data removed]",
      "text/plain": [
       "<Figure size 432x288 with 1 Axes>"
      ]
     },
     "metadata": {
      "needs_background": "light"
     },
     "output_type": "display_data"
    }
   ],
   "source": [
    "plt.hist(j)"
   ]
  },
  {
   "cell_type": "markdown",
   "metadata": {},
   "source": [
    "#### numpy.random.binomial\n",
    "\n",
    "   This function draws samples from the binomial distribution. It simulates the probability of a \"yes/no\" or \"success/failure\" experiment, hence the prefix \"bi\" in binomial. A popular example is the coin toss where it has only two possible outcomes. function takes three parameters, n, p, s. The n which stands for the number of trials, p is the probability and s is the size or shape. "
   ]
  },
  {
   "cell_type": "code",
   "execution_count": 16,
   "metadata": {
    "scrolled": true
   },
   "outputs": [],
   "source": [
    "# this is a simulation of flipping a coin 10 times and the number of \"successful\" result(s),  tested 1000 times\n",
    "\n",
    "n, p = 10, .5  # number of trials, probability of each trial\n",
    "s = np.random.binomial(n, p, 1000)"
   ]
  },
  {
   "cell_type": "code",
   "execution_count": 17,
   "metadata": {},
   "outputs": [
    {
     "data": {
      "text/plain": [
       "(array([  2.,  10.,  47., 125., 210., 238., 203., 108.,  44.,  13.]),\n",
       " array([ 0.,  1.,  2.,  3.,  4.,  5.,  6.,  7.,  8.,  9., 10.]),\n",
       " <a list of 10 Patch objects>)"
      ]
     },
     "execution_count": 17,
     "metadata": {},
     "output_type": "execute_result"
    },
    {
     "data": {
      "image/png": "[encoded data removed]",
      "text/plain": [
       "<Figure size 432x288 with 1 Axes>"
      ]
     },
     "metadata": {
      "needs_background": "light"
     },
     "output_type": "display_data"
    }
   ],
   "source": [
    "plt.hist(s)"
   ]
  },
  {
   "cell_type": "markdown",
   "metadata": {},
   "source": [
    "#### numpy.random.poisson \n",
    "\n",
    "   This function draws samples from the poisson distribution. It simulates the probability of an event occuring within an interval of time or space. Although it appears to be similar to the binomial function, it differs where in the poisson experiment, the \"fail\" or \"no\" is not known. This function takes two parameters. The lam or expectation of the interval and the size or shape of the samples. \n",
    "   The poisson distribution is not symmetrical; it is skewed toward the infinity end [4] and it can be applied to many real world events."
   ]
  },
  {
   "cell_type": "code",
   "execution_count": 18,
   "metadata": {
    "scrolled": true
   },
   "outputs": [],
   "source": [
    "m = np.random.poisson(5, 10000)\n"
   ]
  },
  {
   "cell_type": "code",
   "execution_count": 19,
   "metadata": {},
   "outputs": [
    {
     "data": {
      "text/plain": [
       "(array([ 395.,  869., 3144., 1734., 1426., 1719.,  391.,  273.,   31.,\n",
       "          18.]),\n",
       " array([ 0. ,  1.4,  2.8,  4.2,  5.6,  7. ,  8.4,  9.8, 11.2, 12.6, 14. ]),\n",
       " <a list of 10 Patch objects>)"
      ]
     },
     "execution_count": 19,
     "metadata": {},
     "output_type": "execute_result"
    },
    {
     "data": {
      "image/png": "[encoded data removed]",
      "text/plain": [
       "<Figure size 432x288 with 1 Axes>"
      ]
     },
     "metadata": {
      "needs_background": "light"
     },
     "output_type": "display_data"
    }
   ],
   "source": [
    "plt.hist(m)"
   ]
  },
  {
   "cell_type": "markdown",
   "metadata": {},
   "source": [
    "#### numpy.random.chisquare\n",
    "    \n",
    "   This function draws samples from the chisquare distribution. This distribution is widely used in inferential statistics such as testing hypothesis. \n",
    "   The numpy.random.chisquare function takes two parameters, df or number of degrees of freedom and the size or shape. \n",
    "    \n",
    "    "
   ]
  },
  {
   "cell_type": "code",
   "execution_count": 20,
   "metadata": {
    "scrolled": true
   },
   "outputs": [
    {
     "data": {
      "text/plain": [
       "(array([30., 26., 13., 14.,  6.,  7.,  0.,  2.,  0.,  2.]),\n",
       " array([0.00979353, 0.92435118, 1.83890883, 2.75346647, 3.66802412,\n",
       "        4.58258177, 5.49713942, 6.41169707, 7.32625471, 8.24081236,\n",
       "        9.15537001]),\n",
       " <a list of 10 Patch objects>)"
      ]
     },
     "execution_count": 20,
     "metadata": {},
     "output_type": "execute_result"
    },
    {
     "data": {
      "image/png": "[encoded data removed]",
      "text/plain": [
       "<Figure size 432x288 with 1 Axes>"
      ]
     },
     "metadata": {
      "needs_background": "light"
     },
     "output_type": "display_data"
    }
   ],
   "source": [
    "c = np.random.chisquare(2,100)\n",
    "\n",
    "plt.hist(c)"
   ]
  },
  {
   "cell_type": "markdown",
   "metadata": {},
   "source": [
    "### The random seed\n",
    "\n",
    "The random numbers generated by the numpy.random function cannot be considered true random numbers. It is generated through an algorithm that starts with a number or a seed that is set either by the user or the machine itself. Once a seed number is chosen it is subjected to mathematical computation to generate the next number. If the seed number is not reset or changed, the same numbers will be generated again. This is a key reason why it is should not be used for security [1], but is also useful in other functions such as debugging or synchronizing remote systems[5].     "
   ]
  },
  {
   "cell_type": "code",
   "execution_count": 21,
   "metadata": {},
   "outputs": [
    {
     "data": {
      "text/plain": [
       "array([0.38346112, 0.60923502, 0.34954286, 0.0392542 , 0.2701076 ])"
      ]
     },
     "execution_count": 21,
     "metadata": {},
     "output_type": "execute_result"
    }
   ],
   "source": [
    "# The same command but it shows different outputs since the seed is not set.\n",
    "np.random.rand(5)"
   ]
  },
  {
   "cell_type": "code",
   "execution_count": 22,
   "metadata": {},
   "outputs": [
    {
     "data": {
      "text/plain": [
       "array([0.58042163, 0.89710978, 0.23631091, 0.60101633, 0.96752228])"
      ]
     },
     "execution_count": 22,
     "metadata": {},
     "output_type": "execute_result"
    }
   ],
   "source": [
    "np.random.rand(5)"
   ]
  },
  {
   "cell_type": "code",
   "execution_count": 23,
   "metadata": {},
   "outputs": [
    {
     "data": {
      "text/plain": [
       "array([0.5507979 , 0.70814782, 0.29090474, 0.51082761, 0.89294695])"
      ]
     },
     "execution_count": 23,
     "metadata": {},
     "output_type": "execute_result"
    }
   ],
   "source": [
    "# The same two commands with the seed set has identical output. \n",
    "# ex. 1\n",
    "np.random.seed(3)\n",
    "np.random.rand(5)"
   ]
  },
  {
   "cell_type": "code",
   "execution_count": 24,
   "metadata": {},
   "outputs": [
    {
     "data": {
      "text/plain": [
       "array([0.5507979 , 0.70814782, 0.29090474, 0.51082761, 0.89294695])"
      ]
     },
     "execution_count": 24,
     "metadata": {},
     "output_type": "execute_result"
    }
   ],
   "source": [
    "# ex. 2\n",
    "np.random.seed(3)\n",
    "np.random.rand(5)"
   ]
  },
  {
   "cell_type": "markdown",
   "metadata": {},
   "source": [
    "## References\n",
    "[1] Python Software Foundation.\n",
    "    https://docs.python.org \n",
    "    \n",
    "[2] Wolfram MathWorld.\n",
    "    https://mathworld.wolfram.com\n",
    "   \n",
    "[3] https://stattrek.com\n",
    "\n",
    "[4] University of Massachusetts Amherst.\n",
    "    https://www.umass.edu/wsp/resources/poisson/#binomial\n",
    "\n",
    "[5] Wikipedia. https://en.wikipedia.org/wiki/Random_seed"
   ]
  },
  {
   "cell_type": "code",
   "execution_count": null,
   "metadata": {},
   "outputs": [],
   "source": []
  }
 ],
 "metadata": {
  "kernelspec": {
   "display_name": "Python 3",
   "language": "python",
   "name": "python3"
  },
  "language_info": {
   "codemirror_mode": {
    "name": "ipython",
    "version": 3
   },
   "file_extension": ".py",
   "mimetype": "text/x-python",
   "name": "python",
   "nbconvert_exporter": "python",
   "pygments_lexer": "ipython3",
   "version": "3.6.6"
  }
 },
 "nbformat": 4,
 "nbformat_minor": 2
}
